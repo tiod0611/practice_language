{
 "cells": [
  {
   "cell_type": "markdown",
   "id": "c3b0a02d-3afe-4cc2-8a16-4f44692e9c37",
   "metadata": {},
   "source": [
    "https://www.acmicpc.net/problem/1271"
   ]
  },
  {
   "cell_type": "code",
   "execution_count": 1,
   "id": "76d1a6f5-6e09-4eea-af8b-9039b2f04fe4",
   "metadata": {},
   "outputs": [
    {
     "name": "stdin",
     "output_type": "stream",
     "text": [
      " 1000 100\n"
     ]
    },
    {
     "name": "stdout",
     "output_type": "stream",
     "text": [
      "10\n",
      "0\n"
     ]
    }
   ],
   "source": [
    "n, m = map(int, input().split(' '))\n",
    "\n",
    "print(n//m)\n",
    "print(n%m)"
   ]
  },
  {
   "cell_type": "code",
   "execution_count": null,
   "id": "ba2590b1-a667-4669-89f3-93f7ea556c6d",
   "metadata": {},
   "outputs": [],
   "source": []
  }
 ],
 "metadata": {
  "kernelspec": {
   "display_name": "Python 3",
   "language": "python",
   "name": "python3"
  },
  "language_info": {
   "codemirror_mode": {
    "name": "ipython",
    "version": 3
   },
   "file_extension": ".py",
   "mimetype": "text/x-python",
   "name": "python",
   "nbconvert_exporter": "python",
   "pygments_lexer": "ipython3",
   "version": "3.8.8"
  }
 },
 "nbformat": 4,
 "nbformat_minor": 5
}

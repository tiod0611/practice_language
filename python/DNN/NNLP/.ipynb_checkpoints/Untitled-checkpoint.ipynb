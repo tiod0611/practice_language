{
 "cells": [
  {
   "cell_type": "markdown",
   "metadata": {},
   "source": [
    "# Chap01 - 신경망 복습\n",
    "## 1.1 수학과 파이썬 복습\n",
    "### 1.1.2 행렬과 원소별 연산"
   ]
  },
  {
   "cell_type": "code",
   "execution_count": 1,
   "metadata": {},
   "outputs": [],
   "source": [
    "import numpy as np"
   ]
  },
  {
   "cell_type": "code",
   "execution_count": 2,
   "metadata": {},
   "outputs": [],
   "source": [
    "W = np.array([[1,2,3],\n",
    "              [4,5,6]])\n",
    "X = np.array([[0,1,2],\n",
    "              [3,4,5]])"
   ]
  },
  {
   "cell_type": "code",
   "execution_count": 3,
   "metadata": {},
   "outputs": [
    {
     "data": {
      "text/plain": [
       "array([[ 1,  3,  5],\n",
       "       [ 7,  9, 11]])"
      ]
     },
     "execution_count": 3,
     "metadata": {},
     "output_type": "execute_result"
    }
   ],
   "source": [
    "W + X"
   ]
  },
  {
   "cell_type": "code",
   "execution_count": 4,
   "metadata": {},
   "outputs": [
    {
     "data": {
      "text/plain": [
       "array([[ 0,  2,  6],\n",
       "       [12, 20, 30]])"
      ]
     },
     "execution_count": 4,
     "metadata": {},
     "output_type": "execute_result"
    }
   ],
   "source": [
    "# element-wise(point-wise) 원소별곱\n",
    "W * X"
   ]
  },
  {
   "cell_type": "markdown",
   "metadata": {},
   "source": [
    "### 1.1.3 브로드캐스트 (Broadcast)\n"
   ]
  },
  {
   "cell_type": "code",
   "execution_count": 5,
   "metadata": {},
   "outputs": [
    {
     "data": {
      "text/plain": [
       "array([[10, 20],\n",
       "       [30, 40]])"
      ]
     },
     "execution_count": 5,
     "metadata": {},
     "output_type": "execute_result"
    }
   ],
   "source": [
    "A = np.array([[1,2],\n",
    "              [3,4]])\n",
    "\n",
    "A * 10"
   ]
  },
  {
   "cell_type": "code",
   "execution_count": 6,
   "metadata": {},
   "outputs": [
    {
     "data": {
      "text/plain": [
       "array([[10, 40],\n",
       "       [30, 80]])"
      ]
     },
     "execution_count": 6,
     "metadata": {},
     "output_type": "execute_result"
    }
   ],
   "source": [
    "A = np.array([[1,2],\n",
    "              [3,4]])\n",
    "\n",
    "b = np.array([10, 20])\n",
    "\n",
    "A * b"
   ]
  },
  {
   "cell_type": "markdown",
   "metadata": {},
   "source": [
    "### 1.1.4 벡터의 내적과 행렬의 곱\n",
    "+ $ x = (x_1, ..., x_n), y = (y_1, ..., y_n)$ 에 대하여, 두 벡터에서 대응하는 원소들의 곱을 모두 더한 것\n",
    "$$ x \\cdot y = x^Ty = x_1y_1 + x_2y_2 + \\dots + x_ny_n$$"
   ]
  },
  {
   "cell_type": "code",
   "execution_count": 8,
   "metadata": {},
   "outputs": [
    {
     "data": {
      "text/plain": [
       "32"
      ]
     },
     "execution_count": 8,
     "metadata": {},
     "output_type": "execute_result"
    }
   ],
   "source": [
    "# 벡터의 내적\n",
    "a = np.array([1,2,3])\n",
    "b = np.array([4,5,6])\n",
    "\n",
    "np.dot(a, b)"
   ]
  },
  {
   "cell_type": "code",
   "execution_count": 10,
   "metadata": {},
   "outputs": [
    {
     "name": "stdout",
     "output_type": "stream",
     "text": [
      "[[19 22]\n",
      " [43 50]]\n",
      "[[19 22]\n",
      " [43 50]]\n"
     ]
    }
   ],
   "source": [
    "# 행렬의 곱\n",
    "A = np.array([[1,2],\n",
    "              [3,4]])\n",
    "\n",
    "B = np.array([[5,6],\n",
    "              [7,8]])\n",
    "\n",
    "print(np.matmul(A, B))\n",
    "print(np.dot(A, B))"
   ]
  },
  {
   "cell_type": "markdown",
   "metadata": {},
   "source": [
    "## 1.2 신경망 추론"
   ]
  },
  {
   "cell_type": "code",
   "execution_count": 12,
   "metadata": {},
   "outputs": [
    {
     "name": "stdout",
     "output_type": "stream",
     "text": [
      "[[-0.25880056  1.00988876 -0.58117849 -0.41823292]\n",
      " [-0.53812678 -0.68737158 -0.24600502  0.59969097]]\n",
      "[ 0.21440427  0.59848369 -2.01210719 -1.08235133]\n",
      "[[-1.21871023  1.7855251 ]\n",
      " [ 0.17970478  2.08877402]\n",
      " [-0.46790168  1.18298898]\n",
      " [ 1.670227    0.67727234]\n",
      " [ 0.0894014  -0.45022075]\n",
      " [ 0.35550504  1.1273917 ]\n",
      " [-0.79822508 -0.80306186]\n",
      " [-0.00327109  1.4201154 ]\n",
      " [ 0.91450749  0.16527958]\n",
      " [-1.50282444 -0.04097044]]\n"
     ]
    }
   ],
   "source": [
    "# Input -> hidden \n",
    "W1 = np.random.randn(2, 4)\n",
    "print(W1)\n",
    "\n",
    "b1 = np.random.randn(4)\n",
    "print(b1)\n",
    "\n",
    "x = np.random.randn(10, 2)\n",
    "print(x)"
   ]
  },
  {
   "cell_type": "code",
   "execution_count": 42,
   "metadata": {},
   "outputs": [
    {
     "data": {
      "text/plain": [
       "array([[-0.43103171, -1.85959728, -1.74306715,  0.49811669],\n",
       "       [-0.95612868, -0.65579837, -2.63039663,  0.09510914],\n",
       "       [-0.30110057, -0.68719796, -2.03119402, -0.17723163],\n",
       "       [-0.58230981,  1.8196894 , -3.14941958, -1.37474113],\n",
       "       [ 0.43354299,  0.99823811, -1.9533088 , -1.38973526],\n",
       "       [-0.4842803 ,  0.18256722, -2.49606308, -0.55494862],\n",
       "       [ 0.85313447,  0.34436706, -1.35063871, -1.23009627],\n",
       "       [-0.5489513 , -0.38096671, -2.35956162, -0.22935287],\n",
       "       [-0.11121215,  1.40842604, -2.58425888, -1.36571179],\n",
       "       [ 0.62538337, -0.89103989, -1.12861903, -0.47839028]])"
      ]
     },
     "execution_count": 42,
     "metadata": {},
     "output_type": "execute_result"
    }
   ],
   "source": [
    "h = np.matmul(x, W1) + b1\n",
    "h"
   ]
  },
  {
   "cell_type": "markdown",
   "metadata": {},
   "source": [
    "+ 비선형 변환 : 시그모이드 함수 (sigmoid function)  \n",
    "$ \\sigma(x) = \\frac{1}{1+\\exp(-x)} $"
   ]
  },
  {
   "cell_type": "code",
   "execution_count": 41,
   "metadata": {},
   "outputs": [],
   "source": [
    "def sigmoid(x):\n",
    "    return 1 / (1 + np.exp(-x))"
   ]
  },
  {
   "cell_type": "code",
   "execution_count": 43,
   "metadata": {},
   "outputs": [
    {
     "data": {
      "text/plain": [
       "array([[0.39388   , 0.13475   , 0.14892377, 0.62201664],\n",
       "       [0.27765397, 0.34168408, 0.06720758, 0.52375938],\n",
       "       [0.42528846, 0.33465669, 0.11596646, 0.45580771],\n",
       "       [0.35840128, 0.86052885, 0.04111415, 0.20185493],\n",
       "       [0.60671938, 0.73071203, 0.12419302, 0.19945002],\n",
       "       [0.38124191, 0.54551545, 0.07613463, 0.36471706],\n",
       "       [0.70122426, 0.58525094, 0.20576597, 0.22616458],\n",
       "       [0.36610775, 0.40589376, 0.08630876, 0.44291181],\n",
       "       [0.47222558, 0.80351757, 0.07015839, 0.20331355],\n",
       "       [0.65144192, 0.29089528, 0.24441604, 0.38263231]])"
      ]
     },
     "execution_count": 43,
     "metadata": {},
     "output_type": "execute_result"
    }
   ],
   "source": [
    "a = sigmoid(h)\n",
    "a"
   ]
  },
  {
   "cell_type": "code",
   "execution_count": 44,
   "metadata": {},
   "outputs": [
    {
     "data": {
      "text/plain": [
       "(10, 4)"
      ]
     },
     "execution_count": 44,
     "metadata": {},
     "output_type": "execute_result"
    }
   ],
   "source": [
    "a.shape"
   ]
  },
  {
   "cell_type": "code",
   "execution_count": 47,
   "metadata": {},
   "outputs": [
    {
     "data": {
      "text/plain": [
       "array([[0.55875894, 0.5205796 , 0.1494739 ],\n",
       "       [0.44222175, 0.41743637, 0.23393422],\n",
       "       [0.45244808, 0.44016453, 0.24704816],\n",
       "       [0.24624018, 0.28834556, 0.60243037],\n",
       "       [0.30111292, 0.36346381, 0.53140413],\n",
       "       [0.3599416 , 0.37265471, 0.37294502],\n",
       "       [0.38186773, 0.43192377, 0.45146842],\n",
       "       [0.41668186, 0.40875011, 0.28081709],\n",
       "       [0.26573781, 0.31857714, 0.56825974],\n",
       "       [0.51689108, 0.51381022, 0.25990228]])"
      ]
     },
     "execution_count": 47,
     "metadata": {},
     "output_type": "execute_result"
    }
   ],
   "source": [
    "# hidden -> output\n",
    "W2 = np.random.randn(4, 3)\n",
    "b2 = np.random.randn(3)\n",
    "\n",
    "s = sigmoid(np.matmul(a, W2) + b2) # score 값\n",
    "s"
   ]
  },
  {
   "cell_type": "code",
   "execution_count": 48,
   "metadata": {},
   "outputs": [
    {
     "data": {
      "text/plain": [
       "(10, 3)"
      ]
     },
     "execution_count": 48,
     "metadata": {},
     "output_type": "execute_result"
    }
   ],
   "source": [
    "s.shape"
   ]
  },
  {
   "cell_type": "markdown",
   "metadata": {},
   "source": [
    "### 1.2.2 계층으로 클래스화 및 순전파 구현\n",
    "+ 완전연결계층(fully connected layer)에 의한 변환은 기하학에서의 아핀(Affine) 변환에 해당"
   ]
  },
  {
   "cell_type": "code",
   "execution_count": 50,
   "metadata": {},
   "outputs": [],
   "source": [
    "import numpy as np\n",
    "\n",
    "class Sigmoid:\n",
    "    '''Sigmoid layer class\n",
    "    Sigmoid layer에는 학습하는 params가 따로 없으므로\n",
    "    인스턴스 변수인 params는 빈 리스트로 초기화\n",
    "    '''\n",
    "    \n",
    "    def __init__(self):\n",
    "        self.params = []\n",
    "        \n",
    "    def forward(self, x):\n",
    "        '''순전파(forward propagation) method\n",
    "        \n",
    "        Args:\n",
    "            x(ndarray): 입력으로 들어오는 값\n",
    "        Returns:\n",
    "            Sigmoid 활성화 값\n",
    "        '''\n",
    "        return 1 / (1 + np.exp(-x))"
   ]
  },
  {
   "cell_type": "code",
   "execution_count": 51,
   "metadata": {},
   "outputs": [],
   "source": [
    "# 완전연결계층(Affine) 구현\n",
    "class Affine:\n",
    "    '''FC layer'''\n",
    "    def __init__(self, W, b):\n",
    "        \"\"\"\n",
    "        Args:\n",
    "            W(ndarray): 가중치(weight)\n",
    "            b(ndarray): 편향(bias)\n",
    "        \"\"\"\n",
    "        self.params = [W, b]\n",
    "    \n",
    "    def forward(self, x):\n",
    "        \"\"\"순전파(forward propagation) method\n",
    "        Args:\n",
    "            x(ndarray): 입력으로 들어오는 값\n",
    "        Returns:\n",
    "            out(ndarray): Wx + b\n",
    "        \"\"\"\n",
    "        \n",
    "        W, b = self.params\n",
    "        out = np.matmul(x, W) + b\n",
    "        return out"
   ]
  },
  {
   "cell_type": "code",
   "execution_count": null,
   "metadata": {},
   "outputs": [],
   "source": []
  }
 ],
 "metadata": {
  "kernelspec": {
   "display_name": "Python 3",
   "language": "python",
   "name": "python3"
  },
  "language_info": {
   "codemirror_mode": {
    "name": "ipython",
    "version": 3
   },
   "file_extension": ".py",
   "mimetype": "text/x-python",
   "name": "python",
   "nbconvert_exporter": "python",
   "pygments_lexer": "ipython3",
   "version": "3.8.5"
  }
 },
 "nbformat": 4,
 "nbformat_minor": 4
}

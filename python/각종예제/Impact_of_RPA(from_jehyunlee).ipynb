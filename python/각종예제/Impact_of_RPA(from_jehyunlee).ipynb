{
 "cells": [
  {
   "cell_type": "markdown",
   "id": "f9500e84-3502-4217-8054-b2534f0baf0f",
   "metadata": {},
   "source": [
    "이 노트북은 [이제현 박사님의 블로그](https://jehyunlee.github.io/2023/01/01/Python-DS-125-rpa/) 내용을 필사한 것입니다. 공부 목적 외에 의도는 없음을 밝힙니다. \n",
    "\n",
    "# Impact of RPA\n",
    "\n",
    "+ RPA(Robotic Precess Automation: 업무 자동화)과제를 하려고 합니다.\n",
    "+ RPA를 적용하면 효용이 얼마나 좋은지를 설득하기 위한 그림을 그립니다.\n",
    "+ RPA 도입 전과 후를 비교하는 그림을 그려서 보여줍시다.\n",
    "\n",
    "# 1. 행정 업무\n",
    "![](https://jehyunlee.github.io/2023/01/01/Python-DS-125-rpa/125_rpa_01.png)\n",
    "\n",
    "+ 어떤 가상의 데이터 관련 행정 업무가 있다고 합시다.\n",
    "+ 현재는 __총 2천만원의 용역비를_ 포함해 __12주가__ 걸립니다. __수작업이기__ 때문입니다. \n",
    "+ 여기에 RPA를 적용하면, __용역비가 없이지고__ 이어지는 작업도 훨씬 짧게 걸립니다.\n",
    "+ 서류 작업과 취합 작업도 단순 반복 작업에서 __검증으로 업무 성격이 바뀝니다.__\n",
    "+ __보고서나 기획서등에서__ 이 훌륭한 업무를 어필하고 싶습니다.\n",
    "+ 일단 엑셀로 정리해보니 이렇습니다. 전달은 되는데 아쉽습니다.\n",
    "\n",
    "![](https://jehyunlee.github.io/2023/01/01/Python-DS-125-rpa/125_rpa_02.png)\n",
    "\n",
    "# 2. 시각화\n",
    "\n",
    "## 2.1. 용역 비용 & 인력\n",
    "\n",
    "+ RPA 효과는 크게 두 가지입니다. 하나는 __용역 비용,__ 하나는 __인력__\n",
    "+ 인력도 man-week(MW)으로 정리했기 때문에 담당자의 연봉을 적용하면 비용 산정이 됩니다.\n",
    "+ 하지만 여기선 용역은 용역, 인력은 인력으로 나누어 그리기로 합니다.\n",
    "+ 항목 수에 따라 용역 비용과 인력이 그려질 공간을 1:3의 비율로 분할합니다."
   ]
  },
  {
   "cell_type": "code",
   "execution_count": 24,
   "id": "7dcfe9a3-61a5-4fc5-a907-57133e6f3931",
   "metadata": {},
   "outputs": [],
   "source": [
    "import pandas as pd\n",
    "import matplotlib.pyplot as plt\n",
    "import seaborn as sns\n",
    "from matplotlib.lines import Line2D\n",
    "import warnings\n",
    "warnings.filterwarnings(action='ignore') \n",
    "\n",
    "sns.set_context('talk')\n",
    "plt.rcParams[\"axes.unicode_minus\"] = False\n"
   ]
  },
  {
   "cell_type": "code",
   "execution_count": 25,
   "id": "a8352f43-7d26-4d2d-afb7-b9a14ca8d1bd",
   "metadata": {
    "tags": []
   },
   "outputs": [
    {
     "name": "stdout",
     "output_type": "stream",
     "text": [
      "['NanumGothic']\n"
     ]
    }
   ],
   "source": [
    "# matplotlib 한글 폰트 설정\n",
    "import matplotlib.font_manager as fm\n",
    "plt.rc('font', family='NanumGothic')\n",
    "print(plt.rcParams['font.family'])"
   ]
  },
  {
   "cell_type": "code",
   "execution_count": 26,
   "id": "b892e06a-fbb1-46e6-8e39-5b68af2f99ac",
   "metadata": {},
   "outputs": [
    {
     "data": {
      "image/png": "[encoded data removed]",
      "text/plain": [
       "<Figure size 720x288 with 2 Axes>"
      ]
     },
     "metadata": {
      "needs_background": "light"
     },
     "output_type": "display_data"
    }
   ],
   "source": [
    "fig, axs = plt.subplots(ncols=2, figsize=(10, 4), gridspec_kw={\"width_ratios\":[1, 3]})"
   ]
  },
  {
   "cell_type": "markdown",
   "id": "8159542f-cd49-4a9e-aa19-b50f91ed2508",
   "metadata": {},
   "source": [
    "## 2.2. 용역 비용\n",
    "\n",
    "+ 왼쪽 공간에 RPA 적용 전 2천만원이 들어간 용역 비용과 적용 후 0원이 된 것을 비교하여 그립니다.\n",
    "+ 이럴 때는 grouped bar plot이 제격입니다.\n",
    "+ 용역 비용 뿐 아니라 다른 모든 항목을 비교할 것이기 때문에 __RPA 전__ 과 __RPA 후__ 비교에 일관성이 필요합니다.\n",
    "+ 적용 전과 후를 __\"brown\"__ 과 __\"royalblue\"__ 로 표기합니다.\n",
    "+ 또한, __grouped bar plot__ 은 __pandas가 더 편합니다.__\n",
    "+ pandas DataFrame에서 그림을 그릴 부분만 `.loc[]`를 사용해 데이터를 한정하고,\n",
    "+ `.plot.bar()`를 사용해 grouped bar plot을 그립니다.\n",
    "+ `cs = [\"brown\", \"royalblue']`과 `color=cs`를 입력하면 적용 전과 후 색이 차례로 입혀집니다."
   ]
  },
  {
   "cell_type": "code",
   "execution_count": 27,
   "id": "238ca8d7-c7da-46f1-aba1-74917f7b755b",
   "metadata": {},
   "outputs": [
    {
     "data": {
      "text/html": [
       "<div>\n",
       "<style scoped>\n",
       "    .dataframe tbody tr th:only-of-type {\n",
       "        vertical-align: middle;\n",
       "    }\n",
       "\n",
       "    .dataframe tbody tr th {\n",
       "        vertical-align: top;\n",
       "    }\n",
       "\n",
       "    .dataframe thead th {\n",
       "        text-align: right;\n",
       "    }\n",
       "</style>\n",
       "<table border=\"1\" class=\"dataframe\">\n",
       "  <thead>\n",
       "    <tr style=\"text-align: right;\">\n",
       "      <th></th>\n",
       "      <th></th>\n",
       "      <th>As-Is</th>\n",
       "      <th>To-Be</th>\n",
       "    </tr>\n",
       "  </thead>\n",
       "  <tbody>\n",
       "    <tr>\n",
       "      <th>분석 용역</th>\n",
       "      <th>비용</th>\n",
       "      <td>20000</td>\n",
       "      <td>0.0</td>\n",
       "    </tr>\n",
       "    <tr>\n",
       "      <th>용역 검증</th>\n",
       "      <th>인력(MW)</th>\n",
       "      <td>12</td>\n",
       "      <td>2.0</td>\n",
       "    </tr>\n",
       "    <tr>\n",
       "      <th>서류 작업</th>\n",
       "      <th>인력(MW)</th>\n",
       "      <td>2</td>\n",
       "      <td>0.5</td>\n",
       "    </tr>\n",
       "    <tr>\n",
       "      <th>취합 작업</th>\n",
       "      <th>인력(MW)</th>\n",
       "      <td>1</td>\n",
       "      <td>0.5</td>\n",
       "    </tr>\n",
       "  </tbody>\n",
       "</table>\n",
       "</div>"
      ],
      "text/plain": [
       "              As-Is  To-Be\n",
       "분석 용역 비용      20000    0.0\n",
       "용역 검증 인력(MW)     12    2.0\n",
       "서류 작업 인력(MW)      2    0.5\n",
       "취합 작업 인력(MW)      1    0.5"
      ]
     },
     "execution_count": 27,
     "metadata": {},
     "output_type": "execute_result"
    }
   ],
   "source": [
    "# data \n",
    "data = [[20000, 0],\n",
    "     [12, 2],\n",
    "     [2, 0.5],\n",
    "     [1, 0.5]]\n",
    "rpa = pd.DataFrame(data, \n",
    "                   index=[[\"분석 용역\", \"용역 검증\", \"서류 작업\", \"취합 작업\"], [\"비용\", \"인력(MW)\", \"인력(MW)\", \"인력(MW)\"]],\n",
    "                   columns=[\"As-Is\", \"To-Be\"]\n",
    ")\n",
    "\n",
    "rpa"
   ]
  },
  {
   "cell_type": "code",
   "execution_count": 28,
   "id": "957b03c1-e05f-41aa-908b-068d5ee85d85",
   "metadata": {},
   "outputs": [
    {
     "data": {
      "text/html": [
       "<div>\n",
       "<style scoped>\n",
       "    .dataframe tbody tr th:only-of-type {\n",
       "        vertical-align: middle;\n",
       "    }\n",
       "\n",
       "    .dataframe tbody tr th {\n",
       "        vertical-align: top;\n",
       "    }\n",
       "\n",
       "    .dataframe thead th {\n",
       "        text-align: right;\n",
       "    }\n",
       "</style>\n",
       "<table border=\"1\" class=\"dataframe\">\n",
       "  <thead>\n",
       "    <tr style=\"text-align: right;\">\n",
       "      <th></th>\n",
       "      <th></th>\n",
       "      <th>As-Is</th>\n",
       "      <th>To-Be</th>\n",
       "    </tr>\n",
       "  </thead>\n",
       "  <tbody>\n",
       "    <tr>\n",
       "      <th>분석 용역</th>\n",
       "      <th>비용</th>\n",
       "      <td>20000</td>\n",
       "      <td>0.0</td>\n",
       "    </tr>\n",
       "  </tbody>\n",
       "</table>\n",
       "</div>"
      ],
      "text/plain": [
       "          As-Is  To-Be\n",
       "분석 용역 비용  20000    0.0"
      ]
     },
     "execution_count": 28,
     "metadata": {},
     "output_type": "execute_result"
    }
   ],
   "source": [
    "rpa.loc[[\"분석 용역\"]]"
   ]
  },
  {
   "cell_type": "code",
   "execution_count": 29,
   "id": "9356ef38-fcee-44fd-83d6-4a768ff3fe3d",
   "metadata": {},
   "outputs": [
    {
     "data": {
      "text/plain": [
       "<AxesSubplot:>"
      ]
     },
     "execution_count": 29,
     "metadata": {},
     "output_type": "execute_result"
    },
    {
     "data": {
      "image/png": "[encoded data removed]",
      "text/plain": [
       "<Figure size 720x288 with 2 Axes>"
      ]
     },
     "metadata": {
      "needs_background": "light"
     },
     "output_type": "display_data"
    }
   ],
   "source": [
    "# visualization\n",
    "\n",
    "fig, axs = plt.subplots(ncols=2, figsize=(10, 4), gridspec_kw={\"width_ratios\":[1, 3]}, constrained_layout=True)\n",
    "cs = [\"brown\", \"royalblue\"]\n",
    "\n",
    "# 용역 비용\n",
    "rpa.iloc[[0]].plot.bar(ax=axs[0], lw=1, ec=\"w\", legend=False, color=cs)\n",
    "\n",
    "# 인력\n",
    "rpa.iloc[1:].plot.bar(ax=axs[1], lw=1, ec=\"w\", legend=False, color=cs)"
   ]
  },
  {
   "cell_type": "markdown",
   "id": "d780b490-0fc9-4f35-9415-254cbf876eb1",
   "metadata": {},
   "source": [
    "## 2.3. Annotation\n",
    "\n",
    "+ 가장 중요한 틀이 갖춰졌습니다.\n",
    "+ 이제 ticks, ticklabels 등을 다듬으면 쓸만한 그래프가 될겁니다.\n",
    "+ 하지만 그 전에, 데이터를 직설적으로 알려주는 장치를 하려고 합니다.\n",
    "+ 위 코드 아래에 코드를 덧붙여 bar 위에 데이터를 출력합니다."
   ]
  },
  {
   "cell_type": "code",
   "execution_count": 30,
   "id": "6111ddeb-58bd-4a11-9fb7-5ef51e011f0e",
   "metadata": {},
   "outputs": [],
   "source": [
    "\n",
    "\n",
    "# 용역 비용\n",
    "xs, ws, hs = [], [], []\n",
    "\n",
    "for p, c in zip(axs[0].patches, cs):\n",
    "    x, w, h = p.get_x(), p.get_width(), p.get_height()\n",
    "    xs.append(x)\n",
    "    ws.append(w)\n",
    "    hs.append(h)\n",
    "    \n",
    "    cost = format(int(h), ',')\n",
    "    \n",
    "    if h > 0:\n",
    "        cost = f\"{cost} 천원\"\n",
    "    else:\n",
    "        cost = f\"{cost} 원\"\n",
    "    axs[0].text(x+w/2, h+1000, cost, ha=\"center\", fontsize=\"small\", fontweight=\"bold\", color=c, zorder=3)\n",
    "\n"
   ]
  },
  {
   "cell_type": "markdown",
   "id": "25b42044-a21e-4c6f-824d-09360e40a4f3",
   "metadata": {},
   "source": [
    "![](https://jehyunlee.github.io/2023/01/01/Python-DS-125-rpa/125_rpa_05.png)\n",
    "\n",
    "+ 왼쪽 Axes를 구성하는 두 막대의 위치, 너비, 높이를 뽑아내 글자를 입혔습니다.\n",
    "+ 일반적으로 금액을 __천원__ 단위로 표현하기 때문에 일부러 엑셀 파일부터 천원으로 끊었습니다."
   ]
  },
  {
   "cell_type": "markdown",
   "id": "d0135406-a9bd-4ab8-9ea7-e5f0f712ed5e",
   "metadata": {},
   "source": [
    "## 2.4. Spines and Ticks\n",
    "\n",
    "+ 이제 y축이 없어도 데이터가 잘 전달됩니다.\n",
    "+ y축과 함께 네모난 테두리(spines)를 없애버립시다.\n",
    "+ x축 눈금은 `tick_params()`를 사용해 폭을 0으로 (`width=0`) 만듭니다.\n",
    "+ 그런데 xticklabel은 여기 말고도 오른족 Axes에도 세 개나 더 적용해야 됩니다.\n",
    "+ `font_label`이라는 Dictionary type 매개변수를 만들어 적용합니다."
   ]
  },
  {
   "cell_type": "code",
   "execution_count": 31,
   "id": "e90bdf80-85e6-49ce-944f-738dd2d1c41d",
   "metadata": {},
   "outputs": [
    {
     "data": {
      "text/plain": [
       "[Text(0, 0, '용역 비용')]"
      ]
     },
     "execution_count": 31,
     "metadata": {},
     "output_type": "execute_result"
    }
   ],
   "source": [
    "# Spines and Ticks\n",
    "axs[0].spines[['left', 'top', 'right']].set_visible(False)\n",
    "axs[0].set_yticks([])\n",
    "font_label = {'color':'gray', 'fontweight':'bold'}\n",
    "axs[0].tick_params(axis='x', width=0)\n",
    "axs[0].set_xticklabels([\"용역 비용\"], **font_label, rotation=0) "
   ]
  },
  {
   "cell_type": "markdown",
   "id": "23c372c8-0173-498a-bc2a-822866fbb97b",
   "metadata": {},
   "source": [
    "![](https://jehyunlee.github.io/2023/01/01/Python-DS-125-rpa/125_rpa_06.png)"
   ]
  },
  {
   "cell_type": "markdown",
   "id": "83b58370-001c-4934-b451-33e3ed7a61a5",
   "metadata": {
    "tags": []
   },
   "source": [
    "## 2.5. Arrow\n",
    "\n",
    "+ RPA 적용 전후는 나왔는데 그림에서 알아보기 어렵습니다.\n",
    "+ __RPA를 적용했더니 비용이 확 떨어진다는__ 느낌의 화살표가 있으면 좋을 것 같습니다.\n",
    "+ Matplotlib에서 멋진 화살표를 만들기에는 `Axes.annotate()`가 가장 좋습니다.\n",
    "+ \"arrowstyle\":\"fancy\"와 \"connectionstyle\"을 이용해 다이나믹한 화살표를 그립니다.\n"
   ]
  },
  {
   "cell_type": "code",
   "execution_count": 32,
   "id": "be9b4965-a46d-4540-955b-6874f2bb0612",
   "metadata": {},
   "outputs": [
    {
     "data": {
      "text/plain": [
       "Text(-0.125, 20000.125, '')"
      ]
     },
     "execution_count": 32,
     "metadata": {},
     "output_type": "execute_result"
    }
   ],
   "source": [
    "# Arrow\n",
    "axs[0].annotate(\"\", xy=(xs[1] + w/2, hs[1]+w/2), xytext=(xs[0]+w/2, hs[0]+w/2),\n",
    "                arrowprops={\"arrowstyle\":\"fancy\", \"ec\":\"w\", \"fc\":\"cornflowerblue\",\n",
    "                            \"alpha\":0.5, \"connectionstyle\":\"arc3, rad=-0.3\", \n",
    "                            \"mutation_scale\":100})"
   ]
  },
  {
   "cell_type": "markdown",
   "id": "b68bf4b2-6d96-4e9b-b898-8794f8c8de2b",
   "metadata": {},
   "source": [
    "![](https://jehyunlee.github.io/2023/01/01/Python-DS-125-rpa/125_rpa_07.png)"
   ]
  },
  {
   "cell_type": "markdown",
   "id": "174ded3c-c72b-4c74-a99c-741981311005",
   "metadata": {},
   "source": [
    "## 2.6. 인력에도 동일하게\n",
    "\n",
    "+ 용역 비용에 적용한 사항들을 인력에도 동일하게 적용합니다.\n",
    "+ 아까 왼쪽 Axes의 xticklabel에 넣었던 용역 비용은 title이 더 잘 어울리는 것 같습니다.\n",
    "+ 내용을 올리고, xticklabel은 새롭게 __분석 용역__ 이라고 넣습니다.\n",
    "+ 오른쪽에도 여기에 대응되도록 __용역 검증__, __서류작업__, __취합 작업__ 을 넣습니다.\n",
    "![](https://jehyunlee.github.io/2023/01/01/Python-DS-125-rpa/125_rpa_08.png)"
   ]
  },
  {
   "cell_type": "markdown",
   "id": "c6420b51-376e-4e8f-9d87-005816e6c16a",
   "metadata": {},
   "source": [
    "## 2.7. 비용과 기간 사이 칸막이\n",
    "\n",
    "+ 마지막 작업입니다.\n",
    "+ 왼쪽과 오른쪽 구간을 나누는 막대를 하나 넣습니다.\n",
    "+ `matplotlib.lines.Line2D` 객체를 사용해 선을 그립니다.\n",
    "+ 양 끝점의 좌표를 입력해야 하는데 Figure 전체의 상대 좌표를 사용해 `[0.255, 0.255], [0.15, 0.85]`를 입력합니다.\n",
    "+ 양 끝을 둥글게 만들고자 `solid_capstyle = \"round\"`를 입력했습니다.\n",
    "+ 두 Axes 사이 공간에 그려야 하는 그림이기 때문에 `fig.add_artist()`로 추가합니다."
   ]
  },
  {
   "cell_type": "code",
   "execution_count": 36,
   "id": "2f801df3-3b4e-479f-b41c-4ce2f8c04fad",
   "metadata": {},
   "outputs": [
    {
     "data": {
      "text/plain": [
       "<matplotlib.legend.Legend at 0x22ece183d30>"
      ]
     },
     "execution_count": 36,
     "metadata": {},
     "output_type": "execute_result"
    }
   ],
   "source": [
    "from matplotlib.lines import Line2D\n",
    "\n",
    "line = Line2D([0.255, 0.255], [0.15, 0.85], linewidth=5, solid_capstyle=\"round\", color=\"0.6\")\n",
    "fig.add_artist(line)\n",
    "axs[1].legend()"
   ]
  },
  {
   "cell_type": "markdown",
   "id": "f7b4d927-83dd-4cf1-a34d-5a79b79932ca",
   "metadata": {
    "tags": []
   },
   "source": [
    "![](https://jehyunlee.github.io/2023/01/01/Python-DS-125-rpa/125_rpa_09.png)\n",
    "\n",
    "# 3. 활용\n",
    "| [관련기사: 전자신문- NST, 출연연 연구행정혁신 성과확산 공모전 시상식 개최](https://m.etnews.com/20221228000275)\n",
    "\n",
    "+ 이렇게 정리도니 그림은 __적절한 표__, __근거 자료__ 와 함께 __보고서__ 와 __ppt__ 에  삽입하면 좋습니다.\n",
    "+ __그냥 파워포인트에서 그리면 더 쉽지 않냐고__ 하실 수 있습니다.\n",
    "+ 경험상 이런 일은 현업 부서에서 수치가 수차례 변경되는 것이 일반적이고, 실제로 열번쯤 바뀐 것 같습니다.\n",
    "+ 일일이 새로 그렸다면 너무 힘들었을테지만 코드로 그린 덕택에 그때마다 데이터만 바꿔 끼웠습니다.\n",
    "\n",
    "\n",
    "+ 위 그림은 실제로 최근 있었던 한 공모전에서 서류 작성과 발표 자료에 사용했습니다.\n",
    "+ 데이터는 제가 접한 실제 사례와 다르게 바꾸었습니다만, 전반적인 틀은 살렸습니다.\n",
    "\n",
    "+ 전체 코드는 아래와 [여기](https://colab.research.google.com/drive/1RLo4aTtP_sM9EoxWyfkvR5hetGNmvVZH?usp=share_link)에서 확인할 수 있습니다.\n",
    "+ 여러분께도 좋은 결과가 있기를 바랍니다."
   ]
  },
  {
   "cell_type": "code",
   "execution_count": 11,
   "id": "fdd7a816-7881-442c-a596-b48ca3a5d32f",
   "metadata": {},
   "outputs": [
    {
     "data": {
      "image/png": "[encoded data removed]",
      "text/plain": [
       "<Figure size 720x288 with 2 Axes>"
      ]
     },
     "metadata": {
      "needs_background": "light"
     },
     "output_type": "display_data"
    }
   ],
   "source": [
    "# 전체 코드\n",
    "\n",
    "# 이 코드를 어떻게 씹고뜯고 맛볼까\n",
    "\n",
    "import numpy as np\n",
    "import pandas as pd\n",
    "import matplotlib.pyplot as plt\n",
    "import seaborn as sns\n",
    "from matplotlib.lines import Line2D\n",
    "\n",
    "sns.set_context(\"talk\")\n",
    "plt.rcParams['font.family'] = 'NanumGothic'\n",
    "plt.rcParams['axes.unicode_minus'] = False\n",
    "\n",
    "# data 생성\n",
    "data = [[20000, 0],\n",
    "     [12, 2],\n",
    "     [2, 0.5],\n",
    "     [1, 0.5]]\n",
    "rpa = pd.DataFrame(data, \n",
    "                   index=[[\"분석 용역\", \"용역 검증\", \"서류 작업\", \"취합 작업\"], [\"비용\", \"인력(MW)\", \"인력(MW)\", \"인력(MW)\"]],\n",
    "                   columns=[\"As-Is\", \"To-Be\"]\n",
    ")\n",
    "\n",
    "fig, axs = plt.subplots(ncols=2, figsize=(10, 4), gridspec_kw={\"width_ratios\":[1, 3]}, constrained_layout=True) # 행으로 2개의 figure 생성, 비율은 1: 3\n",
    "cs = [\"brown\", \"royalblue\"]\n",
    "\n",
    "# 용역 비용\n",
    "rpa.iloc[[0]].plot.bar(ax=axs[0], lw=1, ec='w', legend=False, color=cs)\n",
    "# 인력\n",
    "rpa.iloc[1:].plot.bar(ax=axs[1], lw=1, ec='w', legend=False, color=cs)\n",
    "\n",
    "# 용역 비용\n",
    "xs, ws, hs = [], [], []\n",
    "for p, c in zip(axs[0].patches, cs):\n",
    "    x, w, h = p.get_x(), p.get_width(), p.get_height() # 왼쪽 테두리의 x축, 가로길이, 높이\n",
    "    xs.append(x)\n",
    "    ws.append(w)\n",
    "    hs.append(h)\n",
    "    cost = format(int(h), ',')\n",
    "    \n",
    "    if h > 0:\n",
    "        cost = f\"{cost} 천원\"\n",
    "    else:\n",
    "        cost = f\"{cost} 원\"\n",
    "        \n",
    "    axs[0].text(x+w/2, h+1000, cost, ha=\"center\", fontsize=\"small\", fontweight=\"bold\", color=c, zorder=3)\n",
    "    \n",
    "    \n",
    " # Spines and Ticks  / Spines: 축을 커스터마이징 함\n",
    "font_label = {'color':'gray', 'fontweight':'bold'}\n",
    "for ax, title in zip(axs, ['용역 비용\\n', '업무 기간\\n']):\n",
    "    ax.spines[['left', 'top', 'right']].set_visible(False)\n",
    "    ax.set_yticks([])\n",
    "    ax.tick_params(axis='x', width=0)\n",
    "    ax.set_title(title, **font_label)\n",
    "    \n",
    "axs[0].set_xticklabels(['분석 용역'], rotation=0)\n",
    "axs[1].set_xticklabels(['용역 검증', '서류 작업', '취합 작업'], rotation=0)\n",
    "\n",
    "# Arrow\n",
    "axs[0].annotate(\"\", xy=(xs[1]+w/2, hs[1]+w/2), xytext=(xs[0]+w/2, hs[0]+w/2),\n",
    "                arrowprops={\"arrowstyle\":\"fancy\", \"ec\":\"w\", 'fc':'cornflowerblue', 'alpha':0.5,\n",
    "                            'connectionstyle':'arc3, rad=-0.3', 'mutation_scale':100})\n",
    "\n",
    "# 인력 감축\n",
    "xs, ws, hs = [], [], []\n",
    "for i, p in enumerate(axs[1].patches):\n",
    "    x, w, h = p.get_x(), p.get_width(), p.get_height()\n",
    "    xs.append(x)\n",
    "    ws.append(w)\n",
    "    hs.append(h)\n",
    "\n",
    "    person = format(int(h), ',')\n",
    "    \n",
    "    if h > 0:\n",
    "        if not h%1:\n",
    "            h = int(h)\n",
    "        day = f\"{h} 주\"\n",
    "        \n",
    "    if i < 3:\n",
    "        c = cs[0]\n",
    "    else:\n",
    "        c = cs[1]\n",
    "    p.set_fc(c) # color 설정\n",
    "    axs[1].text(x+w/2, h+0.3, day, ha='center', fontsize='small', fontweight='bold', color=c, zorder=13)\n",
    "    \n",
    "for i in range(3):\n",
    "    axs[1].annotate(\"\", xy=(xs[i+3]+w/2, hs[i+3]+w/2), xytext=(xs[i]+w/2, hs[i]+w/2), \n",
    "                    arrowprops={\"arrowstyle\":\"fancy\", \"ec\":\"skyblue\", \"fc\":\"skyblue\", \"alpha\":0.8,\n",
    "                                \"connectionstyle\":\"arc3, rad=-0.3\", \"mutation_scale\":40})\n",
    "\n",
    "line = Line2D([0.255, 0.255], [0.15, 0.85], linewidth=5, solid_capstyle=\"round\", color=\"0.6\")\n",
    "fig.add_artist(line)\n",
    "\n",
    "axs[1].legend()\n",
    "plt.show()"
   ]
  },
  {
   "cell_type": "code",
   "execution_count": null,
   "id": "4928512e-ba0b-44a5-9dc2-b89cadd421b8",
   "metadata": {},
   "outputs": [],
   "source": []
  }
 ],
 "metadata": {
  "kernelspec": {
   "display_name": "Python 3 (ipykernel)",
   "language": "python",
   "name": "python3"
  },
  "language_info": {
   "codemirror_mode": {
    "name": "ipython",
    "version": 3
   },
   "file_extension": ".py",
   "mimetype": "text/x-python",
   "name": "python",
   "nbconvert_exporter": "python",
   "pygments_lexer": "ipython3",
   "version": "3.9.12"
  }
 },
 "nbformat": 4,
 "nbformat_minor": 5
}

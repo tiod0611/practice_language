{
 "cells": [
  {
   "cell_type": "markdown",
   "id": "f9500e84-3502-4217-8054-b2534f0baf0f",
   "metadata": {},
   "source": [
    "이 노트북은 [이제현 박사님의 블로그](https://jehyunlee.github.io/2023/01/01/Python-DS-125-rpa/) 내용을 필사한 것입니다. 공부 목적 외에 의도는 없음을 밝힙니다. \n",
    "\n",
    "# Impact of RPA\n",
    "\n",
    "+ RPA(Robotic Precess Automation: 업무 자동화)과제를 하려고 합니다.\n",
    "+ RPA를 적용하면 효용이 얼마나 좋은지를 설득하기 위한 그림을 그립니다.\n",
    "+ RPA 도입 전과 후를 비교하는 그림을 그려서 보여줍시다.\n",
    "\n",
    "# 1. 행정 업무\n",
    "![](https://jehyunlee.github.io/2023/01/01/Python-DS-125-rpa/125_rpa_01.png)\n",
    "\n",
    "+ 어떤 가상의 데이터 관련 행정 업무가 있다고 합시다.\n",
    "+ 현재는 __총 2천만원의 용역비를_ 포함해 __12주가__ 걸립니다. __수작업이기__ 때문입니다. \n",
    "+ 여기에 RPA를 적용하면, __용역비가 없이지고__ 이어지는 작업도 훨씬 짧게 걸립니다.\n",
    "+ 서류 작업과 취합 작업도 단순 반복 작업에서 __검증으로 업무 성격이 바뀝니다.__\n",
    "+ __보고서나 기획서등에서__ 이 훌륭한 업무를 어필하고 싶습니다.\n",
    "+ 일단 엑셀로 정리해보니 이렇습니다. 전달은 되는데 아쉽습니다.\n",
    "\n",
    "![](https://jehyunlee.github.io/2023/01/01/Python-DS-125-rpa/125_rpa_02.png)\n",
    "\n",
    "# 2. 시각화\n",
    "\n",
    "## 2.1. 용역 비용 & 인력\n",
    "\n",
    "+ RPA 효과는 크게 두 가지입니다. 하나는 __용역 비용,__ 하나는 __인력__\n",
    "+ 인력도 man-week(MW)으로 정리했기 때문에 담당자의 연봉을 적용하면 비용 산정이 됩니다.\n",
    "+ 하지만 여기선 용역은 용역, 인력은 인력으로 나누어 그리기로 합니다.\n",
    "+ 항목 수에 따라 용역 비용과 인력이 그려질 공간을 1:3의 비율로 분할합니다."
   ]
  },
  {
   "cell_type": "code",
   "execution_count": 10,
   "id": "7dcfe9a3-61a5-4fc5-a907-57133e6f3931",
   "metadata": {},
   "outputs": [],
   "source": [
    "import pandas as pd\n",
    "import matplotlib.pyplot as plt\n",
    "import seaborn as sns\n",
    "from matplotlib.lines import Line2D\n",
    "import warnings\n",
    "warnings.filterwarnings(action='ignore') \n",
    "\n",
    "sns.set_context('talk')\n",
    "plt.rcParams[\"font.family\"] = \"맑은 고딕\"\n",
    "plt.rcParams[\"axes.unicode_minus\"] = False\n"
   ]
  },
  {
   "cell_type": "code",
   "execution_count": 18,
   "id": "a8352f43-7d26-4d2d-afb7-b9a14ca8d1bd",
   "metadata": {},
   "outputs": [
    {
     "ename": "FileNotFoundError",
     "evalue": "[Errno 2] No such file or directory: 'C:\\\\Windows\\\\Fonts\\\\Gulim.ttf'",
     "output_type": "error",
     "traceback": [
      "\u001b[1;31m---------------------------------------------------------------------------\u001b[0m",
      "\u001b[1;31mFileNotFoundError\u001b[0m                         Traceback (most recent call last)",
      "\u001b[1;32m~\\AppData\\Local\\Temp\\ipykernel_11252\\692099123.py\u001b[0m in \u001b[0;36m<module>\u001b[1;34m\u001b[0m\n\u001b[0;32m      3\u001b[0m \u001b[0mfm\u001b[0m\u001b[1;33m.\u001b[0m\u001b[0mget_fontconfig_fonts\u001b[0m\u001b[1;33m(\u001b[0m\u001b[1;33m)\u001b[0m\u001b[1;33m\u001b[0m\u001b[1;33m\u001b[0m\u001b[0m\n\u001b[0;32m      4\u001b[0m \u001b[0mfont_location\u001b[0m \u001b[1;33m=\u001b[0m \u001b[1;34m'C:/Windows/Fonts/Gulim.ttf'\u001b[0m \u001b[1;31m# For Windows\u001b[0m\u001b[1;33m\u001b[0m\u001b[1;33m\u001b[0m\u001b[0m\n\u001b[1;32m----> 5\u001b[1;33m \u001b[0mfont_name\u001b[0m \u001b[1;33m=\u001b[0m \u001b[0mfm\u001b[0m\u001b[1;33m.\u001b[0m\u001b[0mFontProperties\u001b[0m\u001b[1;33m(\u001b[0m\u001b[0mfname\u001b[0m\u001b[1;33m=\u001b[0m\u001b[0mfont_location\u001b[0m\u001b[1;33m)\u001b[0m\u001b[1;33m.\u001b[0m\u001b[0mget_name\u001b[0m\u001b[1;33m(\u001b[0m\u001b[1;33m)\u001b[0m\u001b[1;33m\u001b[0m\u001b[1;33m\u001b[0m\u001b[0m\n\u001b[0m\u001b[0;32m      6\u001b[0m \u001b[0mmatplotlib\u001b[0m\u001b[1;33m.\u001b[0m\u001b[0mrc\u001b[0m\u001b[1;33m(\u001b[0m\u001b[1;34m'font'\u001b[0m\u001b[1;33m,\u001b[0m \u001b[0mfamily\u001b[0m\u001b[1;33m=\u001b[0m\u001b[0mfont_name\u001b[0m\u001b[1;33m)\u001b[0m\u001b[1;33m\u001b[0m\u001b[1;33m\u001b[0m\u001b[0m\n",
      "\u001b[1;32m~\\anaconda3\\lib\\site-packages\\matplotlib\\font_manager.py\u001b[0m in \u001b[0;36mget_name\u001b[1;34m(self)\u001b[0m\n\u001b[0;32m    735\u001b[0m         \u001b[0mReturn\u001b[0m \u001b[0mthe\u001b[0m \u001b[0mname\u001b[0m \u001b[0mof\u001b[0m \u001b[0mthe\u001b[0m \u001b[0mfont\u001b[0m \u001b[0mthat\u001b[0m \u001b[0mbest\u001b[0m \u001b[0mmatches\u001b[0m \u001b[0mthe\u001b[0m \u001b[0mfont\u001b[0m \u001b[0mproperties\u001b[0m\u001b[1;33m.\u001b[0m\u001b[1;33m\u001b[0m\u001b[1;33m\u001b[0m\u001b[0m\n\u001b[0;32m    736\u001b[0m         \"\"\"\n\u001b[1;32m--> 737\u001b[1;33m         \u001b[1;32mreturn\u001b[0m \u001b[0mget_font\u001b[0m\u001b[1;33m(\u001b[0m\u001b[0mfindfont\u001b[0m\u001b[1;33m(\u001b[0m\u001b[0mself\u001b[0m\u001b[1;33m)\u001b[0m\u001b[1;33m)\u001b[0m\u001b[1;33m.\u001b[0m\u001b[0mfamily_name\u001b[0m\u001b[1;33m\u001b[0m\u001b[1;33m\u001b[0m\u001b[0m\n\u001b[0m\u001b[0;32m    738\u001b[0m \u001b[1;33m\u001b[0m\u001b[0m\n\u001b[0;32m    739\u001b[0m     \u001b[1;32mdef\u001b[0m \u001b[0mget_style\u001b[0m\u001b[1;33m(\u001b[0m\u001b[0mself\u001b[0m\u001b[1;33m)\u001b[0m\u001b[1;33m:\u001b[0m\u001b[1;33m\u001b[0m\u001b[1;33m\u001b[0m\u001b[0m\n",
      "\u001b[1;32m~\\anaconda3\\lib\\site-packages\\matplotlib\\font_manager.py\u001b[0m in \u001b[0;36mget_font\u001b[1;34m(filename, hinting_factor)\u001b[0m\n\u001b[0;32m   1422\u001b[0m         \u001b[0mhinting_factor\u001b[0m \u001b[1;33m=\u001b[0m \u001b[0mrcParams\u001b[0m\u001b[1;33m[\u001b[0m\u001b[1;34m'text.hinting_factor'\u001b[0m\u001b[1;33m]\u001b[0m\u001b[1;33m\u001b[0m\u001b[1;33m\u001b[0m\u001b[0m\n\u001b[0;32m   1423\u001b[0m     \u001b[1;31m# also key on the thread ID to prevent segfaults with multi-threading\u001b[0m\u001b[1;33m\u001b[0m\u001b[1;33m\u001b[0m\u001b[0m\n\u001b[1;32m-> 1424\u001b[1;33m     return _get_font(filename, hinting_factor,\n\u001b[0m\u001b[0;32m   1425\u001b[0m                      \u001b[0m_kerning_factor\u001b[0m\u001b[1;33m=\u001b[0m\u001b[0mrcParams\u001b[0m\u001b[1;33m[\u001b[0m\u001b[1;34m'text.kerning_factor'\u001b[0m\u001b[1;33m]\u001b[0m\u001b[1;33m,\u001b[0m\u001b[1;33m\u001b[0m\u001b[1;33m\u001b[0m\u001b[0m\n\u001b[0;32m   1426\u001b[0m                      thread_id=threading.get_ident())\n",
      "\u001b[1;32m~\\anaconda3\\lib\\site-packages\\matplotlib\\font_manager.py\u001b[0m in \u001b[0;36m_get_font\u001b[1;34m(filename, hinting_factor, _kerning_factor, thread_id)\u001b[0m\n\u001b[0;32m   1403\u001b[0m \u001b[1;33m@\u001b[0m\u001b[0mlru_cache\u001b[0m\u001b[1;33m(\u001b[0m\u001b[1;36m64\u001b[0m\u001b[1;33m)\u001b[0m\u001b[1;33m\u001b[0m\u001b[1;33m\u001b[0m\u001b[0m\n\u001b[0;32m   1404\u001b[0m \u001b[1;32mdef\u001b[0m \u001b[0m_get_font\u001b[0m\u001b[1;33m(\u001b[0m\u001b[0mfilename\u001b[0m\u001b[1;33m,\u001b[0m \u001b[0mhinting_factor\u001b[0m\u001b[1;33m,\u001b[0m \u001b[1;33m*\u001b[0m\u001b[1;33m,\u001b[0m \u001b[0m_kerning_factor\u001b[0m\u001b[1;33m,\u001b[0m \u001b[0mthread_id\u001b[0m\u001b[1;33m)\u001b[0m\u001b[1;33m:\u001b[0m\u001b[1;33m\u001b[0m\u001b[1;33m\u001b[0m\u001b[0m\n\u001b[1;32m-> 1405\u001b[1;33m     return ft2font.FT2Font(\n\u001b[0m\u001b[0;32m   1406\u001b[0m         filename, hinting_factor, _kerning_factor=_kerning_factor)\n\u001b[0;32m   1407\u001b[0m \u001b[1;33m\u001b[0m\u001b[0m\n",
      "\u001b[1;31mFileNotFoundError\u001b[0m: [Errno 2] No such file or directory: 'C:\\\\Windows\\\\Fonts\\\\Gulim.ttf'"
     ]
    }
   ],
   "source": [
    "# matplotlib 한글 폰트 설정\n",
    "import matplotlib.font_manager as fm\n",
    "fm.get_fontconfig_fonts()\n",
    "font_location = 'C:/Windows/Fonts/Gulim.ttf' # For Windows\n",
    "font_name = fm.FontProperties(fname=font_location).get_name()\n",
    "matplotlib.rc('font', family=font_name)"
   ]
  },
  {
   "cell_type": "code",
   "execution_count": 11,
   "id": "b892e06a-fbb1-46e6-8e39-5b68af2f99ac",
   "metadata": {},
   "outputs": [
    {
     "name": "stderr",
     "output_type": "stream",
     "text": [
      "findfont: Font family ['맑은 고딕'] not found. Falling back to DejaVu Sans.\n"
     ]
    },
    {
     "data": {
      "image/png": "[encoded data removed]",
      "text/plain": [
       "<Figure size 1000x400 with 2 Axes>"
      ]
     },
     "metadata": {},
     "output_type": "display_data"
    }
   ],
   "source": [
    "fig, axs = plt.subplots(ncols=2, figsize=(10, 4), gridspec_kw={\"width_ratios\":[1, 3]})"
   ]
  },
  {
   "cell_type": "markdown",
   "id": "8159542f-cd49-4a9e-aa19-b50f91ed2508",
   "metadata": {},
   "source": [
    "## 2.2. 용역 비용\n",
    "\n",
    "+ 왼쪽 공간에 RPA 적용 전 2천만원이 들어간 용역 비용과 적용 후 0원이 된 것을 비교하여 그립니다.\n",
    "+ 이럴 때는 grouped bar plot이 제격입니다.\n",
    "+ 용역 비용 뿐 아니라 다른 모든 항목을 비교할 것이기 때문에 __RPA 전__ 과 __RPA 후__ 비교에 일관성이 필요합니다.\n",
    "+ 적용 전과 후를 __\"brown\"__ 과 __\"royalblue\"__ 로 표기합니다.\n",
    "+ 또한, __grouped bar plot__ 은 __pandas가 더 편합니다.__\n",
    "+ pandas DataFrame에서 그림을 그릴 부분만 `.loc[]`를 사용해 데이터를 한정하고,\n",
    "+ `.plot.bar()`를 사용해 grouped bar plot을 그립니다.\n",
    "+ `cs = [\"brown\", \"royalblue']`과 `color=cs`를 입력하면 적용 전과 후 색이 차례로 입혀집니다."
   ]
  },
  {
   "cell_type": "code",
   "execution_count": 12,
   "id": "238ca8d7-c7da-46f1-aba1-74917f7b755b",
   "metadata": {},
   "outputs": [
    {
     "data": {
      "text/html": [
       "<div>\n",
       "<style scoped>\n",
       "    .dataframe tbody tr th:only-of-type {\n",
       "        vertical-align: middle;\n",
       "    }\n",
       "\n",
       "    .dataframe tbody tr th {\n",
       "        vertical-align: top;\n",
       "    }\n",
       "\n",
       "    .dataframe thead th {\n",
       "        text-align: right;\n",
       "    }\n",
       "</style>\n",
       "<table border=\"1\" class=\"dataframe\">\n",
       "  <thead>\n",
       "    <tr style=\"text-align: right;\">\n",
       "      <th></th>\n",
       "      <th></th>\n",
       "      <th>As-Is</th>\n",
       "      <th>To-Be</th>\n",
       "    </tr>\n",
       "  </thead>\n",
       "  <tbody>\n",
       "    <tr>\n",
       "      <th>분석 용역</th>\n",
       "      <th>비용</th>\n",
       "      <td>20000</td>\n",
       "      <td>0.0</td>\n",
       "    </tr>\n",
       "    <tr>\n",
       "      <th>용역 검증</th>\n",
       "      <th>인력(MW)</th>\n",
       "      <td>12</td>\n",
       "      <td>2.0</td>\n",
       "    </tr>\n",
       "    <tr>\n",
       "      <th>서류 작업</th>\n",
       "      <th>인력(MW)</th>\n",
       "      <td>2</td>\n",
       "      <td>0.5</td>\n",
       "    </tr>\n",
       "    <tr>\n",
       "      <th>취합 작업</th>\n",
       "      <th>인력(MW)</th>\n",
       "      <td>1</td>\n",
       "      <td>0.5</td>\n",
       "    </tr>\n",
       "  </tbody>\n",
       "</table>\n",
       "</div>"
      ],
      "text/plain": [
       "              As-Is  To-Be\n",
       "분석 용역 비용      20000    0.0\n",
       "용역 검증 인력(MW)     12    2.0\n",
       "서류 작업 인력(MW)      2    0.5\n",
       "취합 작업 인력(MW)      1    0.5"
      ]
     },
     "execution_count": 12,
     "metadata": {},
     "output_type": "execute_result"
    }
   ],
   "source": [
    "# data \n",
    "data = [[20000, 0],\n",
    "     [12, 2],\n",
    "     [2, 0.5],\n",
    "     [1, 0.5]]\n",
    "rpa = pd.DataFrame(data, \n",
    "                   index=[[\"분석 용역\", \"용역 검증\", \"서류 작업\", \"취합 작업\"], [\"비용\", \"인력(MW)\", \"인력(MW)\", \"인력(MW)\"]],\n",
    "                   columns=[\"As-Is\", \"To-Be\"]\n",
    ")\n",
    "\n",
    "rpa"
   ]
  },
  {
   "cell_type": "code",
   "execution_count": 13,
   "id": "957b03c1-e05f-41aa-908b-068d5ee85d85",
   "metadata": {},
   "outputs": [
    {
     "data": {
      "text/html": [
       "<div>\n",
       "<style scoped>\n",
       "    .dataframe tbody tr th:only-of-type {\n",
       "        vertical-align: middle;\n",
       "    }\n",
       "\n",
       "    .dataframe tbody tr th {\n",
       "        vertical-align: top;\n",
       "    }\n",
       "\n",
       "    .dataframe thead th {\n",
       "        text-align: right;\n",
       "    }\n",
       "</style>\n",
       "<table border=\"1\" class=\"dataframe\">\n",
       "  <thead>\n",
       "    <tr style=\"text-align: right;\">\n",
       "      <th></th>\n",
       "      <th></th>\n",
       "      <th>As-Is</th>\n",
       "      <th>To-Be</th>\n",
       "    </tr>\n",
       "  </thead>\n",
       "  <tbody>\n",
       "    <tr>\n",
       "      <th>분석 용역</th>\n",
       "      <th>비용</th>\n",
       "      <td>20000</td>\n",
       "      <td>0.0</td>\n",
       "    </tr>\n",
       "  </tbody>\n",
       "</table>\n",
       "</div>"
      ],
      "text/plain": [
       "          As-Is  To-Be\n",
       "분석 용역 비용  20000    0.0"
      ]
     },
     "execution_count": 13,
     "metadata": {},
     "output_type": "execute_result"
    }
   ],
   "source": [
    "rpa.loc[[\"분석 용역\"]]"
   ]
  },
  {
   "cell_type": "code",
   "execution_count": 14,
   "id": "9356ef38-fcee-44fd-83d6-4a768ff3fe3d",
   "metadata": {},
   "outputs": [
    {
     "data": {
      "text/plain": [
       "<AxesSubplot:>"
      ]
     },
     "execution_count": 14,
     "metadata": {},
     "output_type": "execute_result"
    },
    {
     "data": {
      "image/png": "[encoded data removed]",
      "text/plain": [
       "<Figure size 1000x400 with 2 Axes>"
      ]
     },
     "metadata": {},
     "output_type": "display_data"
    }
   ],
   "source": [
    "# visualization\n",
    "\n",
    "fig, axs = plt.subplots(ncols=2, figsize=(10, 4), gridspec_kw={\"width_ratios\":[1, 3]}, constrained_layout=True)\n",
    "cs = [\"brown\", \"royalblue\"]\n",
    "\n",
    "# 용역 비용\n",
    "rpa.iloc[[0]].plot.bar(ax=axs[0], lw=1, ec=\"w\", legend=False, color=cs)\n",
    "\n",
    "# 인력\n",
    "rpa.iloc[1:].plot.bar(ax=axs[1], lw=1, ec=\"w\", legend=False, color=cs)"
   ]
  },
  {
   "cell_type": "markdown",
   "id": "d780b490-0fc9-4f35-9415-254cbf876eb1",
   "metadata": {},
   "source": [
    "## 2.3. Annotation\n",
    "\n",
    "+ 가장 중요한 틀이 갖춰졌습니다.\n",
    "+ 이제 ticks, ticklabels 등을 다듬으면 쓸만한 그래프가 될겁니다.\n",
    "+ 하지만 그 전에, 데이터를 직설적으로 알려주는 장치를 하려고 합니다.\n",
    "+ 위 코드 아래에 코드를 덧붙여 bar 위에 데이터를 출력합니다."
   ]
  },
  {
   "cell_type": "code",
   "execution_count": 15,
   "id": "6111ddeb-58bd-4a11-9fb7-5ef51e011f0e",
   "metadata": {},
   "outputs": [],
   "source": [
    "\n",
    "\n",
    "# 용역 비용\n",
    "xs, ws, hs = [], [], []\n",
    "\n",
    "for p, c in zip(axs[0].patches, cs):\n",
    "    x, w, h = p.get_x(), p.get_width(), p.get_height()\n",
    "    xs.append(x)\n",
    "    ws.append(w)\n",
    "    hs.append(h)\n",
    "    \n",
    "    cost = format(int(h), ',')\n",
    "    \n",
    "    if h > 0:\n",
    "        cost = f\"{cost} 천원\"\n",
    "    else:\n",
    "        cost = f\"{cost} 원\"\n",
    "    axs[0].text(x+w/2, h+1000, cost, ha=\"center\", fontsize=\"small\", fontweight=\"bold\", color=c, zorder=3)\n",
    "\n"
   ]
  },
  {
   "cell_type": "markdown",
   "id": "25b42044-a21e-4c6f-824d-09360e40a4f3",
   "metadata": {},
   "source": [
    "+ 왼쪽 Axes를 구성하는 두 막대의 위치, 너비, 높이를 뽑아내 글자를 입혔습니다.\n",
    "+ 일반적으로 금액을 __천원__ 단위로 표현하기 때문에 일부러 엑셀 파일부터 천원으로 끊었습니다."
   ]
  },
  {
   "cell_type": "markdown",
   "id": "d0135406-a9bd-4ab8-9ea7-e5f0f712ed5e",
   "metadata": {},
   "source": [
    "## 2.4. Spines and Ticks\n",
    "\n",
    "+ 이제 y축이 없어도 데이터가 잘 전달됩니다.\n",
    "+ y축과 함께 네모난 테두리(spines)를 없애버립시다.\n",
    "+ x축 눈금은 `tick_params()`를 사용해 폭을 0으로 (`width=0`) 만듭니다.\n",
    "+ 그런데 xticklabel은 여기 말고도 오른족 Axes에도 세 개나 더 적용해야 됩니다.\n",
    "+ `font_label`이라는 Dictionary type 매개변수를 만들어 적용합니다."
   ]
  },
  {
   "cell_type": "code",
   "execution_count": 7,
   "id": "e90bdf80-85e6-49ce-944f-738dd2d1c41d",
   "metadata": {},
   "outputs": [
    {
     "ename": "AttributeError",
     "evalue": "'AxesSubplot' object has no attribute 'set_xtickabels'",
     "output_type": "error",
     "traceback": [
      "\u001b[1;31m---------------------------------------------------------------------------\u001b[0m",
      "\u001b[1;31mAttributeError\u001b[0m                            Traceback (most recent call last)",
      "\u001b[1;32m~\\AppData\\Local\\Temp\\ipykernel_11252\\3123016492.py\u001b[0m in \u001b[0;36m<module>\u001b[1;34m\u001b[0m\n\u001b[0;32m      4\u001b[0m \u001b[0mfont_label\u001b[0m \u001b[1;33m=\u001b[0m \u001b[1;33m{\u001b[0m\u001b[1;34m'color'\u001b[0m\u001b[1;33m:\u001b[0m\u001b[1;34m'gray'\u001b[0m\u001b[1;33m,\u001b[0m \u001b[1;34m'fontweight'\u001b[0m\u001b[1;33m:\u001b[0m\u001b[1;34m'bold'\u001b[0m\u001b[1;33m}\u001b[0m\u001b[1;33m\u001b[0m\u001b[1;33m\u001b[0m\u001b[0m\n\u001b[0;32m      5\u001b[0m \u001b[0maxs\u001b[0m\u001b[1;33m[\u001b[0m\u001b[1;36m0\u001b[0m\u001b[1;33m]\u001b[0m\u001b[1;33m.\u001b[0m\u001b[0mtick_params\u001b[0m\u001b[1;33m(\u001b[0m\u001b[0maxis\u001b[0m\u001b[1;33m=\u001b[0m\u001b[1;34m'x'\u001b[0m\u001b[1;33m,\u001b[0m \u001b[0mwidth\u001b[0m\u001b[1;33m=\u001b[0m\u001b[1;36m0\u001b[0m\u001b[1;33m)\u001b[0m\u001b[1;33m\u001b[0m\u001b[1;33m\u001b[0m\u001b[0m\n\u001b[1;32m----> 6\u001b[1;33m \u001b[0maxs\u001b[0m\u001b[1;33m[\u001b[0m\u001b[1;36m0\u001b[0m\u001b[1;33m]\u001b[0m\u001b[1;33m.\u001b[0m\u001b[0mset_xtickabels\u001b[0m\u001b[1;33m(\u001b[0m\u001b[1;33m[\u001b[0m\u001b[1;34m\"용역 비용\"\u001b[0m\u001b[1;33m]\u001b[0m\u001b[1;33m,\u001b[0m \u001b[1;33m**\u001b[0m\u001b[0mfont_label\u001b[0m\u001b[1;33m,\u001b[0m \u001b[0mrotation\u001b[0m\u001b[1;33m=\u001b[0m\u001b[1;36m0\u001b[0m\u001b[1;33m)\u001b[0m\u001b[1;33m\u001b[0m\u001b[1;33m\u001b[0m\u001b[0m\n\u001b[0m",
      "\u001b[1;31mAttributeError\u001b[0m: 'AxesSubplot' object has no attribute 'set_xtickabels'"
     ]
    }
   ],
   "source": [
    "# Spines and Ticks\n",
    "axs[0].spines[['left', 'top', 'right']].set_visible(False)\n",
    "axs[0].set_yticks([])\n",
    "font_label = {'color':'gray', 'fontweight':'bold'}\n",
    "axs[0].tick_params(axis='x', width=0)\n",
    "axs[0].set_xtickabels([\"용역 비용\"], **font_label, rotation=0) "
   ]
  },
  {
   "cell_type": "code",
   "execution_count": null,
   "id": "1d376b4b-d7a6-4316-9991-80fd9fcca849",
   "metadata": {},
   "outputs": [],
   "source": []
  }
 ],
 "metadata": {
  "kernelspec": {
   "display_name": "Python 3 (ipykernel)",
   "language": "python",
   "name": "python3"
  },
  "language_info": {
   "codemirror_mode": {
    "name": "ipython",
    "version": 3
   },
   "file_extension": ".py",
   "mimetype": "text/x-python",
   "name": "python",
   "nbconvert_exporter": "python",
   "pygments_lexer": "ipython3",
   "version": "3.9.13"
  }
 },
 "nbformat": 4,
 "nbformat_minor": 5
}

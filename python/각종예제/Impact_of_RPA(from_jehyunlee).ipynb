{
 "cells": [
  {
   "cell_type": "markdown",
   "id": "f9500e84-3502-4217-8054-b2534f0baf0f",
   "metadata": {},
   "source": [
    "이 노트북은 [이제현 박사님의 블로그](https://jehyunlee.github.io/2023/01/01/Python-DS-125-rpa/) 내용을 필사한 것입니다. 공부 목적 외에 의도는 없음을 밝힙니다. \n",
    "\n",
    "# Impact of RPA\n",
    "\n",
    "+ RPA(Robotic Precess Automation: 업무 자동화)과제를 하려고 합니다.\n",
    "+ RPA를 적용하면 효용이 얼마나 좋은지를 설득하기 위한 그림을 그립니다.\n",
    "+ RPA 도입 전과 후를 비교하는 그림을 그려서 보여줍시다.\n",
    "\n",
    "# 1. 행정 업무\n",
    "![](https://jehyunlee.github.io/2023/01/01/Python-DS-125-rpa/125_rpa_01.png)\n",
    "\n",
    "+ 어떤 가상의 데이터 관련 행정 업무가 있다고 합시다.\n",
    "+ 현재는 __총 2천만원의 용역비를_ 포함해 __12주가__ 걸립니다. __수작업이기__ 때문입니다. \n",
    "+ 여기에 RPA를 적용하면, __용역비가 없이지고__ 이어지는 작업도 훨씬 짧게 걸립니다.\n",
    "+ 서류 작업과 취합 작업도 단순 반복 작업에서 __검증으로 업무 성격이 바뀝니다.__\n",
    "+ __보고서나 기획서등에서__ 이 훌륭한 업무를 어필하고 싶습니다.\n",
    "+ 일단 엑셀로 정리해보니 이렇습니다. 전달은 되는데 아쉽습니다.\n",
    "\n",
    "![](https://jehyunlee.github.io/2023/01/01/Python-DS-125-rpa/125_rpa_02.png)\n",
    "\n",
    "# 2. 시각화\n",
    "\n",
    "## 2.1. 용역 비용 & 인력\n",
    "\n",
    "+ RPA 효과는 크게 두 가지입니다. 하나는 __용역 비용,__ 하나는 __인력__\n",
    "+ 인력도 man-week(MW)으로 정리했기 때문에 담당자의 연봉을 적용하면 비용 산정이 됩니다.\n",
    "+ 하지만 여기선 용역은 용역, 인력은 인력으로 나누어 그리기로 합니다.\n",
    "+ 항목 수에 따라 용역 비용과 인력이 그려질 공간을 1:3의 비율로 분할합니다."
   ]
  },
  {
   "cell_type": "code",
   "execution_count": 30,
   "id": "7dcfe9a3-61a5-4fc5-a907-57133e6f3931",
   "metadata": {},
   "outputs": [],
   "source": [
    "import pandas as pd\n",
    "import matplotlib.pyplot as plt\n",
    "import warnings\n",
    "warnings.filterwarnings(action='ignore') "
   ]
  },
  {
   "cell_type": "code",
   "execution_count": 2,
   "id": "b892e06a-fbb1-46e6-8e39-5b68af2f99ac",
   "metadata": {},
   "outputs": [
    {
     "data": {
      "image/png": "[encoded data removed]",
      "text/plain": [
       "<Figure size 1000x400 with 2 Axes>"
      ]
     },
     "metadata": {},
     "output_type": "display_data"
    }
   ],
   "source": [
    "fig, axs = plt.subplots(ncols=2, figsize=(10, 4), gridspec_kw={\"width_ratios\":[1, 3]})"
   ]
  },
  {
   "cell_type": "markdown",
   "id": "8159542f-cd49-4a9e-aa19-b50f91ed2508",
   "metadata": {},
   "source": [
    "2.2. 용역 비용\n",
    "\n",
    "+ 왼쪽 공간에 RPA 적용 전 2천만원이 들어간 용역 비용과 적용 후 0원이 된 것을 비교하여 그립니다.\n",
    "+ 이럴 때는 grouped bar plot이 제격입니다.\n",
    "+ 용역 비용 뿐 아니라 다른 모든 항목을 비교할 것이기 때문에 __RPA 전__ 과 __RPA 후__ 비교에 일관성이 필요합니다.\n",
    "+ 적용 전과 후를 __\"brown\"__ 과 __\"royalblue\"__ 로 표기합니다.\n",
    "+ 또한, __grouped bar plot__ 은 __pandas가 더 편합니다.__\n",
    "+ pandas DataFrame에서 그림을 그릴 부분만 `.loc[]`를 사용해 데이터를 한정하고,\n",
    "+ `.plot.bar()`를 사용해 grouped bar plot을 그립니다.\n",
    "+ `cs = [\"brown\", \"royalblue']`과 `color=cs`를 입력하면 적용 전과 후 색이 차례로 입혀집니다."
   ]
  },
  {
   "cell_type": "code",
   "execution_count": 5,
   "id": "238ca8d7-c7da-46f1-aba1-74917f7b755b",
   "metadata": {},
   "outputs": [
    {
     "data": {
      "text/html": [
       "<div>\n",
       "<style scoped>\n",
       "    .dataframe tbody tr th:only-of-type {\n",
       "        vertical-align: middle;\n",
       "    }\n",
       "\n",
       "    .dataframe tbody tr th {\n",
       "        vertical-align: top;\n",
       "    }\n",
       "\n",
       "    .dataframe thead th {\n",
       "        text-align: right;\n",
       "    }\n",
       "</style>\n",
       "<table border=\"1\" class=\"dataframe\">\n",
       "  <thead>\n",
       "    <tr style=\"text-align: right;\">\n",
       "      <th></th>\n",
       "      <th></th>\n",
       "      <th>As-Is</th>\n",
       "      <th>To-Be</th>\n",
       "    </tr>\n",
       "  </thead>\n",
       "  <tbody>\n",
       "    <tr>\n",
       "      <th>분석 용역</th>\n",
       "      <th>비용</th>\n",
       "      <td>20000</td>\n",
       "      <td>0.0</td>\n",
       "    </tr>\n",
       "    <tr>\n",
       "      <th>용역 검증</th>\n",
       "      <th>인력(MW)</th>\n",
       "      <td>12</td>\n",
       "      <td>2.0</td>\n",
       "    </tr>\n",
       "    <tr>\n",
       "      <th>서류 작업</th>\n",
       "      <th>인력(MW)</th>\n",
       "      <td>2</td>\n",
       "      <td>0.5</td>\n",
       "    </tr>\n",
       "    <tr>\n",
       "      <th>취합 작업</th>\n",
       "      <th>인력(MW)</th>\n",
       "      <td>1</td>\n",
       "      <td>0.5</td>\n",
       "    </tr>\n",
       "  </tbody>\n",
       "</table>\n",
       "</div>"
      ],
      "text/plain": [
       "              As-Is  To-Be\n",
       "분석 용역 비용      20000    0.0\n",
       "용역 검증 인력(MW)     12    2.0\n",
       "서류 작업 인력(MW)      2    0.5\n",
       "취합 작업 인력(MW)      1    0.5"
      ]
     },
     "execution_count": 5,
     "metadata": {},
     "output_type": "execute_result"
    }
   ],
   "source": [
    "# data \n",
    "data = [[20000, 0],\n",
    "     [12, 2],\n",
    "     [2, 0.5],\n",
    "     [1, 0.5]]\n",
    "rpa = pd.DataFrame(data, \n",
    "                   index=[[\"분석 용역\", \"용역 검증\", \"서류 작업\", \"취합 작업\"], [\"비용\", \"인력(MW)\", \"인력(MW)\", \"인력(MW)\"]],\n",
    "                   columns=[\"As-Is\", \"To-Be\"]\n",
    ")\n",
    "\n",
    "rpa"
   ]
  },
  {
   "cell_type": "code",
   "execution_count": 25,
   "id": "957b03c1-e05f-41aa-908b-068d5ee85d85",
   "metadata": {},
   "outputs": [
    {
     "data": {
      "text/html": [
       "<div>\n",
       "<style scoped>\n",
       "    .dataframe tbody tr th:only-of-type {\n",
       "        vertical-align: middle;\n",
       "    }\n",
       "\n",
       "    .dataframe tbody tr th {\n",
       "        vertical-align: top;\n",
       "    }\n",
       "\n",
       "    .dataframe thead th {\n",
       "        text-align: right;\n",
       "    }\n",
       "</style>\n",
       "<table border=\"1\" class=\"dataframe\">\n",
       "  <thead>\n",
       "    <tr style=\"text-align: right;\">\n",
       "      <th></th>\n",
       "      <th></th>\n",
       "      <th>As-Is</th>\n",
       "      <th>To-Be</th>\n",
       "    </tr>\n",
       "  </thead>\n",
       "  <tbody>\n",
       "    <tr>\n",
       "      <th>분석 용역</th>\n",
       "      <th>비용</th>\n",
       "      <td>20000</td>\n",
       "      <td>0.0</td>\n",
       "    </tr>\n",
       "  </tbody>\n",
       "</table>\n",
       "</div>"
      ],
      "text/plain": [
       "          As-Is  To-Be\n",
       "분석 용역 비용  20000    0.0"
      ]
     },
     "execution_count": 25,
     "metadata": {},
     "output_type": "execute_result"
    }
   ],
   "source": [
    "rpa.loc[[\"분석 용역\"]]"
   ]
  },
  {
   "cell_type": "code",
   "execution_count": 31,
   "id": "9356ef38-fcee-44fd-83d6-4a768ff3fe3d",
   "metadata": {},
   "outputs": [
    {
     "data": {
      "text/plain": [
       "<AxesSubplot:>"
      ]
     },
     "execution_count": 31,
     "metadata": {},
     "output_type": "execute_result"
    },
    {
     "data": {
      "image/png": "[encoded data removed]",
      "text/plain": [
       "<Figure size 1000x400 with 2 Axes>"
      ]
     },
     "metadata": {},
     "output_type": "display_data"
    }
   ],
   "source": [
    "# visualization\n",
    "\n",
    "fig, axs = plt.subplots(ncols=2, figsize=(10, 4), gridspec_kw={\"width_ratios\":[1, 3]}, constrained_layout=True)\n",
    "cs = [\"brown\", \"royalblue\"]\n",
    "\n",
    "# 용역 비용\n",
    "rpa.iloc[[0]].plot.bar(ax=axs[0], lw=1, ec=\"w\", legend=False, color=cs)\n",
    "\n",
    "# 인력\n",
    "rpa.iloc[1:].plot.bar(ax=axs[1], lw=1, ec=\"w\", legend=False, color=cs)"
   ]
  },
  {
   "cell_type": "code",
   "execution_count": null,
   "id": "38d1a4f8-d7e9-4edf-a029-1044a541f32b",
   "metadata": {},
   "outputs": [],
   "source": []
  }
 ],
 "metadata": {
  "kernelspec": {
   "display_name": "Python 3 (ipykernel)",
   "language": "python",
   "name": "python3"
  },
  "language_info": {
   "codemirror_mode": {
    "name": "ipython",
    "version": 3
   },
   "file_extension": ".py",
   "mimetype": "text/x-python",
   "name": "python",
   "nbconvert_exporter": "python",
   "pygments_lexer": "ipython3",
   "version": "3.9.13"
  }
 },
 "nbformat": 4,
 "nbformat_minor": 5
}

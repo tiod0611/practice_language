{
 "cells": [
  {
   "cell_type": "markdown",
   "id": "6682483a-6c7b-42c0-9f3c-df274d9597b9",
   "metadata": {},
   "source": [
    " 이 노트북은 [블로그](https://suy379.tistory.com/148)를 필사한 것입니다.   \n",
    "공부 이외의 목적은 없습니다.\n",
    "\n"
   ]
  },
  {
   "cell_type": "markdown",
   "id": "f39b2784-1136-4545-8733-3935d47a4a74",
   "metadata": {},
   "source": [
    "# [시각화] 파이썬 그래프 위에 글자 쓰기 (ax.patches, ax.text)\n",
    "\n",
    "파이썬 그래프를 그렸는데, 바로 밑의 그림처럼 __그래프 위에 비율까지 쓰고 싶은 경우가__ 있을 것이다.  \n",
    "이럴 때 사용하면 유용한 파이썬 __seaborn__ 에서 제공하는 ax.patches, ax.text 메서드를 활용하면 손쉽게 그릴 수 있다.  \n",
    "<figure align=\"center\">\n",
    "    <img src=\"https://img1.daumcdn.net/thumb/R1280x0/?scode=mtistory2&fname=https%3A%2F%2Fblog.kakaocdn.net%2Fdn%2FdMkMEb%2FbtrGPANfSif%2FxGqkwL80d6QP3yLgKhc7Y0%2Fimg.png\">\n",
    "    <figcaption style=\"margin-left: 13.5rem;\"><b>오늘 만들어볼 결과물</b></figcaption>\n",
    "</figure>\n",
    "\n",
    "먼저 데이터셋은 __[캐글 Categorical Feature Encoding Challenge](https://www.kaggle.com/competitions/cat-in-the-dat/overview)__ 에서 제공하는 'train.csv'파일을 활용하였다.  \n",
    "NOTE: 코드는 __[블로그 저자의 깃허브](https://github.com/suy379/python_for_DA)__ 에서 내려받을 수 있습니다!"
   ]
  },
  {
   "cell_type": "code",
   "execution_count": 1,
   "id": "7a7afd79-57f9-4c07-a59c-18325ec2dac1",
   "metadata": {},
   "outputs": [
    {
     "data": {
      "text/html": [
       "<div>\n",
       "<style scoped>\n",
       "    .dataframe tbody tr th:only-of-type {\n",
       "        vertical-align: middle;\n",
       "    }\n",
       "\n",
       "    .dataframe tbody tr th {\n",
       "        vertical-align: top;\n",
       "    }\n",
       "\n",
       "    .dataframe thead th {\n",
       "        text-align: right;\n",
       "    }\n",
       "</style>\n",
       "<table border=\"1\" class=\"dataframe\">\n",
       "  <thead>\n",
       "    <tr style=\"text-align: right;\">\n",
       "      <th></th>\n",
       "      <th>bin_0</th>\n",
       "      <th>bin_1</th>\n",
       "      <th>bin_2</th>\n",
       "      <th>bin_3</th>\n",
       "      <th>bin_4</th>\n",
       "      <th>nom_0</th>\n",
       "      <th>nom_1</th>\n",
       "      <th>nom_2</th>\n",
       "      <th>nom_3</th>\n",
       "      <th>nom_4</th>\n",
       "      <th>...</th>\n",
       "      <th>nom_9</th>\n",
       "      <th>ord_0</th>\n",
       "      <th>ord_1</th>\n",
       "      <th>ord_2</th>\n",
       "      <th>ord_3</th>\n",
       "      <th>ord_4</th>\n",
       "      <th>ord_5</th>\n",
       "      <th>day</th>\n",
       "      <th>month</th>\n",
       "      <th>target</th>\n",
       "    </tr>\n",
       "    <tr>\n",
       "      <th>id</th>\n",
       "      <th></th>\n",
       "      <th></th>\n",
       "      <th></th>\n",
       "      <th></th>\n",
       "      <th></th>\n",
       "      <th></th>\n",
       "      <th></th>\n",
       "      <th></th>\n",
       "      <th></th>\n",
       "      <th></th>\n",
       "      <th></th>\n",
       "      <th></th>\n",
       "      <th></th>\n",
       "      <th></th>\n",
       "      <th></th>\n",
       "      <th></th>\n",
       "      <th></th>\n",
       "      <th></th>\n",
       "      <th></th>\n",
       "      <th></th>\n",
       "      <th></th>\n",
       "    </tr>\n",
       "  </thead>\n",
       "  <tbody>\n",
       "    <tr>\n",
       "      <th>0</th>\n",
       "      <td>0</td>\n",
       "      <td>0</td>\n",
       "      <td>0</td>\n",
       "      <td>T</td>\n",
       "      <td>Y</td>\n",
       "      <td>Green</td>\n",
       "      <td>Triangle</td>\n",
       "      <td>Snake</td>\n",
       "      <td>Finland</td>\n",
       "      <td>Bassoon</td>\n",
       "      <td>...</td>\n",
       "      <td>2f4cb3d51</td>\n",
       "      <td>2</td>\n",
       "      <td>Grandmaster</td>\n",
       "      <td>Cold</td>\n",
       "      <td>h</td>\n",
       "      <td>D</td>\n",
       "      <td>kr</td>\n",
       "      <td>2</td>\n",
       "      <td>2</td>\n",
       "      <td>0</td>\n",
       "    </tr>\n",
       "    <tr>\n",
       "      <th>1</th>\n",
       "      <td>0</td>\n",
       "      <td>1</td>\n",
       "      <td>0</td>\n",
       "      <td>T</td>\n",
       "      <td>Y</td>\n",
       "      <td>Green</td>\n",
       "      <td>Trapezoid</td>\n",
       "      <td>Hamster</td>\n",
       "      <td>Russia</td>\n",
       "      <td>Piano</td>\n",
       "      <td>...</td>\n",
       "      <td>f83c56c21</td>\n",
       "      <td>1</td>\n",
       "      <td>Grandmaster</td>\n",
       "      <td>Hot</td>\n",
       "      <td>a</td>\n",
       "      <td>A</td>\n",
       "      <td>bF</td>\n",
       "      <td>7</td>\n",
       "      <td>8</td>\n",
       "      <td>0</td>\n",
       "    </tr>\n",
       "    <tr>\n",
       "      <th>2</th>\n",
       "      <td>0</td>\n",
       "      <td>0</td>\n",
       "      <td>0</td>\n",
       "      <td>F</td>\n",
       "      <td>Y</td>\n",
       "      <td>Blue</td>\n",
       "      <td>Trapezoid</td>\n",
       "      <td>Lion</td>\n",
       "      <td>Russia</td>\n",
       "      <td>Theremin</td>\n",
       "      <td>...</td>\n",
       "      <td>ae6800dd0</td>\n",
       "      <td>1</td>\n",
       "      <td>Expert</td>\n",
       "      <td>Lava Hot</td>\n",
       "      <td>h</td>\n",
       "      <td>R</td>\n",
       "      <td>Jc</td>\n",
       "      <td>7</td>\n",
       "      <td>2</td>\n",
       "      <td>0</td>\n",
       "    </tr>\n",
       "    <tr>\n",
       "      <th>3</th>\n",
       "      <td>0</td>\n",
       "      <td>1</td>\n",
       "      <td>0</td>\n",
       "      <td>F</td>\n",
       "      <td>Y</td>\n",
       "      <td>Red</td>\n",
       "      <td>Trapezoid</td>\n",
       "      <td>Snake</td>\n",
       "      <td>Canada</td>\n",
       "      <td>Oboe</td>\n",
       "      <td>...</td>\n",
       "      <td>8270f0d71</td>\n",
       "      <td>1</td>\n",
       "      <td>Grandmaster</td>\n",
       "      <td>Boiling Hot</td>\n",
       "      <td>i</td>\n",
       "      <td>D</td>\n",
       "      <td>kW</td>\n",
       "      <td>2</td>\n",
       "      <td>1</td>\n",
       "      <td>1</td>\n",
       "    </tr>\n",
       "    <tr>\n",
       "      <th>4</th>\n",
       "      <td>0</td>\n",
       "      <td>0</td>\n",
       "      <td>0</td>\n",
       "      <td>F</td>\n",
       "      <td>N</td>\n",
       "      <td>Red</td>\n",
       "      <td>Trapezoid</td>\n",
       "      <td>Lion</td>\n",
       "      <td>Canada</td>\n",
       "      <td>Oboe</td>\n",
       "      <td>...</td>\n",
       "      <td>b164b72a7</td>\n",
       "      <td>1</td>\n",
       "      <td>Grandmaster</td>\n",
       "      <td>Freezing</td>\n",
       "      <td>a</td>\n",
       "      <td>R</td>\n",
       "      <td>qP</td>\n",
       "      <td>7</td>\n",
       "      <td>8</td>\n",
       "      <td>0</td>\n",
       "    </tr>\n",
       "  </tbody>\n",
       "</table>\n",
       "<p>5 rows × 24 columns</p>\n",
       "</div>"
      ],
      "text/plain": [
       "    bin_0  bin_1  bin_2 bin_3 bin_4  nom_0      nom_1    nom_2    nom_3  \\\n",
       "id                                                                        \n",
       "0       0      0      0     T     Y  Green   Triangle    Snake  Finland   \n",
       "1       0      1      0     T     Y  Green  Trapezoid  Hamster   Russia   \n",
       "2       0      0      0     F     Y   Blue  Trapezoid     Lion   Russia   \n",
       "3       0      1      0     F     Y    Red  Trapezoid    Snake   Canada   \n",
       "4       0      0      0     F     N    Red  Trapezoid     Lion   Canada   \n",
       "\n",
       "       nom_4  ...      nom_9 ord_0        ord_1        ord_2 ord_3  ord_4  \\\n",
       "id            ...                                                           \n",
       "0    Bassoon  ...  2f4cb3d51     2  Grandmaster         Cold     h      D   \n",
       "1      Piano  ...  f83c56c21     1  Grandmaster          Hot     a      A   \n",
       "2   Theremin  ...  ae6800dd0     1       Expert     Lava Hot     h      R   \n",
       "3       Oboe  ...  8270f0d71     1  Grandmaster  Boiling Hot     i      D   \n",
       "4       Oboe  ...  b164b72a7     1  Grandmaster     Freezing     a      R   \n",
       "\n",
       "   ord_5 day month target  \n",
       "id                         \n",
       "0     kr   2     2      0  \n",
       "1     bF   7     8      0  \n",
       "2     Jc   7     2      0  \n",
       "3     kW   2     1      1  \n",
       "4     qP   7     8      0  \n",
       "\n",
       "[5 rows x 24 columns]"
      ]
     },
     "execution_count": 1,
     "metadata": {},
     "output_type": "execute_result"
    }
   ],
   "source": [
    "import pandas as pd\n",
    "import matplotlib.pyplot as plt\n",
    "%matplotlib inline\n",
    "import seaborn as sns\n",
    "\n",
    "df = pd.read_csv('data/CFEC_train.csv', index_col='id')\n",
    "df.head()"
   ]
  },
  {
   "cell_type": "markdown",
   "id": "1ae8c72d-7fed-47e3-8c11-fa549db5b142",
   "metadata": {},
   "source": [
    "먼저 데이터셋을 불러왔다. 오늘 활용할 변수는 __'nom_1'__ 이라는 범주형 변수이다.  \n",
    "이 변수는 6개의 도형 값을 갖는 __범주형 변수이므로, 분포 파악을 위해 seaborn의 countplot을__ 활용하였다."
   ]
  },
  {
   "cell_type": "code",
   "execution_count": 3,
   "id": "a7be4150-43e3-46cb-82c3-dfc1dc7b6d6f",
   "metadata": {},
   "outputs": [
    {
     "data": {
      "image/png": "[encoded data removed]",
      "text/plain": [
       "<Figure size 576x360 with 1 Axes>"
      ]
     },
     "metadata": {
      "needs_background": "light"
     },
     "output_type": "display_data"
    }
   ],
   "source": [
    "plt.figure(figsize=(8,5))\n",
    "ax = sns.countplot(x='nom_1', data=df, color='skyblue') # 도수분포표를 그리는 함수\n",
    "plt.show()"
   ]
  },
  {
   "cell_type": "markdown",
   "id": "710b375f-0771-48a8-b88f-10571ffc358e",
   "metadata": {},
   "source": [
    "y축인 count는 개수를 의미한다.  \n",
    "그래서 Trapezoid가 가장 많은 건 알겠고, 약 10만개인 것도 알겠는데.. 뭔가 좀 심심하다.  \n",
    "<span style=\"background-color: #F6E199; color: #555555;\"><b>Trapezoid가 nom_1이라는 변수내에서 차지하는 비율이 몇 %인지</b></span>가 궁금하다!"
   ]
  },
  {
   "cell_type": "code",
   "execution_count": 6,
   "id": "27b369b8-47f5-4a0a-bdff-655d6b5af1f3",
   "metadata": {},
   "outputs": [
    {
     "data": {
      "text/plain": [
       "<Axes.ArtistList of 6 patches>"
      ]
     },
     "execution_count": 6,
     "metadata": {},
     "output_type": "execute_result"
    }
   ],
   "source": [
    "ax.patches"
   ]
  },
  {
   "cell_type": "markdown",
   "id": "8ab09a66-8e6f-4f54-9b6a-ff151ad06857",
   "metadata": {},
   "source": [
    "먼저 <span style=\"color:#EF5369;\">ax 객체의 patches</span>를 뽑아본다.  \n",
    "나온 값은 위 그래프의 6개의 바(bar) 각각을 의미한다. 즉, ax.patches[0]는 가장 왼쪽 값, Triangle의 bar를 의미한다.\n",
    "\n",
    "먼저 Triangle 위에 비율을 써보겠다.  \n",
    "Triangle을 나타내는 bar를 rec라는 객체로 따로 저장하고, height(세로길이), width(가로길이), get_x(왼쪽 테두리 x축) 값을 뽑아보자."
   ]
  },
  {
   "cell_type": "code",
   "execution_count": 7,
   "id": "135e46ce-fc63-4839-af6f-e17e351d9204",
   "metadata": {},
   "outputs": [
    {
     "name": "stdout",
     "output_type": "stream",
     "text": [
      "29855 0.8 -0.4\n"
     ]
    }
   ],
   "source": [
    "# 여기서 가장 왼쪽 bar의 값(Triangle)에 대해서만 먼저 해보자!\n",
    "rec = ax.patches[0] \n",
    "\n",
    "# 각각 왼쪽 bar의 높이(개수), 가로길이, 왼쪽 테두리의 x축\n",
    "print(rec.get_height(), rec.get_width(), rec.get_x())"
   ]
  },
  {
   "cell_type": "markdown",
   "id": "5d515603-c360-486b-b3c0-b8c83c731a42",
   "metadata": {},
   "source": [
    "이를 그림으로 나타내면 다음과 같다.  \n",
    "![](https://img1.daumcdn.net/thumb/R1280x0/?scode=mtistory2&fname=https%3A%2F%2Fblog.kakaocdn.net%2Fdn%2FyJ1lO%2FbtrGPIYx1a3%2F2UuhP7MAKnpwoTKfSWqJOk%2Fimg.png)\n",
    "\n",
    "우리는 rec 객체의 가장 위쪽 부분에 비율을 써줄 것이므로, 이렇게 구한 숫자값들을 활용해 <span style=\"background-color: #F6E199; color: #555555;\"><b>비율을 써줄 위치의 x좌표, y좌표를</b></span> 구할 것이다.\n",
    "\n",
    "![](https://img1.daumcdn.net/thumb/R1280x0/?scode=mtistory2&fname=https%3A%2F%2Fblog.kakaocdn.net%2Fdn%2FJG3je%2FbtrGPofhUVC%2F7Ub1bIaUMI0Itz2c6wH3YK%2Fimg.png)\n",
    "\n",
    "그럼 x좌표와 y좌표 값은 어떻게 구할 수 있을까?  \n",
    "\n",
    "+ x좌표: bar의 가장 정 가운데 x좌표를 구해야 한다. 그러므로 get_x값에 , get_width의 절반을 더하자.\n",
    "+ y좌표: bar의 세로길이로 지정해도 되지만, 그렇게 하면 bar에 너무 밀착되어 텍스트가 쓰여지므로 get_height에 일정 높이를 더해준다. 여기선 데이터프레임의 전체 데이터수에 0.01을 곱한 값을 썻다.\n",
    "\n",
    "마지막으로 __Triangle의 비율__ 은 get_height가 세로길이이자 Triangle의 개수와 같으므로, 이 값을 전체 데이터 수에 대해 나누면 된다."
   ]
  },
  {
   "cell_type": "code",
   "execution_count": 8,
   "id": "0ad7b05e-4aad-486d-b251-96f9e1e4e418",
   "metadata": {},
   "outputs": [
    {
     "name": "stdout",
     "output_type": "stream",
     "text": [
      "x좌표:  0.0\n",
      "y좌표:  32855.0\n",
      "Triangle의 비율:  9.951666666666666 %\n"
     ]
    }
   ],
   "source": [
    "# 비율을 써줄 텍스트는 왼쪽 bar의 바로 위에 써줄 것이다.\n",
    "# Triangle 뽑기\n",
    "\n",
    "left_square = df['nom_1'].unique()[0]\n",
    "\n",
    "print('x좌표: ', rec.get_x() + rec.get_width()/2)\n",
    "print('y좌표: ', rec.get_height() + len(df) * 0.01)\n",
    "print(f'{left_square}의 비율: ', (rec.get_height()/len(df))*100, '%')"
   ]
  },
  {
   "cell_type": "markdown",
   "id": "216b27fb-287c-4a0e-8f8e-5dd0727fac80",
   "metadata": {},
   "source": [
    "이렇게 해서 비율을 써줄 x, y좌표는 (x, y) = (0, 32855) 이고, 비율 값은 약 10%이다.  \n",
    "구한 값을 그대로 그래프에 써주자.\n",
    "\n",
    "+ ax.text 옵션\n",
    "    + x: x좌표\n",
    "    + y: y좌표\n",
    "    + s: 텍스트로 쓰고자하는 내용\n",
    "    + ha: 데이터 수평 정렬(horizontal alginment)"
   ]
  },
  {
   "cell_type": "code",
   "execution_count": 9,
   "id": "5deb0b1e-007c-4eaf-bc2e-842ad59f75c7",
   "metadata": {},
   "outputs": [
    {
     "data": {
      "image/png": "[encoded data removed]",
      "text/plain": [
       "<Figure size 576x360 with 1 Axes>"
      ]
     },
     "metadata": {
      "needs_background": "light"
     },
     "output_type": "display_data"
    }
   ],
   "source": [
    "# 적용\n",
    "plt.figure(figsize = (8, 5))\n",
    "ax = sns.countplot(x = 'nom_1', data=df, color='skyblue')\n",
    "ax.text(x = rec.get_x() + rec.get_width()/2,\n",
    "        y = rec.get_height() + len(df)*0.001,\n",
    "        s = f'{rec.get_height()/len(df)*100:1.1f}%',\n",
    "        ha = 'center')\n",
    "\n",
    "plt.rc('font', size=11)\n",
    "plt.show()"
   ]
  },
  {
   "cell_type": "markdown",
   "id": "0c66b7e5-faec-4533-b0df-009bf77fadce",
   "metadata": {},
   "source": [
    "이렇게 10%라는 값이 나왔다.\n",
    "참고로 s에 써준 텍스트에 1.1f를 썻는데, 이는 소수점 1자리수까지만 보여주게 된다.\n",
    "\n",
    "나머지 Trapezoid ~ Circle에 대해서도 비율값을 써주자. <span style=\"color:#EF5369;\">앞에서  ax.patches가 6개 Bar의 값을 갖고 있었으므로 for문으로 연결</span>해주면 되겠지?"
   ]
  },
  {
   "cell_type": "code",
   "execution_count": 14,
   "id": "10756381-51ab-40fe-8e9c-760ee01519e6",
   "metadata": {},
   "outputs": [
    {
     "data": {
      "image/png": "[encoded data removed]",
      "text/plain": [
       "<Figure size 576x432 with 1 Axes>"
      ]
     },
     "metadata": {
      "needs_background": "light"
     },
     "output_type": "display_data"
    }
   ],
   "source": [
    "# for문으로 연결해서 모든 nom_1의 고유값에도 비율을 써보자\n",
    "\n",
    "plt.figure(figsize = (8, 6))\n",
    "ax = sns.countplot(x = 'nom_1', data=df, color='skyblue')\n",
    "\n",
    "for patch in ax.patches:\n",
    "    # 2개의 patch 값을 가짐\n",
    "    ax.text(x=patch.get_x() + patch.get_width()/2,\n",
    "            y=patch.get_height() +len(df)*0.005,\n",
    "            s=f'{(patch.get_height()/len(df))*100: 1.2f}%', \n",
    "            ha='center')\n",
    "\n",
    "plt.rc('font', size=11)\n",
    "plt.show()\n"
   ]
  },
  {
   "cell_type": "markdown",
   "id": "69792bde-2a08-4de1-8cf0-eec492bcad4c",
   "metadata": {},
   "source": [
    "완성!"
   ]
  },
  {
   "cell_type": "markdown",
   "id": "fcabf204-9577-453f-a6b8-c7e7a7831bfb",
   "metadata": {},
   "source": [
    "# 응용 실습"
   ]
  },
  {
   "cell_type": "code",
   "execution_count": 10,
   "id": "841c8b22-ef55-4b21-88f2-4d1e178387ae",
   "metadata": {},
   "outputs": [],
   "source": [
    "import pandas as pd\n",
    "import matplotlib.pyplot as plt\n",
    "import seaborn as sns\n"
   ]
  },
  {
   "cell_type": "code",
   "execution_count": 2,
   "id": "e1973a60-8890-4089-9a9c-9ea748d26615",
   "metadata": {},
   "outputs": [],
   "source": [
    "data = pd.read_csv(\"data/CFEC_train.csv\")"
   ]
  },
  {
   "cell_type": "code",
   "execution_count": 4,
   "id": "873c44b7-4b20-4924-be4a-807143ad2e37",
   "metadata": {},
   "outputs": [
    {
     "name": "stdout",
     "output_type": "stream",
     "text": [
      "<class 'pandas.core.frame.DataFrame'>\n",
      "RangeIndex: 300000 entries, 0 to 299999\n",
      "Data columns (total 25 columns):\n",
      " #   Column  Non-Null Count   Dtype \n",
      "---  ------  --------------   ----- \n",
      " 0   id      300000 non-null  int64 \n",
      " 1   bin_0   300000 non-null  int64 \n",
      " 2   bin_1   300000 non-null  int64 \n",
      " 3   bin_2   300000 non-null  int64 \n",
      " 4   bin_3   300000 non-null  object\n",
      " 5   bin_4   300000 non-null  object\n",
      " 6   nom_0   300000 non-null  object\n",
      " 7   nom_1   300000 non-null  object\n",
      " 8   nom_2   300000 non-null  object\n",
      " 9   nom_3   300000 non-null  object\n",
      " 10  nom_4   300000 non-null  object\n",
      " 11  nom_5   300000 non-null  object\n",
      " 12  nom_6   300000 non-null  object\n",
      " 13  nom_7   300000 non-null  object\n",
      " 14  nom_8   300000 non-null  object\n",
      " 15  nom_9   300000 non-null  object\n",
      " 16  ord_0   300000 non-null  int64 \n",
      " 17  ord_1   300000 non-null  object\n",
      " 18  ord_2   300000 non-null  object\n",
      " 19  ord_3   300000 non-null  object\n",
      " 20  ord_4   300000 non-null  object\n",
      " 21  ord_5   300000 non-null  object\n",
      " 22  day     300000 non-null  int64 \n",
      " 23  month   300000 non-null  int64 \n",
      " 24  target  300000 non-null  int64 \n",
      "dtypes: int64(8), object(17)\n",
      "memory usage: 57.2+ MB\n"
     ]
    }
   ],
   "source": [
    "data.info()"
   ]
  },
  {
   "cell_type": "code",
   "execution_count": 6,
   "id": "975fb897-1750-467b-8418-4701aa3da549",
   "metadata": {},
   "outputs": [
    {
     "data": {
      "text/html": [
       "<div>\n",
       "<style scoped>\n",
       "    .dataframe tbody tr th:only-of-type {\n",
       "        vertical-align: middle;\n",
       "    }\n",
       "\n",
       "    .dataframe tbody tr th {\n",
       "        vertical-align: top;\n",
       "    }\n",
       "\n",
       "    .dataframe thead th {\n",
       "        text-align: right;\n",
       "    }\n",
       "</style>\n",
       "<table border=\"1\" class=\"dataframe\">\n",
       "  <thead>\n",
       "    <tr style=\"text-align: right;\">\n",
       "      <th></th>\n",
       "      <th>id</th>\n",
       "      <th>bin_0</th>\n",
       "      <th>bin_1</th>\n",
       "      <th>bin_2</th>\n",
       "      <th>bin_3</th>\n",
       "      <th>bin_4</th>\n",
       "      <th>nom_0</th>\n",
       "      <th>nom_1</th>\n",
       "      <th>nom_2</th>\n",
       "      <th>nom_3</th>\n",
       "      <th>...</th>\n",
       "      <th>nom_9</th>\n",
       "      <th>ord_0</th>\n",
       "      <th>ord_1</th>\n",
       "      <th>ord_2</th>\n",
       "      <th>ord_3</th>\n",
       "      <th>ord_4</th>\n",
       "      <th>ord_5</th>\n",
       "      <th>day</th>\n",
       "      <th>month</th>\n",
       "      <th>target</th>\n",
       "    </tr>\n",
       "  </thead>\n",
       "  <tbody>\n",
       "    <tr>\n",
       "      <th>0</th>\n",
       "      <td>0</td>\n",
       "      <td>0</td>\n",
       "      <td>0</td>\n",
       "      <td>0</td>\n",
       "      <td>T</td>\n",
       "      <td>Y</td>\n",
       "      <td>Green</td>\n",
       "      <td>Triangle</td>\n",
       "      <td>Snake</td>\n",
       "      <td>Finland</td>\n",
       "      <td>...</td>\n",
       "      <td>2f4cb3d51</td>\n",
       "      <td>2</td>\n",
       "      <td>Grandmaster</td>\n",
       "      <td>Cold</td>\n",
       "      <td>h</td>\n",
       "      <td>D</td>\n",
       "      <td>kr</td>\n",
       "      <td>2</td>\n",
       "      <td>2</td>\n",
       "      <td>0</td>\n",
       "    </tr>\n",
       "    <tr>\n",
       "      <th>1</th>\n",
       "      <td>1</td>\n",
       "      <td>0</td>\n",
       "      <td>1</td>\n",
       "      <td>0</td>\n",
       "      <td>T</td>\n",
       "      <td>Y</td>\n",
       "      <td>Green</td>\n",
       "      <td>Trapezoid</td>\n",
       "      <td>Hamster</td>\n",
       "      <td>Russia</td>\n",
       "      <td>...</td>\n",
       "      <td>f83c56c21</td>\n",
       "      <td>1</td>\n",
       "      <td>Grandmaster</td>\n",
       "      <td>Hot</td>\n",
       "      <td>a</td>\n",
       "      <td>A</td>\n",
       "      <td>bF</td>\n",
       "      <td>7</td>\n",
       "      <td>8</td>\n",
       "      <td>0</td>\n",
       "    </tr>\n",
       "    <tr>\n",
       "      <th>2</th>\n",
       "      <td>2</td>\n",
       "      <td>0</td>\n",
       "      <td>0</td>\n",
       "      <td>0</td>\n",
       "      <td>F</td>\n",
       "      <td>Y</td>\n",
       "      <td>Blue</td>\n",
       "      <td>Trapezoid</td>\n",
       "      <td>Lion</td>\n",
       "      <td>Russia</td>\n",
       "      <td>...</td>\n",
       "      <td>ae6800dd0</td>\n",
       "      <td>1</td>\n",
       "      <td>Expert</td>\n",
       "      <td>Lava Hot</td>\n",
       "      <td>h</td>\n",
       "      <td>R</td>\n",
       "      <td>Jc</td>\n",
       "      <td>7</td>\n",
       "      <td>2</td>\n",
       "      <td>0</td>\n",
       "    </tr>\n",
       "    <tr>\n",
       "      <th>3</th>\n",
       "      <td>3</td>\n",
       "      <td>0</td>\n",
       "      <td>1</td>\n",
       "      <td>0</td>\n",
       "      <td>F</td>\n",
       "      <td>Y</td>\n",
       "      <td>Red</td>\n",
       "      <td>Trapezoid</td>\n",
       "      <td>Snake</td>\n",
       "      <td>Canada</td>\n",
       "      <td>...</td>\n",
       "      <td>8270f0d71</td>\n",
       "      <td>1</td>\n",
       "      <td>Grandmaster</td>\n",
       "      <td>Boiling Hot</td>\n",
       "      <td>i</td>\n",
       "      <td>D</td>\n",
       "      <td>kW</td>\n",
       "      <td>2</td>\n",
       "      <td>1</td>\n",
       "      <td>1</td>\n",
       "    </tr>\n",
       "    <tr>\n",
       "      <th>4</th>\n",
       "      <td>4</td>\n",
       "      <td>0</td>\n",
       "      <td>0</td>\n",
       "      <td>0</td>\n",
       "      <td>F</td>\n",
       "      <td>N</td>\n",
       "      <td>Red</td>\n",
       "      <td>Trapezoid</td>\n",
       "      <td>Lion</td>\n",
       "      <td>Canada</td>\n",
       "      <td>...</td>\n",
       "      <td>b164b72a7</td>\n",
       "      <td>1</td>\n",
       "      <td>Grandmaster</td>\n",
       "      <td>Freezing</td>\n",
       "      <td>a</td>\n",
       "      <td>R</td>\n",
       "      <td>qP</td>\n",
       "      <td>7</td>\n",
       "      <td>8</td>\n",
       "      <td>0</td>\n",
       "    </tr>\n",
       "  </tbody>\n",
       "</table>\n",
       "<p>5 rows × 25 columns</p>\n",
       "</div>"
      ],
      "text/plain": [
       "   id  bin_0  bin_1  bin_2 bin_3 bin_4  nom_0      nom_1    nom_2    nom_3  \\\n",
       "0   0      0      0      0     T     Y  Green   Triangle    Snake  Finland   \n",
       "1   1      0      1      0     T     Y  Green  Trapezoid  Hamster   Russia   \n",
       "2   2      0      0      0     F     Y   Blue  Trapezoid     Lion   Russia   \n",
       "3   3      0      1      0     F     Y    Red  Trapezoid    Snake   Canada   \n",
       "4   4      0      0      0     F     N    Red  Trapezoid     Lion   Canada   \n",
       "\n",
       "   ...      nom_9 ord_0        ord_1        ord_2 ord_3 ord_4  ord_5 day  \\\n",
       "0  ...  2f4cb3d51     2  Grandmaster         Cold     h     D     kr   2   \n",
       "1  ...  f83c56c21     1  Grandmaster          Hot     a     A     bF   7   \n",
       "2  ...  ae6800dd0     1       Expert     Lava Hot     h     R     Jc   7   \n",
       "3  ...  8270f0d71     1  Grandmaster  Boiling Hot     i     D     kW   2   \n",
       "4  ...  b164b72a7     1  Grandmaster     Freezing     a     R     qP   7   \n",
       "\n",
       "  month target  \n",
       "0     2      0  \n",
       "1     8      0  \n",
       "2     2      0  \n",
       "3     1      1  \n",
       "4     8      0  \n",
       "\n",
       "[5 rows x 25 columns]"
      ]
     },
     "execution_count": 6,
     "metadata": {},
     "output_type": "execute_result"
    }
   ],
   "source": [
    "data.head()"
   ]
  },
  {
   "cell_type": "code",
   "execution_count": 8,
   "id": "54c48606-2507-4f0f-9301-9f76151faaa9",
   "metadata": {},
   "outputs": [
    {
     "data": {
      "text/plain": [
       "array(['Finland', 'Russia', 'Canada', 'Costa Rica', 'China', 'India'],\n",
       "      dtype=object)"
      ]
     },
     "execution_count": 8,
     "metadata": {},
     "output_type": "execute_result"
    }
   ],
   "source": [
    "data['nom_3'].unique()"
   ]
  },
  {
   "cell_type": "code",
   "execution_count": 11,
   "id": "623e40c4-5f7c-4aba-a7b1-4b710f58e7d9",
   "metadata": {},
   "outputs": [
    {
     "data": {
      "image/png": "[encoded data removed]",
      "text/plain": [
       "<Figure size 720x360 with 1 Axes>"
      ]
     },
     "metadata": {
      "needs_background": "light"
     },
     "output_type": "display_data"
    }
   ],
   "source": [
    "# 1. 범주형을 위한 countplot으로 시작화\n",
    "plt.figure(figsize=(10, 5))\n",
    "ax = sns.countplot(x='nom_3', data=data)\n",
    "plt.show()"
   ]
  },
  {
   "cell_type": "code",
   "execution_count": 13,
   "id": "139558eb-f506-4234-93ca-90f219a70f3a",
   "metadata": {},
   "outputs": [
    {
     "data": {
      "text/plain": [
       "(36942, 0.8, -0.4)"
      ]
     },
     "execution_count": 13,
     "metadata": {},
     "output_type": "execute_result"
    }
   ],
   "source": [
    "patch=ax.patches[0]\n",
    "patch.get_height(), patch.get_width(), patch.get_x()\n",
    "# y 값, 폭, x의 왼쪽 하단 끝 지점\n",
    "# 이 값은 글자를 쓸 위치를 결정하는데 사용된다."
   ]
  },
  {
   "cell_type": "code",
   "execution_count": 16,
   "id": "0c723343-ce88-4870-b561-bd291b2cb31e",
   "metadata": {},
   "outputs": [
    {
     "data": {
      "image/png": "[encoded data removed]",
      "text/plain": [
       "<Figure size 720x360 with 1 Axes>"
      ]
     },
     "metadata": {
      "needs_background": "light"
     },
     "output_type": "display_data"
    }
   ],
   "source": [
    "plt.figure(figsize=(10, 5))\n",
    "ax = sns.countplot(x='nom_3', data=data)\n",
    "\n",
    "for patch in ax.patches:\n",
    "    ax.text(x = patch.get_x() + patch.get_width()/2, # 박스 하단 위치와, 폭의 절반을 더해 박스 가운데 위치를 구함\n",
    "            y = patch.get_height() + len(data) * 0.005, # 박스의 높이를 더하고 데이터 전체에서 0.001 만큼 높이 간격을 준다.\n",
    "            s = f'{(patch.get_height()/len(data))*100: 1.1f}%', # 전체 데이터에서 현제 데이터 비율을 백분율로 나타내고 소수 첫째 자리만 보여준다.\n",
    "            ha = 'center'# 위에서 구한 x, y 좌표를 중심으로 오게 한다\n",
    "           )\n",
    "            \n",
    "plt.rc('font', size=11) # 폰트 사이즈 설정\n",
    "plt.show()"
   ]
  },
  {
   "cell_type": "code",
   "execution_count": null,
   "id": "7862efe6-d0eb-41c4-b598-32c0cd1d2390",
   "metadata": {},
   "outputs": [],
   "source": []
  }
 ],
 "metadata": {
  "kernelspec": {
   "display_name": "Python 3 (ipykernel)",
   "language": "python",
   "name": "python3"
  },
  "language_info": {
   "codemirror_mode": {
    "name": "ipython",
    "version": 3
   },
   "file_extension": ".py",
   "mimetype": "text/x-python",
   "name": "python",
   "nbconvert_exporter": "python",
   "pygments_lexer": "ipython3",
   "version": "3.9.12"
  }
 },
 "nbformat": 4,
 "nbformat_minor": 5
}

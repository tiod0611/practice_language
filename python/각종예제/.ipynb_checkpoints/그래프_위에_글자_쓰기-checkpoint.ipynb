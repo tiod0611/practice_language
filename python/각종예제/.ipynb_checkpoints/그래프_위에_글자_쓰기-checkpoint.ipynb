{
 "cells": [
  {
   "cell_type": "markdown",
   "id": "6682483a-6c7b-42c0-9f3c-df274d9597b9",
   "metadata": {},
   "source": [
    " 이 노트북은 [블로그](https://suy379.tistory.com/148)를 필사한 것입니다.   \n",
    "공부 이외의 목적은 없습니다.\n",
    "\n"
   ]
  },
  {
   "cell_type": "code",
   "execution_count": null,
   "id": "9b56bd9e-663d-4633-b8e5-de84a3b3f08f",
   "metadata": {},
   "outputs": [],
   "source": []
  }
 ],
 "metadata": {
  "kernelspec": {
   "display_name": "Python 3 (ipykernel)",
   "language": "python",
   "name": "python3"
  },
  "language_info": {
   "codemirror_mode": {
    "name": "ipython",
    "version": 3
   },
   "file_extension": ".py",
   "mimetype": "text/x-python",
   "name": "python",
   "nbconvert_exporter": "python",
   "pygments_lexer": "ipython3",
   "version": "3.9.12"
  }
 },
 "nbformat": 4,
 "nbformat_minor": 5
}

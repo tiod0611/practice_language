


import numpy as np


A = np.array(
    [
        [0,0,0,1,0,1,1,0,0],
        [0,0,0,1,1,0,1,0,0],
        [0,1,1,0,2,0,0,0,0],
        [1,0,0,0,0,0,0,1,1]
    ]
)
print('DTM의 크기(shape) :', np.shape(A))





# 특이값 분해
U, s, VT = np.linalg.svd(A, full_matrices=True)
print('행렬 U :')
print(U.round(2))
print('행렬 U의 크기(shape) :',np.shape(U))


print('특이값 벡터 :')
print(S.round(2))
print('특이값 벡터의 크기(shape) :',np.shape(s))





# 대각 행렬의 크기인 4 x 9의 임의의 행렬 생성
S = np.zeros((4, 9))

# 특이값을 대각행렬에 삽입
S[:4, :4] = np.diag(s) # diagonal 대각행렬을 만드는 함수

print('대각 행렬 S :')
print(S.round(2))

print('대각 행렬의 크기(shape) :')
print(np.shape(S))


np.diag(s) # 대각행렬의 값은 내림차순되어있


print('직교행렬 VT :')
print(VT.round(2))

print('직교 행렬 VT의 크기(shape) :')
print(np.shape(VT))





np.allclose(A, np.dot(np.dot(U,S), VT).round(2))




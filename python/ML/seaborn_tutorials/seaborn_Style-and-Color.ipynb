{
 "cells": [
  {
   "cell_type": "markdown",
   "id": "5210c70f-90e3-4f4e-9d77-8eafc5f2b2c4",
   "metadata": {},
   "source": [
    "[References](https://www.geeksforgeeks.org/seaborn-style-and-color/)"
   ]
  },
  {
   "cell_type": "code",
   "execution_count": null,
   "id": "9cc7aa42-2fa6-4c24-96d2-1e8401da3b92",
   "metadata": {},
   "outputs": [],
   "source": []
  }
 ],
 "metadata": {
  "kernelspec": {
   "display_name": "Python 3 (ipykernel)",
   "language": "python",
   "name": "python3"
  },
  "language_info": {
   "codemirror_mode": {
    "name": "ipython",
    "version": 3
   },
   "file_extension": ".py",
   "mimetype": "text/x-python",
   "name": "python",
   "nbconvert_exporter": "python",
   "pygments_lexer": "ipython3",
   "version": "3.9.13"
  }
 },
 "nbformat": 4,
 "nbformat_minor": 5
}

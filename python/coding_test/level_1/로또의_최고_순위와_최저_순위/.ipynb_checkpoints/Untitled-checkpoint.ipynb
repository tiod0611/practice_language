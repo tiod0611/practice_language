{
 "cells": [
  {
   "cell_type": "markdown",
   "id": "5ff6a3f1-4d0e-4d64-812c-0230c1a086e0",
   "metadata": {},
   "source": [
    "# 로또의 최고 순위와 최저 순위\n",
    "\n",
    "\n",
    "https://programmers.co.kr/learn/courses/30/lessons/77484?language=python3"
   ]
  },
  {
   "cell_type": "code",
   "execution_count": 1,
   "id": "d3c9dc4f-2068-4940-b3f5-75748d28aac3",
   "metadata": {},
   "outputs": [],
   "source": [
    "# 최초 해답\n",
    "\n",
    "def solution(lottos, win_nums):\n",
    "    \n",
    "    answer = []\n",
    "    zeros = 0\n",
    "    correct = 0\n",
    "    \n",
    "    for num in lottos:\n",
    "        if num in win_nums:\n",
    "            correct += 1\n",
    "        if num == 0:\n",
    "            zeros += 1\n",
    "            \n",
    "    best = 1 if (correct + zeros) == 0 else correct + zeros\n",
    "    worst = 1 if correct == 0 else correct\n",
    "    \n",
    "    answer = [7-best, 7-worst]\n",
    "    \n",
    "    return answer"
   ]
  },
  {
   "cell_type": "code",
   "execution_count": 2,
   "id": "60f956f7-0aa9-4031-97f7-87c525b14bc8",
   "metadata": {},
   "outputs": [],
   "source": [
    "# 개선된 해답\n",
    "\n",
    "def solution(lottos, win_nums):\n",
    "    \n",
    "    answer = []\n",
    "    correct = 0\n",
    "    rank = [6,6,5,4,3,2,1]\n",
    "    zeros = lottos.count(0)\n",
    "    \n",
    "    for num in lottos:\n",
    "        if num in win_nums:\n",
    "            correct += 1\n",
    "            \n",
    "    answer = [rank[correct+zeros], rank[correct]]\n",
    "    \n",
    "    return answer"
   ]
  },
  {
   "cell_type": "code",
   "execution_count": 3,
   "id": "08c04317-927d-4c73-ab9f-b01a2b9908f8",
   "metadata": {},
   "outputs": [
    {
     "data": {
      "text/plain": [
       "[1, 1]"
      ]
     },
     "execution_count": 3,
     "metadata": {},
     "output_type": "execute_result"
    }
   ],
   "source": [
    "solution([45, 4, 35, 20, 3, 9], [20, 9, 3, 45, 4, 35])"
   ]
  },
  {
   "cell_type": "code",
   "execution_count": null,
   "id": "8b0be143-9be7-41a4-8ae1-a82f5e36577b",
   "metadata": {},
   "outputs": [],
   "source": []
  }
 ],
 "metadata": {
  "kernelspec": {
   "display_name": "Python 3",
   "language": "python",
   "name": "python3"
  },
  "language_info": {
   "codemirror_mode": {
    "name": "ipython",
    "version": 3
   },
   "file_extension": ".py",
   "mimetype": "text/x-python",
   "name": "python",
   "nbconvert_exporter": "python",
   "pygments_lexer": "ipython3",
   "version": "3.8.8"
  }
 },
 "nbformat": 4,
 "nbformat_minor": 5
}

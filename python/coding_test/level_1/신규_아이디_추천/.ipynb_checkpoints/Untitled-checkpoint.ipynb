{
 "cells": [
  {
   "cell_type": "code",
   "execution_count": 9,
   "metadata": {},
   "outputs": [],
   "source": [
    "import re\n",
    "\n",
    "def solution(new_id):\n",
    "\n",
    "    new_id = new_id.lower()\n",
    "    new_id = re.sub('[^a-z0-9-_.]+', '', new_id)\n",
    "    new_id = re.sub('\\.{2,}', '.', new_id)\n",
    "    new_id = new_id.strip('.')\n",
    "    if len(new_id) == 0: \n",
    "        new_id = 'a'\n",
    "    if len(new_id) > 15:\n",
    "        new_id = new_id[:15]\n",
    "        new_id = new_id.rstrip('.')\n",
    "    while len(new_id) < 3:\n",
    "        new_id += new_id[-1]\n",
    "\n",
    "    answer = new_id\n",
    "    return answer"
   ]
  }
 ],
 "metadata": {
  "kernelspec": {
   "display_name": "tf2",
   "language": "python",
   "name": "tf2"
  },
  "language_info": {
   "codemirror_mode": {
    "name": "ipython",
    "version": 3
   },
   "file_extension": ".py",
   "mimetype": "text/x-python",
   "name": "python",
   "nbconvert_exporter": "python",
   "pygments_lexer": "ipython3",
   "version": "3.8.0"
  }
 },
 "nbformat": 4,
 "nbformat_minor": 4
}

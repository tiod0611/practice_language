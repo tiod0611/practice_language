{
 "cells": [
  {
   "cell_type": "code",
   "execution_count": 17,
   "id": "c69b32fd-c722-4d36-8225-26fb322c172c",
   "metadata": {},
   "outputs": [],
   "source": [
    "import re\n",
    "\n",
    "def solution(s):\n",
    "    \n",
    "    s = s.lower()\n",
    "    num_dict = {'0': 'zero', \n",
    "                '1': 'one', \n",
    "                '2':'two', \n",
    "                '3':'three',\n",
    "                '4': 'four',\n",
    "                '5': 'five', \n",
    "                '6': 'six',\n",
    "                '7': 'seven',\n",
    "                '8': 'eight',\n",
    "                '9': 'nine',   \n",
    "               }\n",
    "    for key, value in num_dict.items():\n",
    "        pattern = key\n",
    "        trans = s.maketrans('','', pattern)\n",
    "        s = re.sub(value, key, s)\n",
    "    \n",
    "    answer = int(s)\n",
    "    return answer\n"
   ]
  },
  {
   "cell_type": "code",
   "execution_count": 18,
   "id": "510ddd61-2494-4283-9d28-4f7c663abb26",
   "metadata": {},
   "outputs": [
    {
     "data": {
      "text/plain": [
       "234567"
      ]
     },
     "execution_count": 18,
     "metadata": {},
     "output_type": "execute_result"
    }
   ],
   "source": [
    "solution(\"2three45sixseven\")"
   ]
  },
  {
   "cell_type": "code",
   "execution_count": null,
   "id": "0560ede2-53a0-457f-82df-22314c39b0c9",
   "metadata": {},
   "outputs": [],
   "source": []
  }
 ],
 "metadata": {
  "kernelspec": {
   "display_name": "Python 3",
   "language": "python",
   "name": "python3"
  },
  "language_info": {
   "codemirror_mode": {
    "name": "ipython",
    "version": 3
   },
   "file_extension": ".py",
   "mimetype": "text/x-python",
   "name": "python",
   "nbconvert_exporter": "python",
   "pygments_lexer": "ipython3",
   "version": "3.8.8"
  }
 },
 "nbformat": 4,
 "nbformat_minor": 5
}

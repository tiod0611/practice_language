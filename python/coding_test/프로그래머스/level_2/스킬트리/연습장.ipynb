{
 "cells": [
  {
   "cell_type": "code",
   "execution_count": 2,
   "metadata": {},
   "outputs": [],
   "source": [
    "skills = \"CBD\"\n",
    "skill_trees = [\"BACDE\", \"CBADF\", \"AECB\", \"BDA\"]"
   ]
  },
  {
   "cell_type": "code",
   "execution_count": 10,
   "metadata": {},
   "outputs": [
    {
     "name": "stdout",
     "output_type": "stream",
     "text": [
      "==\n",
      "BCD\n",
      "CBD\n",
      "==\n",
      "CBD\n",
      "CBD\n",
      "==\n",
      "CB\n",
      "CB\n",
      "==\n",
      "BD\n",
      "CB\n",
      "2\n"
     ]
    }
   ],
   "source": [
    "valid_num = len(skill_trees)\n",
    "\n",
    "for i in skill_trees:\n",
    "    rest = [x for x in i if x in skills]\n",
    "    rest = ''.join(rest)\n",
    "    skill = skills[:len(rest)]\n",
    "    print(\"==\")\n",
    "    print(rest)\n",
    "    print(skill)\n",
    "    if skill != rest:\n",
    "        valid_num -= 1\n",
    "\n",
    "print(valid_num)\n",
    "    "
   ]
  },
  {
   "cell_type": "code",
   "execution_count": null,
   "metadata": {},
   "outputs": [],
   "source": []
  }
 ],
 "metadata": {
  "kernelspec": {
   "display_name": "tf2",
   "language": "python",
   "name": "tf2"
  },
  "language_info": {
   "codemirror_mode": {
    "name": "ipython",
    "version": 3
   },
   "file_extension": ".py",
   "mimetype": "text/x-python",
   "name": "python",
   "nbconvert_exporter": "python",
   "pygments_lexer": "ipython3",
   "version": "3.8.0"
  }
 },
 "nbformat": 4,
 "nbformat_minor": 4
}

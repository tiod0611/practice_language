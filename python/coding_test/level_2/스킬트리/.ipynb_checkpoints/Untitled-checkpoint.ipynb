{
 "cells": [
  {
   "cell_type": "code",
   "execution_count": 2,
   "metadata": {},
   "outputs": [],
   "source": [
    "skills = \"CBD\"\n",
    "skill_trees = [\"BACDE\", \"CBADF\", \"AECB\", \"BDA\"]"
   ]
  },
  {
   "cell_type": "code",
   "execution_count": 9,
   "metadata": {},
   "outputs": [
    {
     "ename": "IndentationError",
     "evalue": "expected an indented block (<ipython-input-9-97898280f1ac>, line 7)",
     "output_type": "error",
     "traceback": [
      "\u001b[1;36m  File \u001b[1;32m\"<ipython-input-9-97898280f1ac>\"\u001b[1;36m, line \u001b[1;32m7\u001b[0m\n\u001b[1;33m    e_n = sequence[i]\u001b[0m\n\u001b[1;37m      ^\u001b[0m\n\u001b[1;31mIndentationError\u001b[0m\u001b[1;31m:\u001b[0m expected an indented block\n"
     ]
    }
   ],
   "source": [
    "def check_minus(sequence):\n",
    "    \n",
    "    for i in range(1, len(sequence)):\n",
    "        # 1) 음수 뒤에 자연수가 나오면 탈락\n",
    "        # 2) 자연수가 순차적으로 증가하지 않으면 탈락\n",
    "\n",
    "        e_n = sequence[i]\n",
    "        e_n_1 = sequence[i-1]\n",
    "\n",
    "        # check_1 음수와 자연수 순서 판별\n",
    "        if e_n_1 == -1 and e_n > 0:\n",
    "            valid_num -= 1\n",
    "\n",
    "            print(item, skills, skill)\n",
    "\n",
    "            return False\n",
    "    return True"
   ]
  },
  {
   "cell_type": "code",
   "execution_count": 10,
   "metadata": {},
   "outputs": [],
   "source": [
    "def solution(skill, skill_trees):\n",
    "\n",
    "    skills = skill\n",
    "    skill_trees\n",
    "\n",
    "    valid_num = len(skill_trees) #조합 가능한 숫자\n",
    "\n",
    "    for item in skill_trees:\n",
    "        sequence = [] # 스킬이 위치한 idx값을 담을 리스트\n",
    "\n",
    "        for skill in skills:\n",
    "            idx = item.find(skill)\n",
    "            sequence.append(idx)\n",
    "\n",
    "\n",
    "        if check_minus == False:\n",
    "            valid_num -= 1\n",
    "            break\n",
    "        \n",
    "        \n",
    "        # 음수 검사를 통과했으니 -1 모두 제거\n",
    "        sequence = [x for x in sequence if x != -1]\n",
    "\n",
    "        for i in range(1, len(sequence)):\n",
    "\n",
    "            e_n = sequence[i]\n",
    "            e_n_1 = sequence[i-1]\n",
    "\n",
    "\n",
    "            result = e_n - e_n_1 # 뒤 원소에서 바로 앞 원소의 차를 구함\n",
    "            if result < 0:\n",
    "                valid_num -= 1\n",
    "                \n",
    "                print(item, skills, skill)\n",
    "                \n",
    "                break\n",
    "\n",
    "    answer = valid_num\n",
    "    return answer"
   ]
  },
  {
   "cell_type": "code",
   "execution_count": 11,
   "metadata": {},
   "outputs": [
    {
     "ename": "NameError",
     "evalue": "name 'check_minus' is not defined",
     "output_type": "error",
     "traceback": [
      "\u001b[1;31m---------------------------------------------------------------------------\u001b[0m",
      "\u001b[1;31mNameError\u001b[0m                                 Traceback (most recent call last)",
      "\u001b[1;32m<ipython-input-11-e6821f400e7a>\u001b[0m in \u001b[0;36m<module>\u001b[1;34m\u001b[0m\n\u001b[1;32m----> 1\u001b[1;33m \u001b[0mprint\u001b[0m\u001b[1;33m(\u001b[0m\u001b[0msolution\u001b[0m\u001b[1;33m(\u001b[0m\u001b[0mskills\u001b[0m\u001b[1;33m,\u001b[0m \u001b[0mskill_trees\u001b[0m\u001b[1;33m)\u001b[0m\u001b[1;33m)\u001b[0m\u001b[1;33m\u001b[0m\u001b[1;33m\u001b[0m\u001b[0m\n\u001b[0m",
      "\u001b[1;32m<ipython-input-10-5f3f002324ea>\u001b[0m in \u001b[0;36msolution\u001b[1;34m(skill, skill_trees)\u001b[0m\n\u001b[0;32m     14\u001b[0m \u001b[1;33m\u001b[0m\u001b[0m\n\u001b[0;32m     15\u001b[0m \u001b[1;33m\u001b[0m\u001b[0m\n\u001b[1;32m---> 16\u001b[1;33m         \u001b[1;32mif\u001b[0m \u001b[0mcheck_minus\u001b[0m \u001b[1;33m==\u001b[0m \u001b[1;32mFalse\u001b[0m\u001b[1;33m:\u001b[0m\u001b[1;33m\u001b[0m\u001b[1;33m\u001b[0m\u001b[0m\n\u001b[0m\u001b[0;32m     17\u001b[0m             \u001b[0mvalid_num\u001b[0m \u001b[1;33m-=\u001b[0m \u001b[1;36m1\u001b[0m\u001b[1;33m\u001b[0m\u001b[1;33m\u001b[0m\u001b[0m\n\u001b[0;32m     18\u001b[0m             \u001b[1;32mbreak\u001b[0m\u001b[1;33m\u001b[0m\u001b[1;33m\u001b[0m\u001b[0m\n",
      "\u001b[1;31mNameError\u001b[0m: name 'check_minus' is not defined"
     ]
    }
   ],
   "source": [
    "print(solution(skills, skill_trees))"
   ]
  },
  {
   "cell_type": "code",
   "execution_count": null,
   "metadata": {},
   "outputs": [],
   "source": []
  }
 ],
 "metadata": {
  "kernelspec": {
   "display_name": "Python 3",
   "language": "python",
   "name": "python3"
  },
  "language_info": {
   "codemirror_mode": {
    "name": "ipython",
    "version": 3
   },
   "file_extension": ".py",
   "mimetype": "text/x-python",
   "name": "python",
   "nbconvert_exporter": "python",
   "pygments_lexer": "ipython3",
   "version": "3.7.3"
  }
 },
 "nbformat": 4,
 "nbformat_minor": 4
}

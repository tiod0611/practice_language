{
 "cells": [
  {
   "cell_type": "markdown",
   "metadata": {},
   "source": [
    "# 주제 : 고객 세분화를 통한 혁신적 기업성장 솔루션 \n",
    "## 데이터 분석 목표 설정 및 개요\n",
    "1. 데이터 분석 목표\n",
    "   +    1. 고객 세분화를 통해 차년도 매출향상 전략 탐색\n",
    "   +    2. 성장 기반이 되는 잠재 요소 탐색\n",
    "2. 개요\n",
    "   + RFM 지표를 활용하여 K-Means Clustering을 진행하고 5가지 세그먼트로 고객을 분류한다.\n",
    "   + 분류된 세그먼트를 다른 데이터와 비교하여 기업 성장에 필요한 요소를 탐색한다.\n",
    "   + 분석을 바탕으로 기업성장 솔루션을 제시한다."
   ]
  },
  {
   "cell_type": "markdown",
   "metadata": {},
   "source": [
    "## \\<목차\\>\n",
    "1. 세팅\n",
    "   1. 필요 라이브러리 import\n",
    "   2. 데이터 로드\n",
    "2. EDA\n",
    "   1. 데이터 기본 정보 확인(type, shape, null counts, uniques, etc..)\n",
    "   2. 분석 데이터 통합을 위한 전처리\n",
    "3. 데이터 분석(시각화)\n",
    "   + 월별 매출/거래량 추이 분석\n",
    "   + 월별 마케팅비용 추이 분석\n",
    "   + 마케팅 비용과 매출과의 선형관계 분석\n",
    "   + 가입기간과 매출 관계 분석\n",
    "   + 가입연도별 신규고객동향 파악\n",
    "   + 지역별 매출/거래량 분석\n",
    "   + 제품카테고리별 매출/거래량 분석\n",
    "4. 코호트 분석\n",
    "   + 월별 코호트 분석\n",
    "   + 잔존 빈도 분석\n",
    "   + 잔존율 분석\n",
    "   + 월별 매출액 리텐션 분석\n",
    "5. RFM과 K-Means를 활용한 고객 세그먼트 정의    \n",
    "   + RFM 계산\n",
    "   + RFM 3D 그래프\n",
    "   + 이상치를 제거한 고객의 RFM 3차원 그래프\n",
    "   + RFM 값을 변수로 하는 K-Means 클러스터링 수행\n",
    "   + QQ-Plot을 통한 정규성 검정\n",
    "   + K-Means 하이퍼파라미터 K(엘보우, 실루엣) 서칭 & 클러스터링 \n",
    "   + 클러스터링된 데이터의 RFM 3차원 그래프 분석  \n",
    "   \n",
    "6. 클러스터링된 데이터 분석\n",
    "   + RFM 분석\n",
    "   + 월 거래량 & 매출 분석\n",
    "   + 고객군별 제품 카테고리 분석\n",
    "   + 월별 제품 카테고리 분석\n",
    "   + ARPU 분석\n",
    "   + 고객군별 지역 분석\n",
    "   + 고객군별 성별 분석\n",
    "   + Q. 마케팅비용이 고객군별 매출/거래량에 어떤 영향을 끼칠까?\n",
    "   + 쿠폰 분석\n",
    "7. 결론"
   ]
  },
  {
   "cell_type": "markdown",
   "metadata": {},
   "source": [
    "# 코드 시작"
   ]
  },
  {
   "cell_type": "markdown",
   "metadata": {},
   "source": [
    "## 1. 기초 세팅\n",
    "### 1-1. 필요 라이브러리 import"
   ]
  },
  {
   "cell_type": "code",
   "execution_count": null,
   "metadata": {},
   "outputs": [],
   "source": [
    "import pandas as pd\n",
    "import numpy as np\n",
    "\n",
    "pd.set_option('display.max_rows', 120)\n",
    "pd.set_option('display.max_columns', 40)\n",
    "pd.set_option('display.max_colwidth', 100)\n",
    "\n",
    "import seaborn as sns\n",
    "import matplotlib.pyplot as plt\n",
    "import matplotlib.cm as cm # color map\n",
    "\n",
    "plt.style.use('ggplot')\n",
    "plt.rcParams['font.family'] = 'Malgun Gothic'\n",
    "plt.rcParams['axes.unicode_minus'] = False\n",
    "\n",
    "import datetime\n",
    "from datetime import datetime\n",
    "import calendar\n",
    "\n",
    "from scipy import stats\n",
    "from scipy.stats import skew, norm, probplot, boxcox, kurtosis\n",
    "\n",
    "from sklearn.preprocessing import StandardScaler\n",
    "from sklearn.cluster import KMeans\n",
    "from sklearn.metrics import silhouette_score, silhouette_score\n",
    "\n",
    "import math\n"
   ]
  },
  {
   "cell_type": "markdown",
   "metadata": {},
   "source": [
    "### 1-2. 데이터 로드\n",
    "+ Onlinesales_info: 2019년도 한해 동안 발생한 온라인 거래와 관련된 정보보\n",
    "+ Customer_info: 고객 관련 정보\n",
    "+ Discount_info: 할인 관련 정보\n",
    "+ Marketing_info: 마케팅 비용 관련 정보\n",
    "+ Tax_info: 세금 관련 정보보"
   ]
  },
  {
   "cell_type": "code",
   "execution_count": null,
   "metadata": {},
   "outputs": [],
   "source": [
    "online_sales = pd.read_csv('data/Onlinesales_info.csv')\n",
    "discount_coupon = pd.read_csv('data/Discount_info.csv')\n",
    "customer_data = pd.read_csv('data/customer_info.csv')\n",
    "marketing_spend = pd.read_csv('data/marketing_info.csv')\n",
    "tax_amount = pd.read_csv('data/Tax_info.csv')"
   ]
  },
  {
   "cell_type": "markdown",
   "metadata": {},
   "source": [
    "## 2. EDA\n",
    "### 2-1. 데이터 기본 정보 확인"
   ]
  },
  {
   "cell_type": "markdown",
   "metadata": {},
   "source": [
    "+ 타입 확인\n",
    "+ 갯수 확인\n",
    "+ 중복값 확인\n",
    "+ 결측치 확인\n",
    "+ 결측치 비율 확인\n",
    "+ 고유값 확인\n"
   ]
  },
  {
   "cell_type": "markdown",
   "metadata": {},
   "source": [
    "### 2-2. 데이터 통합을 위한 전처리"
   ]
  },
  {
   "cell_type": "code",
   "execution_count": null,
   "metadata": {},
   "outputs": [],
   "source": [
    "def str_summary(df, pred=None):\n",
    "    obs = df.shape[0]\n",
    "    types = df.dtypes\n",
    "    counts = df.apply(lambda x: x.count())\n",
    "    uniques = df.apply(lambda x: [x.unique()]).T.squeeze() # 각 feature의 고유값을 시리즈 타입으로 반환\n",
    "    nulls = df.apply(lambda x: x.isnull().sum())\n",
    "    distincts = df.apply(lambda x: x.unique().shape[0]) # 각 feature의 고유값 개수\n",
    "    missing_ratio = (df.isnull().sum() / obs) * 100\n",
    "    \n",
    "    print(\"Data shape: \", df.shape)\n",
    "\n",
    "    cols = ['Types', 'Counts', 'Distincts', 'Nulls', 'Missing_ratio', 'Uniques']\n",
    "    structure = pd.concat([types, counts, distincts, nulls, missing_ratio, uniques], axis=1, sort=True)\n",
    "\n",
    "    structure.columns = cols\n",
    "\n",
    "    print(\"================================================\")\n",
    "    print(\"Data types: \")\n",
    "    print(structure['Types'].value_counts())\n",
    "    print(\"================================================\")\n",
    "    print(\"\\n\\n\")\n",
    "\n",
    "    return structure"
   ]
  },
  {
   "cell_type": "code",
   "execution_count": null,
   "metadata": {},
   "outputs": [],
   "source": [
    "data_summary_1 = str_summary(online_sales)\n",
    "data_summary_2 = str_summary(discount_coupon)\n",
    "data_summary_3 = str_summary(customer_data)\n",
    "data_summary_4 = str_summary(marketing_spend)\n",
    "data_summary_5 = str_summary(tax_amount)"
   ]
  },
  {
   "cell_type": "code",
   "execution_count": null,
   "metadata": {},
   "outputs": [],
   "source": [
    "display(data_summary_1)\n",
    "display(data_summary_2)\n",
    "display(data_summary_3)\n",
    "display(data_summary_4)\n",
    "display(data_summary_5)"
   ]
  },
  {
   "cell_type": "markdown",
   "metadata": {},
   "source": [
    "5개 데이터셋 모두 결측치는 없다."
   ]
  },
  {
   "cell_type": "markdown",
   "metadata": {},
   "source": [
    "\n",
    "## 3. 데이터 분석 (시각화)\n",
    "### 3-1. 월별 매출/거래량 추이 분석"
   ]
  },
  {
   "cell_type": "markdown",
   "metadata": {},
   "source": []
  },
  {
   "cell_type": "markdown",
   "metadata": {},
   "source": [
    "### 3-2. 월별 마케팅 비용 추이 분석"
   ]
  },
  {
   "cell_type": "markdown",
   "metadata": {},
   "source": []
  },
  {
   "cell_type": "markdown",
   "metadata": {},
   "source": [
    "### 3-3. 마케팅비용과 매출과의 선형관계 분석"
   ]
  },
  {
   "cell_type": "markdown",
   "metadata": {},
   "source": []
  },
  {
   "cell_type": "markdown",
   "metadata": {},
   "source": [
    "### 3-4. 가입기간과 매출과의 관계"
   ]
  },
  {
   "cell_type": "markdown",
   "metadata": {},
   "source": []
  },
  {
   "cell_type": "markdown",
   "metadata": {},
   "source": [
    "### 3-5. 가입연도별 신규고객동향 파악"
   ]
  },
  {
   "cell_type": "markdown",
   "metadata": {},
   "source": []
  },
  {
   "cell_type": "markdown",
   "metadata": {},
   "source": [
    "### 3-6. 지역별 매출/거래량 분석"
   ]
  },
  {
   "cell_type": "markdown",
   "metadata": {},
   "source": []
  },
  {
   "cell_type": "markdown",
   "metadata": {},
   "source": [
    "### 3-7. 제품카테고리별 매출/거래량 분석"
   ]
  },
  {
   "cell_type": "markdown",
   "metadata": {},
   "source": []
  },
  {
   "cell_type": "markdown",
   "metadata": {},
   "source": [
    "## 4. 코호트 분석"
   ]
  },
  {
   "cell_type": "markdown",
   "metadata": {},
   "source": []
  },
  {
   "cell_type": "markdown",
   "metadata": {},
   "source": [
    "### 4-1. 월별 코호트 분석"
   ]
  },
  {
   "cell_type": "markdown",
   "metadata": {},
   "source": []
  },
  {
   "cell_type": "markdown",
   "metadata": {},
   "source": [
    "### 4-2 잔존 빈도 구하기"
   ]
  },
  {
   "cell_type": "markdown",
   "metadata": {},
   "source": []
  },
  {
   "cell_type": "markdown",
   "metadata": {},
   "source": [
    "### 4-3. 잔존율 분석 "
   ]
  },
  {
   "cell_type": "markdown",
   "metadata": {},
   "source": []
  },
  {
   "cell_type": "markdown",
   "metadata": {},
   "source": [
    "### 4-4. 월별 매출액 리텐션 분석"
   ]
  },
  {
   "cell_type": "markdown",
   "metadata": {},
   "source": []
  },
  {
   "cell_type": "markdown",
   "metadata": {},
   "source": [
    "## 5. RFM & k-means를 활용한 고객 세그먼트 정의\n",
    "+ 데이터의 RFM값과 K-Means 알고리즘을 활용하여 고객을 세분화한다."
   ]
  },
  {
   "cell_type": "markdown",
   "metadata": {},
   "source": []
  },
  {
   "cell_type": "markdown",
   "metadata": {},
   "source": [
    "### 5-1. RFM 계산"
   ]
  },
  {
   "cell_type": "markdown",
   "metadata": {},
   "source": []
  },
  {
   "cell_type": "markdown",
   "metadata": {},
   "source": [
    "### 5-2. RFM 3D 그래프 분석"
   ]
  },
  {
   "cell_type": "markdown",
   "metadata": {},
   "source": []
  },
  {
   "cell_type": "markdown",
   "metadata": {},
   "source": [
    "### 5-3. 이상치를 제거한 고객의 RFM 3차원 그래프"
   ]
  },
  {
   "cell_type": "markdown",
   "metadata": {},
   "source": []
  },
  {
   "cell_type": "markdown",
   "metadata": {},
   "source": [
    "### 5-4. RFM 값으로 K-Means 클러스터링 수행\n",
    "+ _\n",
    "+ _ \n",
    "+ _"
   ]
  },
  {
   "cell_type": "markdown",
   "metadata": {},
   "source": [
    "### 5-5. QQ-Plot을 통한 정규성 검정"
   ]
  },
  {
   "cell_type": "markdown",
   "metadata": {},
   "source": []
  },
  {
   "cell_type": "markdown",
   "metadata": {},
   "source": [
    "### 5-6. K-Means 하이퍼파라미터 K 서칭 & 클러스터링 (엘보우, 실루엣)"
   ]
  },
  {
   "cell_type": "markdown",
   "metadata": {},
   "source": []
  },
  {
   "cell_type": "markdown",
   "metadata": {},
   "source": [
    "### 5-7 클러스터링 된 데이터의 RFM 3차원 그래프"
   ]
  },
  {
   "cell_type": "markdown",
   "metadata": {},
   "source": []
  },
  {
   "cell_type": "markdown",
   "metadata": {},
   "source": [
    "## 6. 클러스터링 된 데이터 분석\n",
    "### 6-1. RFM 분석"
   ]
  },
  {
   "cell_type": "markdown",
   "metadata": {},
   "source": []
  },
  {
   "cell_type": "markdown",
   "metadata": {},
   "source": [
    "### 6-2. 월 거래량&매출 분석"
   ]
  },
  {
   "cell_type": "markdown",
   "metadata": {},
   "source": []
  },
  {
   "cell_type": "markdown",
   "metadata": {},
   "source": [
    "### 6-3. 고객군별 제품 카테고리 분석"
   ]
  },
  {
   "cell_type": "markdown",
   "metadata": {},
   "source": []
  },
  {
   "cell_type": "markdown",
   "metadata": {},
   "source": [
    "### 6-4. 월별 제품 카테고리 분석"
   ]
  },
  {
   "cell_type": "markdown",
   "metadata": {},
   "source": []
  },
  {
   "cell_type": "markdown",
   "metadata": {},
   "source": [
    "### 6-5. ARPU (지불유저 1명당 한달에 결제하는 평균 금액)"
   ]
  },
  {
   "cell_type": "markdown",
   "metadata": {},
   "source": []
  },
  {
   "cell_type": "markdown",
   "metadata": {},
   "source": [
    "### 6-6.고객군별 지역 분석석"
   ]
  },
  {
   "cell_type": "markdown",
   "metadata": {},
   "source": []
  },
  {
   "cell_type": "markdown",
   "metadata": {},
   "source": [
    "### 6-7. 고객군별 성별 분포"
   ]
  },
  {
   "cell_type": "markdown",
   "metadata": {},
   "source": []
  },
  {
   "cell_type": "markdown",
   "metadata": {},
   "source": [
    "### 6-8. Q. 마케팅 비용이 고객군별 매출/거래량에 어떤 영향을 끼칠까?"
   ]
  },
  {
   "cell_type": "markdown",
   "metadata": {},
   "source": []
  },
  {
   "cell_type": "markdown",
   "metadata": {},
   "source": [
    "### 6-9. 쿠폰 분석"
   ]
  },
  {
   "cell_type": "markdown",
   "metadata": {},
   "source": []
  }
 ],
 "metadata": {
  "kernelspec": {
   "display_name": "Python 3",
   "language": "python",
   "name": "python3"
  },
  "language_info": {
   "name": "python",
   "version": "3.12.1"
  }
 },
 "nbformat": 4,
 "nbformat_minor": 2
}

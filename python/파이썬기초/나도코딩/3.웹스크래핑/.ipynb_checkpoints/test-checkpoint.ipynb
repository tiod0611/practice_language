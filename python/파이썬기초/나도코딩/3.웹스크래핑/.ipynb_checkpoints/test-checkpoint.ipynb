{
 "cells": [
  {
   "cell_type": "code",
   "execution_count": 1,
   "id": "8ba52ae3-2c79-43c3-bcf6-fbd275e334fe",
   "metadata": {
    "jupyter": {
     "source_hidden": true
    },
    "tags": []
   },
   "outputs": [],
   "source": [
    "from bs4 import BeautifulSoup as bs\n",
    "\n",
    "from selenium import webdriver\n",
    "import chromedriver_autoinstaller\n",
    "from user_agent import generate_user_agent\n",
    "\n",
    "import time\n",
    "import re\n",
    "import pandas as pd"
   ]
  },
  {
   "cell_type": "code",
   "execution_count": 2,
   "id": "9229b8ba-1503-4f7b-9ec4-65bd35af9a11",
   "metadata": {
    "jupyter": {
     "source_hidden": true
    },
    "tags": []
   },
   "outputs": [],
   "source": [
    "# generate user_agent\n",
    "userAgent = generate_user_agent(os='win', device_type=\"desktop\")\n",
    "headers = {\n",
    "    \"User-Agent\":userAgent,\n",
    "    \"Accept-Language\":\"ko-KR,ko;q=0.8,en-US;q=0.5,en;q=0.3\"\n",
    "    }"
   ]
  },
  {
   "cell_type": "code",
   "execution_count": 3,
   "id": "69768d33-4f2a-48ec-b6b1-cea6649745cf",
   "metadata": {
    "jupyter": {
     "source_hidden": true
    },
    "tags": []
   },
   "outputs": [],
   "source": [
    "options = webdriver.ChromeOptions()\n",
    "options.add_experimental_option('excludeSwitches', ['enable-logging'])\n",
    "# options.add_argument('--blink-settings=imagesEnabled=false') #브라우저에서 이미지 로딩을 하지 않습니다.\n",
    "options.add_argument(userAgent)"
   ]
  },
  {
   "cell_type": "code",
   "execution_count": 4,
   "id": "bf017b4b-ecd5-4537-9a6f-f1ceb08acfd8",
   "metadata": {
    "collapsed": true,
    "jupyter": {
     "outputs_hidden": true,
     "source_hidden": true
    },
    "tags": []
   },
   "outputs": [
    {
     "name": "stderr",
     "output_type": "stream",
     "text": [
      "C:\\Users\\Kyeul\\AppData\\Local\\Temp\\ipykernel_19860\\790589625.py:3: DeprecationWarning: executable_path has been deprecated, please pass in a Service object\n",
      "  driver = webdriver.Chrome(driver_path, options=options)\n"
     ]
    }
   ],
   "source": [
    "# chrome driver autoinstaller\n",
    "driver_path = chromedriver_autoinstaller.install()\n",
    "driver = webdriver.Chrome(driver_path, options=options)\n"
   ]
  },
  {
   "cell_type": "code",
   "execution_count": 5,
   "id": "39f32834-b6ee-437c-8129-ed812dec5c33",
   "metadata": {
    "jupyter": {
     "source_hidden": true
    },
    "tags": []
   },
   "outputs": [],
   "source": [
    "# url = \"https://play.google.com/store/movies\"\n",
    "# youtube로 url 변경\n",
    "url = 'https://www.youtube.com/'\n",
    "driver.get(url)\n",
    "driver.implicitly_wait(5)"
   ]
  },
  {
   "cell_type": "code",
   "execution_count": 6,
   "id": "2a288fee-3e9f-4f13-9383-a4186e41b8e3",
   "metadata": {
    "jupyter": {
     "source_hidden": true
    },
    "tags": []
   },
   "outputs": [],
   "source": [
    "soup = bs(driver.page_source, 'lxml')"
   ]
  },
  {
   "cell_type": "code",
   "execution_count": 7,
   "id": "b256e76c-42c6-4c1f-9f66-c0e1cd27ae1f",
   "metadata": {
    "jupyter": {
     "source_hidden": true
    },
    "tags": []
   },
   "outputs": [],
   "source": [
    "video_info = soup.find_all('div', attrs={'class':'style-scope ytd-rich-grid-media',\n",
    "                                        'id':'meta'})"
   ]
  },
  {
   "cell_type": "code",
   "execution_count": 44,
   "id": "5460fbe3-d32f-4a93-938b-43bed2dca535",
   "metadata": {
    "jupyter": {
     "source_hidden": true
    },
    "tags": []
   },
   "outputs": [],
   "source": [
    "channels = []\n",
    "video_names = []\n",
    "views = []\n",
    "urls = []\n",
    "for info in video_info:\n",
    "    try:\n",
    "        ch = info.find('a', attrs={'class':'yt-simple-endpoint style-scope yt-formatted-string'}).text\n",
    "        vn = info.find('h3', attrs={'class':'style-scope ytd-rich-grid-media'}).text\n",
    "        view = info.find('span', attrs={'class':'inline-metadata-item style-scope ytd-video-meta-block'}).text\n",
    "        view = view[4:-1] # '조회수', '회' 단어 제거?\n",
    "        url = info.find('a', attrs={'class':'yt-simple-endpoint focus-on-expand style-scope ytd-rich-grid-media'})\n",
    "        url = url['href']\n",
    "\n",
    "        channels.append(ch)\n",
    "        video_names.append(vn)\n",
    "        views.append(view)\n",
    "        urls.append(url)\n",
    "    except Exception as e:\n",
    "        print(e)\n",
    "        continue"
   ]
  },
  {
   "cell_type": "code",
   "execution_count": 45,
   "id": "124eeaa9-5f94-48fa-bc12-e55e8a785120",
   "metadata": {
    "collapsed": true,
    "jupyter": {
     "outputs_hidden": true,
     "source_hidden": true
    },
    "tags": []
   },
   "outputs": [
    {
     "data": {
      "text/plain": [
       "'조회수 188만회'"
      ]
     },
     "execution_count": 45,
     "metadata": {},
     "output_type": "execute_result"
    }
   ],
   "source": [
    "video_info[0].find('span', attrs={'class':'inline-metadata-item style-scope ytd-video-meta-block'}).text"
   ]
  },
  {
   "cell_type": "code",
   "execution_count": 47,
   "id": "1f3181e1-82a2-486c-93de-f8a2c04e6283",
   "metadata": {
    "jupyter": {
     "source_hidden": true
    },
    "tags": []
   },
   "outputs": [],
   "source": [
    "df = pd.DataFrame(columns=['channel_name', 'video_name', 'views', 'urls'])"
   ]
  },
  {
   "cell_type": "code",
   "execution_count": 48,
   "id": "4057f627-5c31-4561-b53b-524afd973d6d",
   "metadata": {
    "jupyter": {
     "source_hidden": true
    },
    "tags": []
   },
   "outputs": [],
   "source": [
    "\n",
    "for idx, (ch, vn, view, url) in enumerate(zip(channels, video_names, views, urls)):\n",
    "    df.loc[idx] = [ch, vn, view, url]"
   ]
  },
  {
   "cell_type": "code",
   "execution_count": 1,
   "id": "2f78430f-c89d-4c8a-93c8-22d393b8b80b",
   "metadata": {},
   "outputs": [],
   "source": [
    "from selenium import webdriver\n",
    "from selenium.webdriver import ChromeOptions\n",
    "from selenium.webdriver.common.by import By\n",
    "\n",
    "from bs4 import BeautifulSoup\n",
    "from user_agent import generate_user_agent\n",
    "import chromedriver_autoinstaller\n",
    "\n",
    "import time"
   ]
  },
  {
   "cell_type": "code",
   "execution_count": 2,
   "id": "2bb3247d-5763-4103-bd69-2e151de71ea7",
   "metadata": {},
   "outputs": [
    {
     "name": "stderr",
     "output_type": "stream",
     "text": [
      "C:\\Users\\Kyeul\\AppData\\Local\\Temp\\ipykernel_3964\\3152672238.py:7: DeprecationWarning: executable_path has been deprecated, please pass in a Service object\n",
      "  driver = webdriver.Chrome(driver_path, options=options)\n"
     ]
    }
   ],
   "source": [
    "user_agent = generate_user_agent(os='win', device_type='desktop')\n",
    "\n",
    "options=ChromeOptions()\n",
    "options.add_argument(f'user_agent={user_agent}')\n",
    "\n",
    "driver_path = chromedriver_autoinstaller.install()\n",
    "driver = webdriver.Chrome(driver_path, options=options)\n"
   ]
  },
  {
   "cell_type": "code",
   "execution_count": 3,
   "id": "48a22289-dd67-4a52-9a02-4518b61be6ba",
   "metadata": {},
   "outputs": [],
   "source": [
    "# 검색 문구\n",
    "search_word = '송파 헬리오시티'\n",
    "\n",
    "# url 접속\n",
    "driver.get(\"https://land.naver.com/\")\n",
    "search_area = driver.find_element(By.XPATH, '//*[@id=\"queryInputHeader\"]')\n",
    "search_area.send_keys(search_word)\n",
    "search_area.send_keys('\\n')"
   ]
  },
  {
   "cell_type": "code",
   "execution_count": 7,
   "id": "dee7a443-2e07-43d7-9d69-08e6442b5e33",
   "metadata": {},
   "outputs": [],
   "source": [
    "# 매물 정보 크롤링\n",
    "soup = BeautifulSoup(driver.page_source, 'lxml')\n",
    "\n",
    "item_list = soup.find_all('div', attrs={'class':'item_inner'})"
   ]
  },
  {
   "cell_type": "code",
   "execution_count": 29,
   "id": "9bf06d46-9340-4701-a1bc-65cca240e353",
   "metadata": {
    "tags": []
   },
   "outputs": [
    {
     "name": "stdout",
     "output_type": "stream",
     "text": [
      "======== 매물 0 =========\n",
      "거래 : 전세\n",
      "면적 : 84A/59m²\n",
      "가격 : 7억\n",
      "동 : 415동\n",
      "층 : 1/12층\n",
      "방향 : 남향\n",
      "======== 매물 1 =========\n",
      "거래 : 월세\n",
      "면적 : 107A/84m²\n",
      "가격 : 1억/320\n",
      "동 : 207동\n",
      "층 : 18/35층\n",
      "방향 : 남향\n",
      "======== 매물 2 =========\n",
      "거래 : 매매\n",
      "면적 : 72D/49m²\n",
      "가격 : 13억\n",
      "동 : 512동\n",
      "층 : 28/29층\n",
      "방향 : 남향\n",
      "======== 매물 3 =========\n",
      "거래 : 전세\n",
      "면적 : 140A/110m²\n",
      "가격 : 13억\n",
      "동 : 104동\n",
      "층 : 32/35층\n",
      "방향 : 남서향\n",
      "======== 매물 4 =========\n",
      "거래 : 매매\n",
      "면적 : 110F/84m²\n",
      "가격 : 18억 8,000\n",
      "동 : 317동\n",
      "층 : 21/29층\n",
      "방향 : 남서향\n",
      "======== 매물 5 =========\n",
      "거래 : 월세\n",
      "면적 : 126A/99m²\n",
      "가격 : 2억/340\n",
      "동 : 105동\n",
      "층 : 4/35층\n",
      "방향 : 남향\n",
      "======== 매물 6 =========\n",
      "거래 : 월세\n",
      "면적 : 126A/99m²\n",
      "가격 : 1억/370\n",
      "동 : 105동\n",
      "층 : 4/35층\n",
      "방향 : 남향\n",
      "======== 매물 7 =========\n",
      "거래 : 전세\n",
      "면적 : 140A/110m²\n",
      "가격 : 13억\n",
      "동 : 104동\n",
      "층 : 32/35층\n",
      "방향 : 남향\n",
      "======== 매물 8 =========\n",
      "거래 : 월세\n",
      "면적 : 109E/84m²\n",
      "가격 : 4억/200\n",
      "동 : 316동\n",
      "층 : 3/29층\n",
      "방향 : 남향\n",
      "======== 매물 9 =========\n",
      "거래 : 전세\n",
      "면적 : 110F/84m²\n",
      "가격 : 7억 5,000\n",
      "동 : 303동\n",
      "층 : 4/26층\n",
      "방향 : 남향\n",
      "======== 매물 10 =========\n",
      "거래 : 월세\n",
      "면적 : 107A/84m²\n",
      "가격 : 1억/320\n",
      "동 : 207동\n",
      "층 : 18/35층\n",
      "방향 : 남동향\n",
      "======== 매물 11 =========\n",
      "거래 : 전세\n",
      "면적 : 110F/84m²\n",
      "가격 : 9억\n",
      "동 : 515동\n",
      "층 : 4/29층\n",
      "방향 : 남서향\n",
      "======== 매물 12 =========\n",
      "거래 : 전세\n",
      "면적 : 84A/59m²\n",
      "가격 : 7억 5,000\n",
      "동 : 503동\n",
      "층 : 12/23층\n",
      "방향 : 남향\n",
      "======== 매물 13 =========\n",
      "거래 : 전세\n",
      "면적 : 110D/84m²\n",
      "가격 : 8억 5,000\n",
      "동 : 403동\n",
      "층 : 18/29층\n",
      "방향 : 남향\n",
      "======== 매물 14 =========\n",
      "거래 : 전세\n",
      "면적 : 110D/84m²\n",
      "가격 : 8억 5,000\n",
      "동 : 403동\n",
      "층 : 18/29층\n",
      "방향 : 남향\n",
      "======== 매물 15 =========\n",
      "거래 : 매매\n",
      "면적 : 72D/49m²\n",
      "가격 : 13억\n",
      "동 : 512동\n",
      "층 : 28/29층\n",
      "방향 : 남향\n",
      "======== 매물 16 =========\n",
      "거래 : 전세\n",
      "면적 : 72D/49m²\n",
      "가격 : 6억 2,000\n",
      "동 : 305동\n",
      "층 : 29/32층\n",
      "방향 : 남향\n",
      "======== 매물 17 =========\n",
      "거래 : 매매\n",
      "면적 : 126A/99m²\n",
      "가격 : 21억\n",
      "동 : 108동\n",
      "층 : 13/35층\n",
      "방향 : 남향\n",
      "======== 매물 18 =========\n",
      "거래 : 월세\n",
      "면적 : 107A/84m²\n",
      "가격 : 1억/320\n",
      "동 : 207동\n",
      "층 : 18/35층\n",
      "방향 : 남향\n",
      "======== 매물 19 =========\n",
      "거래 : 전세\n",
      "면적 : 141B/110m²\n",
      "가격 : 12억 5,000\n",
      "동 : 111동\n",
      "층 : 13/35층\n",
      "방향 : 남향\n"
     ]
    }
   ],
   "source": [
    "for i, item in enumerate(item_list):\n",
    "\n",
    "    dong = item.find('span', attrs={'class':'text'}).text.split(' ')[-1]\n",
    "    item_type = item.find('span', attrs={'class':'type'}).text\n",
    "    price = item.find('span', attrs={'class':'price'}).text.replace('\\n', ' ')\n",
    "    spec = item.find('span', attrs={'class':'spec'}).text.replace(',', '').split(' ')\n",
    "    floor = spec[1]\n",
    "    area = spec[0]\n",
    "    direction = spec[2]\n",
    "    \n",
    "    print(f'======== 매물 {i} =========')\n",
    "    print(\"거래 : {}\".format(item_type))\n",
    "    print(\"면적 : {}(공급/전용)\".format(area))\n",
    "    print(\"가격 : {}\".format(price))\n",
    "    print(\"동 : {}\".format(dong))\n",
    "    print(\"층 : {}(해당층/총층)\".format(floor))\n",
    "    print(\"방향 : {}\".format(direction))"
   ]
  },
  {
   "cell_type": "code",
   "execution_count": 27,
   "id": "c3114899-a0ec-43a1-90d8-e5c615b7c232",
   "metadata": {},
   "outputs": [
    {
     "data": {
      "text/plain": [
       "'84A/59m² 1/12층 남향'"
      ]
     },
     "execution_count": 27,
     "metadata": {},
     "output_type": "execute_result"
    }
   ],
   "source": [
    "item_list[0].find('span', attrs={'class':'spec'}).text.replace(',', '')"
   ]
  },
  {
   "cell_type": "code",
   "execution_count": null,
   "id": "cc267298-754c-46f0-b82d-0633868d068d",
   "metadata": {},
   "outputs": [],
   "source": []
  }
 ],
 "metadata": {
  "kernelspec": {
   "display_name": "Python 3 (ipykernel)",
   "language": "python",
   "name": "python3"
  },
  "language_info": {
   "codemirror_mode": {
    "name": "ipython",
    "version": 3
   },
   "file_extension": ".py",
   "mimetype": "text/x-python",
   "name": "python",
   "nbconvert_exporter": "python",
   "pygments_lexer": "ipython3",
   "version": "3.9.12"
  }
 },
 "nbformat": 4,
 "nbformat_minor": 5
}

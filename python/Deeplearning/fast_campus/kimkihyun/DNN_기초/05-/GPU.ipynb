{
 "cells": [
  {
   "cell_type": "markdown",
   "id": "03d3e6d4-1094-4892-9e04-05d473beae29",
   "metadata": {},
   "source": [
    "# How to use GPU"
   ]
  },
  {
   "cell_type": "code",
   "execution_count": 1,
   "id": "99e84f32-fe34-48b4-adc8-102496db21c2",
   "metadata": {},
   "outputs": [],
   "source": [
    "import torch\n",
    "import torch.nn as nn"
   ]
  },
  {
   "cell_type": "markdown",
   "id": "14215895-05a9-4aba-9ec6-5f33e8d65d3e",
   "metadata": {},
   "source": [
    "## Convert to CUDA tensor:cuda()"
   ]
  },
  {
   "cell_type": "code",
   "execution_count": 4,
   "id": "5a4a1d3e-4bd7-434d-a48b-bf27c54f3365",
   "metadata": {},
   "outputs": [
    {
     "data": {
      "text/plain": [
       "tensor([[0., 0.],\n",
       "        [0., 0.]], device='cuda:0')"
      ]
     },
     "execution_count": 4,
     "metadata": {},
     "output_type": "execute_result"
    }
   ],
   "source": [
    "x = torch.cuda.FloatTensor(2, 2) # 애초에 gpu에서 Tensor 선언하기\n",
    "x"
   ]
  },
  {
   "cell_type": "code",
   "execution_count": 5,
   "id": "af0f2fc0-6c92-49bd-a0e8-08db9dc6de70",
   "metadata": {},
   "outputs": [
    {
     "data": {
      "text/plain": [
       "tensor([[0., 0.],\n",
       "        [0., 0.]], device='cuda:0')"
      ]
     },
     "execution_count": 5,
     "metadata": {},
     "output_type": "execute_result"
    }
   ],
   "source": [
    "# 일반적으로 Tensor를 선언하고 GPU로 보내기\n",
    "x.cuda()"
   ]
  },
  {
   "cell_type": "code",
   "execution_count": 6,
   "id": "a62f4163-aabb-494e-a4b8-4f4fdac6accc",
   "metadata": {},
   "outputs": [
    {
     "data": {
      "text/plain": [
       "tensor([[0., 0.],\n",
       "        [0., 0.]], device='cuda:0')"
      ]
     },
     "execution_count": 6,
     "metadata": {},
     "output_type": "execute_result"
    }
   ],
   "source": [
    "# 특정 gpu 번호를 지정해서 넘겨주기\n",
    "d = torch.device('cuda:0')\n",
    "x.cuda(device=d)\n",
    "x"
   ]
  },
  {
   "cell_type": "code",
   "execution_count": 12,
   "id": "2a9f084a-5e67-4d58-9e63-ed8e757e653f",
   "metadata": {},
   "outputs": [
    {
     "data": {
      "text/plain": [
       "tensor([[0., 0.],\n",
       "        [0., 0.]])"
      ]
     },
     "execution_count": 12,
     "metadata": {},
     "output_type": "execute_result"
    }
   ],
   "source": [
    "# cpu로 복사해볼까?\n",
    "x=x.cpu()\n",
    "x"
   ]
  },
  {
   "cell_type": "code",
   "execution_count": 16,
   "id": "ae6a2a22-f12f-4b56-9b55-4379e2e6bb44",
   "metadata": {},
   "outputs": [
    {
     "data": {
      "text/plain": [
       "tensor([[0., 0.],\n",
       "        [0., 0.]])"
      ]
     },
     "execution_count": 16,
     "metadata": {},
     "output_type": "execute_result"
    }
   ],
   "source": [
    "d = torch.device('cpu')\n",
    "x=x.to(d)\n",
    "x"
   ]
  },
  {
   "cell_type": "code",
   "execution_count": 17,
   "id": "b3df8713-9fc0-494d-b6ab-0cece98bc9cc",
   "metadata": {},
   "outputs": [
    {
     "data": {
      "text/plain": [
       "tensor([[0., 0.],\n",
       "        [0., 0.]], device='cuda:0')"
      ]
     },
     "execution_count": 17,
     "metadata": {},
     "output_type": "execute_result"
    }
   ],
   "source": [
    "x = x.cuda()\n",
    "x"
   ]
  },
  {
   "cell_type": "code",
   "execution_count": null,
   "id": "02e03432-59b2-4b4e-b38a-a3830e142aa5",
   "metadata": {},
   "outputs": [],
   "source": []
  }
 ],
 "metadata": {
  "kernelspec": {
   "display_name": "nlp",
   "language": "python",
   "name": "nlp"
  },
  "language_info": {
   "codemirror_mode": {
    "name": "ipython",
    "version": 3
   },
   "file_extension": ".py",
   "mimetype": "text/x-python",
   "name": "python",
   "nbconvert_exporter": "python",
   "pygments_lexer": "ipython3",
   "version": "3.11.4"
  }
 },
 "nbformat": 4,
 "nbformat_minor": 5
}

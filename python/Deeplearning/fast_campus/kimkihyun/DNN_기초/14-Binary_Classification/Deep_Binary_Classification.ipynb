{
 "cells": [
  {
   "cell_type": "markdown",
   "id": "06ea3575-6ad4-403c-bb65-11bd2ae42b5e",
   "metadata": {},
   "source": [
    "# Binary Classification"
   ]
  },
  {
   "cell_type": "markdown",
   "id": "97dc02ef-4ada-455c-833a-68f1d17ea749",
   "metadata": {},
   "source": [
    "## Load Dataset from sklearn"
   ]
  },
  {
   "cell_type": "code",
   "execution_count": 1,
   "id": "2e6099c1-f82c-4496-9342-91d3a7902058",
   "metadata": {},
   "outputs": [],
   "source": [
    "import numpy as np\n",
    "import pandas as pd\n",
    "import seaborn as sns\n",
    "import matplotlib.pyplot as plt\n",
    "from sklearn.preprocessing import StandardScaler"
   ]
  },
  {
   "cell_type": "code",
   "execution_count": 2,
   "id": "83043175-4839-4a0c-831a-8f6adc58c745",
   "metadata": {},
   "outputs": [],
   "source": [
    "from sklearn.datasets import load_breast_cancer\n",
    "cancer = load_breast_cancer()"
   ]
  },
  {
   "cell_type": "code",
   "execution_count": 9,
   "id": "1ab438fe-08df-456e-b7b2-cccd91ad9918",
   "metadata": {},
   "outputs": [
    {
     "name": "stdout",
     "output_type": "stream",
     "text": [
      "{'data': array([[1.799e+01, 1.038e+01, 1.228e+02, ..., 2.654e-01, 4.601e-01,\n",
      "        1.189e-01],\n",
      "       [2.057e+01, 1.777e+01, 1.329e+02, ..., 1.860e-01, 2.750e-01,\n",
      "        8.902e-02],\n",
      "       [1.969e+01, 2.125e+01, 1.300e+02, ..., 2.430e-01, 3.613e-01,\n",
      "        8.758e-02],\n",
      "       ...,\n",
      "       [1.660e+01, 2.808e+01, 1.083e+02, ..., 1.418e-01, 2.218e-01,\n",
      "        7.820e-02],\n",
      "       [2.060e+01, 2.933e+01, 1.401e+02, ..., 2.650e-01, 4.087e-01,\n",
      "        1.240e-01],\n",
      "       [7.760e+00, 2.454e+01, 4.792e+01, ..., 0.000e+00, 2.871e-01,\n",
      "        7.039e-02]]), 'target': array([0, 0, 0, 0, 0, 0, 0, 0, 0, 0, 0, 0, 0, 0, 0, 0, 0, 0, 0, 1, 1, 1,\n",
      "       0, 0, 0, 0, 0, 0, 0, 0, 0, 0, 0, 0, 0, 0, 0, 1, 0, 0, 0, 0, 0, 0,\n",
      "       0, 0, 1, 0, 1, 1, 1, 1, 1, 0, 0, 1, 0, 0, 1, 1, 1, 1, 0, 1, 0, 0,\n",
      "       1, 1, 1, 1, 0, 1, 0, 0, 1, 0, 1, 0, 0, 1, 1, 1, 0, 0, 1, 0, 0, 0,\n",
      "       1, 1, 1, 0, 1, 1, 0, 0, 1, 1, 1, 0, 0, 1, 1, 1, 1, 0, 1, 1, 0, 1,\n",
      "       1, 1, 1, 1, 1, 1, 1, 0, 0, 0, 1, 0, 0, 1, 1, 1, 0, 0, 1, 0, 1, 0,\n",
      "       0, 1, 0, 0, 1, 1, 0, 1, 1, 0, 1, 1, 1, 1, 0, 1, 1, 1, 1, 1, 1, 1,\n",
      "       1, 1, 0, 1, 1, 1, 1, 0, 0, 1, 0, 1, 1, 0, 0, 1, 1, 0, 0, 1, 1, 1,\n",
      "       1, 0, 1, 1, 0, 0, 0, 1, 0, 1, 0, 1, 1, 1, 0, 1, 1, 0, 0, 1, 0, 0,\n",
      "       0, 0, 1, 0, 0, 0, 1, 0, 1, 0, 1, 1, 0, 1, 0, 0, 0, 0, 1, 1, 0, 0,\n",
      "       1, 1, 1, 0, 1, 1, 1, 1, 1, 0, 0, 1, 1, 0, 1, 1, 0, 0, 1, 0, 1, 1,\n",
      "       1, 1, 0, 1, 1, 1, 1, 1, 0, 1, 0, 0, 0, 0, 0, 0, 0, 0, 0, 0, 0, 0,\n",
      "       0, 0, 1, 1, 1, 1, 1, 1, 0, 1, 0, 1, 1, 0, 1, 1, 0, 1, 0, 0, 1, 1,\n",
      "       1, 1, 1, 1, 1, 1, 1, 1, 1, 1, 1, 0, 1, 1, 0, 1, 0, 1, 1, 1, 1, 1,\n",
      "       1, 1, 1, 1, 1, 1, 1, 1, 1, 0, 1, 1, 1, 0, 1, 0, 1, 1, 1, 1, 0, 0,\n",
      "       0, 1, 1, 1, 1, 0, 1, 0, 1, 0, 1, 1, 1, 0, 1, 1, 1, 1, 1, 1, 1, 0,\n",
      "       0, 0, 1, 1, 1, 1, 1, 1, 1, 1, 1, 1, 1, 0, 0, 1, 0, 0, 0, 1, 0, 0,\n",
      "       1, 1, 1, 1, 1, 0, 1, 1, 1, 1, 1, 0, 1, 1, 1, 0, 1, 1, 0, 0, 1, 1,\n",
      "       1, 1, 1, 1, 0, 1, 1, 1, 1, 1, 1, 1, 0, 1, 1, 1, 1, 1, 0, 1, 1, 0,\n",
      "       1, 1, 1, 1, 1, 1, 1, 1, 1, 1, 1, 1, 0, 1, 0, 0, 1, 0, 1, 1, 1, 1,\n",
      "       1, 0, 1, 1, 0, 1, 0, 1, 1, 0, 1, 0, 1, 1, 1, 1, 1, 1, 1, 1, 0, 0,\n",
      "       1, 1, 1, 1, 1, 1, 0, 1, 1, 1, 1, 1, 1, 1, 1, 1, 1, 0, 1, 1, 1, 1,\n",
      "       1, 1, 1, 0, 1, 0, 1, 1, 0, 1, 1, 1, 1, 1, 0, 0, 1, 0, 1, 0, 1, 1,\n",
      "       1, 1, 1, 0, 1, 1, 0, 1, 0, 1, 0, 0, 1, 1, 1, 0, 1, 1, 1, 1, 1, 1,\n",
      "       1, 1, 1, 1, 1, 0, 1, 0, 0, 1, 1, 1, 1, 1, 1, 1, 1, 1, 1, 1, 1, 1,\n",
      "       1, 1, 1, 1, 1, 1, 1, 1, 1, 1, 1, 1, 0, 0, 0, 0, 0, 0, 1]), 'frame': None, 'target_names': array(['malignant', 'benign'], dtype='<U9'), 'DESCR': '.. _breast_cancer_dataset:\\n\\nBreast cancer wisconsin (diagnostic) dataset\\n--------------------------------------------\\n\\n**Data Set Characteristics:**\\n\\n    :Number of Instances: 569\\n\\n    :Number of Attributes: 30 numeric, predictive attributes and the class\\n\\n    :Attribute Information:\\n        - radius (mean of distances from center to points on the perimeter)\\n        - texture (standard deviation of gray-scale values)\\n        - perimeter\\n        - area\\n        - smoothness (local variation in radius lengths)\\n        - compactness (perimeter^2 / area - 1.0)\\n        - concavity (severity of concave portions of the contour)\\n        - concave points (number of concave portions of the contour)\\n        - symmetry\\n        - fractal dimension (\"coastline approximation\" - 1)\\n\\n        The mean, standard error, and \"worst\" or largest (mean of the three\\n        worst/largest values) of these features were computed for each image,\\n        resulting in 30 features.  For instance, field 0 is Mean Radius, field\\n        10 is Radius SE, field 20 is Worst Radius.\\n\\n        - class:\\n                - WDBC-Malignant\\n                - WDBC-Benign\\n\\n    :Summary Statistics:\\n\\n    ===================================== ====== ======\\n                                           Min    Max\\n    ===================================== ====== ======\\n    radius (mean):                        6.981  28.11\\n    texture (mean):                       9.71   39.28\\n    perimeter (mean):                     43.79  188.5\\n    area (mean):                          143.5  2501.0\\n    smoothness (mean):                    0.053  0.163\\n    compactness (mean):                   0.019  0.345\\n    concavity (mean):                     0.0    0.427\\n    concave points (mean):                0.0    0.201\\n    symmetry (mean):                      0.106  0.304\\n    fractal dimension (mean):             0.05   0.097\\n    radius (standard error):              0.112  2.873\\n    texture (standard error):             0.36   4.885\\n    perimeter (standard error):           0.757  21.98\\n    area (standard error):                6.802  542.2\\n    smoothness (standard error):          0.002  0.031\\n    compactness (standard error):         0.002  0.135\\n    concavity (standard error):           0.0    0.396\\n    concave points (standard error):      0.0    0.053\\n    symmetry (standard error):            0.008  0.079\\n    fractal dimension (standard error):   0.001  0.03\\n    radius (worst):                       7.93   36.04\\n    texture (worst):                      12.02  49.54\\n    perimeter (worst):                    50.41  251.2\\n    area (worst):                         185.2  4254.0\\n    smoothness (worst):                   0.071  0.223\\n    compactness (worst):                  0.027  1.058\\n    concavity (worst):                    0.0    1.252\\n    concave points (worst):               0.0    0.291\\n    symmetry (worst):                     0.156  0.664\\n    fractal dimension (worst):            0.055  0.208\\n    ===================================== ====== ======\\n\\n    :Missing Attribute Values: None\\n\\n    :Class Distribution: 212 - Malignant, 357 - Benign\\n\\n    :Creator:  Dr. William H. Wolberg, W. Nick Street, Olvi L. Mangasarian\\n\\n    :Donor: Nick Street\\n\\n    :Date: November, 1995\\n\\nThis is a copy of UCI ML Breast Cancer Wisconsin (Diagnostic) datasets.\\nhttps://goo.gl/U2Uwz2\\n\\nFeatures are computed from a digitized image of a fine needle\\naspirate (FNA) of a breast mass.  They describe\\ncharacteristics of the cell nuclei present in the image.\\n\\nSeparating plane described above was obtained using\\nMultisurface Method-Tree (MSM-T) [K. P. Bennett, \"Decision Tree\\nConstruction Via Linear Programming.\" Proceedings of the 4th\\nMidwest Artificial Intelligence and Cognitive Science Society,\\npp. 97-101, 1992], a classification method which uses linear\\nprogramming to construct a decision tree.  Relevant features\\nwere selected using an exhaustive search in the space of 1-4\\nfeatures and 1-3 separating planes.\\n\\nThe actual linear program used to obtain the separating plane\\nin the 3-dimensional space is that described in:\\n[K. P. Bennett and O. L. Mangasarian: \"Robust Linear\\nProgramming Discrimination of Two Linearly Inseparable Sets\",\\nOptimization Methods and Software 1, 1992, 23-34].\\n\\nThis database is also available through the UW CS ftp server:\\n\\nftp ftp.cs.wisc.edu\\ncd math-prog/cpo-dataset/machine-learn/WDBC/\\n\\n.. topic:: References\\n\\n   - W.N. Street, W.H. Wolberg and O.L. Mangasarian. Nuclear feature extraction \\n     for breast tumor diagnosis. IS&T/SPIE 1993 International Symposium on \\n     Electronic Imaging: Science and Technology, volume 1905, pages 861-870,\\n     San Jose, CA, 1993.\\n   - O.L. Mangasarian, W.N. Street and W.H. Wolberg. Breast cancer diagnosis and \\n     prognosis via linear programming. Operations Research, 43(4), pages 570-577, \\n     July-August 1995.\\n   - W.H. Wolberg, W.N. Street, and O.L. Mangasarian. Machine learning techniques\\n     to diagnose breast cancer from fine-needle aspirates. Cancer Letters 77 (1994) \\n     163-171.', 'feature_names': array(['mean radius', 'mean texture', 'mean perimeter', 'mean area',\n",
      "       'mean smoothness', 'mean compactness', 'mean concavity',\n",
      "       'mean concave points', 'mean symmetry', 'mean fractal dimension',\n",
      "       'radius error', 'texture error', 'perimeter error', 'area error',\n",
      "       'smoothness error', 'compactness error', 'concavity error',\n",
      "       'concave points error', 'symmetry error',\n",
      "       'fractal dimension error', 'worst radius', 'worst texture',\n",
      "       'worst perimeter', 'worst area', 'worst smoothness',\n",
      "       'worst compactness', 'worst concavity', 'worst concave points',\n",
      "       'worst symmetry', 'worst fractal dimension'], dtype='<U23'), 'filename': 'breast_cancer.csv', 'data_module': 'sklearn.datasets.data'}\n"
     ]
    }
   ],
   "source": [
    "print(cancer)"
   ]
  },
  {
   "cell_type": "code",
   "execution_count": 3,
   "id": "fe5c9e7a-4626-410a-b10d-2e1ce12aba23",
   "metadata": {},
   "outputs": [
    {
     "data": {
      "text/html": [
       "<div>\n",
       "<style scoped>\n",
       "    .dataframe tbody tr th:only-of-type {\n",
       "        vertical-align: middle;\n",
       "    }\n",
       "\n",
       "    .dataframe tbody tr th {\n",
       "        vertical-align: top;\n",
       "    }\n",
       "\n",
       "    .dataframe thead th {\n",
       "        text-align: right;\n",
       "    }\n",
       "</style>\n",
       "<table border=\"1\" class=\"dataframe\">\n",
       "  <thead>\n",
       "    <tr style=\"text-align: right;\">\n",
       "      <th></th>\n",
       "      <th>mean radius</th>\n",
       "      <th>mean texture</th>\n",
       "      <th>mean perimeter</th>\n",
       "      <th>mean area</th>\n",
       "      <th>mean smoothness</th>\n",
       "      <th>mean compactness</th>\n",
       "      <th>mean concavity</th>\n",
       "      <th>mean concave points</th>\n",
       "      <th>mean symmetry</th>\n",
       "      <th>mean fractal dimension</th>\n",
       "      <th>...</th>\n",
       "      <th>worst texture</th>\n",
       "      <th>worst perimeter</th>\n",
       "      <th>worst area</th>\n",
       "      <th>worst smoothness</th>\n",
       "      <th>worst compactness</th>\n",
       "      <th>worst concavity</th>\n",
       "      <th>worst concave points</th>\n",
       "      <th>worst symmetry</th>\n",
       "      <th>worst fractal dimension</th>\n",
       "      <th>class</th>\n",
       "    </tr>\n",
       "  </thead>\n",
       "  <tbody>\n",
       "    <tr>\n",
       "      <th>564</th>\n",
       "      <td>21.56</td>\n",
       "      <td>22.39</td>\n",
       "      <td>142.00</td>\n",
       "      <td>1479.0</td>\n",
       "      <td>0.11100</td>\n",
       "      <td>0.11590</td>\n",
       "      <td>0.24390</td>\n",
       "      <td>0.13890</td>\n",
       "      <td>0.1726</td>\n",
       "      <td>0.05623</td>\n",
       "      <td>...</td>\n",
       "      <td>26.40</td>\n",
       "      <td>166.10</td>\n",
       "      <td>2027.0</td>\n",
       "      <td>0.14100</td>\n",
       "      <td>0.21130</td>\n",
       "      <td>0.4107</td>\n",
       "      <td>0.2216</td>\n",
       "      <td>0.2060</td>\n",
       "      <td>0.07115</td>\n",
       "      <td>0</td>\n",
       "    </tr>\n",
       "    <tr>\n",
       "      <th>565</th>\n",
       "      <td>20.13</td>\n",
       "      <td>28.25</td>\n",
       "      <td>131.20</td>\n",
       "      <td>1261.0</td>\n",
       "      <td>0.09780</td>\n",
       "      <td>0.10340</td>\n",
       "      <td>0.14400</td>\n",
       "      <td>0.09791</td>\n",
       "      <td>0.1752</td>\n",
       "      <td>0.05533</td>\n",
       "      <td>...</td>\n",
       "      <td>38.25</td>\n",
       "      <td>155.00</td>\n",
       "      <td>1731.0</td>\n",
       "      <td>0.11660</td>\n",
       "      <td>0.19220</td>\n",
       "      <td>0.3215</td>\n",
       "      <td>0.1628</td>\n",
       "      <td>0.2572</td>\n",
       "      <td>0.06637</td>\n",
       "      <td>0</td>\n",
       "    </tr>\n",
       "    <tr>\n",
       "      <th>566</th>\n",
       "      <td>16.60</td>\n",
       "      <td>28.08</td>\n",
       "      <td>108.30</td>\n",
       "      <td>858.1</td>\n",
       "      <td>0.08455</td>\n",
       "      <td>0.10230</td>\n",
       "      <td>0.09251</td>\n",
       "      <td>0.05302</td>\n",
       "      <td>0.1590</td>\n",
       "      <td>0.05648</td>\n",
       "      <td>...</td>\n",
       "      <td>34.12</td>\n",
       "      <td>126.70</td>\n",
       "      <td>1124.0</td>\n",
       "      <td>0.11390</td>\n",
       "      <td>0.30940</td>\n",
       "      <td>0.3403</td>\n",
       "      <td>0.1418</td>\n",
       "      <td>0.2218</td>\n",
       "      <td>0.07820</td>\n",
       "      <td>0</td>\n",
       "    </tr>\n",
       "    <tr>\n",
       "      <th>567</th>\n",
       "      <td>20.60</td>\n",
       "      <td>29.33</td>\n",
       "      <td>140.10</td>\n",
       "      <td>1265.0</td>\n",
       "      <td>0.11780</td>\n",
       "      <td>0.27700</td>\n",
       "      <td>0.35140</td>\n",
       "      <td>0.15200</td>\n",
       "      <td>0.2397</td>\n",
       "      <td>0.07016</td>\n",
       "      <td>...</td>\n",
       "      <td>39.42</td>\n",
       "      <td>184.60</td>\n",
       "      <td>1821.0</td>\n",
       "      <td>0.16500</td>\n",
       "      <td>0.86810</td>\n",
       "      <td>0.9387</td>\n",
       "      <td>0.2650</td>\n",
       "      <td>0.4087</td>\n",
       "      <td>0.12400</td>\n",
       "      <td>0</td>\n",
       "    </tr>\n",
       "    <tr>\n",
       "      <th>568</th>\n",
       "      <td>7.76</td>\n",
       "      <td>24.54</td>\n",
       "      <td>47.92</td>\n",
       "      <td>181.0</td>\n",
       "      <td>0.05263</td>\n",
       "      <td>0.04362</td>\n",
       "      <td>0.00000</td>\n",
       "      <td>0.00000</td>\n",
       "      <td>0.1587</td>\n",
       "      <td>0.05884</td>\n",
       "      <td>...</td>\n",
       "      <td>30.37</td>\n",
       "      <td>59.16</td>\n",
       "      <td>268.6</td>\n",
       "      <td>0.08996</td>\n",
       "      <td>0.06444</td>\n",
       "      <td>0.0000</td>\n",
       "      <td>0.0000</td>\n",
       "      <td>0.2871</td>\n",
       "      <td>0.07039</td>\n",
       "      <td>1</td>\n",
       "    </tr>\n",
       "  </tbody>\n",
       "</table>\n",
       "<p>5 rows × 31 columns</p>\n",
       "</div>"
      ],
      "text/plain": [
       "     mean radius  mean texture  mean perimeter  mean area  mean smoothness  \\\n",
       "564        21.56         22.39          142.00     1479.0          0.11100   \n",
       "565        20.13         28.25          131.20     1261.0          0.09780   \n",
       "566        16.60         28.08          108.30      858.1          0.08455   \n",
       "567        20.60         29.33          140.10     1265.0          0.11780   \n",
       "568         7.76         24.54           47.92      181.0          0.05263   \n",
       "\n",
       "     mean compactness  mean concavity  mean concave points  mean symmetry  \\\n",
       "564           0.11590         0.24390              0.13890         0.1726   \n",
       "565           0.10340         0.14400              0.09791         0.1752   \n",
       "566           0.10230         0.09251              0.05302         0.1590   \n",
       "567           0.27700         0.35140              0.15200         0.2397   \n",
       "568           0.04362         0.00000              0.00000         0.1587   \n",
       "\n",
       "     mean fractal dimension  ...  worst texture  worst perimeter  worst area  \\\n",
       "564                 0.05623  ...          26.40           166.10      2027.0   \n",
       "565                 0.05533  ...          38.25           155.00      1731.0   \n",
       "566                 0.05648  ...          34.12           126.70      1124.0   \n",
       "567                 0.07016  ...          39.42           184.60      1821.0   \n",
       "568                 0.05884  ...          30.37            59.16       268.6   \n",
       "\n",
       "     worst smoothness  worst compactness  worst concavity  \\\n",
       "564           0.14100            0.21130           0.4107   \n",
       "565           0.11660            0.19220           0.3215   \n",
       "566           0.11390            0.30940           0.3403   \n",
       "567           0.16500            0.86810           0.9387   \n",
       "568           0.08996            0.06444           0.0000   \n",
       "\n",
       "     worst concave points  worst symmetry  worst fractal dimension  class  \n",
       "564                0.2216          0.2060                  0.07115      0  \n",
       "565                0.1628          0.2572                  0.06637      0  \n",
       "566                0.1418          0.2218                  0.07820      0  \n",
       "567                0.2650          0.4087                  0.12400      0  \n",
       "568                0.0000          0.2871                  0.07039      1  \n",
       "\n",
       "[5 rows x 31 columns]"
      ]
     },
     "execution_count": 3,
     "metadata": {},
     "output_type": "execute_result"
    }
   ],
   "source": [
    "df = pd.DataFrame(cancer.data, columns=cancer.feature_names)\n",
    "df['class'] = cancer.target\n",
    "\n",
    "df.tail()"
   ]
  },
  {
   "cell_type": "code",
   "execution_count": 4,
   "id": "2b672bcd-73e8-4069-854c-12b7b804e238",
   "metadata": {},
   "outputs": [
    {
     "data": {
      "text/html": [
       "<div>\n",
       "<style scoped>\n",
       "    .dataframe tbody tr th:only-of-type {\n",
       "        vertical-align: middle;\n",
       "    }\n",
       "\n",
       "    .dataframe tbody tr th {\n",
       "        vertical-align: top;\n",
       "    }\n",
       "\n",
       "    .dataframe thead th {\n",
       "        text-align: right;\n",
       "    }\n",
       "</style>\n",
       "<table border=\"1\" class=\"dataframe\">\n",
       "  <thead>\n",
       "    <tr style=\"text-align: right;\">\n",
       "      <th></th>\n",
       "      <th>mean radius</th>\n",
       "      <th>mean texture</th>\n",
       "      <th>mean perimeter</th>\n",
       "      <th>mean area</th>\n",
       "      <th>mean smoothness</th>\n",
       "      <th>mean compactness</th>\n",
       "      <th>mean concavity</th>\n",
       "      <th>mean concave points</th>\n",
       "      <th>mean symmetry</th>\n",
       "      <th>mean fractal dimension</th>\n",
       "      <th>...</th>\n",
       "      <th>worst texture</th>\n",
       "      <th>worst perimeter</th>\n",
       "      <th>worst area</th>\n",
       "      <th>worst smoothness</th>\n",
       "      <th>worst compactness</th>\n",
       "      <th>worst concavity</th>\n",
       "      <th>worst concave points</th>\n",
       "      <th>worst symmetry</th>\n",
       "      <th>worst fractal dimension</th>\n",
       "      <th>class</th>\n",
       "    </tr>\n",
       "  </thead>\n",
       "  <tbody>\n",
       "    <tr>\n",
       "      <th>count</th>\n",
       "      <td>569.000000</td>\n",
       "      <td>569.000000</td>\n",
       "      <td>569.000000</td>\n",
       "      <td>569.000000</td>\n",
       "      <td>569.000000</td>\n",
       "      <td>569.000000</td>\n",
       "      <td>569.000000</td>\n",
       "      <td>569.000000</td>\n",
       "      <td>569.000000</td>\n",
       "      <td>569.000000</td>\n",
       "      <td>...</td>\n",
       "      <td>569.000000</td>\n",
       "      <td>569.000000</td>\n",
       "      <td>569.000000</td>\n",
       "      <td>569.000000</td>\n",
       "      <td>569.000000</td>\n",
       "      <td>569.000000</td>\n",
       "      <td>569.000000</td>\n",
       "      <td>569.000000</td>\n",
       "      <td>569.000000</td>\n",
       "      <td>569.000000</td>\n",
       "    </tr>\n",
       "    <tr>\n",
       "      <th>mean</th>\n",
       "      <td>14.127292</td>\n",
       "      <td>19.289649</td>\n",
       "      <td>91.969033</td>\n",
       "      <td>654.889104</td>\n",
       "      <td>0.096360</td>\n",
       "      <td>0.104341</td>\n",
       "      <td>0.088799</td>\n",
       "      <td>0.048919</td>\n",
       "      <td>0.181162</td>\n",
       "      <td>0.062798</td>\n",
       "      <td>...</td>\n",
       "      <td>25.677223</td>\n",
       "      <td>107.261213</td>\n",
       "      <td>880.583128</td>\n",
       "      <td>0.132369</td>\n",
       "      <td>0.254265</td>\n",
       "      <td>0.272188</td>\n",
       "      <td>0.114606</td>\n",
       "      <td>0.290076</td>\n",
       "      <td>0.083946</td>\n",
       "      <td>0.627417</td>\n",
       "    </tr>\n",
       "    <tr>\n",
       "      <th>std</th>\n",
       "      <td>3.524049</td>\n",
       "      <td>4.301036</td>\n",
       "      <td>24.298981</td>\n",
       "      <td>351.914129</td>\n",
       "      <td>0.014064</td>\n",
       "      <td>0.052813</td>\n",
       "      <td>0.079720</td>\n",
       "      <td>0.038803</td>\n",
       "      <td>0.027414</td>\n",
       "      <td>0.007060</td>\n",
       "      <td>...</td>\n",
       "      <td>6.146258</td>\n",
       "      <td>33.602542</td>\n",
       "      <td>569.356993</td>\n",
       "      <td>0.022832</td>\n",
       "      <td>0.157336</td>\n",
       "      <td>0.208624</td>\n",
       "      <td>0.065732</td>\n",
       "      <td>0.061867</td>\n",
       "      <td>0.018061</td>\n",
       "      <td>0.483918</td>\n",
       "    </tr>\n",
       "    <tr>\n",
       "      <th>min</th>\n",
       "      <td>6.981000</td>\n",
       "      <td>9.710000</td>\n",
       "      <td>43.790000</td>\n",
       "      <td>143.500000</td>\n",
       "      <td>0.052630</td>\n",
       "      <td>0.019380</td>\n",
       "      <td>0.000000</td>\n",
       "      <td>0.000000</td>\n",
       "      <td>0.106000</td>\n",
       "      <td>0.049960</td>\n",
       "      <td>...</td>\n",
       "      <td>12.020000</td>\n",
       "      <td>50.410000</td>\n",
       "      <td>185.200000</td>\n",
       "      <td>0.071170</td>\n",
       "      <td>0.027290</td>\n",
       "      <td>0.000000</td>\n",
       "      <td>0.000000</td>\n",
       "      <td>0.156500</td>\n",
       "      <td>0.055040</td>\n",
       "      <td>0.000000</td>\n",
       "    </tr>\n",
       "    <tr>\n",
       "      <th>25%</th>\n",
       "      <td>11.700000</td>\n",
       "      <td>16.170000</td>\n",
       "      <td>75.170000</td>\n",
       "      <td>420.300000</td>\n",
       "      <td>0.086370</td>\n",
       "      <td>0.064920</td>\n",
       "      <td>0.029560</td>\n",
       "      <td>0.020310</td>\n",
       "      <td>0.161900</td>\n",
       "      <td>0.057700</td>\n",
       "      <td>...</td>\n",
       "      <td>21.080000</td>\n",
       "      <td>84.110000</td>\n",
       "      <td>515.300000</td>\n",
       "      <td>0.116600</td>\n",
       "      <td>0.147200</td>\n",
       "      <td>0.114500</td>\n",
       "      <td>0.064930</td>\n",
       "      <td>0.250400</td>\n",
       "      <td>0.071460</td>\n",
       "      <td>0.000000</td>\n",
       "    </tr>\n",
       "    <tr>\n",
       "      <th>50%</th>\n",
       "      <td>13.370000</td>\n",
       "      <td>18.840000</td>\n",
       "      <td>86.240000</td>\n",
       "      <td>551.100000</td>\n",
       "      <td>0.095870</td>\n",
       "      <td>0.092630</td>\n",
       "      <td>0.061540</td>\n",
       "      <td>0.033500</td>\n",
       "      <td>0.179200</td>\n",
       "      <td>0.061540</td>\n",
       "      <td>...</td>\n",
       "      <td>25.410000</td>\n",
       "      <td>97.660000</td>\n",
       "      <td>686.500000</td>\n",
       "      <td>0.131300</td>\n",
       "      <td>0.211900</td>\n",
       "      <td>0.226700</td>\n",
       "      <td>0.099930</td>\n",
       "      <td>0.282200</td>\n",
       "      <td>0.080040</td>\n",
       "      <td>1.000000</td>\n",
       "    </tr>\n",
       "    <tr>\n",
       "      <th>75%</th>\n",
       "      <td>15.780000</td>\n",
       "      <td>21.800000</td>\n",
       "      <td>104.100000</td>\n",
       "      <td>782.700000</td>\n",
       "      <td>0.105300</td>\n",
       "      <td>0.130400</td>\n",
       "      <td>0.130700</td>\n",
       "      <td>0.074000</td>\n",
       "      <td>0.195700</td>\n",
       "      <td>0.066120</td>\n",
       "      <td>...</td>\n",
       "      <td>29.720000</td>\n",
       "      <td>125.400000</td>\n",
       "      <td>1084.000000</td>\n",
       "      <td>0.146000</td>\n",
       "      <td>0.339100</td>\n",
       "      <td>0.382900</td>\n",
       "      <td>0.161400</td>\n",
       "      <td>0.317900</td>\n",
       "      <td>0.092080</td>\n",
       "      <td>1.000000</td>\n",
       "    </tr>\n",
       "    <tr>\n",
       "      <th>max</th>\n",
       "      <td>28.110000</td>\n",
       "      <td>39.280000</td>\n",
       "      <td>188.500000</td>\n",
       "      <td>2501.000000</td>\n",
       "      <td>0.163400</td>\n",
       "      <td>0.345400</td>\n",
       "      <td>0.426800</td>\n",
       "      <td>0.201200</td>\n",
       "      <td>0.304000</td>\n",
       "      <td>0.097440</td>\n",
       "      <td>...</td>\n",
       "      <td>49.540000</td>\n",
       "      <td>251.200000</td>\n",
       "      <td>4254.000000</td>\n",
       "      <td>0.222600</td>\n",
       "      <td>1.058000</td>\n",
       "      <td>1.252000</td>\n",
       "      <td>0.291000</td>\n",
       "      <td>0.663800</td>\n",
       "      <td>0.207500</td>\n",
       "      <td>1.000000</td>\n",
       "    </tr>\n",
       "  </tbody>\n",
       "</table>\n",
       "<p>8 rows × 31 columns</p>\n",
       "</div>"
      ],
      "text/plain": [
       "       mean radius  mean texture  mean perimeter    mean area  \\\n",
       "count   569.000000    569.000000      569.000000   569.000000   \n",
       "mean     14.127292     19.289649       91.969033   654.889104   \n",
       "std       3.524049      4.301036       24.298981   351.914129   \n",
       "min       6.981000      9.710000       43.790000   143.500000   \n",
       "25%      11.700000     16.170000       75.170000   420.300000   \n",
       "50%      13.370000     18.840000       86.240000   551.100000   \n",
       "75%      15.780000     21.800000      104.100000   782.700000   \n",
       "max      28.110000     39.280000      188.500000  2501.000000   \n",
       "\n",
       "       mean smoothness  mean compactness  mean concavity  mean concave points  \\\n",
       "count       569.000000        569.000000      569.000000           569.000000   \n",
       "mean          0.096360          0.104341        0.088799             0.048919   \n",
       "std           0.014064          0.052813        0.079720             0.038803   \n",
       "min           0.052630          0.019380        0.000000             0.000000   \n",
       "25%           0.086370          0.064920        0.029560             0.020310   \n",
       "50%           0.095870          0.092630        0.061540             0.033500   \n",
       "75%           0.105300          0.130400        0.130700             0.074000   \n",
       "max           0.163400          0.345400        0.426800             0.201200   \n",
       "\n",
       "       mean symmetry  mean fractal dimension  ...  worst texture  \\\n",
       "count     569.000000              569.000000  ...     569.000000   \n",
       "mean        0.181162                0.062798  ...      25.677223   \n",
       "std         0.027414                0.007060  ...       6.146258   \n",
       "min         0.106000                0.049960  ...      12.020000   \n",
       "25%         0.161900                0.057700  ...      21.080000   \n",
       "50%         0.179200                0.061540  ...      25.410000   \n",
       "75%         0.195700                0.066120  ...      29.720000   \n",
       "max         0.304000                0.097440  ...      49.540000   \n",
       "\n",
       "       worst perimeter   worst area  worst smoothness  worst compactness  \\\n",
       "count       569.000000   569.000000        569.000000         569.000000   \n",
       "mean        107.261213   880.583128          0.132369           0.254265   \n",
       "std          33.602542   569.356993          0.022832           0.157336   \n",
       "min          50.410000   185.200000          0.071170           0.027290   \n",
       "25%          84.110000   515.300000          0.116600           0.147200   \n",
       "50%          97.660000   686.500000          0.131300           0.211900   \n",
       "75%         125.400000  1084.000000          0.146000           0.339100   \n",
       "max         251.200000  4254.000000          0.222600           1.058000   \n",
       "\n",
       "       worst concavity  worst concave points  worst symmetry  \\\n",
       "count       569.000000            569.000000      569.000000   \n",
       "mean          0.272188              0.114606        0.290076   \n",
       "std           0.208624              0.065732        0.061867   \n",
       "min           0.000000              0.000000        0.156500   \n",
       "25%           0.114500              0.064930        0.250400   \n",
       "50%           0.226700              0.099930        0.282200   \n",
       "75%           0.382900              0.161400        0.317900   \n",
       "max           1.252000              0.291000        0.663800   \n",
       "\n",
       "       worst fractal dimension       class  \n",
       "count               569.000000  569.000000  \n",
       "mean                  0.083946    0.627417  \n",
       "std                   0.018061    0.483918  \n",
       "min                   0.055040    0.000000  \n",
       "25%                   0.071460    0.000000  \n",
       "50%                   0.080040    1.000000  \n",
       "75%                   0.092080    1.000000  \n",
       "max                   0.207500    1.000000  \n",
       "\n",
       "[8 rows x 31 columns]"
      ]
     },
     "execution_count": 4,
     "metadata": {},
     "output_type": "execute_result"
    }
   ],
   "source": [
    "df.describe()"
   ]
  },
  {
   "cell_type": "markdown",
   "id": "62ef11df-815f-49fb-9c80-6eb039f3d7f1",
   "metadata": {},
   "source": [
    "# Convert to Pytorch Tensor"
   ]
  },
  {
   "cell_type": "code",
   "execution_count": 10,
   "id": "5679862d-abee-4e4e-9708-74890d3952b9",
   "metadata": {},
   "outputs": [],
   "source": [
    "import torch\n",
    "import torch.nn as nn\n",
    "import torch.nn.functional as F\n",
    "import torch.optim as optim"
   ]
  },
  {
   "cell_type": "code",
   "execution_count": 16,
   "id": "77ee6bac-1023-410b-b199-9f349ea36c32",
   "metadata": {},
   "outputs": [
    {
     "data": {
      "text/plain": [
       "numpy.ndarray"
      ]
     },
     "execution_count": 16,
     "metadata": {},
     "output_type": "execute_result"
    }
   ],
   "source": [
    "type(df.values)"
   ]
  },
  {
   "cell_type": "code",
   "execution_count": null,
   "id": "670be79e-cc1e-492e-90ac-da9d7496ca1e",
   "metadata": {},
   "outputs": [
    {
     "data": {
      "text/plain": [
       "array([[1.799e+01, 1.038e+01, 1.228e+02, ..., 4.601e-01, 1.189e-01,\n",
       "        0.000e+00],\n",
       "       [2.057e+01, 1.777e+01, 1.329e+02, ..., 2.750e-01, 8.902e-02,\n",
       "        0.000e+00],\n",
       "       [1.969e+01, 2.125e+01, 1.300e+02, ..., 3.613e-01, 8.758e-02,\n",
       "        0.000e+00],\n",
       "       ...,\n",
       "       [1.660e+01, 2.808e+01, 1.083e+02, ..., 2.218e-01, 7.820e-02,\n",
       "        0.000e+00],\n",
       "       [2.060e+01, 2.933e+01, 1.401e+02, ..., 4.087e-01, 1.240e-01,\n",
       "        0.000e+00],\n",
       "       [7.760e+00, 2.454e+01, 4.792e+01, ..., 2.871e-01, 7.039e-02,\n",
       "        1.000e+00]])"
      ]
     },
     "execution_count": 21,
     "metadata": {},
     "output_type": "execute_result"
    }
   ],
   "source": [
    "df.values[:"
   ]
  },
  {
   "cell_type": "code",
   "execution_count": 19,
   "id": "eb011256-27a0-4ee1-8eb6-09bf5a7570e1",
   "metadata": {},
   "outputs": [
    {
     "data": {
      "text/plain": [
       "torch.Size([569, 31])"
      ]
     },
     "execution_count": 19,
     "metadata": {},
     "output_type": "execute_result"
    }
   ],
   "source": [
    "data = torch.from_numpy(df.values).float()\n",
    "data.shape"
   ]
  },
  {
   "cell_type": "code",
   "execution_count": null,
   "id": "b2adb421-2242-40f7-ab8f-c72d617803fe",
   "metadata": {},
   "outputs": [
    {
     "data": {
      "text/plain": [
       "tensor([[1.7990e+01, 1.0380e+01, 1.2280e+02,  ..., 4.6010e-01, 1.1890e-01,\n",
       "         0.0000e+00],\n",
       "        [2.0570e+01, 1.7770e+01, 1.3290e+02,  ..., 2.7500e-01, 8.9020e-02,\n",
       "         0.0000e+00],\n",
       "        [1.9690e+01, 2.1250e+01, 1.3000e+02,  ..., 3.6130e-01, 8.7580e-02,\n",
       "         0.0000e+00],\n",
       "        ...,\n",
       "        [1.6600e+01, 2.8080e+01, 1.0830e+02,  ..., 2.2180e-01, 7.8200e-02,\n",
       "         0.0000e+00],\n",
       "        [2.0600e+01, 2.9330e+01, 1.4010e+02,  ..., 4.0870e-01, 1.2400e-01,\n",
       "         0.0000e+00],\n",
       "        [7.7600e+00, 2.4540e+01, 4.7920e+01,  ..., 2.8710e-01, 7.0390e-02,\n",
       "         1.0000e+00]])"
      ]
     },
     "execution_count": 20,
     "metadata": {},
     "output_type": "execute_result"
    }
   ],
   "source": [
    "data"
   ]
  },
  {
   "cell_type": "code",
   "execution_count": 22,
   "id": "ff7bbea9-5c02-4ae8-91f7-b477b2d32339",
   "metadata": {},
   "outputs": [
    {
     "data": {
      "text/plain": [
       "(torch.Size([569, 30]), torch.Size([569, 1]))"
      ]
     },
     "execution_count": 22,
     "metadata": {},
     "output_type": "execute_result"
    }
   ],
   "source": [
    "x = data[:, :-1]\n",
    "y = data[:, -1:]\n",
    "\n",
    "x.size(), y.size()"
   ]
  },
  {
   "cell_type": "code",
   "execution_count": 23,
   "id": "7b937ea1-f12f-428c-bdb6-bbc5f84babca",
   "metadata": {},
   "outputs": [],
   "source": [
    "# set Seperation ratio\n",
    "ratios = [.7, .2, .1]"
   ]
  },
  {
   "cell_type": "code",
   "execution_count": 24,
   "id": "7cc1fdeb-2f5f-4437-be2d-430e0eec4a75",
   "metadata": {},
   "outputs": [
    {
     "data": {
      "text/plain": [
       "[398, 113, 58]"
      ]
     },
     "execution_count": 24,
     "metadata": {},
     "output_type": "execute_result"
    }
   ],
   "source": [
    "train_cnt = int(data.size(0) * ratios[0])\n",
    "valid_cnt = int(data.size(0) * ratios[1])\n",
    "test_cnt = data.size(0) - (train_cnt + valid_cnt)\n",
    "cnts = [train_cnt, valid_cnt, test_cnt]\n",
    "\n",
    "cnts"
   ]
  },
  {
   "cell_type": "markdown",
   "id": "3d91923f-f796-4f60-897d-8ae1499ec98c",
   "metadata": {},
   "source": [
    "# shuffle and split"
   ]
  },
  {
   "cell_type": "code",
   "execution_count": 25,
   "id": "132932e8-da74-4c60-92f7-df54457cb1e8",
   "metadata": {},
   "outputs": [
    {
     "data": {
      "text/plain": [
       "tensor([491, 523, 291, 106, 185, 341, 431, 281, 486, 363,  94,  77, 506, 438,\n",
       "        429, 112, 324, 497,  25,  83, 465, 347, 319, 473, 373, 405, 188, 218,\n",
       "        303, 426, 537, 530, 512, 240, 329, 237,  42, 361, 342, 153, 284, 469,\n",
       "        111,  67, 293, 152, 148, 108, 209,  79, 396, 116, 474, 165,  21, 180,\n",
       "        135, 420, 364, 201, 129,  99, 415, 258, 480,  23,   7,  88,  27, 274,\n",
       "         93, 372, 357,  85, 137,  57, 175, 105, 507,  59,  45, 412,  47, 436,\n",
       "         98, 316, 229, 149,  52, 103, 242,  62, 213, 355, 338, 238, 304, 350,\n",
       "        125, 151, 445, 134,  31, 376,  90, 519, 259, 560,  78, 484, 450, 127,\n",
       "        567, 377, 246,  71, 288, 104,  11, 318, 292, 200, 130, 362,   6, 214,\n",
       "          4,  32, 190, 311, 419, 437, 479, 196, 380, 140, 532, 444, 247, 374,\n",
       "        408,  97, 109, 169, 502, 544, 330, 156, 440, 294, 164, 312, 195, 132,\n",
       "        386, 257, 402, 524, 202,  39, 464, 118, 263, 546, 179, 273,  44, 493,\n",
       "        471, 521, 283, 235, 289, 449, 508, 552, 528, 147, 295, 439, 558,  84,\n",
       "        483, 503, 322, 501, 265,   3, 114, 121, 404, 456, 551,  95, 366,  82,\n",
       "        489, 410, 470, 298,  10, 526, 487, 336, 538, 163, 549, 413,  96, 194,\n",
       "        184, 525, 531, 555, 128, 520, 425,  50, 354, 385, 334,   5, 441, 518,\n",
       "        176, 446, 397, 150, 424, 254, 207, 418, 548, 203,  37, 279, 499, 182,\n",
       "        337, 561, 224, 409, 264, 467, 268, 466, 212, 476, 189, 309, 494, 452,\n",
       "         19, 113, 554, 340, 391, 197, 463, 461, 448, 220, 300, 477, 422, 276,\n",
       "         46, 161, 270, 462,  41, 367, 348,  36, 541,  28, 278, 411, 332,  14,\n",
       "        183,  35, 193, 468,  33, 314, 124, 198, 101, 160, 339,  91,   8, 313,\n",
       "        155, 564, 266, 349,  48, 542, 234,  16, 145, 344, 144, 534, 421, 453,\n",
       "        563, 371, 496, 557, 133, 187,  63, 219, 325, 126, 245, 566,  61, 285,\n",
       "        510, 556,  17, 166, 119,  87, 478, 262, 514, 457,  12, 256, 388, 517,\n",
       "        433, 102, 417, 505,  43, 315, 343, 562, 138,  26, 495, 443,  53, 356,\n",
       "        178, 359, 275, 406, 383,  51, 120,  49, 255, 535, 390, 368, 504, 287,\n",
       "        394, 223, 210, 382,  54, 536, 205,  75,  56, 217, 230, 191,  15, 432,\n",
       "        171, 423, 381, 199, 269, 547,  80, 430, 481, 222, 231, 387, 271, 511,\n",
       "        241, 100, 482, 353,  13, 384, 392, 358, 434, 513, 167, 272, 428, 389,\n",
       "        170, 352,   1,  20, 378, 327, 533, 296, 401, 442,   2, 416, 215, 248,\n",
       "        310,  69, 280, 117, 122, 365, 414, 192, 509,  40, 333, 427,  72,  24,\n",
       "        208,  76, 131, 379, 451,  30, 485, 308, 326,  55, 346, 233,  65, 565,\n",
       "        370, 174, 243, 143, 251, 328, 232, 216,  73, 226, 225,  58, 302, 305,\n",
       "        146, 250, 393,   9, 252, 286, 331, 488, 162, 369,  22, 227, 204, 335,\n",
       "         18, 447, 228, 206, 516, 498, 211, 500, 454,  86, 115, 306, 490, 299,\n",
       "        157, 297, 267, 395, 186, 540, 249, 460,  64, 260, 277, 559, 375, 459,\n",
       "        307, 345, 492, 455, 529,  38,  60,   0, 221, 543, 244, 399, 545, 154,\n",
       "        398, 321, 290, 236, 177, 475, 320, 168, 407, 360, 139, 142, 158, 323,\n",
       "        110, 159,  68, 123,  70, 282, 527, 173, 253, 172, 553, 435, 141, 400,\n",
       "        301, 568, 515,  92, 403, 317, 550,  66,  34, 261, 181, 107, 522,  89,\n",
       "        351, 136, 458, 472,  81,  74, 539,  29, 239])"
      ]
     },
     "execution_count": 25,
     "metadata": {},
     "output_type": "execute_result"
    }
   ],
   "source": [
    "# 랜덤 index 배열 생성\n",
    "indices = torch.randperm(x.size(0))\n",
    "indices"
   ]
  },
  {
   "cell_type": "code",
   "execution_count": 26,
   "id": "0bf29a18-940a-4407-85be-9f861f6d4e1b",
   "metadata": {},
   "outputs": [
    {
     "name": "stdout",
     "output_type": "stream",
     "text": [
      "torch.Size([398, 30]) torch.Size([398, 1])\n",
      "torch.Size([113, 30]) torch.Size([113, 1])\n",
      "torch.Size([58, 30]) torch.Size([58, 1])\n"
     ]
    }
   ],
   "source": [
    "# 그 다음은 해당 배열을 원 데이터에 적용해야겠지\n",
    "x = torch.index_select(x, dim=0, index=indices) # x 데이터에 row 방향으로 indices 배열로 재배열함\n",
    "y = torch.index_select(y, dim=0, index=indices)\n",
    "\n",
    "#cnts 값을 기준으로 split\n",
    "x = x.split(cnts, dim=0)\n",
    "y = y.split(cnts, dim=0) \n",
    "\n",
    "for x_i, y_i in zip(x, y):\n",
    "    print(x_i.size(), y_i.size())"
   ]
  },
  {
   "cell_type": "markdown",
   "id": "97b5ce41-4ef4-4580-ad81-3d0b7c21bdf6",
   "metadata": {},
   "source": [
    "# 전처리!"
   ]
  },
  {
   "cell_type": "code",
   "execution_count": 29,
   "id": "1fe9371d-7a37-49ba-be1f-e6d78d9100bf",
   "metadata": {},
   "outputs": [
    {
     "data": {
      "text/html": [
       "<style>#sk-container-id-2 {color: black;background-color: white;}#sk-container-id-2 pre{padding: 0;}#sk-container-id-2 div.sk-toggleable {background-color: white;}#sk-container-id-2 label.sk-toggleable__label {cursor: pointer;display: block;width: 100%;margin-bottom: 0;padding: 0.3em;box-sizing: border-box;text-align: center;}#sk-container-id-2 label.sk-toggleable__label-arrow:before {content: \"▸\";float: left;margin-right: 0.25em;color: #696969;}#sk-container-id-2 label.sk-toggleable__label-arrow:hover:before {color: black;}#sk-container-id-2 div.sk-estimator:hover label.sk-toggleable__label-arrow:before {color: black;}#sk-container-id-2 div.sk-toggleable__content {max-height: 0;max-width: 0;overflow: hidden;text-align: left;background-color: #f0f8ff;}#sk-container-id-2 div.sk-toggleable__content pre {margin: 0.2em;color: black;border-radius: 0.25em;background-color: #f0f8ff;}#sk-container-id-2 input.sk-toggleable__control:checked~div.sk-toggleable__content {max-height: 200px;max-width: 100%;overflow: auto;}#sk-container-id-2 input.sk-toggleable__control:checked~label.sk-toggleable__label-arrow:before {content: \"▾\";}#sk-container-id-2 div.sk-estimator input.sk-toggleable__control:checked~label.sk-toggleable__label {background-color: #d4ebff;}#sk-container-id-2 div.sk-label input.sk-toggleable__control:checked~label.sk-toggleable__label {background-color: #d4ebff;}#sk-container-id-2 input.sk-hidden--visually {border: 0;clip: rect(1px 1px 1px 1px);clip: rect(1px, 1px, 1px, 1px);height: 1px;margin: -1px;overflow: hidden;padding: 0;position: absolute;width: 1px;}#sk-container-id-2 div.sk-estimator {font-family: monospace;background-color: #f0f8ff;border: 1px dotted black;border-radius: 0.25em;box-sizing: border-box;margin-bottom: 0.5em;}#sk-container-id-2 div.sk-estimator:hover {background-color: #d4ebff;}#sk-container-id-2 div.sk-parallel-item::after {content: \"\";width: 100%;border-bottom: 1px solid gray;flex-grow: 1;}#sk-container-id-2 div.sk-label:hover label.sk-toggleable__label {background-color: #d4ebff;}#sk-container-id-2 div.sk-serial::before {content: \"\";position: absolute;border-left: 1px solid gray;box-sizing: border-box;top: 0;bottom: 0;left: 50%;z-index: 0;}#sk-container-id-2 div.sk-serial {display: flex;flex-direction: column;align-items: center;background-color: white;padding-right: 0.2em;padding-left: 0.2em;position: relative;}#sk-container-id-2 div.sk-item {position: relative;z-index: 1;}#sk-container-id-2 div.sk-parallel {display: flex;align-items: stretch;justify-content: center;background-color: white;position: relative;}#sk-container-id-2 div.sk-item::before, #sk-container-id-2 div.sk-parallel-item::before {content: \"\";position: absolute;border-left: 1px solid gray;box-sizing: border-box;top: 0;bottom: 0;left: 50%;z-index: -1;}#sk-container-id-2 div.sk-parallel-item {display: flex;flex-direction: column;z-index: 1;position: relative;background-color: white;}#sk-container-id-2 div.sk-parallel-item:first-child::after {align-self: flex-end;width: 50%;}#sk-container-id-2 div.sk-parallel-item:last-child::after {align-self: flex-start;width: 50%;}#sk-container-id-2 div.sk-parallel-item:only-child::after {width: 0;}#sk-container-id-2 div.sk-dashed-wrapped {border: 1px dashed gray;margin: 0 0.4em 0.5em 0.4em;box-sizing: border-box;padding-bottom: 0.4em;background-color: white;}#sk-container-id-2 div.sk-label label {font-family: monospace;font-weight: bold;display: inline-block;line-height: 1.2em;}#sk-container-id-2 div.sk-label-container {text-align: center;}#sk-container-id-2 div.sk-container {/* jupyter's `normalize.less` sets `[hidden] { display: none; }` but bootstrap.min.css set `[hidden] { display: none !important; }` so we also need the `!important` here to be able to override the default hidden behavior on the sphinx rendered scikit-learn.org. See: https://github.com/scikit-learn/scikit-learn/issues/21755 */display: inline-block !important;position: relative;}#sk-container-id-2 div.sk-text-repr-fallback {display: none;}</style><div id=\"sk-container-id-2\" class=\"sk-top-container\"><div class=\"sk-text-repr-fallback\"><pre>StandardScaler()</pre><b>In a Jupyter environment, please rerun this cell to show the HTML representation or trust the notebook. <br />On GitHub, the HTML representation is unable to render, please try loading this page with nbviewer.org.</b></div><div class=\"sk-container\" hidden><div class=\"sk-item\"><div class=\"sk-estimator sk-toggleable\"><input class=\"sk-toggleable__control sk-hidden--visually\" id=\"sk-estimator-id-2\" type=\"checkbox\" checked><label for=\"sk-estimator-id-2\" class=\"sk-toggleable__label sk-toggleable__label-arrow\">StandardScaler</label><div class=\"sk-toggleable__content\"><pre>StandardScaler()</pre></div></div></div></div></div>"
      ],
      "text/plain": [
       "StandardScaler()"
      ]
     },
     "execution_count": 29,
     "metadata": {},
     "output_type": "execute_result"
    }
   ],
   "source": [
    "scaler = StandardScaler() \n",
    "# training set에만 fit 적용\n",
    "scaler.fit(x[0].numpy()) # sklearn은 tensor 타입에 대해서 작동하지 않은 것 같다. 반드시 numpy 타입으로 해줄 것"
   ]
  },
  {
   "cell_type": "code",
   "execution_count": 30,
   "id": "445c01d4-fe49-4f8e-98be-f462b19259ff",
   "metadata": {},
   "outputs": [
    {
     "data": {
      "text/html": [
       "<div>\n",
       "<style scoped>\n",
       "    .dataframe tbody tr th:only-of-type {\n",
       "        vertical-align: middle;\n",
       "    }\n",
       "\n",
       "    .dataframe tbody tr th {\n",
       "        vertical-align: top;\n",
       "    }\n",
       "\n",
       "    .dataframe thead th {\n",
       "        text-align: right;\n",
       "    }\n",
       "</style>\n",
       "<table border=\"1\" class=\"dataframe\">\n",
       "  <thead>\n",
       "    <tr style=\"text-align: right;\">\n",
       "      <th></th>\n",
       "      <th>mean radius</th>\n",
       "      <th>mean texture</th>\n",
       "      <th>mean perimeter</th>\n",
       "      <th>mean area</th>\n",
       "      <th>mean smoothness</th>\n",
       "      <th>mean compactness</th>\n",
       "      <th>mean concavity</th>\n",
       "      <th>mean concave points</th>\n",
       "      <th>mean symmetry</th>\n",
       "      <th>mean fractal dimension</th>\n",
       "      <th>...</th>\n",
       "      <th>worst radius</th>\n",
       "      <th>worst texture</th>\n",
       "      <th>worst perimeter</th>\n",
       "      <th>worst area</th>\n",
       "      <th>worst smoothness</th>\n",
       "      <th>worst compactness</th>\n",
       "      <th>worst concavity</th>\n",
       "      <th>worst concave points</th>\n",
       "      <th>worst symmetry</th>\n",
       "      <th>worst fractal dimension</th>\n",
       "    </tr>\n",
       "  </thead>\n",
       "  <tbody>\n",
       "    <tr>\n",
       "      <th>393</th>\n",
       "      <td>-0.107759</td>\n",
       "      <td>1.378044</td>\n",
       "      <td>-0.124189</td>\n",
       "      <td>-0.168471</td>\n",
       "      <td>-0.091875</td>\n",
       "      <td>-0.358227</td>\n",
       "      <td>-0.006066</td>\n",
       "      <td>-0.065238</td>\n",
       "      <td>-0.704004</td>\n",
       "      <td>-0.581326</td>\n",
       "      <td>...</td>\n",
       "      <td>0.200314</td>\n",
       "      <td>1.572072</td>\n",
       "      <td>0.080491</td>\n",
       "      <td>0.091508</td>\n",
       "      <td>-0.272206</td>\n",
       "      <td>-0.394212</td>\n",
       "      <td>0.239450</td>\n",
       "      <td>0.079470</td>\n",
       "      <td>-0.380027</td>\n",
       "      <td>-0.582849</td>\n",
       "    </tr>\n",
       "    <tr>\n",
       "      <th>394</th>\n",
       "      <td>-0.148018</td>\n",
       "      <td>-1.249558</td>\n",
       "      <td>-0.154680</td>\n",
       "      <td>-0.272279</td>\n",
       "      <td>0.766242</td>\n",
       "      <td>0.225569</td>\n",
       "      <td>-0.372757</td>\n",
       "      <td>0.142829</td>\n",
       "      <td>-0.096023</td>\n",
       "      <td>0.452443</td>\n",
       "      <td>...</td>\n",
       "      <td>-0.256638</td>\n",
       "      <td>-1.202303</td>\n",
       "      <td>-0.334682</td>\n",
       "      <td>-0.347548</td>\n",
       "      <td>0.289522</td>\n",
       "      <td>-0.029551</td>\n",
       "      <td>-0.424174</td>\n",
       "      <td>0.315863</td>\n",
       "      <td>0.570572</td>\n",
       "      <td>0.497829</td>\n",
       "    </tr>\n",
       "    <tr>\n",
       "      <th>395</th>\n",
       "      <td>0.314966</td>\n",
       "      <td>1.560917</td>\n",
       "      <td>0.291418</td>\n",
       "      <td>0.213397</td>\n",
       "      <td>0.436197</td>\n",
       "      <td>-0.116563</td>\n",
       "      <td>0.475064</td>\n",
       "      <td>0.487466</td>\n",
       "      <td>-0.568102</td>\n",
       "      <td>0.216884</td>\n",
       "      <td>...</td>\n",
       "      <td>0.521874</td>\n",
       "      <td>1.236528</td>\n",
       "      <td>0.463447</td>\n",
       "      <td>0.347311</td>\n",
       "      <td>1.461251</td>\n",
       "      <td>-0.123339</td>\n",
       "      <td>0.671484</td>\n",
       "      <td>0.614877</td>\n",
       "      <td>-0.375076</td>\n",
       "      <td>0.560574</td>\n",
       "    </tr>\n",
       "    <tr>\n",
       "      <th>396</th>\n",
       "      <td>0.536394</td>\n",
       "      <td>1.130203</td>\n",
       "      <td>0.529504</td>\n",
       "      <td>0.401907</td>\n",
       "      <td>-0.855192</td>\n",
       "      <td>-0.068346</td>\n",
       "      <td>0.163524</td>\n",
       "      <td>0.169072</td>\n",
       "      <td>0.147170</td>\n",
       "      <td>-1.298772</td>\n",
       "      <td>...</td>\n",
       "      <td>0.168582</td>\n",
       "      <td>0.326467</td>\n",
       "      <td>0.183829</td>\n",
       "      <td>0.038029</td>\n",
       "      <td>-0.860265</td>\n",
       "      <td>-0.406673</td>\n",
       "      <td>-0.186053</td>\n",
       "      <td>-0.022288</td>\n",
       "      <td>-0.119273</td>\n",
       "      <td>-1.204700</td>\n",
       "    </tr>\n",
       "    <tr>\n",
       "      <th>397</th>\n",
       "      <td>-0.202656</td>\n",
       "      <td>-1.331370</td>\n",
       "      <td>-0.218588</td>\n",
       "      <td>-0.285113</td>\n",
       "      <td>-0.881876</td>\n",
       "      <td>-0.345932</td>\n",
       "      <td>-0.464333</td>\n",
       "      <td>-0.500385</td>\n",
       "      <td>-0.675393</td>\n",
       "      <td>-0.954183</td>\n",
       "      <td>...</td>\n",
       "      <td>-0.381454</td>\n",
       "      <td>-1.357799</td>\n",
       "      <td>-0.284533</td>\n",
       "      <td>-0.412613</td>\n",
       "      <td>-0.706667</td>\n",
       "      <td>0.092440</td>\n",
       "      <td>0.087233</td>\n",
       "      <td>-0.338053</td>\n",
       "      <td>-0.239748</td>\n",
       "      <td>-0.625986</td>\n",
       "    </tr>\n",
       "  </tbody>\n",
       "</table>\n",
       "<p>5 rows × 30 columns</p>\n",
       "</div>"
      ],
      "text/plain": [
       "     mean radius  mean texture  mean perimeter  mean area  mean smoothness  \\\n",
       "393    -0.107759      1.378044       -0.124189  -0.168471        -0.091875   \n",
       "394    -0.148018     -1.249558       -0.154680  -0.272279         0.766242   \n",
       "395     0.314966      1.560917        0.291418   0.213397         0.436197   \n",
       "396     0.536394      1.130203        0.529504   0.401907        -0.855192   \n",
       "397    -0.202656     -1.331370       -0.218588  -0.285113        -0.881876   \n",
       "\n",
       "     mean compactness  mean concavity  mean concave points  mean symmetry  \\\n",
       "393         -0.358227       -0.006066            -0.065238      -0.704004   \n",
       "394          0.225569       -0.372757             0.142829      -0.096023   \n",
       "395         -0.116563        0.475064             0.487466      -0.568102   \n",
       "396         -0.068346        0.163524             0.169072       0.147170   \n",
       "397         -0.345932       -0.464333            -0.500385      -0.675393   \n",
       "\n",
       "     mean fractal dimension  ...  worst radius  worst texture  \\\n",
       "393               -0.581326  ...      0.200314       1.572072   \n",
       "394                0.452443  ...     -0.256638      -1.202303   \n",
       "395                0.216884  ...      0.521874       1.236528   \n",
       "396               -1.298772  ...      0.168582       0.326467   \n",
       "397               -0.954183  ...     -0.381454      -1.357799   \n",
       "\n",
       "     worst perimeter  worst area  worst smoothness  worst compactness  \\\n",
       "393         0.080491    0.091508         -0.272206          -0.394212   \n",
       "394        -0.334682   -0.347548          0.289522          -0.029551   \n",
       "395         0.463447    0.347311          1.461251          -0.123339   \n",
       "396         0.183829    0.038029         -0.860265          -0.406673   \n",
       "397        -0.284533   -0.412613         -0.706667           0.092440   \n",
       "\n",
       "     worst concavity  worst concave points  worst symmetry  \\\n",
       "393         0.239450              0.079470       -0.380027   \n",
       "394        -0.424174              0.315863        0.570572   \n",
       "395         0.671484              0.614877       -0.375076   \n",
       "396        -0.186053             -0.022288       -0.119273   \n",
       "397         0.087233             -0.338053       -0.239748   \n",
       "\n",
       "     worst fractal dimension  \n",
       "393                -0.582849  \n",
       "394                 0.497829  \n",
       "395                 0.560574  \n",
       "396                -1.204700  \n",
       "397                -0.625986  \n",
       "\n",
       "[5 rows x 30 columns]"
      ]
     },
     "execution_count": 30,
     "metadata": {},
     "output_type": "execute_result"
    }
   ],
   "source": [
    "x = [ torch.from_numpy(scaler.transform(x[i].numpy())).float() for i in range(3)]\n",
    "\n",
    "df = pd.DataFrame(x[0].numpy(), columns=cancer.feature_names)\n",
    "df.tail()"
   ]
  },
  {
   "cell_type": "markdown",
   "id": "f410e730-64c2-477f-bbe3-eb2c192beb8d",
   "metadata": {},
   "source": [
    "## Build Model & Optimizer"
   ]
  },
  {
   "cell_type": "code",
   "execution_count": 42,
   "id": "4b03b4a0-0003-4483-962e-85593e6dbe83",
   "metadata": {},
   "outputs": [
    {
     "data": {
      "text/plain": [
       "Sequential(\n",
       "  (0): Linear(in_features=30, out_features=25, bias=True)\n",
       "  (1): LeakyReLU(negative_slope=0.01)\n",
       "  (2): Linear(in_features=25, out_features=20, bias=True)\n",
       "  (3): LeakyReLU(negative_slope=0.01)\n",
       "  (4): Linear(in_features=20, out_features=15, bias=True)\n",
       "  (5): LeakyReLU(negative_slope=0.01)\n",
       "  (6): Linear(in_features=15, out_features=10, bias=True)\n",
       "  (7): LeakyReLU(negative_slope=0.01)\n",
       "  (8): Linear(in_features=10, out_features=5, bias=True)\n",
       "  (9): LeakyReLU(negative_slope=0.01)\n",
       "  (10): Linear(in_features=5, out_features=1, bias=True)\n",
       "  (11): Sigmoid()\n",
       ")"
      ]
     },
     "execution_count": 42,
     "metadata": {},
     "output_type": "execute_result"
    }
   ],
   "source": [
    "model = nn.Sequential(\n",
    "    nn.Linear(x[0].size(-1), 25),\n",
    "    nn.LeakyReLU(),\n",
    "    nn.Linear(25, 20),\n",
    "    nn.LeakyReLU(),\n",
    "    nn.Linear(20, 15),\n",
    "    nn.LeakyReLU(),\n",
    "    nn.Linear(15, 10),\n",
    "    nn.LeakyReLU(),\n",
    "    nn.Linear(10, 5),\n",
    "    nn.LeakyReLU(),\n",
    "    nn.Linear(5, y[0].size(-1)),\n",
    "    nn.Sigmoid(),\n",
    ")\n",
    "\n",
    "model"
   ]
  },
  {
   "cell_type": "code",
   "execution_count": 43,
   "id": "79c85c5e-d739-4279-8767-b07215a3fefb",
   "metadata": {},
   "outputs": [],
   "source": [
    "optimizer = optim.Adam(model.parameters()) # model의 parameter를 업데이트 할거임~"
   ]
  },
  {
   "cell_type": "markdown",
   "id": "21dda42b-0c20-4f41-b6b2-80dd42336fd5",
   "metadata": {},
   "source": [
    "# Train"
   ]
  },
  {
   "cell_type": "code",
   "execution_count": 44,
   "id": "b4eab054-c08a-4478-8268-de9a8911e546",
   "metadata": {},
   "outputs": [],
   "source": [
    "n_epochs = 10000\n",
    "batch_size = 64 # 데이터셋이 적기 때문에 더 많은 파라미터 업데이트를 위해 batch_size를 줄임\n",
    "print_interval = 100\n",
    "early_stop = 2000"
   ]
  },
  {
   "cell_type": "code",
   "execution_count": 45,
   "id": "29aa7ead-f741-4c8b-863c-29ec1f4d3e59",
   "metadata": {},
   "outputs": [],
   "source": [
    "from copy import deepcopy\n",
    "\n",
    "lowest_loss = np.inf\n",
    "best_model = None\n",
    "\n",
    "lowest_epoch = np.inf"
   ]
  },
  {
   "cell_type": "code",
   "execution_count": 46,
   "id": "739a7a22-767b-4043-bf1d-10387eee518f",
   "metadata": {},
   "outputs": [
    {
     "name": "stdout",
     "output_type": "stream",
     "text": [
      "Epoch 100: train loss=0.0025 / valid_loss=0.2053 / lowest_loss=0.1534\n",
      "Epoch 200: train loss=0.0001 / valid_loss=1.1978 / lowest_loss=0.1534\n",
      "Epoch 300: train loss=0.0001 / valid_loss=1.2345 / lowest_loss=0.1534\n",
      "Epoch 400: train loss=0.0000 / valid_loss=1.2549 / lowest_loss=0.1534\n",
      "Epoch 500: train loss=0.0000 / valid_loss=1.2698 / lowest_loss=0.1534\n",
      "Epoch 600: train loss=0.0000 / valid_loss=1.9359 / lowest_loss=0.1534\n",
      "Epoch 700: train loss=0.0000 / valid_loss=1.9441 / lowest_loss=0.1534\n",
      "Epoch 800: train loss=0.0000 / valid_loss=1.9510 / lowest_loss=0.1534\n",
      "Epoch 900: train loss=0.0000 / valid_loss=1.9576 / lowest_loss=0.1534\n",
      "Epoch 1000: train loss=0.0000 / valid_loss=1.9625 / lowest_loss=0.1534\n",
      "Epoch 1100: train loss=0.0000 / valid_loss=1.9709 / lowest_loss=0.1534\n",
      "Epoch 1200: train loss=0.0000 / valid_loss=1.9792 / lowest_loss=0.1534\n",
      "Epoch 1300: train loss=0.0000 / valid_loss=1.9854 / lowest_loss=0.1534\n",
      "Epoch 1400: train loss=0.0000 / valid_loss=1.9946 / lowest_loss=0.1534\n",
      "Epoch 1500: train loss=0.0000 / valid_loss=1.9990 / lowest_loss=0.1534\n",
      "Epoch 1600: train loss=0.0000 / valid_loss=2.0015 / lowest_loss=0.1534\n",
      "Epoch 1700: train loss=0.0000 / valid_loss=2.6621 / lowest_loss=0.1534\n",
      "Epoch 1800: train loss=0.0000 / valid_loss=2.6651 / lowest_loss=0.1534\n",
      "Epoch 1900: train loss=0.0000 / valid_loss=2.6691 / lowest_loss=0.1534\n",
      "Epoch 2000: train loss=0.0000 / valid_loss=2.6733 / lowest_loss=0.1534\n",
      "There is no improvement during last 2000 epochs.\n",
      "The best validation loss from epoch 57: 0.1534\n"
     ]
    },
    {
     "data": {
      "text/plain": [
       "<All keys matched successfully>"
      ]
     },
     "execution_count": 46,
     "metadata": {},
     "output_type": "execute_result"
    }
   ],
   "source": [
    "train_history, valid_history = [], []\n",
    "\n",
    "for i in range(n_epochs):\n",
    "    # epoch마다 데이터를 섞어서 파라미터 업데이트를 할거임.\n",
    "    # batch_size로 쪼개기 때문에 epoch마다 batch에는 다른 데이터들이 들어가고\n",
    "    # 다른 업데이트 값을 기대할 수 있겠군\n",
    "    # 하지만 운이 없으면 모든 데이터를 골고루 사용할 수 없는 거 아닌가? epoch이 크기 때문에 상관 없을까?\n",
    "    indices = torch.randperm(x[0].size(0))\n",
    "    x_ = torch.index_select(x[0], dim=0, index=indices)\n",
    "    y_ = torch.index_select(y[0], dim=0, index=indices)\n",
    "    \n",
    "    x_ = x_.split(batch_size, dim=0)\n",
    "    y_ = y_.split(batch_size, dim=0)\n",
    "    \n",
    "    train_loss, valid_loss = 0, 0\n",
    "    y_hat = []\n",
    "    \n",
    "    for x_i, y_i in zip(x_, y_):\n",
    "        y_hat_i = model(x_i) # f(x_i) = y_hat_i\n",
    "        loss = F.binary_cross_entropy(y_hat_i, y_i)\n",
    "        \n",
    "        optimizer.zero_grad() # optimizer를 초기화하고\n",
    "        loss.backward() # loss에 대해서 미분 실행\n",
    "        \n",
    "        optimizer.step() # 얻은 미분값을 기반으로 파라미터 없데이트 # theta_i = theta_{i-1} - eta * nabla_theta_{i-1}{L(x_i|theta_{i-1})\n",
    "        \n",
    "        train_loss += float(loss) # loss를 모두 더함\n",
    "        \n",
    "    # batch 업데이트가 끝나면 평균 loss를 구하자\n",
    "    train_loss = train_loss / len(x_)\n",
    "    \n",
    "    \n",
    "    # validation 구하자\n",
    "    with torch.no_grad(): # no_grad 까먹으면 속도가 느려져~~\n",
    "        x_ = x[1].split(batch_size, dim=0)\n",
    "        y_ = y[1].split(batch_size, dim=0)\n",
    "        \n",
    "        valid_loss = 0\n",
    "        \n",
    "        for x_i, y_i in zip(x_, y_):\n",
    "            # validation section에서는 파라미터 업데이트가 없기 때문에\n",
    "            # 학습된 모델에서 loss만 구하고 평가하자.\n",
    "            y_hat_i = model(x_i)\n",
    "            loss = F.binary_cross_entropy(y_hat_i, y_i)\n",
    "            \n",
    "            valid_loss += float(loss)\n",
    "            #y_hat += [y_hat_i] # 이거 왜 있지?\n",
    "        \n",
    "        valid_loss = valid_loss / len(x_)\n",
    "        \n",
    "        train_history += [train_loss]\n",
    "        valid_history += [valid_loss]\n",
    "        \n",
    "        if (i + 1) % print_interval==0:\n",
    "            print(\"Epoch {}: train loss={:.4f} / valid_loss={:.4f} / lowest_loss={:.4f}\".format(i+1, train_loss, valid_loss, lowest_loss))\n",
    "            \n",
    "        if valid_loss <= lowest_loss:\n",
    "            lowest_loss = valid_loss\n",
    "            lowest_epoch = i\n",
    "            \n",
    "            best_model = deepcopy(model.state_dict())\n",
    "        \n",
    "        else:\n",
    "            if lowest_epoch + early_stop < i + 1:\n",
    "                print(\"There is no improvement during last {} epochs.\".format(early_stop))\n",
    "                break\n",
    "    \n",
    "print(\"The best validation loss from epoch {}: {:.4f}\".format(lowest_epoch+1, lowest_loss))\n",
    "model.load_state_dict(best_model)"
   ]
  },
  {
   "cell_type": "markdown",
   "id": "9e45fbf2-78e0-48b9-89bf-726684433af7",
   "metadata": {},
   "source": [
    "### 결과 분석\n",
    "빠른 시간안에 오버피팅 되었음"
   ]
  },
  {
   "cell_type": "markdown",
   "id": "43774330-6b4f-44c6-b34a-63245cd4acb9",
   "metadata": {},
   "source": [
    "# Loss History"
   ]
  },
  {
   "cell_type": "code",
   "execution_count": 52,
   "id": "4936417d-45b7-4347-8c2d-b9ec836d14b5",
   "metadata": {},
   "outputs": [
    {
     "data": {
      "image/png": "[encoded data removed]",
      "text/plain": [
       "<Figure size 2000x1000 with 1 Axes>"
      ]
     },
     "metadata": {},
     "output_type": "display_data"
    }
   ],
   "source": [
    "plot_from = 2\n",
    "\n",
    "plt.figure(figsize=(20, 10))\n",
    "plt.grid(True)\n",
    "plt.title(\"Train / Valid Loss History\")\n",
    "plt.plot(range(plot_from, len(train_history)), train_history[plot_from:], label=\"Train\")\n",
    "plt.plot(range(plot_from, len(valid_history)), valid_history[plot_from:], label=\"Valid\")\n",
    "\n",
    "plt.legend()\n",
    "plt.yscale('log')\n",
    "plt.show()"
   ]
  },
  {
   "cell_type": "markdown",
   "id": "821b3548-e5eb-412d-9dbe-198924ffc10e",
   "metadata": {},
   "source": [
    "# Let's see the result!\n"
   ]
  },
  {
   "cell_type": "code",
   "execution_count": 53,
   "id": "916a81b9-f406-4e2b-baeb-383474492caf",
   "metadata": {},
   "outputs": [
    {
     "name": "stdout",
     "output_type": "stream",
     "text": [
      "Test loss: 0.014089\n"
     ]
    }
   ],
   "source": [
    "test_loss = 0\n",
    "y_hat = []\n",
    "\n",
    "with torch.no_grad():\n",
    "    x_ = x[2].split(batch_size, dim=0)\n",
    "    y_ = y[2].split(batch_size, dim=0)\n",
    "    \n",
    "    for x_i, y_i in zip(x_, y_):\n",
    "        y_hat_i = model(x_i)\n",
    "        loss = F.binary_cross_entropy(y_hat_i, y_i)\n",
    "        \n",
    "        test_loss += float(loss)\n",
    "        y_hat += [y_hat_i]\n",
    "        \n",
    "test_loss = test_loss/len(x_)\n",
    "y_hat = torch.cat(y_hat, dim=0)\n",
    "\n",
    "print(\"Test loss: {:4f}\".format(test_loss))"
   ]
  },
  {
   "cell_type": "code",
   "execution_count": 54,
   "id": "cd15afa1-e5bf-4340-86f4-c9493633e248",
   "metadata": {},
   "outputs": [
    {
     "name": "stdout",
     "output_type": "stream",
     "text": [
      "Test Accuracy: 1.0000\n"
     ]
    }
   ],
   "source": [
    "correct_cnt = (y[2] == (y_hat > 0.5)).sum() # y_hat이 0.5보다 높으면 True이고 y[2]에서도 True인 것 즉, True Positive갯수\n",
    "total_cnt = float(y[2].size(0))\n",
    "\n",
    "print(\"Test Accuracy: {:.4f}\".format(correct_cnt/total_cnt))"
   ]
  },
  {
   "cell_type": "code",
   "execution_count": 57,
   "id": "77889e49-15bb-4f7f-a74c-81f70209cb49",
   "metadata": {},
   "outputs": [
    {
     "data": {
      "image/png": "[encoded data removed]",
      "text/plain": [
       "<Figure size 640x480 with 1 Axes>"
      ]
     },
     "metadata": {},
     "output_type": "display_data"
    }
   ],
   "source": [
    "df = pd.DataFrame(torch.cat([y[2], y_hat], dim=1).detach().numpy(),\n",
    "                  columns=[\"y\", \"y_hat\"])\n",
    "\n",
    "sns.histplot(df, x='y_hat', hue='y', bins=100, stat='probability')\n",
    "plt.show()"
   ]
  },
  {
   "cell_type": "markdown",
   "id": "a91543b4-ad9c-49cb-94dc-b4c9564390ee",
   "metadata": {},
   "source": [
    "# Area Under ROC"
   ]
  },
  {
   "cell_type": "code",
   "execution_count": 58,
   "id": "e8ba2453-e592-4d2e-9cd9-670349f074e0",
   "metadata": {},
   "outputs": [
    {
     "data": {
      "text/plain": [
       "1.0"
      ]
     },
     "execution_count": 58,
     "metadata": {},
     "output_type": "execute_result"
    }
   ],
   "source": [
    "from sklearn.metrics import roc_auc_score\n",
    "\n",
    "roc_auc_score(df.values[:, 0], df.values[:, 1]) #df는 바로 직전에 정답과 예측으로 재조정했으니 오해 말라구."
   ]
  },
  {
   "cell_type": "code",
   "execution_count": null,
   "id": "d10ddd9b-e9a7-4132-ac67-c10c8d1a2fe5",
   "metadata": {},
   "outputs": [],
   "source": []
  }
 ],
 "metadata": {
  "kernelspec": {
   "display_name": "nlp",
   "language": "python",
   "name": "nlp"
  },
  "language_info": {
   "codemirror_mode": {
    "name": "ipython",
    "version": 3
   },
   "file_extension": ".py",
   "mimetype": "text/x-python",
   "name": "python",
   "nbconvert_exporter": "python",
   "pygments_lexer": "ipython3",
   "version": "3.11.4"
  }
 },
 "nbformat": 4,
 "nbformat_minor": 5
}

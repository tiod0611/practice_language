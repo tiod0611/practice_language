{
 "cells": [
  {
   "cell_type": "markdown",
   "id": "eb29356a-818d-4060-b00a-e0c81ea192d7",
   "metadata": {},
   "source": [
    "# 텐서 사이즈 이모저모"
   ]
  },
  {
   "cell_type": "code",
   "execution_count": 2,
   "id": "43486f92-e4e3-4334-8617-71e8acbf851b",
   "metadata": {},
   "outputs": [],
   "source": [
    "import torch"
   ]
  },
  {
   "cell_type": "code",
   "execution_count": 6,
   "id": "7450b901-526e-4af5-aa19-f283b4a2c19a",
   "metadata": {},
   "outputs": [
    {
     "data": {
      "text/plain": [
       "(tensor([[[[0.0000e+00],\n",
       "           [9.9184e-39],\n",
       "           [1.8754e+28]],\n",
       " \n",
       "          [[3.2175e+21],\n",
       "           [4.1727e-08],\n",
       "           [1.2802e-11]]]]),\n",
       " torch.Size([1, 2, 3, 1]))"
      ]
     },
     "execution_count": 6,
     "metadata": {},
     "output_type": "execute_result"
    }
   ],
   "source": [
    "a = torch.FloatTensor(1, 2, 3, 1)\n",
    "a, a.size()"
   ]
  },
  {
   "cell_type": "markdown",
   "id": "a9b366b0-b330-40ef-b52b-b68c2973a00c",
   "metadata": {},
   "source": [
    "## reshape"
   ]
  },
  {
   "cell_type": "markdown",
   "id": "f380aeae-f131-4894-b38d-09f6baea1556",
   "metadata": {},
   "source": [
    "## squeeze\n",
    "1. 텐서에서 크기가 1인 차원을 제거한다!\n",
    "2. 특정 차원에 대해서만 제거할 수도 있다. "
   ]
  },
  {
   "cell_type": "code",
   "execution_count": 7,
   "id": "d490b7fa-3af8-48b7-9282-95ed74f84a37",
   "metadata": {},
   "outputs": [
    {
     "data": {
      "text/plain": [
       "torch.Size([2, 3])"
      ]
     },
     "execution_count": 7,
     "metadata": {},
     "output_type": "execute_result"
    }
   ],
   "source": [
    "a.squeeze().size()"
   ]
  },
  {
   "cell_type": "code",
   "execution_count": 8,
   "id": "4394efef-2631-44bb-9be1-7dd7e370c761",
   "metadata": {},
   "outputs": [
    {
     "data": {
      "text/plain": [
       "torch.Size([2, 3, 1])"
      ]
     },
     "execution_count": 8,
     "metadata": {},
     "output_type": "execute_result"
    }
   ],
   "source": [
    "a.squeeze(0).size()"
   ]
  },
  {
   "cell_type": "markdown",
   "id": "14e6e561-398c-4649-9e22-f8d5b8902b24",
   "metadata": {},
   "source": [
    "## unsqueeze\n",
    "특정 차원을 늘려준다."
   ]
  },
  {
   "cell_type": "code",
   "execution_count": 9,
   "id": "572f4329-e1f0-41c6-92e0-3c0f3e40bc71",
   "metadata": {},
   "outputs": [
    {
     "data": {
      "text/plain": [
       "(tensor([[0.0000e+00, 0.0000e+00, 0.0000e+00],\n",
       "         [0.0000e+00, 0.0000e+00, 8.9082e-39]]),\n",
       " torch.Size([2, 3]))"
      ]
     },
     "execution_count": 9,
     "metadata": {},
     "output_type": "execute_result"
    }
   ],
   "source": [
    "b = torch.FloatTensor(2, 3)\n",
    "b, b.shape"
   ]
  },
  {
   "cell_type": "code",
   "execution_count": 10,
   "id": "c4a68c57-38bc-47ec-93da-597b0e706ff1",
   "metadata": {},
   "outputs": [
    {
     "data": {
      "text/plain": [
       "torch.Size([2, 3, 1])"
      ]
     },
     "execution_count": 10,
     "metadata": {},
     "output_type": "execute_result"
    }
   ],
   "source": [
    "b.unsqueeze(-1).size()"
   ]
  },
  {
   "cell_type": "code",
   "execution_count": 12,
   "id": "13abd133-f709-47b4-82ab-c46bc46db961",
   "metadata": {},
   "outputs": [
    {
     "data": {
      "text/plain": [
       "tensor([[[0.0000e+00, 0.0000e+00, 0.0000e+00]],\n",
       "\n",
       "        [[0.0000e+00, 0.0000e+00, 8.9082e-39]]])"
      ]
     },
     "execution_count": 12,
     "metadata": {},
     "output_type": "execute_result"
    }
   ],
   "source": [
    "b.unsqueeze(1)"
   ]
  },
  {
   "cell_type": "code",
   "execution_count": null,
   "id": "b035a05e-9468-4142-bdfd-cc64dfd558f7",
   "metadata": {},
   "outputs": [],
   "source": []
  }
 ],
 "metadata": {
  "kernelspec": {
   "display_name": "nlp",
   "language": "python",
   "name": "nlp"
  },
  "language_info": {
   "codemirror_mode": {
    "name": "ipython",
    "version": 3
   },
   "file_extension": ".py",
   "mimetype": "text/x-python",
   "name": "python",
   "nbconvert_exporter": "python",
   "pygments_lexer": "ipython3",
   "version": "3.11.4"
  }
 },
 "nbformat": 4,
 "nbformat_minor": 5
}

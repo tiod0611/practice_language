{
 "cells": [
  {
   "cell_type": "code",
   "execution_count": 1,
   "id": "64187430-a4ad-46df-b4c9-8ab471f9c7f0",
   "metadata": {},
   "outputs": [],
   "source": [
    "import torch"
   ]
  },
  {
   "cell_type": "code",
   "execution_count": 4,
   "id": "971a1396-c539-4072-9f9b-a12dd9e8e282",
   "metadata": {},
   "outputs": [
    {
     "data": {
      "text/plain": [
       "(tensor([[ 3.,  5.],\n",
       "         [ 1., 10.]]),\n",
       " tensor([[13.,  0.],\n",
       "         [-4.,  2.]]))"
      ]
     },
     "execution_count": 4,
     "metadata": {},
     "output_type": "execute_result"
    }
   ],
   "source": [
    "a = torch.FloatTensor([[3, 5],\n",
    "                       [1, 10]])\n",
    "b = torch.FloatTensor([[13, 0],\n",
    "                        [-4, 2]])\n",
    "a, b"
   ]
  },
  {
   "cell_type": "markdown",
   "id": "e9430290-130c-48cc-ac7a-eb7daebcb15f",
   "metadata": {},
   "source": [
    "## Inplace 연산"
   ]
  },
  {
   "cell_type": "code",
   "execution_count": 5,
   "id": "8e7f6270-4068-4b20-b483-d796213cb4ca",
   "metadata": {},
   "outputs": [
    {
     "data": {
      "text/plain": [
       "tensor([[39.,  0.],\n",
       "        [-4., 20.]])"
      ]
     },
     "execution_count": 5,
     "metadata": {},
     "output_type": "execute_result"
    }
   ],
   "source": [
    "a.mul(b)"
   ]
  },
  {
   "cell_type": "code",
   "execution_count": 6,
   "id": "d82a8b56-d606-4677-82cf-09938cfc01aa",
   "metadata": {},
   "outputs": [
    {
     "data": {
      "text/plain": [
       "tensor([[ 3.,  5.],\n",
       "        [ 1., 10.]])"
      ]
     },
     "execution_count": 6,
     "metadata": {},
     "output_type": "execute_result"
    }
   ],
   "source": [
    "a"
   ]
  },
  {
   "cell_type": "code",
   "execution_count": 7,
   "id": "a82b443f-7aac-4bc6-9b94-abffeb26e6c9",
   "metadata": {},
   "outputs": [
    {
     "data": {
      "text/plain": [
       "tensor([[39.,  0.],\n",
       "        [-4., 20.]])"
      ]
     },
     "execution_count": 7,
     "metadata": {},
     "output_type": "execute_result"
    }
   ],
   "source": [
    "a.mul_(b)"
   ]
  },
  {
   "cell_type": "code",
   "execution_count": 8,
   "id": "78a6d9ec-f65d-4a3a-9ce1-2c0b38dce57a",
   "metadata": {},
   "outputs": [
    {
     "data": {
      "text/plain": [
       "tensor([[39.,  0.],\n",
       "        [-4., 20.]])"
      ]
     },
     "execution_count": 8,
     "metadata": {},
     "output_type": "execute_result"
    }
   ],
   "source": [
    "a"
   ]
  },
  {
   "cell_type": "markdown",
   "id": "bf23aba5-4f60-4f4d-aafb-f850664df1d5",
   "metadata": {},
   "source": [
    "# 주의!\n",
    "\n",
    "### 브로드캐스트 때문에 죽어야 할 코드가 죽지 않고 예기치 않은 연산이 나올 수 있다."
   ]
  },
  {
   "cell_type": "code",
   "execution_count": null,
   "id": "e94a6942-bf4c-43d9-a3f4-5e5bf608c30a",
   "metadata": {},
   "outputs": [],
   "source": []
  }
 ],
 "metadata": {
  "kernelspec": {
   "display_name": "nlp",
   "language": "python",
   "name": "nlp"
  },
  "language_info": {
   "codemirror_mode": {
    "name": "ipython",
    "version": 3
   },
   "file_extension": ".py",
   "mimetype": "text/x-python",
   "name": "python",
   "nbconvert_exporter": "python",
   "pygments_lexer": "ipython3",
   "version": "3.11.4"
  }
 },
 "nbformat": 4,
 "nbformat_minor": 5
}

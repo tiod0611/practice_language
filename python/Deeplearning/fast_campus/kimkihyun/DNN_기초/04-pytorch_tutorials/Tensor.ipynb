{
 "cells": [
  {
   "cell_type": "markdown",
   "id": "bf3babd8-b9a5-4db3-8088-a5f179d68699",
   "metadata": {},
   "source": [
    "# Tensor 실습"
   ]
  },
  {
   "cell_type": "code",
   "execution_count": 1,
   "id": "63d6676d-c2e2-4a19-a8ec-bf007d47bbf0",
   "metadata": {},
   "outputs": [],
   "source": [
    "import torch"
   ]
  },
  {
   "cell_type": "code",
   "execution_count": 3,
   "id": "b1a6306d-5c23-4290-b4d7-dedf7346c541",
   "metadata": {},
   "outputs": [
    {
     "data": {
      "text/plain": [
       "tensor([[1., 2.],\n",
       "        [3., 4.]])"
      ]
     },
     "execution_count": 3,
     "metadata": {},
     "output_type": "execute_result"
    }
   ],
   "source": [
    "# 32bit의 float 텐서\n",
    "ft = torch.FloatTensor([[1, 2],\n",
    "                        [3, 4]])\n",
    "ft"
   ]
  },
  {
   "cell_type": "code",
   "execution_count": 5,
   "id": "b565e2f5-9775-4b12-95df-5d4067fe1920",
   "metadata": {},
   "outputs": [
    {
     "data": {
      "text/plain": [
       "tensor([[1, 2],\n",
       "        [3, 4]])"
      ]
     },
     "execution_count": 5,
     "metadata": {},
     "output_type": "execute_result"
    }
   ],
   "source": [
    "# 정수형 텐\n",
    "lt = torch.LongTensor([[1, 2],\n",
    "                      [3, 4]])\n",
    "lt"
   ]
  },
  {
   "cell_type": "code",
   "execution_count": 8,
   "id": "2eae93fa-f11a-4599-8bc4-2f45066d3b6b",
   "metadata": {},
   "outputs": [
    {
     "data": {
      "text/plain": [
       "tensor([[ True, False],\n",
       "        [ True, False]])"
      ]
     },
     "execution_count": 8,
     "metadata": {},
     "output_type": "execute_result"
    }
   ],
   "source": [
    "# Boolean  텐서\n",
    "bt = torch.BoolTensor([[True, False],\n",
    "                        [0, 1]])\n",
    "bt"
   ]
  },
  {
   "cell_type": "code",
   "execution_count": 9,
   "id": "60023482-0924-4fd7-a226-60c90c607d01",
   "metadata": {},
   "outputs": [
    {
     "data": {
      "text/plain": [
       "tensor([[0.0000e+00, 0.0000e+00],\n",
       "        [0.0000e+00, 0.0000e+00],\n",
       "        [0.0000e+00, 1.0194e-38]])"
      ]
     },
     "execution_count": 9,
     "metadata": {},
     "output_type": "execute_result"
    }
   ],
   "source": [
    "# 값은 랜덤하게 만들고, size만 지정해서 만든 텐서\n",
    "x = torch.FloatTensor(3, 2)\n",
    "x"
   ]
  },
  {
   "cell_type": "markdown",
   "id": "513a22f8-7578-49bc-ab9e-ed5b533ddc78",
   "metadata": {},
   "source": [
    "## 파이토치의 장점은 Numpy와 호환성이 좋다"
   ]
  },
  {
   "cell_type": "code",
   "execution_count": 11,
   "id": "b0452044-8885-4a72-ba7a-f97f2fd16d93",
   "metadata": {},
   "outputs": [
    {
     "name": "stdout",
     "output_type": "stream",
     "text": [
      "[[1 2]\n",
      " [3 4]] <class 'numpy.ndarray'>\n"
     ]
    }
   ],
   "source": [
    "import numpy as np\n",
    "\n",
    "# numpy array 하나 만들자\n",
    "np_arr = np.array([[1, 2],\n",
    "                  [3, 4]])\n",
    "print(np_arr, type(np_arr))"
   ]
  },
  {
   "cell_type": "code",
   "execution_count": 12,
   "id": "5596fa78-3e95-40b5-8679-08f5899524bf",
   "metadata": {},
   "outputs": [
    {
     "name": "stdout",
     "output_type": "stream",
     "text": [
      "tensor([[1, 2],\n",
      "        [3, 4]], dtype=torch.int32) <class 'torch.Tensor'>\n"
     ]
    }
   ],
   "source": [
    "# torch의 텐서로 변환\n",
    "torch_arr = torch.from_numpy(np_arr)\n",
    "print(torch_arr, type(torch_arr))"
   ]
  },
  {
   "cell_type": "code",
   "execution_count": 13,
   "id": "539f740d-d541-44bb-a7c2-eacd20ba6372",
   "metadata": {},
   "outputs": [
    {
     "name": "stdout",
     "output_type": "stream",
     "text": [
      "[[1 2]\n",
      " [3 4]] <class 'numpy.ndarray'>\n"
     ]
    }
   ],
   "source": [
    "np_arr_from_torch = torch_arr.numpy()\n",
    "print(np_arr_from_torch, type(np_arr_from_torch))"
   ]
  },
  {
   "cell_type": "markdown",
   "id": "e9a3de7f-4ca1-42b2-a94f-46072e51157e",
   "metadata": {},
   "source": [
    "## 텐서의 타입 변환"
   ]
  },
  {
   "cell_type": "code",
   "execution_count": 16,
   "id": "5ea36467-bb53-4016-978b-f605d0058c70",
   "metadata": {},
   "outputs": [
    {
     "data": {
      "text/plain": [
       "tensor([[1, 2],\n",
       "        [3, 4]])"
      ]
     },
     "execution_count": 16,
     "metadata": {},
     "output_type": "execute_result"
    }
   ],
   "source": [
    "# float tensor -> long tensor\n",
    "ft.long()"
   ]
  },
  {
   "cell_type": "code",
   "execution_count": 18,
   "id": "038c8deb-1c4a-4b10-81d5-0b94c431543b",
   "metadata": {},
   "outputs": [
    {
     "data": {
      "text/plain": [
       "tensor([[1., 2.],\n",
       "        [3., 4.]])"
      ]
     },
     "execution_count": 18,
     "metadata": {},
     "output_type": "execute_result"
    }
   ],
   "source": [
    "lt.float()"
   ]
  },
  {
   "cell_type": "code",
   "execution_count": 19,
   "id": "e2c239b1-a536-410b-b153-028a74338bb6",
   "metadata": {},
   "outputs": [
    {
     "data": {
      "text/plain": [
       "tensor([1, 0], dtype=torch.uint8)"
      ]
     },
     "execution_count": 19,
     "metadata": {},
     "output_type": "execute_result"
    }
   ],
   "source": [
    "torch.FloatTensor([1, 0]).byte()"
   ]
  },
  {
   "cell_type": "markdown",
   "id": "76976da5-c7d1-4bcf-a2d7-d6558b9e20ca",
   "metadata": {},
   "source": [
    "# 텐서의 shape 살펴보기"
   ]
  },
  {
   "cell_type": "code",
   "execution_count": 23,
   "id": "a5aa0869-eee5-42bd-88be-10fa104ee851",
   "metadata": {},
   "outputs": [
    {
     "data": {
      "text/plain": [
       "torch.Size([3, 2])"
      ]
     },
     "execution_count": 23,
     "metadata": {},
     "output_type": "execute_result"
    }
   ],
   "source": [
    "x.size()"
   ]
  },
  {
   "cell_type": "code",
   "execution_count": 24,
   "id": "43712354-b4da-4026-8b0e-faa2d2168e2a",
   "metadata": {},
   "outputs": [
    {
     "data": {
      "text/plain": [
       "torch.Size([3, 2])"
      ]
     },
     "execution_count": 24,
     "metadata": {},
     "output_type": "execute_result"
    }
   ],
   "source": [
    "x.shape"
   ]
  },
  {
   "cell_type": "code",
   "execution_count": 25,
   "id": "24ace312-8cec-45fb-9c0a-541324075963",
   "metadata": {},
   "outputs": [
    {
     "data": {
      "text/plain": [
       "2"
      ]
     },
     "execution_count": 25,
     "metadata": {},
     "output_type": "execute_result"
    }
   ],
   "source": [
    "x.dim()"
   ]
  },
  {
   "cell_type": "code",
   "execution_count": 26,
   "id": "7e15406b-409a-42a0-a8da-56a4a6ec133d",
   "metadata": {},
   "outputs": [
    {
     "data": {
      "text/plain": [
       "2"
      ]
     },
     "execution_count": 26,
     "metadata": {},
     "output_type": "execute_result"
    }
   ],
   "source": [
    "len(x.size())"
   ]
  },
  {
   "cell_type": "code",
   "execution_count": null,
   "id": "5f56b054-ad13-4f69-bf1c-be00819a9959",
   "metadata": {},
   "outputs": [],
   "source": []
  }
 ],
 "metadata": {
  "kernelspec": {
   "display_name": "nlp",
   "language": "python",
   "name": "nlp"
  },
  "language_info": {
   "codemirror_mode": {
    "name": "ipython",
    "version": 3
   },
   "file_extension": ".py",
   "mimetype": "text/x-python",
   "name": "python",
   "nbconvert_exporter": "python",
   "pygments_lexer": "ipython3",
   "version": "3.11.4"
  }
 },
 "nbformat": 4,
 "nbformat_minor": 5
}

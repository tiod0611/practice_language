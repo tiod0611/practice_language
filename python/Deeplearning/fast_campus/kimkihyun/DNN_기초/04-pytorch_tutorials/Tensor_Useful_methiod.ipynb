{
 "cells": [
  {
   "cell_type": "code",
   "execution_count": 5,
   "id": "6c3234ac-c650-4146-93e9-950725778ffa",
   "metadata": {},
   "outputs": [],
   "source": [
    "import torch"
   ]
  },
  {
   "cell_type": "code",
   "execution_count": 23,
   "id": "ae0cebd3-1908-4f3a-8274-a990d9417ac6",
   "metadata": {},
   "outputs": [
    {
     "name": "stdout",
     "output_type": "stream",
     "text": [
      "tensor([[[15,  8, 12],\n",
      "         [17, 16, 11]],\n",
      "\n",
      "        [[ 7,  1,  2],\n",
      "         [ 9, 13, 10]],\n",
      "\n",
      "        [[ 5, 14,  4],\n",
      "         [ 6,  0,  3]]])\n",
      "torch.Size([3, 2, 3])\n"
     ]
    }
   ],
   "source": [
    "x = torch.randperm(3*2*3).reshape(3, 2, 3) # 중복되지 않는 배열\n",
    "print(x)\n",
    "print(x.size())"
   ]
  },
  {
   "cell_type": "markdown",
   "id": "89822435-d046-4229-97c5-84b43e2d04a0",
   "metadata": {},
   "source": [
    "## argmax : 가장 큰 값을 가진 index를 알 수 있다."
   ]
  },
  {
   "cell_type": "code",
   "execution_count": 24,
   "id": "5b526cf3-c5e0-473c-bc0b-73bcca1bb827",
   "metadata": {},
   "outputs": [
    {
     "name": "stdout",
     "output_type": "stream",
     "text": [
      "tensor([[1, 1, 0],\n",
      "        [1, 1, 1],\n",
      "        [1, 0, 0]])\n"
     ]
    },
    {
     "data": {
      "text/plain": [
       "torch.Size([3, 3])"
      ]
     },
     "execution_count": 24,
     "metadata": {},
     "output_type": "execute_result"
    }
   ],
   "source": [
    "y = x.argmax(dim=1)\n",
    "print(y)\n",
    "y.size()"
   ]
  },
  {
   "cell_type": "markdown",
   "id": "2a5a6d5c-e86d-4972-a0eb-b0ecaa394efa",
   "metadata": {},
   "source": [
    "## topk: tok-k인 index와 값을 알 수 있다."
   ]
  },
  {
   "cell_type": "code",
   "execution_count": 25,
   "id": "398c56a4-3837-43b4-8077-34d0eab574fc",
   "metadata": {},
   "outputs": [
    {
     "name": "stdout",
     "output_type": "stream",
     "text": [
      "tensor([[[17, 16, 12]],\n",
      "\n",
      "        [[ 9, 13, 10]],\n",
      "\n",
      "        [[ 6, 14,  4]]])\n",
      "tensor([[[1, 1, 0]],\n",
      "\n",
      "        [[1, 1, 1]],\n",
      "\n",
      "        [[1, 0, 0]]])\n",
      "torch.Size([3, 1, 3])\n"
     ]
    }
   ],
   "source": [
    "values, indice = torch.topk(x, k=1, dim=1)\n",
    "print(values)\n",
    "print(indice)\n",
    "print(values.size())"
   ]
  },
  {
   "cell_type": "code",
   "execution_count": null,
   "id": "edd07467-f3f8-48d3-ba73-e77cb77d5c66",
   "metadata": {},
   "outputs": [],
   "source": []
  }
 ],
 "metadata": {
  "kernelspec": {
   "display_name": "nlp",
   "language": "python",
   "name": "nlp"
  },
  "language_info": {
   "codemirror_mode": {
    "name": "ipython",
    "version": 3
   },
   "file_extension": ".py",
   "mimetype": "text/x-python",
   "name": "python",
   "nbconvert_exporter": "python",
   "pygments_lexer": "ipython3",
   "version": "3.11.4"
  }
 },
 "nbformat": 4,
 "nbformat_minor": 5
}

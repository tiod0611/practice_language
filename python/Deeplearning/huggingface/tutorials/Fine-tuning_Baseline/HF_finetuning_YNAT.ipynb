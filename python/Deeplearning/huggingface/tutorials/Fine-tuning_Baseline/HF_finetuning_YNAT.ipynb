{
 "cells": [
  {
   "cell_type": "markdown",
   "id": "097f7cb6-4331-4a5c-b6e0-862b884d8df6",
   "metadata": {},
   "source": [
    "### This code from [here](https://pseudo-lab.github.io/klue-baseline/docs/TC-1.html)\n",
    "\n",
    "# HuggingFace Hub를 활용한 Fine tuning Baseline(YNAT ver.)"
   ]
  },
  {
   "cell_type": "code",
   "execution_count": 1,
   "id": "9aa688eb-6117-4f2d-9917-3540014da335",
   "metadata": {},
   "outputs": [
    {
     "name": "stderr",
     "output_type": "stream",
     "text": [
      "C:\\Users\\Kyeul\\anaconda3\\envs\\nlp\\Lib\\site-packages\\tqdm\\auto.py:21: TqdmWarning: IProgress not found. Please update jupyter and ipywidgets. See https://ipywidgets.readthedocs.io/en/stable/user_install.html\n",
      "  from .autonotebook import tqdm as notebook_tqdm\n"
     ]
    },
    {
     "name": "stdout",
     "output_type": "stream",
     "text": [
      "4.34.1\n"
     ]
    }
   ],
   "source": [
    "import transformers\n",
    "\n",
    "print(transformers.__version__)"
   ]
  },
  {
   "cell_type": "code",
   "execution_count": 2,
   "id": "cb8a67d2-c38a-4ae7-b654-2c1d2a909825",
   "metadata": {},
   "outputs": [],
   "source": [
    "# argment setting\n",
    "task = \"ynat\"\n",
    "model_checkpoint = \"klue/bert-base\"\n",
    "batch_size=256"
   ]
  },
  {
   "cell_type": "markdown",
   "id": "8572a309-0b01-4547-baa6-9ff309fcc785",
   "metadata": {},
   "source": [
    "## Data Loading"
   ]
  },
  {
   "cell_type": "code",
   "execution_count": 3,
   "id": "b3dee67c-5e3f-450d-83ef-401cd6383ae5",
   "metadata": {},
   "outputs": [
    {
     "data": {
      "text/plain": [
       "DatasetDict({\n",
       "    train: Dataset({\n",
       "        features: ['guid', 'title', 'label', 'url', 'date'],\n",
       "        num_rows: 45678\n",
       "    })\n",
       "    validation: Dataset({\n",
       "        features: ['guid', 'title', 'label', 'url', 'date'],\n",
       "        num_rows: 9107\n",
       "    })\n",
       "})"
      ]
     },
     "execution_count": 3,
     "metadata": {},
     "output_type": "execute_result"
    }
   ],
   "source": [
    "from datasets import load_dataset\n",
    "dataset = load_dataset('klue', 'ynat')\n",
    "dataset"
   ]
  },
  {
   "cell_type": "code",
   "execution_count": 4,
   "id": "38bf5b8a-84b4-41f1-a8ec-61d68283e630",
   "metadata": {},
   "outputs": [
    {
     "data": {
      "text/plain": [
       "{'guid': 'ynat-v1_train_00000',\n",
       " 'title': '유튜브 내달 2일까지 크리에이터 지원 공간 운영',\n",
       " 'label': 3,\n",
       " 'url': 'https://news.naver.com/main/read.nhn?mode=LS2D&mid=shm&sid1=105&sid2=227&oid=001&aid=0008508947',\n",
       " 'date': '2016.06.30. 오전 10:36'}"
      ]
     },
     "execution_count": 4,
     "metadata": {},
     "output_type": "execute_result"
    }
   ],
   "source": [
    "# show sample\n",
    "dataset['train'][0]"
   ]
  },
  {
   "cell_type": "code",
   "execution_count": 5,
   "id": "ce6a12a4-18e2-4dc3-8e64-8dc362680fd9",
   "metadata": {},
   "outputs": [
    {
     "data": {
      "text/html": [
       "<table border=\"1\" class=\"dataframe\">\n",
       "  <thead>\n",
       "    <tr style=\"text-align: right;\">\n",
       "      <th></th>\n",
       "      <th>guid</th>\n",
       "      <th>title</th>\n",
       "      <th>label</th>\n",
       "      <th>url</th>\n",
       "      <th>date</th>\n",
       "    </tr>\n",
       "  </thead>\n",
       "  <tbody>\n",
       "    <tr>\n",
       "      <th>0</th>\n",
       "      <td>ynat-v1_train_45334</td>\n",
       "      <td>KT 세계 최고 속도 국제해저케이블 개통</td>\n",
       "      <td>IT과학</td>\n",
       "      <td>https://news.naver.com/main/read.nhn?mode=LS2D&amp;mid=shm&amp;sid1=105&amp;sid2=227&amp;oid=001&amp;aid=0008810748</td>\n",
       "      <td>2016.11.09. 오전 11:08</td>\n",
       "    </tr>\n",
       "    <tr>\n",
       "      <th>1</th>\n",
       "      <td>ynat-v1_train_28792</td>\n",
       "      <td>특징주 모바일어플라이언스 상장 첫날 급등</td>\n",
       "      <td>경제</td>\n",
       "      <td>https://news.naver.com/main/read.nhn?mode=LS2D&amp;mid=shm&amp;sid1=101&amp;sid2=261&amp;oid=001&amp;aid=0009061061</td>\n",
       "      <td>2017.02.24. 오전 9:12</td>\n",
       "    </tr>\n",
       "    <tr>\n",
       "      <th>2</th>\n",
       "      <td>ynat-v1_train_20625</td>\n",
       "      <td>北김정은 신형 ICBM 엔진 분출시험 시찰…완전 성공1보</td>\n",
       "      <td>정치</td>\n",
       "      <td>https://news.naver.com/main/read.nhn?mode=LS2D&amp;mid=shm&amp;sid1=100&amp;sid2=268&amp;oid=001&amp;aid=0008319432</td>\n",
       "      <td>2016.04.09. 오전 7:06</td>\n",
       "    </tr>\n",
       "    <tr>\n",
       "      <th>3</th>\n",
       "      <td>ynat-v1_train_41127</td>\n",
       "      <td>北 김일성 인천상륙작전 미리 간파했었다 허위주장</td>\n",
       "      <td>정치</td>\n",
       "      <td>https://news.naver.com/main/read.nhn?mode=LS2D&amp;mid=shm&amp;sid1=100&amp;sid2=268&amp;oid=001&amp;aid=0008674784</td>\n",
       "      <td>2016.09.08. 오후 5:08</td>\n",
       "    </tr>\n",
       "    <tr>\n",
       "      <th>4</th>\n",
       "      <td>ynat-v1_train_08523</td>\n",
       "      <td>중부 미세먼지 나쁨…낮 서울 27도 조금 더워요</td>\n",
       "      <td>생활문화</td>\n",
       "      <td>https://news.naver.com/main/read.nhn?mode=LS2D&amp;mid=shm&amp;sid1=103&amp;sid2=248&amp;oid=001&amp;aid=0008358062</td>\n",
       "      <td>2016.04.26. 오전 5:24</td>\n",
       "    </tr>\n",
       "    <tr>\n",
       "      <th>5</th>\n",
       "      <td>ynat-v1_train_29175</td>\n",
       "      <td>SKT매스프레소 ICT 활용한 교육격차 해소 맞손</td>\n",
       "      <td>경제</td>\n",
       "      <td>https://news.naver.com/main/read.nhn?mode=LS2D&amp;mid=shm&amp;sid1=105&amp;sid2=227&amp;oid=001&amp;aid=0011083899</td>\n",
       "      <td>2019.09.17. 오전 9:24</td>\n",
       "    </tr>\n",
       "    <tr>\n",
       "      <th>6</th>\n",
       "      <td>ynat-v1_train_01351</td>\n",
       "      <td>USTR 대표 균형잡힌 합의 中요구 일축…무역담판 난항 예고</td>\n",
       "      <td>세계</td>\n",
       "      <td>https://news.naver.com/main/read.nhn?mode=LS2D&amp;mid=shm&amp;sid1=104&amp;sid2=232&amp;oid=001&amp;aid=0010919104</td>\n",
       "      <td>2019.06.28. 오전 6:31</td>\n",
       "    </tr>\n",
       "    <tr>\n",
       "      <th>7</th>\n",
       "      <td>ynat-v1_train_12083</td>\n",
       "      <td>넥센발 쓰나미에 진퇴양난 KBO…先 규약·시즌 후 대책 모색</td>\n",
       "      <td>스포츠</td>\n",
       "      <td>https://sports.news.naver.com/news.nhn?oid=001&amp;aid=0010120188</td>\n",
       "      <td>2018.05.31 15:14</td>\n",
       "    </tr>\n",
       "    <tr>\n",
       "      <th>8</th>\n",
       "      <td>ynat-v1_train_20890</td>\n",
       "      <td>사우디 주미대사에 여성 첫 임명…카슈끄지 사건 만회 시도</td>\n",
       "      <td>세계</td>\n",
       "      <td>https://news.naver.com/main/read.nhn?mode=LS2D&amp;mid=shm&amp;sid1=104&amp;sid2=234&amp;oid=001&amp;aid=0010653593</td>\n",
       "      <td>2019.02.24. 오전 7:19</td>\n",
       "    </tr>\n",
       "    <tr>\n",
       "      <th>9</th>\n",
       "      <td>ynat-v1_train_01848</td>\n",
       "      <td>과기부 15∼18일 글로벌 ICT 표준 콘퍼런스 개최</td>\n",
       "      <td>IT과학</td>\n",
       "      <td>https://news.naver.com/main/read.nhn?mode=LS2D&amp;mid=shm&amp;sid1=105&amp;sid2=228&amp;oid=001&amp;aid=0011146542</td>\n",
       "      <td>2019.10.16. 오전 10:30</td>\n",
       "    </tr>\n",
       "    <tr>\n",
       "      <th>10</th>\n",
       "      <td>ynat-v1_train_22075</td>\n",
       "      <td>우크라 대통령 취임 전부터 트럼프 압박 느끼고 대책 논의</td>\n",
       "      <td>세계</td>\n",
       "      <td>https://news.naver.com/main/read.nhn?mode=LS2D&amp;mid=shm&amp;sid1=104&amp;sid2=232&amp;oid=001&amp;aid=0011166613</td>\n",
       "      <td>2019.10.24. 오후 3:52</td>\n",
       "    </tr>\n",
       "    <tr>\n",
       "      <th>11</th>\n",
       "      <td>ynat-v1_train_03614</td>\n",
       "      <td>하나금투 LG전자 올해 영업익 3조1천648억원 전망</td>\n",
       "      <td>경제</td>\n",
       "      <td>https://news.naver.com/main/read.nhn?mode=LS2D&amp;mid=shm&amp;sid1=101&amp;sid2=258&amp;oid=001&amp;aid=0010426709</td>\n",
       "      <td>2018.10.26. 오전 8:56</td>\n",
       "    </tr>\n",
       "    <tr>\n",
       "      <th>12</th>\n",
       "      <td>ynat-v1_train_21976</td>\n",
       "      <td>동남아 시장 교두보 마련…한전KDN 베트남지사 개소</td>\n",
       "      <td>세계</td>\n",
       "      <td>https://news.naver.com/main/read.nhn?mode=LS2D&amp;mid=shm&amp;sid1=104&amp;sid2=231&amp;oid=001&amp;aid=0010813165</td>\n",
       "      <td>2019.05.08. 오후 8:33</td>\n",
       "    </tr>\n",
       "    <tr>\n",
       "      <th>13</th>\n",
       "      <td>ynat-v1_train_38834</td>\n",
       "      <td>5월 통화량 5.9% 늘어…기업 대출 증가로</td>\n",
       "      <td>경제</td>\n",
       "      <td>https://news.naver.com/main/read.nhn?mode=LS2D&amp;mid=shm&amp;sid1=101&amp;sid2=259&amp;oid=001&amp;aid=0010203344</td>\n",
       "      <td>2018.07.11. 오후 12:00</td>\n",
       "    </tr>\n",
       "    <tr>\n",
       "      <th>14</th>\n",
       "      <td>ynat-v1_train_45116</td>\n",
       "      <td>코스피 9일 연속 상승…기관·외인 매수에 2070선 회복종합2보</td>\n",
       "      <td>경제</td>\n",
       "      <td>https://news.naver.com/main/read.nhn?mode=LS2D&amp;mid=shm&amp;sid1=101&amp;sid2=258&amp;oid=001&amp;aid=0011088115</td>\n",
       "      <td>2019.09.18. 오후 3:55</td>\n",
       "    </tr>\n",
       "    <tr>\n",
       "      <th>15</th>\n",
       "      <td>ynat-v1_train_31542</td>\n",
       "      <td>브라질 중ㆍ러에 마두로 지지 철회 촉구</td>\n",
       "      <td>세계</td>\n",
       "      <td>https://news.naver.com/main/read.nhn?mode=LS2D&amp;mid=shm&amp;sid1=104&amp;sid2=232&amp;oid=001&amp;aid=0010681448</td>\n",
       "      <td>2019.03.08. 오전 10:41</td>\n",
       "    </tr>\n",
       "    <tr>\n",
       "      <th>16</th>\n",
       "      <td>ynat-v1_train_32038</td>\n",
       "      <td>춤추는 평론가 27일 공연…펜을 놓고 팔을 드는 나들이</td>\n",
       "      <td>생활문화</td>\n",
       "      <td>https://news.naver.com/main/read.nhn?mode=LS2D&amp;mid=shm&amp;sid1=103&amp;sid2=242&amp;oid=001&amp;aid=0009353882</td>\n",
       "      <td>2017.06.21. 오후 8:41</td>\n",
       "    </tr>\n",
       "    <tr>\n",
       "      <th>17</th>\n",
       "      <td>ynat-v1_train_04280</td>\n",
       "      <td>북한 주민 최신 유행은 경비행기 관광…석달간 4천 명 이용</td>\n",
       "      <td>정치</td>\n",
       "      <td>https://news.naver.com/main/read.nhn?mode=LS2D&amp;mid=shm&amp;sid1=100&amp;sid2=268&amp;oid=001&amp;aid=0008758531</td>\n",
       "      <td>2016.10.17. 오후 3:36</td>\n",
       "    </tr>\n",
       "    <tr>\n",
       "      <th>18</th>\n",
       "      <td>ynat-v1_train_23574</td>\n",
       "      <td>필리핀서 일본군 성노예 추모비 공개…철거 1년만에 새로 등장</td>\n",
       "      <td>세계</td>\n",
       "      <td>https://news.naver.com/main/read.nhn?mode=LS2D&amp;mid=shm&amp;sid1=104&amp;sid2=231&amp;oid=001&amp;aid=0011038541</td>\n",
       "      <td>2019.08.25. 오후 9:04</td>\n",
       "    </tr>\n",
       "    <tr>\n",
       "      <th>19</th>\n",
       "      <td>ynat-v1_train_34271</td>\n",
       "      <td>서대문형무소서 첫 3·1절 기념식…평화·행복·번영으로</td>\n",
       "      <td>사회</td>\n",
       "      <td>https://news.naver.com/main/read.nhn?mode=LS2D&amp;mid=shm&amp;sid1=100&amp;sid2=265&amp;oid=001&amp;aid=0009930465</td>\n",
       "      <td>2018.03.01. 오전 11:31</td>\n",
       "    </tr>\n",
       "  </tbody>\n",
       "</table>"
      ],
      "text/plain": [
       "<IPython.core.display.HTML object>"
      ]
     },
     "metadata": {},
     "output_type": "display_data"
    }
   ],
   "source": [
    "# 각 column의 구성을 임의의 샘플을 추출하여 살펴보자.\n",
    "import datasets\n",
    "import random\n",
    "import pandas as pd\n",
    "from IPython.display import display, HTML\n",
    "\n",
    "def show_random_elements(dataset, num_examples=10):\n",
    "    assert num_examples <= len(dataset), \"Can't pick more elements than there are in the dataset.\"\n",
    "    picks = []\n",
    "\n",
    "    for _ in range(num_examples):\n",
    "        pick = random.randint(0, len(dataset)-1)\n",
    "        while pick in picks:\n",
    "            pick = random.randint(0, len(dataset)-1)\n",
    "        picks.append(pick)\n",
    "\n",
    "\n",
    "    df = pd.DataFrame(dataset[picks])\n",
    "    for column, typ in dataset.features.items():\n",
    "        if isinstance(typ, datasets.ClassLabel):\n",
    "            df[column] = df[column].transform(lambda i: typ.names[i])\n",
    "    display(HTML(df.to_html()))\n",
    "\n",
    "show_random_elements(dataset[\"train\"], 20)"
   ]
  },
  {
   "cell_type": "markdown",
   "id": "39ae9b18-97e5-48b8-b946-677486d0edd3",
   "metadata": {},
   "source": [
    "# Data Pre-Processing\n",
    "### Tokenizer load\n"
   ]
  },
  {
   "cell_type": "code",
   "execution_count": 6,
   "id": "46ae6487-aa2a-4cb4-8c32-771b0233e685",
   "metadata": {},
   "outputs": [],
   "source": [
    "import torch\n",
    "from transformers import AutoTokenizer\n",
    "tokenizer = AutoTokenizer.from_pretrained(model_checkpoint, use_fast=True)"
   ]
  },
  {
   "cell_type": "code",
   "execution_count": 7,
   "id": "8506a669-a072-48f0-b3d8-47b401262114",
   "metadata": {},
   "outputs": [],
   "source": [
    "def preprocess_function(examples):\n",
    "    return tokenizer(examples['title'], truncation=True)\n"
   ]
  },
  {
   "cell_type": "code",
   "execution_count": 8,
   "id": "d7b236c4-a1e9-4ca0-82a0-16f824ef1a6d",
   "metadata": {},
   "outputs": [],
   "source": [
    "encoded_dataset = dataset.map(preprocess_function, batched=True)"
   ]
  },
  {
   "cell_type": "code",
   "execution_count": 9,
   "id": "f6e5366a-6cb3-405e-9414-81949b6b9c93",
   "metadata": {},
   "outputs": [
    {
     "data": {
      "text/plain": [
       "{'guid': 'ynat-v1_train_00000',\n",
       " 'title': '유튜브 내달 2일까지 크리에이터 지원 공간 운영',\n",
       " 'label': 3,\n",
       " 'url': 'https://news.naver.com/main/read.nhn?mode=LS2D&mid=shm&sid1=105&sid2=227&oid=001&aid=0008508947',\n",
       " 'date': '2016.06.30. 오전 10:36',\n",
       " 'input_ids': [2,\n",
       "  10637,\n",
       "  8474,\n",
       "  22,\n",
       "  2210,\n",
       "  2299,\n",
       "  2118,\n",
       "  28940,\n",
       "  3691,\n",
       "  4101,\n",
       "  3792,\n",
       "  3],\n",
       " 'token_type_ids': [0, 0, 0, 0, 0, 0, 0, 0, 0, 0, 0, 0],\n",
       " 'attention_mask': [1, 1, 1, 1, 1, 1, 1, 1, 1, 1, 1, 1]}"
      ]
     },
     "execution_count": 9,
     "metadata": {},
     "output_type": "execute_result"
    }
   ],
   "source": [
    "encoded_dataset['train'][0]"
   ]
  },
  {
   "cell_type": "markdown",
   "id": "1bc0a06e-af4e-45e5-9c90-606a7e0e5154",
   "metadata": {},
   "source": [
    "# Fine-tuning"
   ]
  },
  {
   "cell_type": "code",
   "execution_count": 10,
   "id": "a3cac088-2356-405d-9a3a-65456d47e4f2",
   "metadata": {},
   "outputs": [
    {
     "name": "stderr",
     "output_type": "stream",
     "text": [
      "Some weights of BertForSequenceClassification were not initialized from the model checkpoint at klue/bert-base and are newly initialized: ['classifier.bias', 'classifier.weight']\n",
      "You should probably TRAIN this model on a down-stream task to be able to use it for predictions and inference.\n"
     ]
    }
   ],
   "source": [
    "from transformers import AutoModelForSequenceClassification, TrainingArguments, Trainer\n",
    "\n",
    "num_labels = 7\n",
    "model = AutoModelForSequenceClassification.from_pretrained(model_checkpoint, num_labels=num_labels)"
   ]
  },
  {
   "cell_type": "markdown",
   "id": "6abd84dd-b554-4175-8f71-2d05e5c68f21",
   "metadata": {},
   "source": [
    "# Parameter Setting\n",
    " HuggingFace 에서는 __Trainer__ 객체를 사용하여 학습을 진행합니다.   \n",
    " 이때, Trainer 객체는 모델 학습을 위해 설정해야 하는 값이 들어있는 클래스인 __TrainingArgument__ 를 입력받아야 합니다."
   ]
  },
  {
   "cell_type": "code",
   "execution_count": 20,
   "id": "34b1ce45-f896-4d06-ba4e-05ad76315491",
   "metadata": {},
   "outputs": [
    {
     "name": "stderr",
     "output_type": "stream",
     "text": [
      "C:\\Users\\Kyeul\\anaconda3\\envs\\nlp\\Lib\\site-packages\\transformers\\training_args.py:1730: FutureWarning: `--push_to_hub_model_id` is deprecated and will be removed in version 5 of 🤗 Transformers. Use `--hub_model_id` instead and pass the full repo name to this argument (in this case kyeul611/bert-base-finetuned-ynat).\n",
      "  warnings.warn(\n"
     ]
    }
   ],
   "source": [
    "import os\n",
    "\n",
    "model_name = model_checkpoint.split(\"/\")[-1]\n",
    "output_dir = os.path.join(\"test-klue\", \"ynat\") # task 별로 바꿔주며 사용\n",
    "logging_dir = os.path.join(output_dir, 'logs')\n",
    "args = TrainingArguments(\n",
    "    # checkpoint, 모델의 checkpoint가 저장되는 위치\n",
    "    output_dir=output_dir,\n",
    "    overwrite_output_dir=True, # 덮어쓰기겠지?\n",
    "\n",
    "    # Model save and load\n",
    "    save_strategy=\"epoch\", # or \"steps\"\n",
    "    load_best_model_at_end=True,\n",
    "    save_steps=500,\n",
    "\n",
    "    # Dataset, epoch와 batch_size\n",
    "    num_train_epochs=10,\n",
    "    per_device_train_batch_size=batch_size,\n",
    "    per_device_eval_batch_size=batch_size,\n",
    "\n",
    "    # Optimizer\n",
    "    learning_rate=2e-5,\n",
    "    weight_decay=0.01,\n",
    "    warmup_steps=100,\n",
    "\n",
    "    # Regualarization\n",
    "    # max_grad_norm = 1.0,\n",
    "    # label_smoothing_factor=0.1,\n",
    "\n",
    "    # Evaluation\n",
    "    metric_for_best_model='eval_f1', # task 별 평가지표\n",
    "    evaluation_strategy=\"epoch\",\n",
    "\n",
    "    # HuggingFace Hub upload\n",
    "    push_to_hub=True,\n",
    "    push_to_hub_model_id=f\"{model_name}-finetuned-{task}\",\n",
    "\n",
    "    # Logging, log 기록을 살펴볼 위치, wandb를 사용하자\n",
    "    logging_dir=logging_dir,\n",
    "    report_to='wandb',\n",
    "\n",
    "    # Seed\n",
    "    seed=1,\n",
    ")\n",
    "    \n",
    "    "
   ]
  },
  {
   "cell_type": "code",
   "execution_count": 21,
   "id": "446f9210-240f-4b26-9dad-3bae4f1b7399",
   "metadata": {},
   "outputs": [
    {
     "name": "stdout",
     "output_type": "stream",
     "text": [
      "accuracy, bertscore, bleu, bleurt, brier_score, cer, character, charcut_mt, chrf, code_eval, comet, competition_math, coval, cuad, exact_match, f1, frugalscore, glue, google_bleu, indic_glue, mae, mahalanobis, mape, mase, matthews_correlation, mauve, mean_iou, meteor, mse, nist_mt, pearsonr, perplexity, poseval, precision, r_squared, recall, rl_reliability, roc_auc, rouge, sacrebleu, sari, seqeval, smape, spearmanr, squad, squad_v2, super_glue, ter, trec_eval, wer, wiki_split, xnli, xtreme_s, AlhitawiMohammed22/CER_Hu-Evaluation-Metrics, BucketHeadP65/confusion_matrix, BucketHeadP65/roc_curve, DarrenChensformer/eval_keyphrase, DarrenChensformer/relation_extraction, Drunper/metrica_tesi, Felipehonorato/eer, GMFTBY/dailydialog_evaluate, GMFTBY/dailydialogevaluate, He-Xingwei/sari_metric, Ikala-allen/relation_extraction, JP-SystemsX/nDCG, Josh98/nl2bash_m, KevinSpaghetti/accuracyk, Muennighoff/code_eval_octopack, NCSOFT/harim_plus, Natooz/ece, NikitaMartynov/spell-check-metric, NimaBoscarino/weat, Ochiroo/rouge_mn, Pipatpong/perplexity, SpfIo/wer_checker, Splend1dchan/cosine_similarity, Vallp/ter, Vertaix/vendiscore, Viona/fuzzy_reordering, Viona/infolm, Viona/kendall_tau, Vipitis/shadermatch, Vlasta/pr_auc, Yeshwant123/mcc, abdusah/aradiawer, abidlabs/mean_iou, abidlabs/mean_iou2, amitness/perplexity, andstor/code_perplexity, angelina-wang/directional_bias_amplification, anz2/iliauniiccocrevaluation, aryopg/roc_auc_skip_uniform_labels, bdsaglam/jer, brian920128/doc_retrieve_metrics, bstrai/classification_report, bugbounty1806/accuracy, cakiki/ndcg, carletoncognitivescience/peak_signal_to_noise_ratio, chanelcolgate/average_precision, ckb/unigram, codeparrot/apps_metric, cpllab/syntaxgym, daiyizheng/valid, danieldux/hierarchical_softmax_loss, dvitel/codebleu, ecody726/bertscore, erntkn/dice_coefficient, fschlatt/ner_eval, gabeorlanski/bc_eval, giulio98/code_eval_outputs, giulio98/codebleu, gnail/cosine_similarity, gorkaartola/metric_for_tp_fp_samples, guydav/restrictedpython_code_eval, hack/test_metric, harshhpareek/bertscore, hpi-dhc/FairEval, hynky/sklearn_proxy, hyperml/balanced_accuracy, idsedykh/codebleu, idsedykh/codebleu2, idsedykh/megaglue, idsedykh/metric, illorca/FairEval, ingyu/klue_mrc, jjkim0807/code_eval, jordyvl/ece, jpxkqx/peak_signal_to_noise_ratio, jpxkqx/signal_to_reconstruction_error, jzm-mailchimp/joshs_second_test_metric, k4black/codebleu, kaggle/ai4code, kaggle/amex, kashif/mape, kedudzic/charmatch, kyokote/my_metric2, langdonholmes/cohen_weighted_kappa, leslyarun/fbeta_score, lhy/hamming_loss, lhy/ranking_loss, loubnabnl/apps_metric2, lvwerra/accuracy_score, lvwerra/bary_score, lvwerra/test, manueldeprada/beer, mfumanelli/geometric_mean, mgfrantz/roc_auc_macro, mtc/fragments, nlpln/tst, ola13/precision_at_k, omidf/squad_precision_recall, posicube/mean_reciprocal_rank, repllabs/mean_average_precision, repllabs/mean_reciprocal_rank, ronaldahmed/nwentfaithfulness, sakusakumura/bertscore, shalakasatheesh/squad, shirayukikun/sescore, shunzh/apps_metric, sma2023/wil, sportlosos/sescore, tialaeMceryu/unigram, transZ/sbert_cosine, transZ/test_parascore, transformersegmentation/segmentation_scores, unitxt/metric, unnati/kendall_tau_distance, vichyt/metric-codebleu, weiqis/pajm, xu1998hz/sescore, xu1998hz/sescore_english_coco, xu1998hz/sescore_english_mt, xu1998hz/sescore_english_webnlg, xu1998hz/sescore_german_mt, ybelkada/cocoevaluate, yonting/average_precision_score, yulong-me/yl_metric, yuyijiong/quad_match_score, yzha/ctc_eval, zbeloki/m2\n"
     ]
    }
   ],
   "source": [
    "# Set metrics\n",
    "# metric list 확인\n",
    "from datasets import list_metrics, load_metric\n",
    "metrics_list = list_metrics()\n",
    "len(metrics_list)\n",
    "print(', '.join(metric for metric in metrics_list))"
   ]
  },
  {
   "cell_type": "code",
   "execution_count": 22,
   "id": "da89efd9-1c32-428b-84c9-4d75fbc61da8",
   "metadata": {},
   "outputs": [],
   "source": [
    "# we use metric for f1\n",
    "metric_macrof1 = load_metric('f1')\n",
    "\n",
    "def compute_metrics(eval_pred):\n",
    "    predictions = eval_pred.predictions.argmax(-1)\n",
    "    labels = eval_pred.label_ids\n",
    "    return metric_macrof1.compute(predictions=predictions,\n",
    "                                    references=labels, average='macro')"
   ]
  },
  {
   "cell_type": "code",
   "execution_count": 23,
   "id": "a8e3b63e-76b6-45a2-a46a-1c8861ebc2f9",
   "metadata": {},
   "outputs": [],
   "source": [
    "# Set Trainer\n",
    "\n",
    "trainer = Trainer(\n",
    "    model,\n",
    "    args,\n",
    "    train_dataset=encoded_dataset[\"train\"],\n",
    "    eval_dataset=encoded_dataset[\"validation\"],\n",
    "    tokenizer=tokenizer,\n",
    "    compute_metrics=compute_metrics,\n",
    ")\n"
   ]
  },
  {
   "cell_type": "markdown",
   "id": "13ba8b13-2923-431c-b22f-728222425dbf",
   "metadata": {},
   "source": [
    "# Training!\n",
    "## First, we set the wandb"
   ]
  },
  {
   "cell_type": "code",
   "execution_count": 24,
   "id": "6255299d-8f7a-41c9-97ff-22fa3deab940",
   "metadata": {},
   "outputs": [
    {
     "data": {
      "text/plain": [
       "True"
      ]
     },
     "execution_count": 24,
     "metadata": {},
     "output_type": "execute_result"
    }
   ],
   "source": [
    "import wandb\n",
    "wandb.login()"
   ]
  },
  {
   "cell_type": "code",
   "execution_count": 25,
   "id": "6d551966-6519-4f4e-9777-a65941641662",
   "metadata": {},
   "outputs": [
    {
     "name": "stdout",
     "output_type": "stream",
     "text": [
      "tb7wstv7\n"
     ]
    }
   ],
   "source": [
    "id = wandb.util.generate_id()\n",
    "print(id)"
   ]
  },
  {
   "cell_type": "code",
   "execution_count": 26,
   "id": "23e67224-3ea9-4c72-bd3c-ffed4200f5f6",
   "metadata": {},
   "outputs": [
    {
     "data": {
      "text/html": [
       "wandb version 0.16.0 is available!  To upgrade, please run:\n",
       " $ pip install wandb --upgrade"
      ],
      "text/plain": [
       "<IPython.core.display.HTML object>"
      ]
     },
     "metadata": {},
     "output_type": "display_data"
    },
    {
     "data": {
      "text/html": [
       "Tracking run with wandb version 0.15.12"
      ],
      "text/plain": [
       "<IPython.core.display.HTML object>"
      ]
     },
     "metadata": {},
     "output_type": "display_data"
    },
    {
     "data": {
      "text/html": [
       "Run data is saved locally in <code>C:\\Users\\Kyeul\\Desktop\\code\\practice\\practice_language\\python\\Deeplearning\\huggingface\\tutorials\\Fine-tuning_Baseline\\wandb\\run-20231110_204522-tb7wstv7</code>"
      ],
      "text/plain": [
       "<IPython.core.display.HTML object>"
      ]
     },
     "metadata": {},
     "output_type": "display_data"
    },
    {
     "data": {
      "text/html": [
       "Syncing run <strong><a href='https://wandb.ai/gyul611/Klue-ynat/runs/tb7wstv7' target=\"_blank\">ynat</a></strong> to <a href='https://wandb.ai/gyul611/Klue-ynat' target=\"_blank\">Weights & Biases</a> (<a href='https://wandb.me/run' target=\"_blank\">docs</a>)<br/>"
      ],
      "text/plain": [
       "<IPython.core.display.HTML object>"
      ]
     },
     "metadata": {},
     "output_type": "display_data"
    },
    {
     "data": {
      "text/html": [
       " View project at <a href='https://wandb.ai/gyul611/Klue-ynat' target=\"_blank\">https://wandb.ai/gyul611/Klue-ynat</a>"
      ],
      "text/plain": [
       "<IPython.core.display.HTML object>"
      ]
     },
     "metadata": {},
     "output_type": "display_data"
    },
    {
     "data": {
      "text/html": [
       " View run at <a href='https://wandb.ai/gyul611/Klue-ynat/runs/tb7wstv7' target=\"_blank\">https://wandb.ai/gyul611/Klue-ynat/runs/tb7wstv7</a>"
      ],
      "text/plain": [
       "<IPython.core.display.HTML object>"
      ]
     },
     "metadata": {},
     "output_type": "display_data"
    },
    {
     "data": {
      "text/html": [
       "<button onClick=\"this.nextSibling.style.display='block';this.style.display='none';\">Display W&B run</button><iframe src='https://wandb.ai/gyul611/Klue-ynat/runs/tb7wstv7?jupyter=true' style='border:none;width:100%;height:420px;display:none;'></iframe>"
      ],
      "text/plain": [
       "<wandb.sdk.wandb_run.Run at 0x2cf80f72f50>"
      ]
     },
     "execution_count": 26,
     "metadata": {},
     "output_type": "execute_result"
    }
   ],
   "source": [
    "wandb.init(project=\"Klue-ynat\",\n",
    "           entity='gyul611',\n",
    "           id=id,\n",
    "           name='ynat',\n",
    "          )"
   ]
  },
  {
   "cell_type": "markdown",
   "id": "6244d37c-5173-4b44-9905-5355b2a2894a",
   "metadata": {},
   "source": [
    "## Let's fine tuning"
   ]
  },
  {
   "cell_type": "code",
   "execution_count": 27,
   "id": "7d7101bc-70f6-44dd-a6e8-812a5db2690e",
   "metadata": {},
   "outputs": [
    {
     "data": {
      "text/html": [
       "\n",
       "    <div>\n",
       "      \n",
       "      <progress value='1790' max='1790' style='width:300px; height:20px; vertical-align: middle;'></progress>\n",
       "      [1790/1790 08:09, Epoch 10/10]\n",
       "    </div>\n",
       "    <table border=\"1\" class=\"dataframe\">\n",
       "  <thead>\n",
       " <tr style=\"text-align: left;\">\n",
       "      <th>Epoch</th>\n",
       "      <th>Training Loss</th>\n",
       "      <th>Validation Loss</th>\n",
       "      <th>F1</th>\n",
       "    </tr>\n",
       "  </thead>\n",
       "  <tbody>\n",
       "    <tr>\n",
       "      <td>1</td>\n",
       "      <td>No log</td>\n",
       "      <td>0.381716</td>\n",
       "      <td>0.867339</td>\n",
       "    </tr>\n",
       "    <tr>\n",
       "      <td>2</td>\n",
       "      <td>No log</td>\n",
       "      <td>0.406486</td>\n",
       "      <td>0.863355</td>\n",
       "    </tr>\n",
       "    <tr>\n",
       "      <td>3</td>\n",
       "      <td>0.219400</td>\n",
       "      <td>0.407670</td>\n",
       "      <td>0.862418</td>\n",
       "    </tr>\n",
       "    <tr>\n",
       "      <td>4</td>\n",
       "      <td>0.219400</td>\n",
       "      <td>0.444311</td>\n",
       "      <td>0.858445</td>\n",
       "    </tr>\n",
       "    <tr>\n",
       "      <td>5</td>\n",
       "      <td>0.219400</td>\n",
       "      <td>0.479476</td>\n",
       "      <td>0.856876</td>\n",
       "    </tr>\n",
       "    <tr>\n",
       "      <td>6</td>\n",
       "      <td>0.147700</td>\n",
       "      <td>0.515911</td>\n",
       "      <td>0.857020</td>\n",
       "    </tr>\n",
       "    <tr>\n",
       "      <td>7</td>\n",
       "      <td>0.147700</td>\n",
       "      <td>0.544468</td>\n",
       "      <td>0.856941</td>\n",
       "    </tr>\n",
       "    <tr>\n",
       "      <td>8</td>\n",
       "      <td>0.147700</td>\n",
       "      <td>0.571107</td>\n",
       "      <td>0.856482</td>\n",
       "    </tr>\n",
       "    <tr>\n",
       "      <td>9</td>\n",
       "      <td>0.084900</td>\n",
       "      <td>0.591263</td>\n",
       "      <td>0.854181</td>\n",
       "    </tr>\n",
       "    <tr>\n",
       "      <td>10</td>\n",
       "      <td>0.084900</td>\n",
       "      <td>0.594496</td>\n",
       "      <td>0.855291</td>\n",
       "    </tr>\n",
       "  </tbody>\n",
       "</table><p>"
      ],
      "text/plain": [
       "<IPython.core.display.HTML object>"
      ]
     },
     "metadata": {},
     "output_type": "display_data"
    },
    {
     "data": {
      "text/plain": [
       "TrainOutput(global_step=1790, training_loss=0.13613259406063144, metrics={'train_runtime': 489.8061, 'train_samples_per_second': 932.573, 'train_steps_per_second': 3.655, 'total_flos': 5692716678704400.0, 'train_loss': 0.13613259406063144, 'epoch': 10.0})"
      ]
     },
     "execution_count": 27,
     "metadata": {},
     "output_type": "execute_result"
    }
   ],
   "source": [
    "trainer.train()"
   ]
  },
  {
   "cell_type": "code",
   "execution_count": 28,
   "id": "102f2667-035b-41c7-bd45-3d4bec8e433d",
   "metadata": {},
   "outputs": [
    {
     "data": {
      "text/html": [
       "Waiting for W&B process to finish... <strong style=\"color:green\">(success).</strong>"
      ],
      "text/plain": [
       "<IPython.core.display.HTML object>"
      ]
     },
     "metadata": {},
     "output_type": "display_data"
    },
    {
     "data": {
      "text/html": [
       "<style>\n",
       "    table.wandb td:nth-child(1) { padding: 0 10px; text-align: left ; width: auto;} td:nth-child(2) {text-align: left ; width: 100%}\n",
       "    .wandb-row { display: flex; flex-direction: row; flex-wrap: wrap; justify-content: flex-start; width: 100% }\n",
       "    .wandb-col { display: flex; flex-direction: column; flex-basis: 100%; flex: 1; padding: 10px; }\n",
       "    </style>\n",
       "<div class=\"wandb-row\"><div class=\"wandb-col\"><h3>Run history:</h3><br/><table class=\"wandb\"><tr><td>eval/f1</td><td>█▆▅▃▂▃▂▂▁▂</td></tr><tr><td>eval/loss</td><td>▁▂▂▃▄▅▆▇██</td></tr><tr><td>eval/runtime</td><td>▇▄▃▃█▁▁▁▁▁</td></tr><tr><td>eval/samples_per_second</td><td>▂▅▆▆▁█████</td></tr><tr><td>eval/steps_per_second</td><td>▂▅▆▆▁█████</td></tr><tr><td>train/epoch</td><td>▁▂▂▃▃▄▅▅▆▆▇▇██</td></tr><tr><td>train/global_step</td><td>▁▂▂▃▃▄▅▅▆▆▇▇██</td></tr><tr><td>train/learning_rate</td><td>█▅▁</td></tr><tr><td>train/loss</td><td>█▄▁</td></tr><tr><td>train/total_flos</td><td>▁</td></tr><tr><td>train/train_loss</td><td>▁</td></tr><tr><td>train/train_runtime</td><td>▁</td></tr><tr><td>train/train_samples_per_second</td><td>▁</td></tr><tr><td>train/train_steps_per_second</td><td>▁</td></tr></table><br/></div><div class=\"wandb-col\"><h3>Run summary:</h3><br/><table class=\"wandb\"><tr><td>eval/f1</td><td>0.85529</td></tr><tr><td>eval/loss</td><td>0.5945</td></tr><tr><td>eval/runtime</td><td>3.2475</td></tr><tr><td>eval/samples_per_second</td><td>2804.342</td></tr><tr><td>eval/steps_per_second</td><td>11.086</td></tr><tr><td>train/epoch</td><td>10.0</td></tr><tr><td>train/global_step</td><td>1790</td></tr><tr><td>train/learning_rate</td><td>0.0</td></tr><tr><td>train/loss</td><td>0.0849</td></tr><tr><td>train/total_flos</td><td>5692716678704400.0</td></tr><tr><td>train/train_loss</td><td>0.13613</td></tr><tr><td>train/train_runtime</td><td>489.8061</td></tr><tr><td>train/train_samples_per_second</td><td>932.573</td></tr><tr><td>train/train_steps_per_second</td><td>3.655</td></tr></table><br/></div></div>"
      ],
      "text/plain": [
       "<IPython.core.display.HTML object>"
      ]
     },
     "metadata": {},
     "output_type": "display_data"
    },
    {
     "data": {
      "text/html": [
       " View run <strong style=\"color:#cdcd00\">ynat</strong> at: <a href='https://wandb.ai/gyul611/Klue-ynat/runs/tb7wstv7' target=\"_blank\">https://wandb.ai/gyul611/Klue-ynat/runs/tb7wstv7</a><br/>Synced 5 W&B file(s), 0 media file(s), 0 artifact file(s) and 0 other file(s)"
      ],
      "text/plain": [
       "<IPython.core.display.HTML object>"
      ]
     },
     "metadata": {},
     "output_type": "display_data"
    },
    {
     "data": {
      "text/html": [
       "Find logs at: <code>.\\wandb\\run-20231110_204522-tb7wstv7\\logs</code>"
      ],
      "text/plain": [
       "<IPython.core.display.HTML object>"
      ]
     },
     "metadata": {},
     "output_type": "display_data"
    }
   ],
   "source": [
    "# 학습이 끝나면 wandb도 종료\n",
    "wandb.finish()"
   ]
  },
  {
   "cell_type": "code",
   "execution_count": 30,
   "id": "497e1afe-e4f9-4860-bddc-9d0670a1114e",
   "metadata": {},
   "outputs": [
    {
     "data": {
      "text/html": [
       "wandb version 0.16.0 is available!  To upgrade, please run:\n",
       " $ pip install wandb --upgrade"
      ],
      "text/plain": [
       "<IPython.core.display.HTML object>"
      ]
     },
     "metadata": {},
     "output_type": "display_data"
    },
    {
     "data": {
      "text/html": [
       "Tracking run with wandb version 0.15.12"
      ],
      "text/plain": [
       "<IPython.core.display.HTML object>"
      ]
     },
     "metadata": {},
     "output_type": "display_data"
    },
    {
     "data": {
      "text/html": [
       "Run data is saved locally in <code>C:\\Users\\Kyeul\\Desktop\\code\\practice\\practice_language\\python\\Deeplearning\\huggingface\\tutorials\\Fine-tuning_Baseline\\wandb\\run-20231110_205633-tb7wstv7</code>"
      ],
      "text/plain": [
       "<IPython.core.display.HTML object>"
      ]
     },
     "metadata": {},
     "output_type": "display_data"
    },
    {
     "data": {
      "text/html": [
       "Syncing run <strong><a href='https://wandb.ai/gyul611/Klue-ynat/runs/tb7wstv7' target=\"_blank\">ynat</a></strong> to <a href='https://wandb.ai/gyul611/Klue-ynat' target=\"_blank\">Weights & Biases</a> (<a href='https://wandb.me/run' target=\"_blank\">docs</a>)<br/>"
      ],
      "text/plain": [
       "<IPython.core.display.HTML object>"
      ]
     },
     "metadata": {},
     "output_type": "display_data"
    },
    {
     "data": {
      "text/html": [
       " View project at <a href='https://wandb.ai/gyul611/Klue-ynat' target=\"_blank\">https://wandb.ai/gyul611/Klue-ynat</a>"
      ],
      "text/plain": [
       "<IPython.core.display.HTML object>"
      ]
     },
     "metadata": {},
     "output_type": "display_data"
    },
    {
     "data": {
      "text/html": [
       " View run at <a href='https://wandb.ai/gyul611/Klue-ynat/runs/tb7wstv7' target=\"_blank\">https://wandb.ai/gyul611/Klue-ynat/runs/tb7wstv7</a>"
      ],
      "text/plain": [
       "<IPython.core.display.HTML object>"
      ]
     },
     "metadata": {},
     "output_type": "display_data"
    },
    {
     "data": {
      "text/plain": [
       "{'eval_loss': 0.3817157447338104,\n",
       " 'eval_f1': 0.8673393457362918,\n",
       " 'eval_runtime': 3.4533,\n",
       " 'eval_samples_per_second': 2637.195,\n",
       " 'eval_steps_per_second': 10.425,\n",
       " 'epoch': 10.0}"
      ]
     },
     "execution_count": 30,
     "metadata": {},
     "output_type": "execute_result"
    }
   ],
   "source": [
    "wandb.init(project=\"Klue-ynat\",\n",
    "           entity='gyul611',\n",
    "           id=id,\n",
    "           name='ynat',\n",
    "          )\n",
    "trainer.evaluate()\n"
   ]
  },
  {
   "cell_type": "code",
   "execution_count": 31,
   "id": "36ff14e4-b1df-4ed1-9916-ddc4a4943c82",
   "metadata": {},
   "outputs": [
    {
     "data": {
      "text/plain": [
       "'https://huggingface.co/kyeul611/bert-base-finetuned-ynat/tree/main/'"
      ]
     },
     "execution_count": 31,
     "metadata": {},
     "output_type": "execute_result"
    }
   ],
   "source": [
    "trainer.push_to_hub()"
   ]
  },
  {
   "cell_type": "code",
   "execution_count": null,
   "id": "13f4469d-2f9c-41d1-babd-68a02282fe74",
   "metadata": {},
   "outputs": [],
   "source": []
  }
 ],
 "metadata": {
  "kernelspec": {
   "display_name": "nlp",
   "language": "python",
   "name": "nlp"
  },
  "language_info": {
   "codemirror_mode": {
    "name": "ipython",
    "version": 3
   },
   "file_extension": ".py",
   "mimetype": "text/x-python",
   "name": "python",
   "nbconvert_exporter": "python",
   "pygments_lexer": "ipython3",
   "version": "3.11.4"
  }
 },
 "nbformat": 4,
 "nbformat_minor": 5
}

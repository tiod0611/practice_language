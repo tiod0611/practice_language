{
 "cells": [
  {
   "cell_type": "code",
   "execution_count": 7,
   "id": "31a52c58-e507-4128-bcf4-91588e50d7cf",
   "metadata": {},
   "outputs": [
    {
     "ename": "ImportError",
     "evalue": "cannot import name 'pipline' from 'transformers' (C:\\Users\\Kyeul\\Desktop\\code\\언어_연습\\practice_language\\python\\딥러닝\\HF_transformer\\venv\\Lib\\site-packages\\transformers\\__init__.py)",
     "output_type": "error",
     "traceback": [
      "\u001b[1;31m---------------------------------------------------------------------------\u001b[0m",
      "\u001b[1;31mImportError\u001b[0m                               Traceback (most recent call last)",
      "Cell \u001b[1;32mIn[7], line 1\u001b[0m\n\u001b[1;32m----> 1\u001b[0m \u001b[38;5;28;01mfrom\u001b[39;00m \u001b[38;5;21;01mtransformers\u001b[39;00m \u001b[38;5;28;01mimport\u001b[39;00m pipline\n",
      "\u001b[1;31mImportError\u001b[0m: cannot import name 'pipline' from 'transformers' (C:\\Users\\Kyeul\\Desktop\\code\\언어_연습\\practice_language\\python\\딥러닝\\HF_transformer\\venv\\Lib\\site-packages\\transformers\\__init__.py)"
     ]
    }
   ],
   "source": [
    "from transformers import pipline"
   ]
  },
  {
   "cell_type": "code",
   "execution_count": null,
   "id": "a4e554a6-ec1e-4a69-bc29-f984f2c28a9c",
   "metadata": {},
   "outputs": [],
   "source": []
  }
 ],
 "metadata": {
  "kernelspec": {
   "display_name": "venv",
   "language": "python",
   "name": "venv"
  },
  "language_info": {
   "codemirror_mode": {
    "name": "ipython",
    "version": 3
   },
   "file_extension": ".py",
   "mimetype": "text/x-python",
   "name": "python",
   "nbconvert_exporter": "python",
   "pygments_lexer": "ipython3",
   "version": "3.11.4"
  }
 },
 "nbformat": 4,
 "nbformat_minor": 5
}

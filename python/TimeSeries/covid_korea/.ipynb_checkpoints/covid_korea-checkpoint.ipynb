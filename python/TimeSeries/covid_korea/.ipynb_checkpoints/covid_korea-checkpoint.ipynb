{
 "cells": [
  {
   "cell_type": "code",
   "execution_count": 45,
   "id": "20bd0e39-84d2-4369-839f-ea37aba7955a",
   "metadata": {},
   "outputs": [],
   "source": [
    "import pandas as pd\n",
    "pd.set_option('display.max_columns', None)\n",
    "pd.set_option('display.max_rows', None)\n",
    "\n",
    "import matplotlib.pyplot as plt"
   ]
  },
  {
   "cell_type": "code",
   "execution_count": 2,
   "id": "bf374859-db92-422e-9be1-9da3e6166121",
   "metadata": {},
   "outputs": [],
   "source": [
    "covid_data = pd.read_csv('../data/covid_korea/age_gender.csv')"
   ]
  },
  {
   "cell_type": "code",
   "execution_count": 3,
   "id": "ceb4b689-5ccd-4414-be75-e7032f882081",
   "metadata": {},
   "outputs": [
    {
     "name": "stdout",
     "output_type": "stream",
     "text": [
      "<class 'pandas.core.frame.DataFrame'>\n",
      "RangeIndex: 82650 entries, 0 to 82649\n",
      "Data columns (total 10 columns):\n",
      " #   Column        Non-Null Count  Dtype  \n",
      "---  ------        --------------  -----  \n",
      " 0   Unnamed: 0    82650 non-null  int64  \n",
      " 1   confCase      82650 non-null  int64  \n",
      " 2   confCaseRate  82650 non-null  float64\n",
      " 3   createDt      82650 non-null  object \n",
      " 4   criticalRate  82650 non-null  float64\n",
      " 5   death         82650 non-null  int64  \n",
      " 6   deathRate     82650 non-null  float64\n",
      " 7   category      82650 non-null  object \n",
      " 8   seq           82650 non-null  int64  \n",
      " 9   updateDt      0 non-null      float64\n",
      "dtypes: float64(4), int64(4), object(2)\n",
      "memory usage: 6.3+ MB\n"
     ]
    }
   ],
   "source": [
    "covid_data.info()"
   ]
  },
  {
   "cell_type": "code",
   "execution_count": 5,
   "id": "e433115b-143c-4c99-8a9a-87394b2689ca",
   "metadata": {},
   "outputs": [
    {
     "data": {
      "text/html": [
       "<div>\n",
       "<style scoped>\n",
       "    .dataframe tbody tr th:only-of-type {\n",
       "        vertical-align: middle;\n",
       "    }\n",
       "\n",
       "    .dataframe tbody tr th {\n",
       "        vertical-align: top;\n",
       "    }\n",
       "\n",
       "    .dataframe thead th {\n",
       "        text-align: right;\n",
       "    }\n",
       "</style>\n",
       "<table border=\"1\" class=\"dataframe\">\n",
       "  <thead>\n",
       "    <tr style=\"text-align: right;\">\n",
       "      <th></th>\n",
       "      <th>Unnamed: 0</th>\n",
       "      <th>confCase</th>\n",
       "      <th>confCaseRate</th>\n",
       "      <th>criticalRate</th>\n",
       "      <th>death</th>\n",
       "      <th>deathRate</th>\n",
       "      <th>seq</th>\n",
       "      <th>updateDt</th>\n",
       "    </tr>\n",
       "  </thead>\n",
       "  <tbody>\n",
       "    <tr>\n",
       "      <th>count</th>\n",
       "      <td>82650.000000</td>\n",
       "      <td>82650.000000</td>\n",
       "      <td>82650.000000</td>\n",
       "      <td>82650.000000</td>\n",
       "      <td>82650.000000</td>\n",
       "      <td>82650.000000</td>\n",
       "      <td>82650.000000</td>\n",
       "      <td>0.0</td>\n",
       "    </tr>\n",
       "    <tr>\n",
       "      <th>mean</th>\n",
       "      <td>41325.500000</td>\n",
       "      <td>3625.407368</td>\n",
       "      <td>18.175832</td>\n",
       "      <td>3.390340</td>\n",
       "      <td>65.223509</td>\n",
       "      <td>18.175877</td>\n",
       "      <td>2732.180351</td>\n",
       "      <td>NaN</td>\n",
       "    </tr>\n",
       "    <tr>\n",
       "      <th>std</th>\n",
       "      <td>23859.144211</td>\n",
       "      <td>3974.910582</td>\n",
       "      <td>16.382815</td>\n",
       "      <td>6.518453</td>\n",
       "      <td>83.360684</td>\n",
       "      <td>21.290709</td>\n",
       "      <td>1630.896744</td>\n",
       "      <td>NaN</td>\n",
       "    </tr>\n",
       "    <tr>\n",
       "      <th>min</th>\n",
       "      <td>1.000000</td>\n",
       "      <td>1.000000</td>\n",
       "      <td>1.000000</td>\n",
       "      <td>0.000000</td>\n",
       "      <td>0.000000</td>\n",
       "      <td>0.000000</td>\n",
       "      <td>1.000000</td>\n",
       "      <td>NaN</td>\n",
       "    </tr>\n",
       "    <tr>\n",
       "      <th>25%</th>\n",
       "      <td>20663.250000</td>\n",
       "      <td>1092.000000</td>\n",
       "      <td>5.670000</td>\n",
       "      <td>0.000000</td>\n",
       "      <td>0.000000</td>\n",
       "      <td>0.000000</td>\n",
       "      <td>1341.000000</td>\n",
       "      <td>NaN</td>\n",
       "    </tr>\n",
       "    <tr>\n",
       "      <th>50%</th>\n",
       "      <td>41325.500000</td>\n",
       "      <td>2150.000000</td>\n",
       "      <td>13.090000</td>\n",
       "      <td>0.575000</td>\n",
       "      <td>16.000000</td>\n",
       "      <td>5.190000</td>\n",
       "      <td>2680.500000</td>\n",
       "      <td>NaN</td>\n",
       "    </tr>\n",
       "    <tr>\n",
       "      <th>75%</th>\n",
       "      <td>61987.750000</td>\n",
       "      <td>4651.000000</td>\n",
       "      <td>19.730000</td>\n",
       "      <td>2.430000</td>\n",
       "      <td>130.000000</td>\n",
       "      <td>46.890000</td>\n",
       "      <td>4130.000000</td>\n",
       "      <td>NaN</td>\n",
       "    </tr>\n",
       "    <tr>\n",
       "      <th>max</th>\n",
       "      <td>82650.000000</td>\n",
       "      <td>27268.000000</td>\n",
       "      <td>60.100000</td>\n",
       "      <td>26.680000</td>\n",
       "      <td>394.000000</td>\n",
       "      <td>53.630000</td>\n",
       "      <td>5609.000000</td>\n",
       "      <td>NaN</td>\n",
       "    </tr>\n",
       "  </tbody>\n",
       "</table>\n",
       "</div>"
      ],
      "text/plain": [
       "         Unnamed: 0      confCase  confCaseRate  criticalRate         death  \\\n",
       "count  82650.000000  82650.000000  82650.000000  82650.000000  82650.000000   \n",
       "mean   41325.500000   3625.407368     18.175832      3.390340     65.223509   \n",
       "std    23859.144211   3974.910582     16.382815      6.518453     83.360684   \n",
       "min        1.000000      1.000000      1.000000      0.000000      0.000000   \n",
       "25%    20663.250000   1092.000000      5.670000      0.000000      0.000000   \n",
       "50%    41325.500000   2150.000000     13.090000      0.575000     16.000000   \n",
       "75%    61987.750000   4651.000000     19.730000      2.430000    130.000000   \n",
       "max    82650.000000  27268.000000     60.100000     26.680000    394.000000   \n",
       "\n",
       "          deathRate           seq  updateDt  \n",
       "count  82650.000000  82650.000000       0.0  \n",
       "mean      18.175877   2732.180351       NaN  \n",
       "std       21.290709   1630.896744       NaN  \n",
       "min        0.000000      1.000000       NaN  \n",
       "25%        0.000000   1341.000000       NaN  \n",
       "50%        5.190000   2680.500000       NaN  \n",
       "75%       46.890000   4130.000000       NaN  \n",
       "max       53.630000   5609.000000       NaN  "
      ]
     },
     "execution_count": 5,
     "metadata": {},
     "output_type": "execute_result"
    }
   ],
   "source": [
    "covid_data.describe()"
   ]
  },
  {
   "cell_type": "code",
   "execution_count": 25,
   "id": "cb578253-77bf-42d2-89dd-fde68b8fcf26",
   "metadata": {},
   "outputs": [],
   "source": [
    "deathRate = pd.DataFrame()\n",
    "covid_data['day'] = covid_data['createDt'].apply(lambda x : x[:10])"
   ]
  },
  {
   "cell_type": "code",
   "execution_count": 26,
   "id": "7e12e650-f79e-4cf8-9622-76eeac3ef591",
   "metadata": {},
   "outputs": [
    {
     "data": {
      "text/plain": [
       "0        2020-12-23\n",
       "1        2020-12-23\n",
       "2        2020-12-23\n",
       "3        2020-12-23\n",
       "4        2020-12-23\n",
       "            ...    \n",
       "82645    2020-04-02\n",
       "82646    2020-04-02\n",
       "82647    2020-04-02\n",
       "82648    2020-04-02\n",
       "82649    2020-04-02\n",
       "Name: createDt, Length: 82650, dtype: object"
      ]
     },
     "execution_count": 26,
     "metadata": {},
     "output_type": "execute_result"
    }
   ],
   "source": [
    "covid_data.day"
   ]
  },
  {
   "cell_type": "code",
   "execution_count": 27,
   "id": "f061fbea-e67c-45b1-b61f-783bd75fc83f",
   "metadata": {},
   "outputs": [
    {
     "name": "stdout",
     "output_type": "stream",
     "text": [
      "<class 'pandas.core.frame.DataFrame'>\n",
      "RangeIndex: 82650 entries, 0 to 82649\n",
      "Data columns (total 11 columns):\n",
      " #   Column        Non-Null Count  Dtype  \n",
      "---  ------        --------------  -----  \n",
      " 0   Unnamed: 0    82650 non-null  int64  \n",
      " 1   confCase      82650 non-null  int64  \n",
      " 2   confCaseRate  82650 non-null  float64\n",
      " 3   createDt      82650 non-null  object \n",
      " 4   criticalRate  82650 non-null  float64\n",
      " 5   death         82650 non-null  int64  \n",
      " 6   deathRate     82650 non-null  float64\n",
      " 7   category      82650 non-null  object \n",
      " 8   seq           82650 non-null  int64  \n",
      " 9   updateDt      0 non-null      float64\n",
      " 10  day           82650 non-null  object \n",
      "dtypes: float64(4), int64(4), object(3)\n",
      "memory usage: 6.9+ MB\n"
     ]
    }
   ],
   "source": [
    "covid_data.info()"
   ]
  },
  {
   "cell_type": "code",
   "execution_count": 33,
   "id": "3aa17686-1a38-481d-b53d-6753c42d5cdd",
   "metadata": {
    "collapsed": true,
    "jupyter": {
     "outputs_hidden": true
    },
    "tags": []
   },
   "outputs": [
    {
     "data": {
      "text/plain": [
       "day\n",
       "2020-04-02    18.182727\n",
       "2020-04-07    16.750000\n",
       "2020-04-08    18.181818\n",
       "2020-04-09    18.181818\n",
       "2020-04-10    18.181818\n",
       "2020-04-11    18.181818\n",
       "2020-04-12    18.181818\n",
       "2020-04-13    18.181818\n",
       "2020-04-14    18.181818\n",
       "2020-04-15    18.180909\n",
       "2020-04-16    18.180909\n",
       "2020-04-17    18.181818\n",
       "2020-04-18    18.181818\n",
       "2020-04-19    18.180909\n",
       "2020-04-20    18.182727\n",
       "2020-04-21    18.182727\n",
       "2020-04-22    18.181818\n",
       "2020-04-23    18.180909\n",
       "2020-04-24    18.180909\n",
       "2020-04-25    18.180909\n",
       "2020-04-26    18.181818\n",
       "2020-04-27    18.180909\n",
       "2020-04-28    18.181818\n",
       "2020-04-29    18.181818\n",
       "2020-04-30    18.180909\n",
       "2020-05-01    18.181818\n",
       "2020-05-02    18.181818\n",
       "2020-05-03    18.181818\n",
       "2020-05-04    18.181818\n",
       "2020-05-05    18.181818\n",
       "2020-05-06    18.181818\n",
       "2020-05-07    18.181818\n",
       "2020-05-08    18.181818\n",
       "2020-05-09    18.181818\n",
       "2020-05-10    18.181818\n",
       "2020-05-11    18.181818\n",
       "2020-05-12    18.180909\n",
       "2020-05-13    18.181818\n",
       "2020-05-14    18.182727\n",
       "2020-05-15    18.182727\n",
       "2020-05-16    18.181818\n",
       "2020-05-17    18.181818\n",
       "2020-05-18    18.181818\n",
       "2020-05-19    18.181818\n",
       "2020-05-20    18.181818\n",
       "2020-05-21    18.181818\n",
       "2020-05-23    18.181818\n",
       "2020-05-24    18.181818\n",
       "2020-05-25    18.181818\n",
       "2020-05-26    18.182727\n",
       "2020-05-27    18.182727\n",
       "2020-05-28    18.182727\n",
       "2020-05-29    18.182727\n",
       "2020-05-30    18.182727\n",
       "2020-05-31    18.181818\n",
       "2020-06-02    18.181818\n",
       "2020-06-03    18.181818\n",
       "2020-06-04    18.181818\n",
       "2020-06-05    18.181818\n",
       "2020-06-06    18.181818\n",
       "2020-06-07    18.181818\n",
       "2020-06-08    18.181818\n",
       "2020-06-09    18.180909\n",
       "2020-06-10    18.181818\n",
       "2020-06-11    18.181818\n",
       "2020-06-12    18.181818\n",
       "2020-06-13    18.181818\n",
       "2020-06-14    18.181818\n",
       "2020-06-16    18.182727\n",
       "2020-06-17    18.182727\n",
       "2020-06-18    18.181818\n",
       "2020-06-19    18.181818\n",
       "2020-06-20    18.181818\n",
       "2020-06-21    18.181818\n",
       "2020-06-22    18.181818\n",
       "2020-06-23    18.182727\n",
       "2020-06-24    18.182727\n",
       "2020-06-25    18.181818\n",
       "2020-06-26    18.181818\n",
       "2020-06-27    18.181818\n",
       "2020-06-28    18.181818\n",
       "2020-06-29    18.181818\n",
       "2020-06-30    18.181818\n",
       "2020-07-01    18.181818\n",
       "2020-07-02    18.181818\n",
       "2020-07-03    18.181818\n",
       "2020-07-04    18.182727\n",
       "2020-07-05    18.182727\n",
       "2020-07-06    18.182727\n",
       "2020-07-07    18.180909\n",
       "2020-07-08    18.180909\n",
       "2020-07-09    18.183636\n",
       "2020-07-10    18.182727\n",
       "2020-07-11    18.182727\n",
       "2020-07-12    18.182727\n",
       "2020-07-13    18.182727\n",
       "2020-07-14    18.182727\n",
       "2020-07-15    18.182727\n",
       "2020-07-16    18.180909\n",
       "2020-07-17    18.180909\n",
       "2020-07-18    18.181818\n",
       "2020-07-19    18.181818\n",
       "2020-07-20    18.181818\n",
       "2020-07-21    18.181818\n",
       "2020-07-22    18.180909\n",
       "2020-07-23    18.180909\n",
       "2020-07-24    18.181818\n",
       "2020-07-25    18.181818\n",
       "2020-07-26    18.181818\n",
       "2020-07-27    18.181818\n",
       "2020-07-28    18.181818\n",
       "2020-07-29    18.181818\n",
       "2020-07-30    18.181818\n",
       "2020-07-31    18.181818\n",
       "2020-08-01    18.181818\n",
       "2020-08-02    18.181818\n",
       "2020-08-03    18.181818\n",
       "2020-08-04    18.181818\n",
       "2020-08-05    18.181818\n",
       "2020-08-06    18.181818\n",
       "2020-08-07    18.180909\n",
       "2020-08-08    18.182727\n",
       "2020-08-09    18.182727\n",
       "2020-08-10    18.182727\n",
       "2020-08-11    18.182727\n",
       "2020-08-12    18.182727\n",
       "2020-08-13    18.182727\n",
       "2020-08-14    18.182727\n",
       "2020-08-15    18.182727\n",
       "2020-08-16    18.182727\n",
       "2020-08-17    18.182727\n",
       "2020-08-18    18.181818\n",
       "2020-08-19    18.181818\n",
       "2020-08-20    18.181818\n",
       "2020-08-21    18.181818\n",
       "2020-08-22    18.181818\n",
       "2020-08-23    18.181818\n",
       "2020-08-24    18.181818\n",
       "2020-08-25    18.182727\n",
       "2020-08-26    18.181818\n",
       "2020-08-27    18.181818\n",
       "2020-08-28    18.181818\n",
       "2020-08-29    18.181818\n",
       "2020-08-30    18.180909\n",
       "2020-08-31    18.181818\n",
       "2020-09-01    18.181818\n",
       "2020-09-02    18.181818\n",
       "2020-09-03    18.182727\n",
       "2020-09-04    18.180909\n",
       "2020-09-05    18.180909\n",
       "2020-09-06    18.181818\n",
       "2020-09-07    18.182727\n",
       "2020-09-08    18.181818\n",
       "2020-09-09    18.180909\n",
       "2020-09-10    18.182727\n",
       "2020-09-11    18.181818\n",
       "2020-09-12    18.181818\n",
       "2020-09-13    18.181818\n",
       "2020-09-14    18.180909\n",
       "2020-09-15    18.180909\n",
       "2020-09-16    18.180909\n",
       "2020-09-17    18.182727\n",
       "2020-09-18    18.181818\n",
       "2020-09-19    18.182727\n",
       "2020-09-20    18.182727\n",
       "2020-09-21    18.182727\n",
       "2020-09-22    18.181818\n",
       "2020-09-23    18.181818\n",
       "2020-09-24    18.181818\n",
       "2020-09-25    18.182727\n",
       "2020-09-26    18.181818\n",
       "2020-09-27    18.181818\n",
       "2020-09-28    18.181818\n",
       "2020-09-29    18.181818\n",
       "2020-09-30    18.180909\n",
       "2020-10-01    18.180909\n",
       "2020-10-02    18.181818\n",
       "2020-10-03    18.181818\n",
       "2020-10-04    18.181818\n",
       "2020-10-05    18.180909\n",
       "2020-10-06    18.180909\n",
       "2020-10-07    18.181818\n",
       "2020-10-08    18.181818\n",
       "2020-10-10    18.181818\n",
       "2020-10-11    18.181818\n",
       "2020-10-12    18.180909\n",
       "2020-10-13    18.181818\n",
       "2020-10-14    18.181818\n",
       "2020-10-15    18.181818\n",
       "2020-10-16    18.181818\n",
       "2020-10-17    18.180909\n",
       "2020-10-18    18.181818\n",
       "2020-10-19    18.181818\n",
       "2020-10-20    18.181818\n",
       "2020-10-21    18.181818\n",
       "2020-10-22    18.181818\n",
       "2020-10-23    18.182727\n",
       "2020-10-24    18.183636\n",
       "2020-10-25    18.183636\n",
       "2020-10-26    18.183636\n",
       "2020-10-27    18.181818\n",
       "2020-10-28    18.182727\n",
       "2020-10-29    18.181818\n",
       "2020-10-30    18.181818\n",
       "2020-10-31    18.181818\n",
       "2020-11-01    18.181818\n",
       "2020-11-02    18.181818\n",
       "2020-11-03    18.181818\n",
       "2020-11-04    18.180909\n",
       "2020-11-05    18.181818\n",
       "2020-11-06    18.180909\n",
       "2020-11-07    18.180909\n",
       "2020-11-08    18.182727\n",
       "2020-11-09    18.181818\n",
       "2020-11-10    18.181818\n",
       "2020-11-11    18.181818\n",
       "2020-11-12    18.181818\n",
       "2020-11-13    18.181818\n",
       "2020-11-14    18.181818\n",
       "2020-11-15    18.182727\n",
       "2020-11-16    18.181818\n",
       "2020-11-17    18.181818\n",
       "2020-11-18    18.181818\n",
       "2020-11-19    18.181818\n",
       "2020-11-20    18.182727\n",
       "2020-11-21    18.182727\n",
       "2020-11-22    18.181818\n",
       "2020-11-23    18.181818\n",
       "2020-11-24    18.181818\n",
       "2020-11-25    18.181818\n",
       "2020-11-26    18.182727\n",
       "2020-11-27    18.182727\n",
       "2020-11-28    18.181818\n",
       "2020-11-29    18.181818\n",
       "2020-11-30    18.181818\n",
       "2020-12-01    18.181818\n",
       "2020-12-02    18.181818\n",
       "2020-12-03    18.183636\n",
       "2020-12-04    18.181818\n",
       "2020-12-05    18.181818\n",
       "2020-12-06    18.181818\n",
       "2020-12-07    18.180909\n",
       "2020-12-08    18.181818\n",
       "2020-12-09    18.181818\n",
       "2020-12-10    18.180909\n",
       "2020-12-11    18.181818\n",
       "2020-12-12    18.182727\n",
       "2020-12-13    18.180909\n",
       "2020-12-14    18.182727\n",
       "2020-12-15    18.180909\n",
       "2020-12-16    18.181818\n",
       "2020-12-17    18.182727\n",
       "2020-12-18    18.181818\n",
       "2020-12-19    18.181818\n",
       "2020-12-20    18.181818\n",
       "2020-12-21    18.181818\n",
       "2020-12-22    18.181818\n",
       "2020-12-23    18.181818\n",
       "Name: deathRate, dtype: float64"
      ]
     },
     "execution_count": 33,
     "metadata": {},
     "output_type": "execute_result"
    }
   ],
   "source": [
    "covid_data.groupby('day')['deathRate'].mean()"
   ]
  },
  {
   "cell_type": "code",
   "execution_count": 34,
   "id": "b86377ec-3c52-4817-aa7b-7c5dd5f50214",
   "metadata": {},
   "outputs": [],
   "source": [
    "covid_korea = pd.read_csv('../data/covid_korea/covid_kr.csv')"
   ]
  },
  {
   "cell_type": "code",
   "execution_count": 35,
   "id": "26465ec6-c0ef-40cb-9fba-f20f73cd42aa",
   "metadata": {},
   "outputs": [
    {
     "name": "stdout",
     "output_type": "stream",
     "text": [
      "<class 'pandas.core.frame.DataFrame'>\n",
      "RangeIndex: 366 entries, 0 to 365\n",
      "Data columns (total 15 columns):\n",
      " #   Column          Non-Null Count  Dtype  \n",
      "---  ------          --------------  -----  \n",
      " 0   Unnamed: 0      366 non-null    int64  \n",
      " 1   accDefRate      306 non-null    float64\n",
      " 2   accExamCnt      306 non-null    float64\n",
      " 3   accExamCompCnt  306 non-null    float64\n",
      " 4   careCnt         306 non-null    float64\n",
      " 5   clearCnt        366 non-null    int64  \n",
      " 6   createDt        366 non-null    object \n",
      " 7   deathCnt        366 non-null    int64  \n",
      " 8   decideCnt       366 non-null    int64  \n",
      " 9   examCnt         366 non-null    int64  \n",
      " 10  resutlNegCnt    306 non-null    float64\n",
      " 11  seq             366 non-null    int64  \n",
      " 12  stateDt         366 non-null    int64  \n",
      " 13  stateTime       366 non-null    object \n",
      " 14  updateDt        29 non-null     object \n",
      "dtypes: float64(5), int64(7), object(3)\n",
      "memory usage: 43.0+ KB\n"
     ]
    }
   ],
   "source": [
    "covid_korea.info()"
   ]
  },
  {
   "cell_type": "code",
   "execution_count": 36,
   "id": "8ce848fb-eddd-4db1-b09c-7a54d4cd043e",
   "metadata": {},
   "outputs": [],
   "source": [
    "covid_korea['day'] = covid_korea['createDt'].apply(lambda x: x[:10])"
   ]
  },
  {
   "cell_type": "code",
   "execution_count": 39,
   "id": "da4d9a7c-7933-4084-b932-363d88e01dae",
   "metadata": {
    "tags": []
   },
   "outputs": [],
   "source": [
    "deathRate = covid_korea.groupby('day')[['deathCnt', 'decideCnt']].sum()"
   ]
  },
  {
   "cell_type": "code",
   "execution_count": 46,
   "id": "42219d63-685b-443a-9097-a1d3073dd432",
   "metadata": {},
   "outputs": [],
   "source": [
    "deathRate['deathRate'] = (deathRate['deathCnt'].div(deathRate['decideCnt'])*100).fillna(0)"
   ]
  },
  {
   "cell_type": "code",
   "execution_count": 54,
   "id": "19bde73e-92b7-4c53-a270-fa4b429b68c8",
   "metadata": {},
   "outputs": [
    {
     "data": {
      "text/plain": [
       "<AxesSubplot:xlabel='day'>"
      ]
     },
     "execution_count": 54,
     "metadata": {},
     "output_type": "execute_result"
    },
    {
     "data": {
      "image/png": "[encoded data removed]",
      "text/plain": [
       "<Figure size 1152x576 with 1 Axes>"
      ]
     },
     "metadata": {
      "needs_background": "light"
     },
     "output_type": "display_data"
    }
   ],
   "source": [
    "plt.figure(figsize=(16, 8))\n",
    "deathRate.deathRate.plot()"
   ]
  },
  {
   "cell_type": "code",
   "execution_count": 52,
   "id": "830e25e5-93f7-4d66-b662-0d4e8655cea8",
   "metadata": {},
   "outputs": [
    {
     "data": {
      "text/plain": [
       "<AxesSubplot:xlabel='day'>"
      ]
     },
     "execution_count": 52,
     "metadata": {},
     "output_type": "execute_result"
    },
    {
     "data": {
      "image/png": "[encoded data removed]",
      "text/plain": [
       "<Figure size 1152x576 with 1 Axes>"
      ]
     },
     "metadata": {
      "needs_background": "light"
     },
     "output_type": "display_data"
    }
   ],
   "source": [
    "plt.figure(figsize=(16, 8))\n",
    "deathRate.deathCnt.plot()"
   ]
  },
  {
   "cell_type": "code",
   "execution_count": 56,
   "id": "b1231b95-8982-49cd-9e02-8cb4cbf635c3",
   "metadata": {},
   "outputs": [
    {
     "data": {
      "text/plain": [
       "<AxesSubplot:xlabel='day'>"
      ]
     },
     "execution_count": 56,
     "metadata": {},
     "output_type": "execute_result"
    },
    {
     "data": {
      "image/png": "[encoded data removed]",
      "text/plain": [
       "<Figure size 1152x576 with 1 Axes>"
      ]
     },
     "metadata": {
      "needs_background": "light"
     },
     "output_type": "display_data"
    }
   ],
   "source": [
    "plt.figure(figsize=(16, 8))\n",
    "deathRate.decideCnt.plot()"
   ]
  },
  {
   "cell_type": "markdown",
   "id": "602193c2-e935-40be-9d0f-2b9ac445a546",
   "metadata": {},
   "source": [
    "새로운 데이터  \n",
    "https://kdx.kr/data/view/25918"
   ]
  },
  {
   "cell_type": "code",
   "execution_count": null,
   "id": "10653fcd-1dda-4314-8576-63f934abcb4f",
   "metadata": {},
   "outputs": [],
   "source": []
  }
 ],
 "metadata": {
  "kernelspec": {
   "display_name": "Python 3 (ipykernel)",
   "language": "python",
   "name": "python3"
  },
  "language_info": {
   "codemirror_mode": {
    "name": "ipython",
    "version": 3
   },
   "file_extension": ".py",
   "mimetype": "text/x-python",
   "name": "python",
   "nbconvert_exporter": "python",
   "pygments_lexer": "ipython3",
   "version": "3.9.12"
  }
 },
 "nbformat": 4,
 "nbformat_minor": 5
}

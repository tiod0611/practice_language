{
 "cells": [
  {
   "cell_type": "code",
   "execution_count": 1,
   "id": "31301da0-b7e8-4635-955f-5397dc85f4c7",
   "metadata": {},
   "outputs": [],
   "source": [
    "import pandas as pd\n",
    "pd.set_option('display.max_columns', None)\n",
    "pd.set_option('display.max_rows', None)\n",
    "\n",
    "import matplotlib.pyplot as plt"
   ]
  },
  {
   "cell_type": "code",
   "execution_count": 3,
   "id": "fb382973-1f4c-4fb8-abb3-570907fd919f",
   "metadata": {},
   "outputs": [],
   "source": [
    "covid_kr = pd.read_csv('../data/covid_korea/Covid19GenAgeCaseInf.csv')"
   ]
  },
  {
   "cell_type": "code",
   "execution_count": 4,
   "id": "bfac4c10-829c-4bd6-87e2-32d6190b3968",
   "metadata": {},
   "outputs": [
    {
     "name": "stdout",
     "output_type": "stream",
     "text": [
      "<class 'pandas.core.frame.DataFrame'>\n",
      "RangeIndex: 10673 entries, 0 to 10672\n",
      "Data columns (total 9 columns):\n",
      " #   Column        Non-Null Count  Dtype  \n",
      "---  ------        --------------  -----  \n",
      " 0   seq           10673 non-null  int64  \n",
      " 1   gubun         10673 non-null  object \n",
      " 2   confCase      10673 non-null  int64  \n",
      " 3   confCaseRate  10673 non-null  float64\n",
      " 4   death         9184 non-null   float64\n",
      " 5   deathRate     10610 non-null  float64\n",
      " 6   criticalRate  9007 non-null   object \n",
      " 7   createDt      10673 non-null  object \n",
      " 8   updateDt      4 non-null      object \n",
      "dtypes: float64(3), int64(2), object(4)\n",
      "memory usage: 750.6+ KB\n"
     ]
    }
   ],
   "source": [
    "covid_kr.info()"
   ]
  },
  {
   "cell_type": "code",
   "execution_count": 5,
   "id": "baf4b159-97a5-4305-9fe6-df45da9ed248",
   "metadata": {},
   "outputs": [
    {
     "data": {
      "text/plain": [
       "29927958"
      ]
     },
     "execution_count": 5,
     "metadata": {},
     "output_type": "execute_result"
    }
   ],
   "source": [
    "16054424 +13873534"
   ]
  },
  {
   "cell_type": "code",
   "execution_count": 6,
   "id": "8b7f05ca-d1a3-471b-92a5-d7d454899a5d",
   "metadata": {},
   "outputs": [
    {
     "data": {
      "text/plain": [
       "33104.0"
      ]
     },
     "execution_count": 6,
     "metadata": {},
     "output_type": "execute_result"
    }
   ],
   "source": [
    "\n",
    "16855.0+16249.0"
   ]
  },
  {
   "cell_type": "code",
   "execution_count": 7,
   "id": "86200b8e-6350-40d2-9646-d009573b8c28",
   "metadata": {},
   "outputs": [
    {
     "data": {
      "text/plain": [
       "0.1106122910223277"
      ]
     },
     "execution_count": 7,
     "metadata": {},
     "output_type": "execute_result"
    }
   ],
   "source": [
    "(33104.0 / 29927958) * 100"
   ]
  },
  {
   "cell_type": "code",
   "execution_count": null,
   "id": "6a762b50-4d4f-4ec1-8ed1-30533a58068a",
   "metadata": {},
   "outputs": [],
   "source": []
  }
 ],
 "metadata": {
  "kernelspec": {
   "display_name": "Python 3 (ipykernel)",
   "language": "python",
   "name": "python3"
  },
  "language_info": {
   "codemirror_mode": {
    "name": "ipython",
    "version": 3
   },
   "file_extension": ".py",
   "mimetype": "text/x-python",
   "name": "python",
   "nbconvert_exporter": "python",
   "pygments_lexer": "ipython3",
   "version": "3.9.12"
  }
 },
 "nbformat": 4,
 "nbformat_minor": 5
}

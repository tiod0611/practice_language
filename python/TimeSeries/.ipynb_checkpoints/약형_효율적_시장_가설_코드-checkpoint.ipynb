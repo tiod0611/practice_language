{
 "cells": [
  {
   "cell_type": "markdown",
   "id": "13e82069-7405-4aab-a6a0-e3e4ddff4555",
   "metadata": {},
   "source": [
    "https://dacon.io/competitions/official/235980/codeshare/6561"
   ]
  },
  {
   "cell_type": "code",
   "execution_count": null,
   "id": "26b4828e-3f40-4e5c-896c-fa81bfa53dec",
   "metadata": {},
   "outputs": [],
   "source": []
  }
 ],
 "metadata": {
  "kernelspec": {
   "display_name": "Python 3 (ipykernel)",
   "language": "python",
   "name": "python3"
  },
  "language_info": {
   "codemirror_mode": {
    "name": "ipython",
    "version": 3
   },
   "file_extension": ".py",
   "mimetype": "text/x-python",
   "name": "python",
   "nbconvert_exporter": "python",
   "pygments_lexer": "ipython3",
   "version": "3.9.12"
  }
 },
 "nbformat": 4,
 "nbformat_minor": 5
}

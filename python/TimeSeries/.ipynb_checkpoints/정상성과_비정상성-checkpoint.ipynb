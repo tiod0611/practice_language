{
 "cells": [
  {
   "cell_type": "markdown",
   "id": "dc248787-3353-4b9e-871f-648cfab1efcc",
   "metadata": {},
   "source": [
    "# 시계열 데이터의 특징\n",
    "### 정상성과 비정상성\n",
    "\n"
   ]
  },
  {
   "cell_type": "code",
   "execution_count": 1,
   "id": "04c01d89-adc3-42ec-9a31-9160c27dd72e",
   "metadata": {},
   "outputs": [],
   "source": [
    "# 정상성 데이터 중 하나인 \"화이트 노이즈\" 패턴을 python으로 구현해보자\n",
    "\n",
    "from random import gauss\n",
    "from random import seed\n",
    "from pandas import Series\n",
    "import matplotlib.pyplot as plt\n"
   ]
  },
  {
   "cell_type": "code",
   "execution_count": 12,
   "id": "9d48ed56-e224-4667-bad9-c48ea1321a38",
   "metadata": {},
   "outputs": [
    {
     "data": {
      "text/plain": [
       "count    1000.000000\n",
       "mean        0.032856\n",
       "std         1.001806\n",
       "min        -2.776427\n",
       "25%        -0.621361\n",
       "50%         0.063572\n",
       "75%         0.698801\n",
       "max         3.453323\n",
       "dtype: float64"
      ]
     },
     "execution_count": 12,
     "metadata": {},
     "output_type": "execute_result"
    }
   ],
   "source": [
    "# 화이트 노이즈 생성\n",
    "series = [gauss(0.0, 1.0) for i in range(1000)] #평균이 0, 표준편차가 1인 정규분포 안에서 랜덤으로 화이트 노이즈를 생성\n",
    "series = Series(series) # 데이터 타입을 시리즈로 변환\n",
    "\n",
    "# 위 화이트 노이즈의 기본적인 통계값 살펴보기\n",
    "series.describe()\n"
   ]
  },
  {
   "cell_type": "code",
   "execution_count": 13,
   "id": "49cc9371-4dde-491d-834e-ee3078c295b5",
   "metadata": {},
   "outputs": [
    {
     "data": {
      "image/png": "[encoded data removed]",
      "text/plain": [
       "<Figure size 432x288 with 1 Axes>"
      ]
     },
     "metadata": {
      "needs_background": "light"
     },
     "output_type": "display_data"
    }
   ],
   "source": [
    "# 화이트 노이즈 시각화\n",
    "series.plot()\n",
    "plt.show()"
   ]
  },
  {
   "cell_type": "markdown",
   "id": "463c6093-6241-4fd6-819b-d244546e473a",
   "metadata": {},
   "source": [
    "정상성을 띄는 시계열은 시간의 흐름에 따라 평균이나 분산 등의 통계적 특성이 변하지 않는다고 한다.  \n",
    "정말로 그런지 추가적인 실험을 통해 살펴보자"
   ]
  },
  {
   "cell_type": "code",
   "execution_count": 26,
   "id": "d37a0d47-76d5-48bc-ae55-202ea90cb657",
   "metadata": {},
   "outputs": [
    {
     "name": "stdout",
     "output_type": "stream",
     "text": [
      "mean: 0.2034,  var: 1.0045\n"
     ]
    }
   ],
   "source": [
    "# ~ 100 일때 평균과 분산\n",
    "series = [gauss(0.0, 1.0) for i in range(100)] #평균이 0, 표준편차가 1인 정규분포 안에서 랜덤으로 화이트 노이즈를 생성\n",
    "series = Series(series) # 데이터 타입을 시리즈로 변환\n",
    "\n",
    "mean = round(np.mean(series), 4)\n",
    "var = round(np.var(series), 4)\n",
    "\n",
    "print(\"mean: {},  var: {}\".format(mean, var))"
   ]
  },
  {
   "cell_type": "code",
   "execution_count": 27,
   "id": "ecfb98cc-b062-41b1-8005-29042995891e",
   "metadata": {},
   "outputs": [
    {
     "name": "stdout",
     "output_type": "stream",
     "text": [
      "mean: -0.0328,  var: 1.0011\n"
     ]
    }
   ],
   "source": [
    "# ~ 1,000 일때 평균과 분산\n",
    "series = [gauss(0.0, 1.0) for i in range(1000)] #평균이 0, 표준편차가 1인 정규분포 안에서 랜덤으로 화이트 노이즈를 생성\n",
    "series = Series(series) # 데이터 타입을 시리즈로 변환\n",
    "\n",
    "mean = round(np.mean(series), 4)\n",
    "var = round(np.var(series), 4)\n",
    "\n",
    "print(\"mean: {},  var: {}\".format(mean, var))"
   ]
  },
  {
   "cell_type": "code",
   "execution_count": 28,
   "id": "47bbf482-8217-4146-b538-20d23f65b188",
   "metadata": {},
   "outputs": [
    {
     "name": "stdout",
     "output_type": "stream",
     "text": [
      "mean: 0.0065,  var: 0.9963\n"
     ]
    }
   ],
   "source": [
    "# ~ 10,000 일때 평균과 분산\n",
    "series = [gauss(0.0, 1.0) for i in range(10000)] #평균이 0, 표준편차가 1인 정규분포 안에서 랜덤으로 화이트 노이즈를 생성\n",
    "series = Series(series) # 데이터 타입을 시리즈로 변환\n",
    "\n",
    "mean = round(np.mean(series), 4)\n",
    "var = round(np.var(series), 4)\n",
    "\n",
    "print(\"mean: {},  var: {}\".format(mean, var))"
   ]
  },
  {
   "cell_type": "code",
   "execution_count": 29,
   "id": "821c44b4-fc68-4c47-8b2e-224be5ff261b",
   "metadata": {},
   "outputs": [
    {
     "name": "stdout",
     "output_type": "stream",
     "text": [
      "mean: -0.0036,  var: 0.9989\n"
     ]
    }
   ],
   "source": [
    "# ~ 100,000 일때 평균과 분산\n",
    "series = [gauss(0.0, 1.0) for i in range(100000)] #평균이 0, 표준편차가 1인 정규분포 안에서 랜덤으로 화이트 노이즈를 생성\n",
    "series = Series(series) # 데이터 타입을 시리즈로 변환\n",
    "\n",
    "mean = round(np.mean(series), 4)\n",
    "var = round(np.var(series), 4)\n",
    "\n",
    "print(\"mean: {},  var: {}\".format(mean, var))"
   ]
  },
  {
   "cell_type": "code",
   "execution_count": 30,
   "id": "51bf98a9-9c55-490b-ba43-2e872151e5af",
   "metadata": {},
   "outputs": [
    {
     "name": "stdout",
     "output_type": "stream",
     "text": [
      "mean: -0.0015,  var: 0.9981\n"
     ]
    }
   ],
   "source": [
    "# ~ 1,000,00 일때 평균과 분산\n",
    "series = [gauss(0.0, 1.0) for i in range(1000000)] #평균이 0, 표준편차가 1인 정규분포 안에서 랜덤으로 화이트 노이즈를 생성\n",
    "series = Series(series) # 데이터 타입을 시리즈로 변환\n",
    "\n",
    "mean = round(np.mean(series), 4)\n",
    "var = round(np.var(series), 4)\n",
    "\n",
    "print(\"mean: {},  var: {}\".format(mean, var))"
   ]
  },
  {
   "cell_type": "markdown",
   "id": "1755bb73-1478-4d29-b66c-f633a1d9b620",
   "metadata": {},
   "source": [
    "가우시안 분포 안에서 랜덤한 노이즈를 발생시켰으므로 평균은 0에 분산은 1에 가깝게 나온다.  \n",
    "데이터 범위가 길어질수록 이 값은 더욱 강하게 수렴하는 모습을 볼 수 있다.  \n",
    "당연한 말인가? 그렇다면 이걸 어디에 활용하게 되는 걸까."
   ]
  },
  {
   "cell_type": "code",
   "execution_count": 6,
   "id": "cf9985b1-dd32-4e3e-8eca-2464e32c4b44",
   "metadata": {},
   "outputs": [],
   "source": [
    "# 비정상성 시계열 데이터인 확률 보행을 구현해보자\n",
    "\n",
    "import numpy as np\n",
    "import matplotlib.pyplot as plt"
   ]
  },
  {
   "cell_type": "code",
   "execution_count": 9,
   "id": "696c27d4-433d-4f14-ae17-21d848b15825",
   "metadata": {},
   "outputs": [],
   "source": [
    "probability =[0.5, 0.5] # up, down > ???\n",
    "\n",
    "# starting point\n",
    "start = 0\n",
    "rand_walks = [start]\n",
    "\n",
    "# create the random points\n",
    "rand_point = np.random.random(300)\n",
    "down_probability = rand_point < probability[0]\n",
    "up_probability = rand_point >= probability[1]\n",
    "    "
   ]
  },
  {
   "cell_type": "code",
   "execution_count": 10,
   "id": "9abe4c55-e317-4739-aee1-972904670bd4",
   "metadata": {},
   "outputs": [],
   "source": [
    "# random walk process\n",
    "# z(t) = z(t-1) + a(t), where a(t) is white noise\n",
    "\n",
    "for down, up in zip(down_probability, up_probability):\n",
    "    rand_walks.append(rand_walks[-1] - down + up)"
   ]
  },
  {
   "cell_type": "code",
   "execution_count": 11,
   "id": "91799c48-43dd-49dd-a862-1fb8997d4080",
   "metadata": {},
   "outputs": [
    {
     "data": {
      "image/png": "[encoded data removed]",
      "text/plain": [
       "<Figure size 432x288 with 1 Axes>"
      ]
     },
     "metadata": {
      "needs_background": "light"
     },
     "output_type": "display_data"
    }
   ],
   "source": [
    "plt.plot(rand_walks)\n",
    "plt.show()"
   ]
  },
  {
   "cell_type": "markdown",
   "id": "26cd8e5f-796d-42c4-bfc2-da13f421ee13",
   "metadata": {},
   "source": [
    "#### 추가 질문\n",
    "확률 보행의 개념을 알아보자\n"
   ]
  },
  {
   "cell_type": "markdown",
   "id": "f6c3a8cb-9124-4e68-9e29-ef61b6ed8388",
   "metadata": {},
   "source": [
    "### References\n",
    "\n",
    "https://aliencoder.tistory.com/3"
   ]
  },
  {
   "cell_type": "code",
   "execution_count": null,
   "id": "64dcb077-a8c2-4ef2-b1a7-7c1e508e93c3",
   "metadata": {},
   "outputs": [],
   "source": []
  }
 ],
 "metadata": {
  "kernelspec": {
   "display_name": "Python 3 (ipykernel)",
   "language": "python",
   "name": "python3"
  },
  "language_info": {
   "codemirror_mode": {
    "name": "ipython",
    "version": 3
   },
   "file_extension": ".py",
   "mimetype": "text/x-python",
   "name": "python",
   "nbconvert_exporter": "python",
   "pygments_lexer": "ipython3",
   "version": "3.9.12"
  }
 },
 "nbformat": 4,
 "nbformat_minor": 5
}

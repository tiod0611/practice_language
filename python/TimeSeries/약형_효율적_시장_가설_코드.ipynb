{
 "cells": [
  {
   "cell_type": "markdown",
   "id": "13e82069-7405-4aab-a6a0-e3e4ddff4555",
   "metadata": {},
   "source": [
    "https://dacon.io/competitions/official/235980/codeshare/6561"
   ]
  },
  {
   "cell_type": "code",
   "execution_count": 2,
   "id": "26b4828e-3f40-4e5c-896c-fa81bfa53dec",
   "metadata": {},
   "outputs": [
    {
     "data": {
      "text/html": [
       "<div>\n",
       "<style scoped>\n",
       "    .dataframe tbody tr th:only-of-type {\n",
       "        vertical-align: middle;\n",
       "    }\n",
       "\n",
       "    .dataframe tbody tr th {\n",
       "        vertical-align: top;\n",
       "    }\n",
       "\n",
       "    .dataframe thead th {\n",
       "        text-align: right;\n",
       "    }\n",
       "</style>\n",
       "<table border=\"1\" class=\"dataframe\">\n",
       "  <thead>\n",
       "    <tr style=\"text-align: right;\">\n",
       "      <th></th>\n",
       "      <th>Close</th>\n",
       "      <th>Open</th>\n",
       "      <th>High</th>\n",
       "      <th>Low</th>\n",
       "      <th>Volume</th>\n",
       "      <th>Change</th>\n",
       "    </tr>\n",
       "    <tr>\n",
       "      <th>Date</th>\n",
       "      <th></th>\n",
       "      <th></th>\n",
       "      <th></th>\n",
       "      <th></th>\n",
       "      <th></th>\n",
       "      <th></th>\n",
       "    </tr>\n",
       "  </thead>\n",
       "  <tbody>\n",
       "    <tr>\n",
       "      <th>1981-05-01</th>\n",
       "      <td>123.6</td>\n",
       "      <td>123.6</td>\n",
       "      <td>123.6</td>\n",
       "      <td>123.6</td>\n",
       "      <td>3330000.0</td>\n",
       "      <td>0.0098</td>\n",
       "    </tr>\n",
       "    <tr>\n",
       "      <th>1981-05-02</th>\n",
       "      <td>123.5</td>\n",
       "      <td>123.5</td>\n",
       "      <td>123.5</td>\n",
       "      <td>123.5</td>\n",
       "      <td>2040000.0</td>\n",
       "      <td>-0.0008</td>\n",
       "    </tr>\n",
       "    <tr>\n",
       "      <th>1981-05-04</th>\n",
       "      <td>120.6</td>\n",
       "      <td>120.6</td>\n",
       "      <td>120.6</td>\n",
       "      <td>120.6</td>\n",
       "      <td>1930000.0</td>\n",
       "      <td>-0.0235</td>\n",
       "    </tr>\n",
       "    <tr>\n",
       "      <th>1981-05-06</th>\n",
       "      <td>120.7</td>\n",
       "      <td>120.7</td>\n",
       "      <td>120.7</td>\n",
       "      <td>120.7</td>\n",
       "      <td>1690000.0</td>\n",
       "      <td>0.0008</td>\n",
       "    </tr>\n",
       "    <tr>\n",
       "      <th>1981-05-07</th>\n",
       "      <td>119.3</td>\n",
       "      <td>119.3</td>\n",
       "      <td>119.3</td>\n",
       "      <td>119.3</td>\n",
       "      <td>1480000.0</td>\n",
       "      <td>-0.0116</td>\n",
       "    </tr>\n",
       "  </tbody>\n",
       "</table>\n",
       "</div>"
      ],
      "text/plain": [
       "            Close   Open   High    Low     Volume  Change\n",
       "Date                                                     \n",
       "1981-05-01  123.6  123.6  123.6  123.6  3330000.0  0.0098\n",
       "1981-05-02  123.5  123.5  123.5  123.5  2040000.0 -0.0008\n",
       "1981-05-04  120.6  120.6  120.6  120.6  1930000.0 -0.0235\n",
       "1981-05-06  120.7  120.7  120.7  120.7  1690000.0  0.0008\n",
       "1981-05-07  119.3  119.3  119.3  119.3  1480000.0 -0.0116"
      ]
     },
     "execution_count": 2,
     "metadata": {},
     "output_type": "execute_result"
    }
   ],
   "source": [
    "import pandas as pd\n",
    "import numpy as np\n",
    "import matplotlib.pyplot as plt\n",
    "import seaborn as sns\n",
    "import statsmodels.api as sm\n",
    "from scipy import stats\n",
    "\n",
    "sns.set()\n",
    "\n",
    "# 데이터 불러오기\n",
    "data = pd.read_csv(\"data/kospi_data.csv\", index_col=0, parse_dates=True)\n",
    "\n",
    "data.head()"
   ]
  },
  {
   "cell_type": "code",
   "execution_count": null,
   "id": "3145d28b-bd70-42e9-9b1e-760109e894bf",
   "metadata": {},
   "outputs": [],
   "source": []
  }
 ],
 "metadata": {
  "kernelspec": {
   "display_name": "Python 3 (ipykernel)",
   "language": "python",
   "name": "python3"
  },
  "language_info": {
   "codemirror_mode": {
    "name": "ipython",
    "version": 3
   },
   "file_extension": ".py",
   "mimetype": "text/x-python",
   "name": "python",
   "nbconvert_exporter": "python",
   "pygments_lexer": "ipython3",
   "version": "3.9.12"
  }
 },
 "nbformat": 4,
 "nbformat_minor": 5
}

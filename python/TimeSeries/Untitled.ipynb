{
 "cells": [
  {
   "cell_type": "code",
   "execution_count": null,
   "id": "fd77e3c1-a94c-424e-b776-15d0796d0912",
   "metadata": {},
   "outputs": [],
   "source": [
    "for i in range():\n",
    "    "
   ]
  },
  {
   "cell_type": "markdown",
   "id": "4d62b905-ea58-41c4-ba4b-4fda06ee2bf3",
   "metadata": {},
   "source": [
    "# 제목입니다\n",
    "1. 하나\n",
    "2. 둘\n",
    "\n",
    "y = ax + b\n",
    "\n",
    "$y = ax + b $  \n",
    "$ y = \\frac{a}{b}$"
   ]
  },
  {
   "cell_type": "code",
   "execution_count": null,
   "id": "3d134386-16aa-4b16-bd9f-609cce3c8408",
   "metadata": {},
   "outputs": [],
   "source": []
  }
 ],
 "metadata": {
  "kernelspec": {
   "display_name": "Python 3 (ipykernel)",
   "language": "python",
   "name": "python3"
  },
  "language_info": {
   "codemirror_mode": {
    "name": "ipython",
    "version": 3
   },
   "file_extension": ".py",
   "mimetype": "text/x-python",
   "name": "python",
   "nbconvert_exporter": "python",
   "pygments_lexer": "ipython3",
   "version": "3.9.13"
  }
 },
 "nbformat": 4,
 "nbformat_minor": 5
}

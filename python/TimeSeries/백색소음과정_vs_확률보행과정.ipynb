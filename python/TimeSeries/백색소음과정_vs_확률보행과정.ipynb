{
 "cells": [
  {
   "cell_type": "markdown",
   "id": "54d32bca-d8ad-43f5-8224-b94ef2461d48",
   "metadata": {},
   "source": [
    "# 백색소음과정과 확률보행과정\n",
    "\n",
    "정상성과 비정상성에 대한 이해를 돕기 위해 각 성질에 대한 하나의 예시를 비교해보자.  \n",
    "바로 백색소음과정과 확률보행과정이다. 백색소음과정은 정상성을 띄고있고, 확률보행과정은 비정상성을 띄고 있다. \n",
    "\n",
    "https://datalabbit.tistory.com/109  \n",
    "https://datalabbit.tistory.com/111"
   ]
  },
  {
   "cell_type": "code",
   "execution_count": null,
   "id": "bee65cac-e58c-499a-8e1c-bea1769e062f",
   "metadata": {},
   "outputs": [],
   "source": []
  }
 ],
 "metadata": {
  "kernelspec": {
   "display_name": "Python 3 (ipykernel)",
   "language": "python",
   "name": "python3"
  },
  "language_info": {
   "codemirror_mode": {
    "name": "ipython",
    "version": 3
   },
   "file_extension": ".py",
   "mimetype": "text/x-python",
   "name": "python",
   "nbconvert_exporter": "python",
   "pygments_lexer": "ipython3",
   "version": "3.9.13"
  }
 },
 "nbformat": 4,
 "nbformat_minor": 5
}

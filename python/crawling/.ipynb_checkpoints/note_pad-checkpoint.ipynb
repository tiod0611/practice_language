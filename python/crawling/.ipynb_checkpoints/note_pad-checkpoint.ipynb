{
 "cells": [
  {
   "cell_type": "code",
   "execution_count": 1,
   "id": "73de80e8-0751-4546-b1f0-3588e02b512a",
   "metadata": {},
   "outputs": [
    {
     "name": "stderr",
     "output_type": "stream",
     "text": [
      "C:\\Users\\kyeul\\AppData\\Local\\Temp/ipykernel_20984/1111861803.py:13: DeprecationWarning: executable_path has been deprecated, please pass in a Service object\n",
      "  driver = webdriver.Chrome(os.path.join(os.getcwd(), 'chromedriver.exe'), chrome_options=chrome_options)\n",
      "C:\\Users\\kyeul\\AppData\\Local\\Temp/ipykernel_20984/1111861803.py:13: DeprecationWarning: use options instead of chrome_options\n",
      "  driver = webdriver.Chrome(os.path.join(os.getcwd(), 'chromedriver.exe'), chrome_options=chrome_options)\n"
     ]
    }
   ],
   "source": [
    "import pandas as pd\n",
    "import os\n",
    "import re\n",
    "from datetime import datetime as dt\n",
    "# import requests\n",
    "from bs4 import BeautifulSoup\n",
    "\n",
    "from selenium import webdriver\n",
    "from selenium.webdriver.common.by import By\n",
    "\n",
    "chrome_options = webdriver.ChromeOptions()\n",
    "chrome_options.add_argument('--headless')\n",
    "driver = webdriver.Chrome(os.path.join(os.getcwd(), 'chromedriver.exe'), chrome_options=chrome_options)"
   ]
  },
  {
   "cell_type": "code",
   "execution_count": 2,
   "id": "75f36e01-c829-4829-b992-a59de1320743",
   "metadata": {},
   "outputs": [],
   "source": [
    "def getCode():\n",
    "    # 알라딘 사이트의 도서 분야 코드를 수집\n",
    "\n",
    "    codes = pd.DataFrame(columns=['code', 'name'])\n",
    "\n",
    "    driver.get(\"https://www.aladin.co.kr/home/wbookmain.aspx\")\n",
    "    html = driver.page_source\n",
    "    driver.quit()\n",
    "\n",
    "    soup = BeautifulSoup(html, 'html.parser')\n",
    "    browse_sub_list = soup.select('li.browse_sub > a')\n",
    "\n",
    "    for li in browse_sub_list:\n",
    "        codes = codes.append({'code':li.attrs['href'].split('=')[1], 'name': li.text}, ignore_index=True)\n",
    "\n",
    "    codes.to_csv('codes.csv', encoding='utf-8', index=False)\n",
    "    with open('metaData.csv', 'w') as f:\n",
    "        f.write(datetime.today().strftime(\"%Y/%m/%d %H:%M:%S\"))"
   ]
  },
  {
   "cell_type": "code",
   "execution_count": 3,
   "id": "e8c2bd9e-472b-4365-8c00-ca3b52f979cf",
   "metadata": {},
   "outputs": [],
   "source": [
    "getCode()"
   ]
  },
  {
   "cell_type": "code",
   "execution_count": 6,
   "id": "a66c93a9-8014-4a5b-9de9-69819f2b98de",
   "metadata": {},
   "outputs": [],
   "source": [
    "meta = pd.DataFrame(columns=['CodeUpdate'])\n",
    "meta.to_csv('UpdaterMetaData.csv', encoding='utf-8', index=False)"
   ]
  },
  {
   "cell_type": "code",
   "execution_count": 5,
   "id": "f6146439-1cf9-4d5e-9f1a-23137a03b5fd",
   "metadata": {},
   "outputs": [
    {
     "data": {
      "text/plain": [
       "'2022/04/15 22:19:54'"
      ]
     },
     "execution_count": 5,
     "metadata": {},
     "output_type": "execute_result"
    }
   ],
   "source": [
    "datetime.today().strftime(\"%Y/%m/%d %H:%M:%S\")"
   ]
  },
  {
   "cell_type": "code",
   "execution_count": 18,
   "id": "9d55c621-9c25-48ba-a8d3-57c178cb41f7",
   "metadata": {},
   "outputs": [],
   "source": [
    "meta['CodeUpdate'] = [2]"
   ]
  },
  {
   "cell_type": "code",
   "execution_count": 19,
   "id": "009bc21a-40ce-42e3-b00e-351426ee9a5c",
   "metadata": {},
   "outputs": [
    {
     "data": {
      "text/html": [
       "<div>\n",
       "<style scoped>\n",
       "    .dataframe tbody tr th:only-of-type {\n",
       "        vertical-align: middle;\n",
       "    }\n",
       "\n",
       "    .dataframe tbody tr th {\n",
       "        vertical-align: top;\n",
       "    }\n",
       "\n",
       "    .dataframe thead th {\n",
       "        text-align: right;\n",
       "    }\n",
       "</style>\n",
       "<table border=\"1\" class=\"dataframe\">\n",
       "  <thead>\n",
       "    <tr style=\"text-align: right;\">\n",
       "      <th></th>\n",
       "      <th>CodeUpdate</th>\n",
       "    </tr>\n",
       "  </thead>\n",
       "  <tbody>\n",
       "    <tr>\n",
       "      <th>0</th>\n",
       "      <td>2</td>\n",
       "    </tr>\n",
       "  </tbody>\n",
       "</table>\n",
       "</div>"
      ],
      "text/plain": [
       "   CodeUpdate\n",
       "0           2"
      ]
     },
     "execution_count": 19,
     "metadata": {},
     "output_type": "execute_result"
    }
   ],
   "source": [
    "meta"
   ]
  },
  {
   "cell_type": "code",
   "execution_count": 29,
   "id": "a1463bf8-d2ff-4b1a-a018-8802971144c4",
   "metadata": {},
   "outputs": [
    {
     "data": {
      "text/plain": [
       "2"
      ]
     },
     "execution_count": 29,
     "metadata": {},
     "output_type": "execute_result"
    }
   ],
   "source": [
    "meta['CodeUpdate'][0]"
   ]
  },
  {
   "cell_type": "code",
   "execution_count": 37,
   "id": "6502f980-5c39-45d8-9bbf-8bbcc1fb2163",
   "metadata": {},
   "outputs": [],
   "source": [
    "import time"
   ]
  },
  {
   "cell_type": "code",
   "execution_count": 41,
   "id": "54946bd3-482c-4509-a6cb-ed2650edb08f",
   "metadata": {},
   "outputs": [
    {
     "data": {
      "text/plain": [
       "False"
      ]
     },
     "execution_count": 41,
     "metadata": {},
     "output_type": "execute_result"
    }
   ],
   "source": [
    "time.strptime(datetime.today().strftime(\"%Y/%m/%d\"), \"%Y/%m/%d\") < time.strptime(yesterday.strftime(\"%Y/%m/%d\"), \"%Y/%m/%d\")"
   ]
  },
  {
   "cell_type": "code",
   "execution_count": 33,
   "id": "832e2eca-ab04-407d-8348-25b2523df9d6",
   "metadata": {},
   "outputs": [],
   "source": [
    "from datetime import datetime, timedelta"
   ]
  },
  {
   "cell_type": "code",
   "execution_count": 35,
   "id": "b67efa1e-5f5f-4ef2-86f1-aca950a7fd7a",
   "metadata": {},
   "outputs": [
    {
     "name": "stdout",
     "output_type": "stream",
     "text": [
      "<class 'str'>\n"
     ]
    }
   ],
   "source": [
    "yesterday = datetime.today() - timedelta(1)\n",
    "\n",
    "print(type(yesterday.strftime(\"%Y-%m-%d\")))\n"
   ]
  },
  {
   "cell_type": "code",
   "execution_count": null,
   "id": "831f7735-0fb4-41b3-94f7-a7cbc42382ee",
   "metadata": {},
   "outputs": [],
   "source": [
    "117154362\n",
    "117152378\n"
   ]
  }
 ],
 "metadata": {
  "kernelspec": {
   "display_name": "Python 3 (ipykernel)",
   "language": "python",
   "name": "python3"
  },
  "language_info": {
   "codemirror_mode": {
    "name": "ipython",
    "version": 3
   },
   "file_extension": ".py",
   "mimetype": "text/x-python",
   "name": "python",
   "nbconvert_exporter": "python",
   "pygments_lexer": "ipython3",
   "version": "3.9.7"
  }
 },
 "nbformat": 4,
 "nbformat_minor": 5
}

{
 "cells": [
  {
   "cell_type": "code",
   "execution_count": 116,
   "id": "73de80e8-0751-4546-b1f0-3588e02b512a",
   "metadata": {},
   "outputs": [
    {
     "name": "stderr",
     "output_type": "stream",
     "text": [
      "C:\\Users\\kyeul\\AppData\\Local\\Temp/ipykernel_11432/1111861803.py:13: DeprecationWarning: executable_path has been deprecated, please pass in a Service object\n",
      "  driver = webdriver.Chrome(os.path.join(os.getcwd(), 'chromedriver.exe'), chrome_options=chrome_options)\n",
      "C:\\Users\\kyeul\\AppData\\Local\\Temp/ipykernel_11432/1111861803.py:13: DeprecationWarning: use options instead of chrome_options\n",
      "  driver = webdriver.Chrome(os.path.join(os.getcwd(), 'chromedriver.exe'), chrome_options=chrome_options)\n"
     ]
    }
   ],
   "source": [
    "import pandas as pd\n",
    "import os\n",
    "import re\n",
    "from datetime import datetime\n",
    "# import requests\n",
    "from bs4 import BeautifulSoup\n",
    "\n",
    "from selenium import webdriver\n",
    "from selenium.webdriver.common.by import By\n",
    "\n",
    "chrome_options = webdriver.ChromeOptions()\n",
    "chrome_options.add_argument('--headless')\n",
    "driver = webdriver.Chrome(os.path.join(os.getcwd(), 'chromedriver.exe'), chrome_options=chrome_options)"
   ]
  },
  {
   "cell_type": "code",
   "execution_count": 118,
   "id": "75f36e01-c829-4829-b992-a59de1320743",
   "metadata": {},
   "outputs": [],
   "source": [
    "def getCode():\n",
    "    # 알라딘 사이트의 도서 분야 코드를 수집\n",
    "\n",
    "    codes = pd.DataFrame(columns=['code', 'name'])\n",
    "\n",
    "    driver.get(\"https://www.aladin.co.kr/home/wbookmain.aspx\")\n",
    "    html = driver.page_source\n",
    "    driver.quit()\n",
    "\n",
    "    soup = BeautifulSoup(html, 'html.parser')\n",
    "    browse_sub_list = soup.select('li.browse_sub > a')\n",
    "\n",
    "    for li in browse_sub_list:\n",
    "        codes = codes.append({'code':li.attrs['href'].split('=')[1], 'name': li.text}, ignore_index=True)\n",
    "\n",
    "    codes.to_csv('codes.csv', encoding='utf-8', index=False)\n",
    "    with open('metaData.txt', 'w') as f:\n",
    "        f.write(datetime.today().strftime(\"%Y/%m/%d %H:%M:%S\"))"
   ]
  },
  {
   "cell_type": "code",
   "execution_count": null,
   "id": "e8c2bd9e-472b-4365-8c00-ca3b52f979cf",
   "metadata": {},
   "outputs": [],
   "source": [
    "code = pd.read_csv('"
   ]
  }
 ],
 "metadata": {
  "kernelspec": {
   "display_name": "Python 3 (ipykernel)",
   "language": "python",
   "name": "python3"
  },
  "language_info": {
   "codemirror_mode": {
    "name": "ipython",
    "version": 3
   },
   "file_extension": ".py",
   "mimetype": "text/x-python",
   "name": "python",
   "nbconvert_exporter": "python",
   "pygments_lexer": "ipython3",
   "version": "3.9.7"
  }
 },
 "nbformat": 4,
 "nbformat_minor": 5
}

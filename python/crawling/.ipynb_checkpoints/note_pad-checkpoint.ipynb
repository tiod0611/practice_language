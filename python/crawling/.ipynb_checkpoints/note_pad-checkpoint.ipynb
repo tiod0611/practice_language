{
 "cells": [
  {
   "cell_type": "code",
   "execution_count": 1,
   "id": "73de80e8-0751-4546-b1f0-3588e02b512a",
   "metadata": {},
   "outputs": [
    {
     "name": "stderr",
     "output_type": "stream",
     "text": [
      "C:\\Users\\kyeul\\AppData\\Local\\Temp/ipykernel_16992/2067937427.py:17: DeprecationWarning: executable_path has been deprecated, please pass in a Service object\n",
      "  driver = webdriver.Chrome(os.path.join(os.getcwd(), 'chromedriver'), chrome_options=chrome_options)\n",
      "C:\\Users\\kyeul\\AppData\\Local\\Temp/ipykernel_16992/2067937427.py:17: DeprecationWarning: use options instead of chrome_options\n",
      "  driver = webdriver.Chrome(os.path.join(os.getcwd(), 'chromedriver'), chrome_options=chrome_options)\n"
     ]
    }
   ],
   "source": [
    "import pandas as pd\n",
    "import os\n",
    "import re\n",
    "import sys\n",
    "from datetime import datetime\n",
    "# import requests\n",
    "from bs4 import BeautifulSoup\n",
    "\n",
    "from selenium import webdriver\n",
    "from selenium.webdriver.common.by import By\n",
    "\n",
    "chrome_options = webdriver.ChromeOptions()\n",
    "chrome_options.add_argument('--headless')\n",
    "user_agent = \"user-agent=Mozilla/5.0 (Windows NT 6.1; WOW64; Trident/7.0; rv:11.0) like Gecko\"\n",
    "chrome_options.add_argument('user-agent=' + user_agent)\n",
    "chrome_options.add_argument('--no-sandbox')\n",
    "chrome_options.add_argument('--disable-dev-shm-usage')\n",
    "driver = webdriver.Chrome(os.path.join(os.getcwd(), 'chromedriver'), chrome_options=chrome_options)"
   ]
  },
  {
   "cell_type": "code",
   "execution_count": 2,
   "id": "7587222a-9c12-4d50-82e9-06e31dc0ccda",
   "metadata": {},
   "outputs": [],
   "source": [
    "url = 'https://www.aladin.co.kr/shop/wbrowse.aspx?BrowseTarget=List&ViewRowsCount=25&ViewType=Detail&PublishMonth=0&SortOrder=6&page=1&Stockstatus=1&PublishDay=84&CID=55889&CustReviewRankStart=&CustReviewRankEnd=&CustReviewCountStart=&CustReviewCountEnd=&PriceFilterMin=&PriceFilterMax=&SearchOption='"
   ]
  },
  {
   "cell_type": "code",
   "execution_count": 3,
   "id": "2a232090-4173-4dc3-a718-c02f678a5f8c",
   "metadata": {},
   "outputs": [],
   "source": [
    "driver.get(url)"
   ]
  },
  {
   "cell_type": "code",
   "execution_count": 4,
   "id": "bc02f0e8-b2c2-478f-9c39-d5ef03fc35f9",
   "metadata": {},
   "outputs": [
    {
     "data": {
      "text/plain": [
       "\"javascript:Page_Set('2235')\""
      ]
     },
     "execution_count": 4,
     "metadata": {},
     "output_type": "execute_result"
    }
   ],
   "source": [
    "end_num = driver.find_element(by=By.XPATH, value='//*[@id=\"short\"]/div[12]/a')\n",
    "end_num.get_attribute('href')"
   ]
  },
  {
   "cell_type": "code",
   "execution_count": 9,
   "id": "d2bf2afb-18b1-4b2f-b982-7e04b9a8b6d0",
   "metadata": {},
   "outputs": [],
   "source": [
    "end_num = int(re.sub('[^0-9]', '', end_num.get_attribute('href')))"
   ]
  },
  {
   "cell_type": "code",
   "execution_count": 30,
   "id": "8c0a460a-d174-4c99-99ae-29b12f2809f3",
   "metadata": {},
   "outputs": [
    {
     "name": "stdout",
     "output_type": "stream",
     "text": [
      "    Progress: |##################################################| (2235/2235) 100.0% Complete"
     ]
    }
   ],
   "source": [
    "\n",
    "\n",
    "def printProgress (iteration, total, state, prefix = '', suffix = '', decimals = 1, barLength = 50):\n",
    "    formatStr = \"{0:.\" + str(decimals) + \"f}\"\n",
    "    percent = formatStr.format(100 * (iteration / float(total)))\n",
    "    filledLength = int(round(barLength * iteration / float(total)))\n",
    "    if state ==True:\n",
    "        bar = '#' * filledLength + '-' * (barLength - filledLength)\n",
    "    else:\n",
    "        bar = '~' * filledLength + '-' * (barLength - filledLength)\n",
    "    sys.stdout.write('\\r    %s |%s| (%s/%s) %s%s %s' % (prefix, bar, iteration+1, total,percent, '%', suffix)),\n",
    "    if iteration == total:\n",
    "        sys.stdout.write('\\n')\n",
    "    sys.stdout.flush()\n",
    "    \n",
    "for i in range(end_num):\n",
    "    if i // 2 == 0:\n",
    "        printProgress(i, end_num, True, 'Progress:', 'Complete')\n",
    "    else:\n",
    "        printProgress(i, end_num, False, 'Progress:', 'Complete')"
   ]
  },
  {
   "cell_type": "code",
   "execution_count": 18,
   "id": "4b054faa-afb2-4b70-b0d0-d3d54ab62145",
   "metadata": {},
   "outputs": [],
   "source": [
    "driver.quit()"
   ]
  },
  {
   "cell_type": "code",
   "execution_count": null,
   "id": "ec9321cc-8938-410c-8074-52f1c552b9e4",
   "metadata": {},
   "outputs": [],
   "source": []
  }
 ],
 "metadata": {
  "kernelspec": {
   "display_name": "Python 3 (ipykernel)",
   "language": "python",
   "name": "python3"
  },
  "language_info": {
   "codemirror_mode": {
    "name": "ipython",
    "version": 3
   },
   "file_extension": ".py",
   "mimetype": "text/x-python",
   "name": "python",
   "nbconvert_exporter": "python",
   "pygments_lexer": "ipython3",
   "version": "3.9.7"
  }
 },
 "nbformat": 4,
 "nbformat_minor": 5
}

{
 "cells": [
  {
   "cell_type": "code",
   "execution_count": 1,
   "id": "100e222e-e461-4c5a-88a2-325e615f21e6",
   "metadata": {},
   "outputs": [],
   "source": [
    "import torch"
   ]
  },
  {
   "cell_type": "markdown",
   "id": "1175e7eb-97d5-4f4e-80a4-6098306fcea8",
   "metadata": {},
   "source": [
    "## slice"
   ]
  },
  {
   "cell_type": "markdown",
   "id": "791ea4e8-79d7-4eed-bbce-76623e22332b",
   "metadata": {},
   "source": [
    "## split\n",
    "텐서 쪼개기"
   ]
  },
  {
   "cell_type": "code",
   "execution_count": 4,
   "id": "f9e9390e-cf4e-4c3e-aed0-5e4d40389164",
   "metadata": {},
   "outputs": [
    {
     "data": {
      "text/plain": [
       "tensor([[ 5.5932e-20,  9.4051e-38,  4.5043e-16,  2.8663e-38],\n",
       "        [ 5.7800e-39,  7.6442e-38, -4.3872e-22,  7.2063e-15],\n",
       "        [-7.3890e+14,  2.1184e-22,  3.4971e-21,  2.4430e-38],\n",
       "        [ 2.2041e-38,  3.6919e-38,  2.2057e-38,  3.6919e-38],\n",
       "        [ 2.2048e-38,  3.6919e-38,  2.4429e-38,  2.2041e-38],\n",
       "        [ 3.6919e-38,  9.4051e-38, -7.7998e+29,  2.8866e-14],\n",
       "        [-2.0798e+29,  5.2846e+05,  1.5555e-39,  7.6442e-38],\n",
       "        [-4.3872e-22,  7.2063e-15, -7.3890e+14,  2.1184e-22],\n",
       "        [ 3.4971e-21,  2.6083e-38,  1.5893e-30,  6.5564e-11],\n",
       "        [ 2.6082e-38, -1.8527e+29,  7.3359e-12,  2.6082e-38]])"
      ]
     },
     "execution_count": 4,
     "metadata": {},
     "output_type": "execute_result"
    }
   ],
   "source": [
    "x = torch.FloatTensor(10, 4)\n",
    "x"
   ]
  },
  {
   "cell_type": "code",
   "execution_count": 6,
   "id": "2936ada4-87bc-40ba-9721-8ae41adeb584",
   "metadata": {},
   "outputs": [
    {
     "name": "stdout",
     "output_type": "stream",
     "text": [
      "torch.Size([3, 4])\n",
      "torch.Size([3, 4])\n",
      "torch.Size([3, 4])\n",
      "torch.Size([1, 4])\n"
     ]
    }
   ],
   "source": [
    "splited_tensor = x.split(3)\n",
    "for tensor in splited_tensor:\n",
    "    print(tensor.size())"
   ]
  },
  {
   "cell_type": "code",
   "execution_count": 8,
   "id": "73f0966a-3663-4a76-8f68-de8737f5b057",
   "metadata": {},
   "outputs": [
    {
     "name": "stdout",
     "output_type": "stream",
     "text": [
      "torch.Size([10, 2])\n",
      "torch.Size([10, 2])\n"
     ]
    }
   ],
   "source": [
    "splited_tensor = x.split(2, dim=1)\n",
    "for tensor in splited_tensor:\n",
    "    print(tensor.size())"
   ]
  },
  {
   "cell_type": "markdown",
   "id": "1ff2b727-6aa9-414b-93c2-bef6522db8f7",
   "metadata": {},
   "source": [
    "### chunk: 갯수로 하는 방법도 있음(몇개로 만들 것인지)"
   ]
  },
  {
   "cell_type": "code",
   "execution_count": 9,
   "id": "a3784e24-3db3-4a73-9794-e9e915132497",
   "metadata": {},
   "outputs": [
    {
     "name": "stdout",
     "output_type": "stream",
     "text": [
      "torch.Size([5, 4])\n",
      "torch.Size([5, 4])\n"
     ]
    }
   ],
   "source": [
    "chunks = x.chunk(2, dim=0) # 2개의 tensor로 쪼개라!\n",
    "for c in chunks:\n",
    "    print(c.size())"
   ]
  },
  {
   "cell_type": "markdown",
   "id": "1f603cb3-e90d-4b78-892b-774cde91c32e",
   "metadata": {},
   "source": [
    "## index_select\n",
    "### 원하는 index로 새로운 tensor를 만든다!"
   ]
  },
  {
   "cell_type": "code",
   "execution_count": 12,
   "id": "bc7b3c60-cf33-40ff-8396-80272d2a9e1e",
   "metadata": {},
   "outputs": [
    {
     "data": {
      "text/plain": [
       "torch.Size([3, 2, 2])"
      ]
     },
     "execution_count": 12,
     "metadata": {},
     "output_type": "execute_result"
    }
   ],
   "source": [
    "x = torch.FloatTensor([[[11, 12],\n",
    "                       [21, 22]],\n",
    "                      [[31, 32],\n",
    "                       [41, 42]],\n",
    "                      [[51, 52],\n",
    "                       [61, 62]]])\n",
    "indice = torch.LongTensor([2, 0])\n",
    "\n",
    "x.size()"
   ]
  },
  {
   "cell_type": "code",
   "execution_count": 14,
   "id": "1e425293-9ad2-48f4-966e-4d535e7afcbe",
   "metadata": {},
   "outputs": [
    {
     "data": {
      "text/plain": [
       "tensor([[[51., 52.],\n",
       "         [61., 62.]],\n",
       "\n",
       "        [[11., 12.],\n",
       "         [21., 22.]]])"
      ]
     },
     "execution_count": 14,
     "metadata": {},
     "output_type": "execute_result"
    }
   ],
   "source": [
    "y = x.index_select(dim=0, index=indice)\n",
    "y"
   ]
  },
  {
   "cell_type": "code",
   "execution_count": 15,
   "id": "51de0c72-484c-4836-bf31-8aefc3ecfbf3",
   "metadata": {},
   "outputs": [
    {
     "data": {
      "text/plain": [
       "torch.Size([2, 2, 2])"
      ]
     },
     "execution_count": 15,
     "metadata": {},
     "output_type": "execute_result"
    }
   ],
   "source": [
    "y.size()"
   ]
  },
  {
   "cell_type": "code",
   "execution_count": 16,
   "id": "07484cb7-182e-46c6-a25a-c22b33d1f180",
   "metadata": {},
   "outputs": [
    {
     "data": {
      "text/plain": [
       "tensor([[[51., 52.],\n",
       "         [61., 62.]],\n",
       "\n",
       "        [[51., 52.],\n",
       "         [61., 62.]]])"
      ]
     },
     "execution_count": 16,
     "metadata": {},
     "output_type": "execute_result"
    }
   ],
   "source": [
    "# 중복도 가능하다\n",
    "indice = torch.LongTensor([2, 2])\n",
    "y = x.index_select(dim=0, index=indice)\n",
    "y"
   ]
  },
  {
   "cell_type": "markdown",
   "id": "31d910c7-37bc-4c80-99ea-56e2bb46209b",
   "metadata": {},
   "source": [
    "## 유용한 트릭\n",
    "배치로 잘라서 나온 결과를 묶어서 하나로 만들 때 애용할 수 있다."
   ]
  },
  {
   "cell_type": "code",
   "execution_count": 3,
   "id": "ac4c187a-5a67-4c9e-95e4-cb3ea0ca76ec",
   "metadata": {},
   "outputs": [
    {
     "name": "stdout",
     "output_type": "stream",
     "text": [
      "[tensor([[0., 0.],\n",
      "        [0., 0.]])]\n",
      "[tensor([[0., 0.],\n",
      "        [0., 0.]]), tensor([[0., 0.],\n",
      "        [0., 0.]])]\n",
      "[tensor([[0., 0.],\n",
      "        [0., 0.]]), tensor([[0., 0.],\n",
      "        [0., 0.]]), tensor([[0., 0.],\n",
      "        [0., 0.]])]\n",
      "[tensor([[0., 0.],\n",
      "        [0., 0.]]), tensor([[0., 0.],\n",
      "        [0., 0.]]), tensor([[0., 0.],\n",
      "        [0., 0.]]), tensor([[ 3.5873e-43,         nan],\n",
      "        [-3.7765e-12,  4.5915e-41]])]\n",
      "[tensor([[0., 0.],\n",
      "        [0., 0.]]), tensor([[0., 0.],\n",
      "        [0., 0.]]), tensor([[0., 0.],\n",
      "        [0., 0.]]), tensor([[ 3.5873e-43,         nan],\n",
      "        [-3.7765e-12,  4.5915e-41]]), tensor([[0.0000e+00, 1.4375e+04],\n",
      "        [2.0104e+24, 8.0435e-43]])]\n"
     ]
    },
    {
     "data": {
      "text/plain": [
       "torch.Size([5, 2, 2])"
      ]
     },
     "execution_count": 3,
     "metadata": {},
     "output_type": "execute_result"
    }
   ],
   "source": [
    "result = []\n",
    "for i in range(5):\n",
    "    x = torch.FloatTensor(2, 2)\n",
    "    result += [x]\n",
    "    print(result)\n",
    "\n",
    "result = torch.stack(result)\n",
    "result.size()"
   ]
  }
 ],
 "metadata": {
  "kernelspec": {
   "display_name": "nlp",
   "language": "python",
   "name": "nlp"
  },
  "language_info": {
   "codemirror_mode": {
    "name": "ipython",
    "version": 3
   },
   "file_extension": ".py",
   "mimetype": "text/x-python",
   "name": "python",
   "nbconvert_exporter": "python",
   "pygments_lexer": "ipython3",
   "version": "3.11.4"
  }
 },
 "nbformat": 4,
 "nbformat_minor": 5
}

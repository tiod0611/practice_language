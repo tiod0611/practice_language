{
 "cells": [
  {
   "cell_type": "code",
   "execution_count": 3,
   "id": "698e3dee-4c1d-40ed-9b0d-ad49f854a212",
   "metadata": {},
   "outputs": [],
   "source": [
    "import torch"
   ]
  },
  {
   "cell_type": "markdown",
   "id": "0cc3983f-fd6a-4243-8d05-68849108e52e",
   "metadata": {},
   "source": [
    "# Mean Square Error (MSE) Loss"
   ]
  },
  {
   "cell_type": "markdown",
   "id": "d53bb7b1-7ba4-45e1-8228-57c3e2f37d1d",
   "metadata": {},
   "source": [
    "$MSE(\\hat x_{1:N}, x_{1:N})=\\frac{1}{N\\times n}\\sum_{i=1}^{N}||x_i - \\hat x_i||^{2}_{2} $"
   ]
  },
  {
   "cell_type": "code",
   "execution_count": 1,
   "id": "f2c22b75-04bb-46ee-8739-6d95014d5da2",
   "metadata": {},
   "outputs": [],
   "source": [
    "def mse(x_hat, x):\n",
    "    # |x_hat| = (batch_size, dim)\n",
    "    # |x| = (batch_size, dim)\n",
    "    y = ((x - x_hat)**2).mean()\n",
    "    \n",
    "    return y"
   ]
  },
  {
   "cell_type": "code",
   "execution_count": 7,
   "id": "949330db-1ef4-441e-8031-4553696986e5",
   "metadata": {},
   "outputs": [
    {
     "data": {
      "text/plain": [
       "(tensor([[0.3807, 0.9011],\n",
       "         [0.9927, 0.1705],\n",
       "         [0.4437, 0.9914]]),\n",
       " tensor([[0.1075, 0.4672],\n",
       "         [0.1326, 0.7045],\n",
       "         [0.1822, 0.5744]]))"
      ]
     },
     "execution_count": 7,
     "metadata": {},
     "output_type": "execute_result"
    }
   ],
   "source": [
    "x_hat = torch.rand(3, 2)\n",
    "x = torch.rand(3, 2)\n",
    "x_hat, x"
   ]
  },
  {
   "cell_type": "code",
   "execution_count": 8,
   "id": "4deb252e-f307-4fdd-9318-e415e7e64a71",
   "metadata": {},
   "outputs": [
    {
     "data": {
      "text/plain": [
       "tensor(0.2550)"
      ]
     },
     "execution_count": 8,
     "metadata": {},
     "output_type": "execute_result"
    }
   ],
   "source": [
    "mse(x_hat, x)"
   ]
  },
  {
   "cell_type": "markdown",
   "id": "1e8ae6d6-1074-4349-8907-9e73a9b3c483",
   "metadata": {},
   "source": [
    "# 하지만 이미 pytorch에 있음"
   ]
  },
  {
   "cell_type": "code",
   "execution_count": 2,
   "id": "ae790139-cf70-4b09-9192-dbfa6aec0884",
   "metadata": {},
   "outputs": [],
   "source": [
    "import torch.nn.functional as F"
   ]
  },
  {
   "cell_type": "code",
   "execution_count": 9,
   "id": "918794fa-9044-4e06-b4e4-26b28d611d5b",
   "metadata": {},
   "outputs": [
    {
     "data": {
      "text/plain": [
       "tensor(0.2550)"
      ]
     },
     "execution_count": 9,
     "metadata": {},
     "output_type": "execute_result"
    }
   ],
   "source": [
    "F.mse_loss(x_hat, x)"
   ]
  },
  {
   "cell_type": "code",
   "execution_count": 11,
   "id": "8462a36a-bf30-4550-92c5-9dc9831b7c19",
   "metadata": {},
   "outputs": [],
   "source": [
    "import torch.nn as nn"
   ]
  },
  {
   "cell_type": "code",
   "execution_count": 12,
   "id": "79712930-a3dd-4c0c-b9bc-804282bc5844",
   "metadata": {},
   "outputs": [
    {
     "data": {
      "text/plain": [
       "tensor(0.2550)"
      ]
     },
     "execution_count": 12,
     "metadata": {},
     "output_type": "execute_result"
    }
   ],
   "source": [
    "mse_loss = nn.MSELoss()\n",
    "mse_loss(x_hat, x)"
   ]
  },
  {
   "cell_type": "code",
   "execution_count": null,
   "id": "b5c25ca0-1fb1-4b0e-89b8-ece33f567734",
   "metadata": {},
   "outputs": [],
   "source": []
  }
 ],
 "metadata": {
  "kernelspec": {
   "display_name": "nlp",
   "language": "python",
   "name": "nlp"
  },
  "language_info": {
   "codemirror_mode": {
    "name": "ipython",
    "version": 3
   },
   "file_extension": ".py",
   "mimetype": "text/x-python",
   "name": "python",
   "nbconvert_exporter": "python",
   "pygments_lexer": "ipython3",
   "version": "3.11.4"
  }
 },
 "nbformat": 4,
 "nbformat_minor": 5
}

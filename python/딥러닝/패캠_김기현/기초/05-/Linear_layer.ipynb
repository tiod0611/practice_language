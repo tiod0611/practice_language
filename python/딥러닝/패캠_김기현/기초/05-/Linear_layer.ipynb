{
 "cells": [
  {
   "cell_type": "code",
   "execution_count": 1,
   "id": "7685d457-70e5-46c2-b1f1-e54f2cf27513",
   "metadata": {},
   "outputs": [],
   "source": [
    "import torch"
   ]
  },
  {
   "cell_type": "markdown",
   "id": "bde56679-2ad2-42e2-a0ec-d46923b277d4",
   "metadata": {},
   "source": [
    "# Raw Linear Layer\n",
    "$$ y = x \\cdot W+b,$$\n",
    "$$ where x\\in \\mathbb R^{n \\times M}, y\\in \\mathbb R^{N\\times m}. $$\n",
    "$$ Thus, W\\in \\mathbb R^{n\\times m} and b\\in \\mathbb R^m.  $$\n"
   ]
  },
  {
   "cell_type": "code",
   "execution_count": 2,
   "id": "ec43a86e-1b05-4536-bd7d-64e113036451",
   "metadata": {},
   "outputs": [],
   "source": [
    "# sample data\n",
    "W = torch.FloatTensor([[1, 2],\n",
    "                       [3, 4],\n",
    "                       [5, 6]])\n",
    "b = torch.FloatTensor([2, 2])"
   ]
  },
  {
   "cell_type": "code",
   "execution_count": 3,
   "id": "02286d65-b537-41c2-86a0-151c257440f9",
   "metadata": {},
   "outputs": [],
   "source": [
    "# linear 함수 생성\n",
    "def linear(x, W, b):\n",
    "    y = torch.matmul(x, W) + b\n",
    "    return y"
   ]
  },
  {
   "cell_type": "code",
   "execution_count": 4,
   "id": "d98399be-5d23-4040-85d6-f8061b16960c",
   "metadata": {},
   "outputs": [],
   "source": [
    "x = torch.FloatTensor([[1, 1, 1],\n",
    "                       [2, 2, 2],\n",
    "                       [3, 3, 3],\n",
    "                       [4, 4, 4]])"
   ]
  },
  {
   "cell_type": "code",
   "execution_count": 5,
   "id": "034771b8-9fa2-494d-be81-fa2daa0c98d2",
   "metadata": {},
   "outputs": [
    {
     "name": "stdout",
     "output_type": "stream",
     "text": [
      "tensor([[11., 14.],\n",
      "        [20., 26.],\n",
      "        [29., 38.],\n",
      "        [38., 50.]])\n"
     ]
    }
   ],
   "source": [
    "y = linear(x, W, b)\n",
    "print(y)"
   ]
  },
  {
   "cell_type": "markdown",
   "id": "35ae0856-e6cf-4a50-b3b9-f18b41895915",
   "metadata": {},
   "source": [
    "## nn.Module\n",
    "추상화 클래스\n",
    "\n",
    "두 가지가 중요함.\n",
    "1. \\_\\_init__\n",
    "2. forward"
   ]
  },
  {
   "cell_type": "code",
   "execution_count": 6,
   "id": "208262d7-cc36-49bb-8efc-f64726041600",
   "metadata": {},
   "outputs": [],
   "source": [
    "import torch.nn as nn"
   ]
  },
  {
   "cell_type": "code",
   "execution_count": 12,
   "id": "d43eefc5-1bb1-48aa-8f9d-01a2a207ed5c",
   "metadata": {},
   "outputs": [],
   "source": [
    "# 예시\n",
    "# 여기에는 trainable한 parameters가 없음\n",
    "class MyLinear(nn.Module):\n",
    "\n",
    "    def __init__(self, input_dim, output_dim):\n",
    "        self.input_dim = input_dim\n",
    "        self.output_dim = output_dim\n",
    "\n",
    "        super().__init__() # 상위 클래스에서 __init__ 메서드 상속\n",
    "\n",
    "        self.W = torch.FloatTensor(input_dim, output_dim) # |W| = (input_dim, output_dim)\n",
    "        self.b = torch.FloatTensor(output_dim)\n",
    "\n",
    "    # forward 함수를 짜줘야함.\n",
    "    def forward(self, x):\n",
    "        # |x| = (batch_size, input_dim)\n",
    "        y = torch.matmul(x, self.W) + self.b\n",
    "        # |y| = (batch_size, input_dim) * (input_dim, output_dim)\n",
    "        #     = (batch_size, output_dim)\n",
    "        return y"
   ]
  },
  {
   "cell_type": "code",
   "execution_count": 10,
   "id": "4092f940-5fd8-40f2-b0a6-51d49ccde413",
   "metadata": {},
   "outputs": [],
   "source": [
    "linear = MyLinear(3, 2)\n",
    "y = linear(x)"
   ]
  },
  {
   "cell_type": "code",
   "execution_count": 11,
   "id": "c455d129-4af8-4560-8431-c47a714cff2d",
   "metadata": {
    "scrolled": true
   },
   "outputs": [
    {
     "data": {
      "text/plain": [
       "tensor([[3.7929e-38, 3.9214e-38],\n",
       "        [6.6582e-38, 6.7592e-38],\n",
       "        [9.5235e-38, 9.5970e-38],\n",
       "        [1.2389e-37, 1.2435e-37]])"
      ]
     },
     "execution_count": 11,
     "metadata": {},
     "output_type": "execute_result"
    }
   ],
   "source": [
    "y"
   ]
  },
  {
   "cell_type": "code",
   "execution_count": 14,
   "id": "395676e0-b335-4998-a584-33bef42bb291",
   "metadata": {},
   "outputs": [],
   "source": [
    "for p in linear.parameters():\n",
    "    print(p)\n",
    "\n",
    "# 아무 것도 나오지 않음"
   ]
  },
  {
   "cell_type": "markdown",
   "id": "f8335814-3883-498e-b5f3-5ab27a15ef14",
   "metadata": {},
   "source": [
    "## 제대로 된 방법 "
   ]
  },
  {
   "cell_type": "code",
   "execution_count": 13,
   "id": "6cf0d25f-071c-4573-af29-17c772064413",
   "metadata": {},
   "outputs": [],
   "source": [
    "# 예시\n",
    "# 여기에는 trainable한 parameters가 없음\n",
    "class MyLinear(nn.Module):\n",
    "\n",
    "    def __init__(self, input_dim, output_dim):\n",
    "        self.input_dim = input_dim\n",
    "        self.output_dim = output_dim\n",
    "\n",
    "        super().__init__() # 상위 클래스에서 __init__ 메서드 상속\n",
    "\n",
    "        # nn.Parameter() <- trainable한 파라미터로 사용하겠다는 의미. 이것으로 감싸면 됨.\n",
    "        self.W = nn.Parameter(torch.FloatTensor(input_dim, output_dim)) # |W| = (input_dim, output_dim)\n",
    "        self.b = nn.Parameter(torch.FloatTensor(output_dim))\n",
    "\n",
    "    # forward 함수를 짜줘야함.\n",
    "    def forward(self, x):\n",
    "        # |x| = (batch_size, input_dim)\n",
    "        y = torch.matmul(x, self.W) + self.b\n",
    "        # |y| = (batch_size, input_dim) * (input_dim, output_dim)\n",
    "        #     = (batch_size, output_dim)\n",
    "        return y"
   ]
  },
  {
   "cell_type": "code",
   "execution_count": 15,
   "id": "cd1ff3ee-0ac2-456e-9659-45c74aa6fc44",
   "metadata": {},
   "outputs": [],
   "source": [
    "linear = MyLinear(3, 2)\n",
    "y = linear(x) # forward가 매핑되어 있음. 이게 정석적인 방법이다. "
   ]
  },
  {
   "cell_type": "code",
   "execution_count": 16,
   "id": "96bb6e93-b0a2-4902-ba5e-9107ee249f47",
   "metadata": {},
   "outputs": [
    {
     "name": "stdout",
     "output_type": "stream",
     "text": [
      "tensor([[1.8754e+28, 2.0110e+20],\n",
      "        [3.7509e+28, 4.0219e+20],\n",
      "        [5.6263e+28, 6.0329e+20],\n",
      "        [7.5018e+28, 8.0439e+20]], grad_fn=<AddBackward0>)\n"
     ]
    }
   ],
   "source": [
    "print(y)"
   ]
  },
  {
   "cell_type": "code",
   "execution_count": 17,
   "id": "527a7e62-df56-4d8d-b6c5-b7dd4e67f9ef",
   "metadata": {},
   "outputs": [
    {
     "name": "stdout",
     "output_type": "stream",
     "text": [
      "Parameter containing:\n",
      "tensor([[0.0000e+00, 3.9214e-38],\n",
      "        [1.8754e+28, 2.0110e+20],\n",
      "        [2.1972e-04, 1.0073e-11]], requires_grad=True)\n",
      "Parameter containing:\n",
      "tensor([8.9082e-39, 6.9796e-39], requires_grad=True)\n"
     ]
    }
   ],
   "source": [
    "for p in linear.parameters():\n",
    "    print(p)"
   ]
  },
  {
   "cell_type": "markdown",
   "id": "4140320b-649a-4960-b453-fc665df409c8",
   "metadata": {},
   "source": [
    "## nn.Linear"
   ]
  },
  {
   "cell_type": "code",
   "execution_count": null,
   "id": "67e2a3eb-c7dc-4523-96b2-245d08f1f0dc",
   "metadata": {},
   "outputs": [],
   "source": []
  }
 ],
 "metadata": {
  "kernelspec": {
   "display_name": "nlp",
   "language": "python",
   "name": "nlp"
  },
  "language_info": {
   "codemirror_mode": {
    "name": "ipython",
    "version": 3
   },
   "file_extension": ".py",
   "mimetype": "text/x-python",
   "name": "python",
   "nbconvert_exporter": "python",
   "pygments_lexer": "ipython3",
   "version": "3.11.4"
  }
 },
 "nbformat": 4,
 "nbformat_minor": 5
}

{
 "cells": [
  {
   "cell_type": "code",
   "execution_count": 3,
   "metadata": {},
   "outputs": [
    {
     "name": "stdout",
     "output_type": "stream",
     "text": [
      "(1, 8) (7, 8)\n"
     ]
    }
   ],
   "source": [
    "# Repeat 노드 예제\n",
    "import numpy as np\n",
    "D, N = 8, 7\n",
    "\n",
    "x = np.random.randn(1, D)\n",
    "# np.repeat()이 복제 노드 역할을 한다.\n",
    "\n",
    "y = np.repeat(x, N, axis=0) # axis 방향으로 값을 복제함\n",
    "\n",
    "print(x.shape, y.shape)"
   ]
  },
  {
   "cell_type": "code",
   "execution_count": 4,
   "metadata": {},
   "outputs": [
    {
     "data": {
      "text/plain": [
       "array([[-0.36744383, -0.88539369,  0.99626451,  0.06435673, -0.83946504,\n",
       "        -1.10089157,  1.00551784,  0.49460005]])"
      ]
     },
     "execution_count": 4,
     "metadata": {},
     "output_type": "execute_result"
    }
   ],
   "source": [
    "x"
   ]
  },
  {
   "cell_type": "code",
   "execution_count": 5,
   "metadata": {},
   "outputs": [
    {
     "data": {
      "text/plain": [
       "array([[-0.36744383, -0.88539369,  0.99626451,  0.06435673, -0.83946504,\n",
       "        -1.10089157,  1.00551784,  0.49460005],\n",
       "       [-0.36744383, -0.88539369,  0.99626451,  0.06435673, -0.83946504,\n",
       "        -1.10089157,  1.00551784,  0.49460005],\n",
       "       [-0.36744383, -0.88539369,  0.99626451,  0.06435673, -0.83946504,\n",
       "        -1.10089157,  1.00551784,  0.49460005],\n",
       "       [-0.36744383, -0.88539369,  0.99626451,  0.06435673, -0.83946504,\n",
       "        -1.10089157,  1.00551784,  0.49460005],\n",
       "       [-0.36744383, -0.88539369,  0.99626451,  0.06435673, -0.83946504,\n",
       "        -1.10089157,  1.00551784,  0.49460005],\n",
       "       [-0.36744383, -0.88539369,  0.99626451,  0.06435673, -0.83946504,\n",
       "        -1.10089157,  1.00551784,  0.49460005],\n",
       "       [-0.36744383, -0.88539369,  0.99626451,  0.06435673, -0.83946504,\n",
       "        -1.10089157,  1.00551784,  0.49460005]])"
      ]
     },
     "execution_count": 5,
     "metadata": {},
     "output_type": "execute_result"
    }
   ],
   "source": [
    "y"
   ]
  },
  {
   "cell_type": "code",
   "execution_count": 8,
   "metadata": {},
   "outputs": [],
   "source": [
    "dy = np.random.randn(N, D) # 랜덤한 기울기\n",
    "\n",
    "dx = np.sum(dy, axis=0, keepdims=True) # 역전파 # keepdims=True -> 차원수 유지함\n",
    "dx_1 = np.sum(dy, axis=0)"
   ]
  },
  {
   "cell_type": "code",
   "execution_count": 9,
   "metadata": {},
   "outputs": [
    {
     "name": "stdout",
     "output_type": "stream",
     "text": [
      "(1, 8) (8,)\n"
     ]
    }
   ],
   "source": [
    "print(dx.shape, dx_1.shape)"
   ]
  },
  {
   "cell_type": "code",
   "execution_count": 10,
   "metadata": {},
   "outputs": [
    {
     "data": {
      "text/plain": [
       "array([[ 0.59961556, -2.37712304, -0.52296305, -1.54473511, -1.24151466,\n",
       "         0.59268309,  0.47692568, -3.30542937]])"
      ]
     },
     "execution_count": 10,
     "metadata": {},
     "output_type": "execute_result"
    }
   ],
   "source": [
    "dx"
   ]
  },
  {
   "cell_type": "code",
   "execution_count": 11,
   "metadata": {},
   "outputs": [
    {
     "data": {
      "text/plain": [
       "array([ 0.59961556, -2.37712304, -0.52296305, -1.54473511, -1.24151466,\n",
       "        0.59268309,  0.47692568, -3.30542937])"
      ]
     },
     "execution_count": 11,
     "metadata": {},
     "output_type": "execute_result"
    }
   ],
   "source": [
    "dx_1"
   ]
  },
  {
   "cell_type": "markdown",
   "metadata": {},
   "source": [
    "### sum 노드\n",
    "아래의 그림에서 확인할 수 있듯이, Sum 노드와 Repeat 노드는 서로 __'반대 관계'__ 이다.\n",
    "+ Sum 노드의 순전파가 Repeat 노드의 역전파이며,\n",
    "+ Sum 노드의 역전파가 Repeat 노드의 순전파가 된다.\n",
    "\n",
    "![](https://github.com/ExcelsiorCJH/DLFromScratch2/raw/b2a7b6a8e6344830314da3ab7038b1382358d348/Chap01-Neural_Networks_Review/images/sum.png)"
   ]
  },
  {
   "cell_type": "code",
   "execution_count": 12,
   "metadata": {},
   "outputs": [
    {
     "name": "stdout",
     "output_type": "stream",
     "text": [
      "(7, 8) (1, 8)\n"
     ]
    }
   ],
   "source": [
    "# Sum 노드 역전파 예제\n",
    "\n",
    "import numpy as np\n",
    "\n",
    "D, N = 8, 7\n",
    "x = np.random.randn(N, D)\n",
    "y = np.sum(x, axis=0, keepdims = True) # 순전파\n",
    "\n",
    "print(x.shape, y.shape)"
   ]
  },
  {
   "cell_type": "code",
   "execution_count": 13,
   "metadata": {},
   "outputs": [
    {
     "data": {
      "text/plain": [
       "array([[ 0.14047721,  1.11048588, -0.77012518, -0.78093914,  0.31036797,\n",
       "         1.42033576,  2.61517144,  0.06811956],\n",
       "       [-1.61745132, -0.02985062, -0.40482667, -0.12034905,  1.32736947,\n",
       "        -0.07462502, -2.9418487 ,  0.35482078],\n",
       "       [ 0.27939737,  1.3319824 , -2.02815951, -0.47863674,  0.15705698,\n",
       "         0.18862469, -0.94997938,  0.91650379],\n",
       "       [ 1.61136095, -0.21310396,  0.74585266,  1.47101364, -0.31174697,\n",
       "         0.42078659,  0.74697366,  0.16811081],\n",
       "       [-0.07122013, -0.09906628,  0.28722235, -0.09460307,  0.26141202,\n",
       "         1.27963204, -0.77915039,  0.99456108],\n",
       "       [-2.44186812, -2.63918355, -0.47693138,  1.07808563, -0.31532632,\n",
       "         1.41564746,  0.69725953,  0.7369968 ],\n",
       "       [ 0.16434391, -0.13934735, -0.45962269, -0.75242173, -0.04020714,\n",
       "         0.13601322, -0.86919539, -1.27942486]])"
      ]
     },
     "execution_count": 13,
     "metadata": {},
     "output_type": "execute_result"
    }
   ],
   "source": [
    "x"
   ]
  },
  {
   "cell_type": "code",
   "execution_count": 14,
   "metadata": {},
   "outputs": [
    {
     "data": {
      "text/plain": [
       "array([[-1.93496014, -0.67808348, -3.10659043,  0.32214956,  1.38892602,\n",
       "         4.78641473, -1.48076923,  1.95968795]])"
      ]
     },
     "execution_count": 14,
     "metadata": {},
     "output_type": "execute_result"
    }
   ],
   "source": [
    "y"
   ]
  },
  {
   "cell_type": "markdown",
   "metadata": {},
   "source": [
    "### MatMul 노드\n",
    "행렬의 곱셈 Matrix Multiply의 약자로 MatMul을 사용한다. 배치사이즈가 N이라고 할 때 MatMul 노드의 역전파는 다음과 같다.\n",
    "\n",
    "![](https://github.com/ExcelsiorCJH/DLFromScratch2/raw/b2a7b6a8e6344830314da3ab7038b1382358d348/Chap01-Neural_Networks_Review/images/matmul.png)"
   ]
  },
  {
   "cell_type": "code",
   "execution_count": 15,
   "metadata": {},
   "outputs": [],
   "source": [
    "# MatMul 클래스 구현\n",
    "# common / layers.py\n",
    "\n",
    "class MatMul:\n",
    "    def __init__(self, W):\n",
    "        self.params = [W]\n",
    "        self.grads = [np.zeros_like(W)]\n",
    "        self.x = None\n",
    "        \n",
    "    def forward(self, x):\n",
    "        W, = self.parmas\n",
    "        out = np.matmul(x, W)\n",
    "        self.x = x\n",
    "        return out\n",
    "    \n",
    "    def backward(self, dout):\n",
    "        W, = self.params\n",
    "        dx = np.matmul(dout, W.T)\n",
    "        dw = np.matmul(self.x.T, dout)\n",
    "        self.grads[0][...] = dw\n",
    "        return dx"
   ]
  },
  {
   "cell_type": "code",
   "execution_count": null,
   "metadata": {},
   "outputs": [],
   "source": []
  }
 ],
 "metadata": {
  "kernelspec": {
   "display_name": "Python 3",
   "language": "python",
   "name": "python3"
  },
  "language_info": {
   "codemirror_mode": {
    "name": "ipython",
    "version": 3
   },
   "file_extension": ".py",
   "mimetype": "text/x-python",
   "name": "python",
   "nbconvert_exporter": "python",
   "pygments_lexer": "ipython3",
   "version": "3.8.5"
  }
 },
 "nbformat": 4,
 "nbformat_minor": 4
}

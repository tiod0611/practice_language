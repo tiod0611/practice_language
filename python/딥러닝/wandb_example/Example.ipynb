{
 "cells": [
  {
   "cell_type": "code",
   "execution_count": 2,
   "id": "ef9583d4-ef3f-43f7-9012-c052f0bb78df",
   "metadata": {},
   "outputs": [],
   "source": [
    "import torch\n",
    "import torch.nn as nn\n",
    "import torch.nn.functional as F\n",
    "import torch.optim as optim\n",
    "import torchvision\n",
    "import torchvision.transforms as transforms"
   ]
  },
  {
   "cell_type": "code",
   "execution_count": 5,
   "id": "0988fda4-8942-4e18-b1fa-0ee1c51ba1ab",
   "metadata": {
    "scrolled": true
   },
   "outputs": [],
   "source": [
    "import wandb"
   ]
  },
  {
   "cell_type": "code",
   "execution_count": 7,
   "id": "b39fb26e-6a63-4235-9ba1-ab66aca95d1c",
   "metadata": {},
   "outputs": [
    {
     "data": {
      "text/html": [
       "Finishing last run (ID:noy3fcmv) before initializing another..."
      ],
      "text/plain": [
       "<IPython.core.display.HTML object>"
      ]
     },
     "metadata": {},
     "output_type": "display_data"
    },
    {
     "data": {
      "text/html": [
       "Waiting for W&B process to finish... <strong style=\"color:green\">(success).</strong>"
      ],
      "text/plain": [
       "<IPython.core.display.HTML object>"
      ]
     },
     "metadata": {},
     "output_type": "display_data"
    },
    {
     "data": {
      "text/html": [
       " View run <strong style=\"color:#cdcd00\">dauntless-feather-1</strong> at: <a href='https://wandb.ai/gyul611/practice_language-python_%EB%94%A5%EB%9F%AC%EB%8B%9D_wandb_example/runs/noy3fcmv' target=\"_blank\">https://wandb.ai/gyul611/practice_language-python_%EB%94%A5%EB%9F%AC%EB%8B%9D_wandb_example/runs/noy3fcmv</a><br/>Synced 5 W&B file(s), 0 media file(s), 0 artifact file(s) and 0 other file(s)"
      ],
      "text/plain": [
       "<IPython.core.display.HTML object>"
      ]
     },
     "metadata": {},
     "output_type": "display_data"
    },
    {
     "data": {
      "text/html": [
       "Find logs at: <code>.\\wandb\\run-20231022_193734-noy3fcmv\\logs</code>"
      ],
      "text/plain": [
       "<IPython.core.display.HTML object>"
      ]
     },
     "metadata": {},
     "output_type": "display_data"
    },
    {
     "data": {
      "text/html": [
       "Successfully finished last run (ID:noy3fcmv). Initializing new run:<br/>"
      ],
      "text/plain": [
       "<IPython.core.display.HTML object>"
      ]
     },
     "metadata": {},
     "output_type": "display_data"
    },
    {
     "data": {
      "text/html": [
       "Tracking run with wandb version 0.15.12"
      ],
      "text/plain": [
       "<IPython.core.display.HTML object>"
      ]
     },
     "metadata": {},
     "output_type": "display_data"
    },
    {
     "data": {
      "text/html": [
       "Run data is saved locally in <code>C:\\Users\\Kyeul\\Desktop\\code\\언어_연습\\practice_language\\python\\딥러닝\\wandb_example\\wandb\\run-20231022_193823-4whxsbq4</code>"
      ],
      "text/plain": [
       "<IPython.core.display.HTML object>"
      ]
     },
     "metadata": {},
     "output_type": "display_data"
    },
    {
     "data": {
      "text/html": [
       "Syncing run <strong><a href='https://wandb.ai/gyul611/CIFAR%20Classification%20Example%28Train%29/runs/4whxsbq4' target=\"_blank\">bumbling-pond-1</a></strong> to <a href='https://wandb.ai/gyul611/CIFAR%20Classification%20Example%28Train%29' target=\"_blank\">Weights & Biases</a> (<a href='https://wandb.me/run' target=\"_blank\">docs</a>)<br/>"
      ],
      "text/plain": [
       "<IPython.core.display.HTML object>"
      ]
     },
     "metadata": {},
     "output_type": "display_data"
    },
    {
     "data": {
      "text/html": [
       " View project at <a href='https://wandb.ai/gyul611/CIFAR%20Classification%20Example%28Train%29' target=\"_blank\">https://wandb.ai/gyul611/CIFAR%20Classification%20Example%28Train%29</a>"
      ],
      "text/plain": [
       "<IPython.core.display.HTML object>"
      ]
     },
     "metadata": {},
     "output_type": "display_data"
    },
    {
     "data": {
      "text/html": [
       " View run at <a href='https://wandb.ai/gyul611/CIFAR%20Classification%20Example%28Train%29/runs/4whxsbq4' target=\"_blank\">https://wandb.ai/gyul611/CIFAR%20Classification%20Example%28Train%29/runs/4whxsbq4</a>"
      ],
      "text/plain": [
       "<IPython.core.display.HTML object>"
      ]
     },
     "metadata": {},
     "output_type": "display_data"
    },
    {
     "data": {
      "text/html": [
       "<button onClick=\"this.nextSibling.style.display='block';this.style.display='none';\">Display W&B run</button><iframe src='https://wandb.ai/gyul611/CIFAR%20Classification%20Example%28Train%29/runs/4whxsbq4?jupyter=true' style='border:none;width:100%;height:420px;display:none;'></iframe>"
      ],
      "text/plain": [
       "<wandb.sdk.wandb_run.Run at 0x1b8559ea2d0>"
      ]
     },
     "execution_count": 7,
     "metadata": {},
     "output_type": "execute_result"
    }
   ],
   "source": [
    "wandb.init(project=\"CIFAR Classification Example(Train)\")"
   ]
  },
  {
   "cell_type": "code",
   "execution_count": 9,
   "id": "869237a7-4d02-4258-8b14-8b8f3cd019af",
   "metadata": {},
   "outputs": [
    {
     "name": "stderr",
     "output_type": "stream",
     "text": [
      "\u001b[34m\u001b[1mwandb\u001b[0m: \u001b[33mWARNING\u001b[0m Calling wandb.run.save without any arguments is deprecated.Changes to attributes are automatically persisted.\n"
     ]
    },
    {
     "data": {
      "text/plain": [
       "True"
      ]
     },
     "execution_count": 9,
     "metadata": {},
     "output_type": "execute_result"
    }
   ],
   "source": [
    "wandb.run.name = \"First wandb\"\n",
    "wandb.run.save()"
   ]
  },
  {
   "cell_type": "code",
   "execution_count": 10,
   "id": "1ec1cba7-cc4d-4845-836e-19cceb7f0f84",
   "metadata": {},
   "outputs": [],
   "source": [
    "batch_size = 4\n",
    "learning_rate = 0.001\n",
    "epochs = 5"
   ]
  },
  {
   "cell_type": "code",
   "execution_count": 11,
   "id": "a963ee6e-b994-4400-b817-fe76a960b943",
   "metadata": {},
   "outputs": [],
   "source": [
    "args = {\n",
    "    \"learning_rate\": learning_rate,\n",
    "    \"epochs\": epochs,\n",
    "    \"batch_size\": batch_size\n",
    "}"
   ]
  },
  {
   "cell_type": "code",
   "execution_count": 12,
   "id": "edcc3e58-7fc2-4d57-8aee-25e345d39524",
   "metadata": {},
   "outputs": [],
   "source": [
    "wandb.config.update(args)"
   ]
  },
  {
   "cell_type": "markdown",
   "id": "b7a7a4fc-f0df-40ac-9b2f-fb2a0962c43f",
   "metadata": {},
   "source": [
    "## Load and normalize CIFAR10"
   ]
  },
  {
   "cell_type": "code",
   "execution_count": 13,
   "id": "9ff494fe-48f5-496e-aa51-a4c8b1fb4847",
   "metadata": {},
   "outputs": [],
   "source": [
    "transform = transforms.Compose(\n",
    "    [transforms.ToTensor(),\n",
    "     transforms.Normalize((0.5, 0.5, 0.5), (0.5, 0.5, 0.5))])"
   ]
  },
  {
   "cell_type": "code",
   "execution_count": 14,
   "id": "dac70f9e-1854-4918-9df6-0395869e98f8",
   "metadata": {},
   "outputs": [
    {
     "name": "stdout",
     "output_type": "stream",
     "text": [
      "Downloading https://www.cs.toronto.edu/~kriz/cifar-10-python.tar.gz to ./data\\cifar-10-python.tar.gz\n"
     ]
    },
    {
     "name": "stderr",
     "output_type": "stream",
     "text": [
      "100%|███████████████████████████████████████████████████████████████| 170498071/170498071 [00:23<00:00, 7136592.67it/s]\n"
     ]
    },
    {
     "name": "stdout",
     "output_type": "stream",
     "text": [
      "Extracting ./data\\cifar-10-python.tar.gz to ./data\n",
      "Files already downloaded and verified\n"
     ]
    }
   ],
   "source": [
    "trainset = torchvision.datasets.CIFAR10(root='./data', train=True,\n",
    "                                        download=True, transform=transform)\n",
    "trainloader = torch.utils.data.DataLoader(trainset, batch_size=batch_size,\n",
    "                                          shuffle=True, num_workers=2)\n",
    "\n",
    "testset = torchvision.datasets.CIFAR10(root='./data', train=False,\n",
    "                                       download=True, transform=transform)\n",
    "testloader = torch.utils.data.DataLoader(testset, batch_size=batch_size,\n",
    "                                         shuffle=False, num_workers=2)"
   ]
  },
  {
   "cell_type": "markdown",
   "id": "06388dc7-9cfb-49de-8aed-b19ce3e561ef",
   "metadata": {},
   "source": [
    "## Define a CNN"
   ]
  },
  {
   "cell_type": "code",
   "execution_count": 15,
   "id": "076fa872-beba-491d-b89f-e77f7bb72f21",
   "metadata": {},
   "outputs": [
    {
     "name": "stdout",
     "output_type": "stream",
     "text": [
      "device: cuda:0\n"
     ]
    }
   ],
   "source": [
    "device = torch.device('cuda:0' if torch.cuda.is_available() else 'cpu')\n",
    "print(\"device:\", device)"
   ]
  },
  {
   "cell_type": "code",
   "execution_count": 16,
   "id": "57422546-b5a7-4d3a-9685-12aecf393573",
   "metadata": {},
   "outputs": [],
   "source": [
    "class Net(nn.Module):\n",
    "    def __init__(self):\n",
    "        super().__init__()\n",
    "        self.conv1 = nn.Conv2d(3, 6, 5)\n",
    "        self.pool = nn.MaxPool2d(2, 2)\n",
    "        self.conv2 = nn.Conv2d(6, 16, 5)\n",
    "        self.fc1 = nn.Linear(16*5*5, 120)\n",
    "        self.fc2 = nn.Linear(120, 84)\n",
    "        self.fc3 = nn.Linear(84, 10)\n",
    "\n",
    "    def forward(self, x):\n",
    "        x = self.pool(F.relu(self.conv1(x)))\n",
    "        x = self.pool(F.relu(self.conv2(x)))\n",
    "        x = torch.flatten(x, 1) \n",
    "        x = F.relu(self.fc1(x))\n",
    "        x = F.relu(self.fc2(x))\n",
    "        x = self.fc3(x)\n",
    "        return x"
   ]
  },
  {
   "cell_type": "code",
   "execution_count": 17,
   "id": "0948bc5b-b1ff-4c28-a6b8-526273f8c0bf",
   "metadata": {},
   "outputs": [],
   "source": [
    "net = Net().to(device)"
   ]
  },
  {
   "cell_type": "markdown",
   "id": "ea576270-dc92-4fa6-a4f8-ac3896dd329c",
   "metadata": {},
   "source": [
    "## Define a Loss Function and optimizer"
   ]
  },
  {
   "cell_type": "code",
   "execution_count": 18,
   "id": "62438917-5273-46a3-a410-28270b6569da",
   "metadata": {},
   "outputs": [],
   "source": [
    "criterion = nn.CrossEntropyLoss()\n",
    "optimizer = optim.Adam(net.parameters())"
   ]
  },
  {
   "cell_type": "markdown",
   "id": "92cbebc9-1ccf-46f7-86c3-05e7cd739e09",
   "metadata": {},
   "source": [
    "## Train the network"
   ]
  },
  {
   "cell_type": "code",
   "execution_count": 20,
   "id": "d00ae9dd-c27f-48d5-890a-ab19dde38d77",
   "metadata": {},
   "outputs": [
    {
     "name": "stdout",
     "output_type": "stream",
     "text": [
      "[6,  2000] loss: 1.853\n",
      "[6,  4000] loss: 3.453\n",
      "[6,  6000] loss: 4.945\n",
      "[6,  8000] loss: 6.389\n",
      "[6,  10000] loss: 7.778\n",
      "[6,  12000] loss: 9.142\n",
      "[6,  2000] loss: 1.292\n",
      "[6,  4000] loss: 2.569\n",
      "[6,  6000] loss: 3.845\n",
      "[6,  8000] loss: 5.095\n",
      "[6,  10000] loss: 6.338\n",
      "[6,  12000] loss: 7.583\n",
      "[6,  2000] loss: 1.168\n",
      "[6,  4000] loss: 2.337\n",
      "[6,  6000] loss: 3.520\n",
      "[6,  8000] loss: 4.690\n",
      "[6,  10000] loss: 5.848\n",
      "[6,  12000] loss: 7.002\n",
      "[6,  2000] loss: 1.085\n",
      "[6,  4000] loss: 2.205\n",
      "[6,  6000] loss: 3.298\n",
      "[6,  8000] loss: 4.418\n",
      "[6,  10000] loss: 5.551\n",
      "[6,  12000] loss: 6.650\n",
      "[6,  2000] loss: 1.027\n",
      "[6,  4000] loss: 2.086\n",
      "[6,  6000] loss: 3.153\n",
      "[6,  8000] loss: 4.230\n",
      "[6,  10000] loss: 5.329\n",
      "[6,  12000] loss: 6.404\n"
     ]
    }
   ],
   "source": [
    "for epoch in range(epochs): # loop ovner the dataset multiple times\n",
    "    running_loss = 0.0\n",
    "    for i, data in enumerate(trainloader, 0):\n",
    "        # get the inputs; data is a list of [inputs, labels]\n",
    "        inputs, labels = data[0].to(device), data[1].to(device)\n",
    "\n",
    "        # zero the parameter gradients\n",
    "        optimizer.zero_grad()\n",
    "\n",
    "        # forward + backward + optimize\n",
    "        outputs = net(inputs)\n",
    "        loss = criterion(outputs, labels)\n",
    "        loss.backward()\n",
    "        optimizer.step()\n",
    "\n",
    "        # print statistic\n",
    "        running_loss += loss.item()\n",
    "        if i % 2000 == 1999: # print every 2000 mini batches\n",
    "            print(f\"[{epochs + 1}, {i + 1: 5d}] loss: {running_loss / 2000:.3f}\")\n",
    "            wandb.log({\"Training loss\": running_loss / 2000})\n",
    "            runningLoss = 0.0"
   ]
  },
  {
   "cell_type": "code",
   "execution_count": 21,
   "id": "3e85d5ed-0b2a-4462-85f3-f8e304afb782",
   "metadata": {},
   "outputs": [
    {
     "name": "stdout",
     "output_type": "stream",
     "text": [
      "Finished Training\n"
     ]
    }
   ],
   "source": [
    "PATH = '.cifar_net.pth'\n",
    "torch.save(net.state_dict(), PATH)\n",
    "print(\"Finished Training\")"
   ]
  },
  {
   "cell_type": "code",
   "execution_count": null,
   "id": "44f735c4-7792-455a-be11-6f44c0a29e4c",
   "metadata": {},
   "outputs": [],
   "source": []
  }
 ],
 "metadata": {
  "kernelspec": {
   "display_name": "nlp",
   "language": "python",
   "name": "nlp"
  },
  "language_info": {
   "codemirror_mode": {
    "name": "ipython",
    "version": 3
   },
   "file_extension": ".py",
   "mimetype": "text/x-python",
   "name": "python",
   "nbconvert_exporter": "python",
   "pygments_lexer": "ipython3",
   "version": "3.11.4"
  }
 },
 "nbformat": 4,
 "nbformat_minor": 5
}

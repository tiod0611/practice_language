import torch
import torch.nn as nn
import torch.nn.functional as F
import torch.optim as optim
import torchvision
import torchvision.transforms as transforms


import wandb


wandb.init(project="CIFAR Classification Example(Train)")


wandb.run.name = "First wandb"
wandb.run.save()


batch_size = 4
learning_rate = 0.001
epochs = 5


args = {
    "learning_rate": learning_rate,
    "epochs": epochs,
    "batch_size": batch_size
}


wandb.config.update(args)





transform = transforms.Compose(
    [transforms.ToTensor(),
     transforms.Normalize((0.5, 0.5, 0.5), (0.5, 0.5, 0.5))])


trainset = torchvision.datasets.CIFAR10(root='./data', train=True,
                                        download=True, transform=transform)
trainloader = torch.utils.data.DataLoader(trainset, batch_size=batch_size,
                                          shuffle=True, num_workers=2)

testset = torchvision.datasets.CIFAR10(root='./data', train=False,
                                       download=True, transform=transform)
testloader = torch.utils.data.DataLoader(testset, batch_size=batch_size,
                                         shuffle=False, num_workers=2)





device = torch.device('cuda:0' if torch.cuda.is_available() else 'cpu')
print("device:", device)


class Net(nn.Module):
    def __init__(self):
        super().__init__()
        self.conv1 = nn.Conv2d(3, 6, 5)
        self.pool = nn.MaxPool2d(2, 2)
        self.conv2 = nn.Conv2d(6, 16, 5)
        self.fc1 = nn.Linear(16*5*5, 120)
        self.fc2 = nn.Linear(120, 84)
        self.fc3 = nn.Linear(84, 10)

    def forward(self, x):
        x = self.pool(F.relu(self.conv1(x)))
        x = self.pool(F.relu(self.conv2(x)))
        x = torch.flatten(x, 1) 
        x = F.relu(self.fc1(x))
        x = F.relu(self.fc2(x))
        x = self.fc3(x)
        return x


net = Net().to(device)





criterion = nn.CrossEntropyLoss()
optimizer = optim.Adam(net.parameters())





for epoch in range(epochs): # loop ovner the dataset multiple times
    running_loss = 0.0
    for i, data in enumerate(trainloader, 0):
        # get the inputs; data is a list of [inputs, labels]
        inputs, labels = data[0].to(device), data[1].to(device)

        # zero the parameter gradients
        optimizer.zero_grad()

        # forward + backward + optimize
        outputs = net(inputs)
        loss = criterion(outputs, labels)
        loss.backward()
        optimizer.step()

        # print statistic
        running_loss += loss.item()
        if i % 2000 == 1999: # print every 2000 mini batches
            print(f"[{epochs + 1}, {i + 1: 5d}] loss: {running_loss / 2000:.3f}")
            wandb.log({"Training loss": running_loss / 2000})
            runningLoss = 0.0


PATH = '.cifar_net.pth'
torch.save(net.state_dict(), PATH)
print("Finished Training")




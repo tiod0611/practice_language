{
 "cells": [
  {
   "cell_type": "markdown",
   "id": "06368e6e-c435-4805-afde-7d2a48928f28",
   "metadata": {},
   "source": [
    "# 데이터 전처리\n",
    "\n",
    "## 데이터 인코딩"
   ]
  },
  {
   "cell_type": "markdown",
   "id": "02c7d9a0-fba0-4694-827f-b59022176392",
   "metadata": {},
   "source": [
    "### 레이블 인코딩"
   ]
  },
  {
   "cell_type": "code",
   "execution_count": 2,
   "id": "da2b771a-f116-42ad-9bf4-06f89d183b9d",
   "metadata": {},
   "outputs": [],
   "source": [
    "from sklearn.preprocessing import LabelEncoder # sklearn의 preprocessing 모듈에서 LabelEncoder 클래스를 가져옴"
   ]
  },
  {
   "cell_type": "code",
   "execution_count": 3,
   "id": "44c3f233-4d71-4b46-b56f-a1c1c67632ca",
   "metadata": {},
   "outputs": [
    {
     "name": "stdout",
     "output_type": "stream",
     "text": [
      "인코딩 변환값: [0 1 4 5 3 2 2]\n"
     ]
    }
   ],
   "source": [
    "items = ['TV', '냉장고', '전자레인지', '컴퓨터', '선풍기', '믹서', '믹서'] # 데이터 lable 예시\n",
    "\n",
    "# LabelEncoder를 객체로 생성한 후, fit()과 transform()으로 레이블 인코딩 수행\n",
    "encoder = LabelEncoder() # LabelEncoder를 객체로 만듬\n",
    "encoder.fit(items) # label을 encoding 함\n",
    "labels = encoder.transform(items) # 레이블을 encoding한 결과를 저장\n",
    "print('인코딩 변환값:' , labels)"
   ]
  },
  {
   "cell_type": "code",
   "execution_count": 4,
   "id": "9506a938-a1bc-42f4-9e10-8a8ebce25cc4",
   "metadata": {},
   "outputs": [
    {
     "data": {
      "text/plain": [
       "array(['TV', '냉장고', '믹서', '선풍기', '전자레인지', '컴퓨터'], dtype='<U5')"
      ]
     },
     "execution_count": 4,
     "metadata": {},
     "output_type": "execute_result"
    }
   ],
   "source": [
    "encoder.classes_ # encoding 변환된 index가 어떤 클래스인지 보여줌 "
   ]
  },
  {
   "cell_type": "code",
   "execution_count": 5,
   "id": "89864bed-1d8d-48aa-90a2-1fa10fcd5b58",
   "metadata": {},
   "outputs": [
    {
     "name": "stdout",
     "output_type": "stream",
     "text": [
      "디코딩 원본 값: ['전자레인지' '컴퓨터' '믹서' 'TV' '냉장고' '냉장고' '선풍기' '선풍기']\n"
     ]
    }
   ],
   "source": [
    "# inverse_transform을 통해 encoding된 값을 다시 decoding 할 수 있음\n",
    "print('디코딩 원본 값:', encoder.inverse_transform([4, 5, 2, 0, 1, 1, 3, 3]))"
   ]
  },
  {
   "cell_type": "markdown",
   "id": "ce0bac2c-c3df-4ff7-b257-2de1dd2c062c",
   "metadata": {},
   "source": [
    "### 원-핫 인코딩(One-Hot Encoding)\n",
    "\n",
    "Label Encoding은 텍스트 데이터를 수치로 변환한다. 이때 주의 해야 할 점은 클래스를 구별하는 이 숫자가 학습에 영향을 받아선 안된다는 점이다.  \n",
    "숫자의 크기가 계산에 적용되면 값으 차이로 인한 성능에 영향을 줄 수 있다. 따라서 회귀 분석에는 이러한 Label Encoding을 사용하지 않는다. \n",
    "\n",
    "이런 문제를 보완한 Encoding 방법이 바로 One-Hot Encoding이다."
   ]
  },
  {
   "cell_type": "code",
   "execution_count": 6,
   "id": "395e951c-e36b-4692-8903-cc266080115f",
   "metadata": {},
   "outputs": [],
   "source": [
    "# 원-핫 엔코딩을 하기 전에 주의해야 할 것\n",
    "# 1. 모든 값이 숫자형으로 변환돼 있어야 함.\n",
    "# 2. 입력값은 2차원 데이터여야 함.\n",
    "\n",
    "from sklearn.preprocessing import OneHotEncoder # preprosessing 모듈에서 OneHotEncoder 클래스를 가져옴\n",
    "import numpy as np"
   ]
  },
  {
   "cell_type": "code",
   "execution_count": 7,
   "id": "dc416eb1-bc65-4e4c-96d8-5035efd31571",
   "metadata": {},
   "outputs": [],
   "source": [
    "items = ['TV', '냉장고', '전자레인지', '컴퓨터', '선풍기', '선풍기', '믹서', '믹서'] # 데이터 셈플"
   ]
  },
  {
   "cell_type": "code",
   "execution_count": 13,
   "id": "914f5454-6153-489b-b875-0f887a5438ae",
   "metadata": {},
   "outputs": [],
   "source": [
    "# 먼저 숫자 값으로 변환을 위해 LabelEncoder로 변환함\n",
    "encoder = LabelEncoder() # LabelEncoder 객체를 선언\n",
    "encoder.fit(items) # items에 LabelEncoder를 적용함\n",
    "labels = encoder.transform(items) # items를 LabelEncoder 결과로 변환함"
   ]
  },
  {
   "cell_type": "code",
   "execution_count": 14,
   "id": "ac5be5a8-6f6f-4c6c-b645-01442bbcdd19",
   "metadata": {},
   "outputs": [
    {
     "data": {
      "text/plain": [
       "(array([0, 1, 4, 5, 3, 3, 2, 2]), (8,))"
      ]
     },
     "execution_count": 14,
     "metadata": {},
     "output_type": "execute_result"
    }
   ],
   "source": [
    "labels, labels.shape"
   ]
  },
  {
   "cell_type": "code",
   "execution_count": 15,
   "id": "295a8767-ee33-4590-93d6-a254a4e8b82d",
   "metadata": {},
   "outputs": [
    {
     "data": {
      "text/plain": [
       "(array([[0],\n",
       "        [1],\n",
       "        [4],\n",
       "        [5],\n",
       "        [3],\n",
       "        [3],\n",
       "        [2],\n",
       "        [2]]),\n",
       " (8, 1))"
      ]
     },
     "execution_count": 15,
     "metadata": {},
     "output_type": "execute_result"
    }
   ],
   "source": [
    "# 2차원 데이터로 만듬\n",
    "labels = labels.reshape(-1, 1)\n",
    "labels, labels.shape"
   ]
  },
  {
   "cell_type": "code",
   "execution_count": 16,
   "id": "b059a0da-9325-41c0-97bc-fdd1fde91dbe",
   "metadata": {},
   "outputs": [],
   "source": [
    "# 원-핫 인코딩을 적용\n",
    "oh_encoder = OneHotEncoder() # OneHotEncoder 객체를 선언\n",
    "oh_encoder.fit(labels) # labels를 OneHotEncoder로 encoding함\n",
    "\n",
    "oh_labels = oh_encoder.transform(labels) # labels를 oh_encoder로 변환함\n"
   ]
  },
  {
   "cell_type": "code",
   "execution_count": 17,
   "id": "10424a2e-1aff-4c04-bfbe-974eaef5c3b2",
   "metadata": {},
   "outputs": [
    {
     "name": "stdout",
     "output_type": "stream",
     "text": [
      "원핫 인코딩 데이터\n",
      "[[1. 0. 0. 0. 0. 0.]\n",
      " [0. 1. 0. 0. 0. 0.]\n",
      " [0. 0. 0. 0. 1. 0.]\n",
      " [0. 0. 0. 0. 0. 1.]\n",
      " [0. 0. 0. 1. 0. 0.]\n",
      " [0. 0. 0. 1. 0. 0.]\n",
      " [0. 0. 1. 0. 0. 0.]\n",
      " [0. 0. 1. 0. 0. 0.]]\n",
      "원핫 인코딩 데이터 차원\n",
      "(8, 6)\n"
     ]
    }
   ],
   "source": [
    "print('원핫 인코딩 데이터')\n",
    "print(oh_labels.toarray())\n",
    "print('원핫 인코딩 데이터 차원')\n",
    "print(oh_labels.shape)"
   ]
  },
  {
   "cell_type": "code",
   "execution_count": 18,
   "id": "6a48498d-4f91-4399-a562-38241193715b",
   "metadata": {},
   "outputs": [
    {
     "data": {
      "text/html": [
       "<div>\n",
       "<style scoped>\n",
       "    .dataframe tbody tr th:only-of-type {\n",
       "        vertical-align: middle;\n",
       "    }\n",
       "\n",
       "    .dataframe tbody tr th {\n",
       "        vertical-align: top;\n",
       "    }\n",
       "\n",
       "    .dataframe thead th {\n",
       "        text-align: right;\n",
       "    }\n",
       "</style>\n",
       "<table border=\"1\" class=\"dataframe\">\n",
       "  <thead>\n",
       "    <tr style=\"text-align: right;\">\n",
       "      <th></th>\n",
       "      <th>item_TV</th>\n",
       "      <th>item_냉장고</th>\n",
       "      <th>item_믹서</th>\n",
       "      <th>item_선풍기</th>\n",
       "      <th>item_전자레인지</th>\n",
       "      <th>item_컴퓨터</th>\n",
       "    </tr>\n",
       "  </thead>\n",
       "  <tbody>\n",
       "    <tr>\n",
       "      <th>0</th>\n",
       "      <td>1</td>\n",
       "      <td>0</td>\n",
       "      <td>0</td>\n",
       "      <td>0</td>\n",
       "      <td>0</td>\n",
       "      <td>0</td>\n",
       "    </tr>\n",
       "    <tr>\n",
       "      <th>1</th>\n",
       "      <td>0</td>\n",
       "      <td>1</td>\n",
       "      <td>0</td>\n",
       "      <td>0</td>\n",
       "      <td>0</td>\n",
       "      <td>0</td>\n",
       "    </tr>\n",
       "    <tr>\n",
       "      <th>2</th>\n",
       "      <td>0</td>\n",
       "      <td>0</td>\n",
       "      <td>0</td>\n",
       "      <td>0</td>\n",
       "      <td>1</td>\n",
       "      <td>0</td>\n",
       "    </tr>\n",
       "    <tr>\n",
       "      <th>3</th>\n",
       "      <td>0</td>\n",
       "      <td>0</td>\n",
       "      <td>0</td>\n",
       "      <td>0</td>\n",
       "      <td>0</td>\n",
       "      <td>1</td>\n",
       "    </tr>\n",
       "    <tr>\n",
       "      <th>4</th>\n",
       "      <td>0</td>\n",
       "      <td>0</td>\n",
       "      <td>0</td>\n",
       "      <td>1</td>\n",
       "      <td>0</td>\n",
       "      <td>0</td>\n",
       "    </tr>\n",
       "    <tr>\n",
       "      <th>5</th>\n",
       "      <td>0</td>\n",
       "      <td>0</td>\n",
       "      <td>0</td>\n",
       "      <td>1</td>\n",
       "      <td>0</td>\n",
       "      <td>0</td>\n",
       "    </tr>\n",
       "    <tr>\n",
       "      <th>6</th>\n",
       "      <td>0</td>\n",
       "      <td>0</td>\n",
       "      <td>1</td>\n",
       "      <td>0</td>\n",
       "      <td>0</td>\n",
       "      <td>0</td>\n",
       "    </tr>\n",
       "    <tr>\n",
       "      <th>7</th>\n",
       "      <td>0</td>\n",
       "      <td>0</td>\n",
       "      <td>1</td>\n",
       "      <td>0</td>\n",
       "      <td>0</td>\n",
       "      <td>0</td>\n",
       "    </tr>\n",
       "  </tbody>\n",
       "</table>\n",
       "</div>"
      ],
      "text/plain": [
       "   item_TV  item_냉장고  item_믹서  item_선풍기  item_전자레인지  item_컴퓨터\n",
       "0        1         0        0         0           0         0\n",
       "1        0         1        0         0           0         0\n",
       "2        0         0        0         0           1         0\n",
       "3        0         0        0         0           0         1\n",
       "4        0         0        0         1           0         0\n",
       "5        0         0        0         1           0         0\n",
       "6        0         0        1         0           0         0\n",
       "7        0         0        1         0           0         0"
      ]
     },
     "execution_count": 18,
     "metadata": {},
     "output_type": "execute_result"
    }
   ],
   "source": [
    "# 그런데 위의 번거로운 작업을 할 필요가 없음. pandas에 매우 편한 get_dummies()가 있기 때문\n",
    "import pandas as pd\n",
    "\n",
    "df = pd.DataFrame({'item' : ['TV', '냉장고', '전자레인지', '컴퓨터', '선풍기', '선풍기', '믹서', '믹서']}) # 1차원 데이터 생성\n",
    "pd.get_dummies(df) # df에 One-Hot Encoding을 수행"
   ]
  },
  {
   "cell_type": "code",
   "execution_count": 19,
   "id": "70185678-1da0-4262-a54d-96763cc26b69",
   "metadata": {},
   "outputs": [
    {
     "data": {
      "text/html": [
       "<div>\n",
       "<style scoped>\n",
       "    .dataframe tbody tr th:only-of-type {\n",
       "        vertical-align: middle;\n",
       "    }\n",
       "\n",
       "    .dataframe tbody tr th {\n",
       "        vertical-align: top;\n",
       "    }\n",
       "\n",
       "    .dataframe thead th {\n",
       "        text-align: right;\n",
       "    }\n",
       "</style>\n",
       "<table border=\"1\" class=\"dataframe\">\n",
       "  <thead>\n",
       "    <tr style=\"text-align: right;\">\n",
       "      <th></th>\n",
       "      <th>item</th>\n",
       "    </tr>\n",
       "  </thead>\n",
       "  <tbody>\n",
       "    <tr>\n",
       "      <th>0</th>\n",
       "      <td>TV</td>\n",
       "    </tr>\n",
       "    <tr>\n",
       "      <th>1</th>\n",
       "      <td>냉장고</td>\n",
       "    </tr>\n",
       "    <tr>\n",
       "      <th>2</th>\n",
       "      <td>전자레인지</td>\n",
       "    </tr>\n",
       "    <tr>\n",
       "      <th>3</th>\n",
       "      <td>컴퓨터</td>\n",
       "    </tr>\n",
       "    <tr>\n",
       "      <th>4</th>\n",
       "      <td>선풍기</td>\n",
       "    </tr>\n",
       "    <tr>\n",
       "      <th>5</th>\n",
       "      <td>선풍기</td>\n",
       "    </tr>\n",
       "    <tr>\n",
       "      <th>6</th>\n",
       "      <td>믹서</td>\n",
       "    </tr>\n",
       "    <tr>\n",
       "      <th>7</th>\n",
       "      <td>믹서</td>\n",
       "    </tr>\n",
       "  </tbody>\n",
       "</table>\n",
       "</div>"
      ],
      "text/plain": [
       "    item\n",
       "0     TV\n",
       "1    냉장고\n",
       "2  전자레인지\n",
       "3    컴퓨터\n",
       "4    선풍기\n",
       "5    선풍기\n",
       "6     믹서\n",
       "7     믹서"
      ]
     },
     "execution_count": 19,
     "metadata": {},
     "output_type": "execute_result"
    }
   ],
   "source": [
    "df"
   ]
  },
  {
   "cell_type": "markdown",
   "id": "083902b2-62bd-45a1-8284-e77d00304357",
   "metadata": {},
   "source": [
    "## 피처 스케일링과 정규화\n",
    "\n",
    "사이킷런의 정규화는 모든 피처벡터를 고려한 정규화다."
   ]
  },
  {
   "cell_type": "markdown",
   "id": "6057fb15-1ca7-44d3-870c-ffbf828f90ea",
   "metadata": {},
   "source": [
    "### StandardScaler"
   ]
  },
  {
   "cell_type": "code",
   "execution_count": 1,
   "id": "97177bef-d227-4c4b-8cc9-a291fa7d6ab6",
   "metadata": {},
   "outputs": [],
   "source": [
    "from sklearn.datasets import load_iris # sklearn에 있는 datasets 모듈에서 load_iris 클래스를 가져옴\n",
    "import pandas as pd\n",
    "\n"
   ]
  },
  {
   "cell_type": "code",
   "execution_count": 2,
   "id": "90c8f608-b9c4-4d11-836f-62c93f00aed1",
   "metadata": {},
   "outputs": [],
   "source": [
    "# 붓꽃 데이터 세트를 로딩하고 DataFrame으로 변환함\n",
    "iris = load_iris() # iris_data 로딩함\n",
    "iris_data = iris.data # iris 데이터에서 data 값만 가져옴\n",
    "iris_df = pd.DataFrame(data=iris_data, columns=iris.feature_names) # iris_data를 df로 변환하고 columns명은 iris.feature_names로 한다"
   ]
  },
  {
   "cell_type": "code",
   "execution_count": 3,
   "id": "170ebba8-a445-404b-a59e-74f9f5f7046f",
   "metadata": {},
   "outputs": [
    {
     "name": "stdout",
     "output_type": "stream",
     "text": [
      "feature들의 평균 값\n",
      "sepal length (cm)    5.843333\n",
      "sepal width (cm)     3.057333\n",
      "petal length (cm)    3.758000\n",
      "petal width (cm)     1.199333\n",
      "dtype: float64\n",
      "\n",
      "feature들의 분산 값\n",
      "sepal length (cm)    0.685694\n",
      "sepal width (cm)     0.189979\n",
      "petal length (cm)    3.116278\n",
      "petal width (cm)     0.581006\n",
      "dtype: float64\n"
     ]
    }
   ],
   "source": [
    "print('feature들의 평균 값')\n",
    "print(iris_df.mean())\n",
    "print('\\nfeature들의 분산 값')\n",
    "print(iris_df.var())"
   ]
  },
  {
   "cell_type": "code",
   "execution_count": 4,
   "id": "c47f3aa0-c9f7-476e-92c9-0b66ee35290e",
   "metadata": {},
   "outputs": [],
   "source": [
    "from sklearn.preprocessing import StandardScaler # preprocessing 모듈에서 StandardScaler 클래스 가져옴\n",
    "\n",
    "# StandardScaler 객체 생성\n",
    "scaler = StandardScaler() \n",
    "# StandardScaler로 데이터 세트 변환. fit()과 transform() 호출.\n",
    "scaler.fit(iris_df) # iris_df에 대해 scaler 학습\n",
    "iris_scaled = scaler.transform(iris_df) # iris_df를 학습한 scaler로 변환\n",
    "\n",
    "# transform() 시 스케일 변환된 데이터 세트가 Numpy ndarray로 반환돼 이를 DataFrame으로 변환\n",
    "iris_df_scaled = pd.DataFrame(data=iris_scaled, columns=iris.feature_names) # iris_scaled는 numpy 타입이므로 df로 바꿔주고 columns명은 iris의 features_names 사용\n",
    "\n",
    "                              "
   ]
  },
  {
   "cell_type": "code",
   "execution_count": 5,
   "id": "ceb57002-1899-454d-af43-e133198dc215",
   "metadata": {},
   "outputs": [
    {
     "name": "stdout",
     "output_type": "stream",
     "text": [
      "feature들의 평균 값\n",
      "sepal length (cm)   -1.690315e-15\n",
      "sepal width (cm)    -1.842970e-15\n",
      "petal length (cm)   -1.698641e-15\n",
      "petal width (cm)    -1.409243e-15\n",
      "dtype: float64\n",
      "\n",
      "feature들의 분산 값\n",
      "sepal length (cm)    1.006711\n",
      "sepal width (cm)     1.006711\n",
      "petal length (cm)    1.006711\n",
      "petal width (cm)     1.006711\n",
      "dtype: float64\n"
     ]
    }
   ],
   "source": [
    "print('feature들의 평균 값')\n",
    "print(iris_df_scaled.mean())\n",
    "print('\\nfeature들의 분산 값')\n",
    "print(iris_df_scaled.var())"
   ]
  },
  {
   "cell_type": "markdown",
   "id": "3226f188-07de-44dc-abf0-17efbdddc386",
   "metadata": {},
   "source": [
    "### MinMaxScaler\n",
    "\n",
    "데이터 분포가 가우시안 분포(정규분포)를 따르지 않을 경우 사용해 볼 수 있다.  \n",
    "보통 0\\~1 범위로 하지만 음수가 있으면 -1\\~1 사이로 변환한다."
   ]
  },
  {
   "cell_type": "code",
   "execution_count": 6,
   "id": "04705cef-ad2e-4448-a749-de0ba5c5cf8b",
   "metadata": {},
   "outputs": [],
   "source": [
    "from  sklearn.preprocessing import MinMaxScaler # preprocessing 모듈에서 MinMaxScaler 클래스 가져옴"
   ]
  },
  {
   "cell_type": "code",
   "execution_count": 7,
   "id": "91aa2b0b-d6ff-47ca-a0ec-d44a89427793",
   "metadata": {},
   "outputs": [],
   "source": [
    "# MinMaxScaler 객체 생성\n",
    "scaler = MinMaxScaler()\n",
    "\n",
    "# MinMaxScaler로 데이터 세트 변환. fit()과 transform() 호출\n",
    "scaler.fit(iris_df)\n",
    "iris_scaled = scaler.transform(iris_df)\n",
    "\n"
   ]
  },
  {
   "cell_type": "code",
   "execution_count": 8,
   "id": "90b674bd-ec21-4847-91f0-0bcee0f963aa",
   "metadata": {},
   "outputs": [],
   "source": [
    "# transform() 시 스캐일 변환된 데이터 세트가 Numpy 타입으로 반환되므로 이를 DataFrame으로 변환함\n",
    "iris_df_scaled = pd.DataFrame(data=iris_scaled, columns=iris.feature_names) "
   ]
  },
  {
   "cell_type": "code",
   "execution_count": 10,
   "id": "f63c8686-eb54-40ba-8f71-19eff82a4cc6",
   "metadata": {},
   "outputs": [
    {
     "name": "stdout",
     "output_type": "stream",
     "text": [
      "feature들의 평균 값\n",
      "sepal length (cm)    0.0\n",
      "sepal width (cm)     0.0\n",
      "petal length (cm)    0.0\n",
      "petal width (cm)     0.0\n",
      "dtype: float64\n",
      "\n",
      "feature들의 분산 값\n",
      "sepal length (cm)    1.0\n",
      "sepal width (cm)     1.0\n",
      "petal length (cm)    1.0\n",
      "petal width (cm)     1.0\n",
      "dtype: float64\n"
     ]
    }
   ],
   "source": [
    "print('feature들의 평균 값')\n",
    "print(iris_df_scaled.min())\n",
    "print('\\nfeature들의 분산 값')\n",
    "print(iris_df_scaled.max())"
   ]
  },
  {
   "cell_type": "code",
   "execution_count": null,
   "id": "64fe65da-3670-405a-9e27-b3b8e81bd15c",
   "metadata": {},
   "outputs": [],
   "source": []
  }
 ],
 "metadata": {
  "kernelspec": {
   "display_name": "Python 3 (ipykernel)",
   "language": "python",
   "name": "python3"
  },
  "language_info": {
   "codemirror_mode": {
    "name": "ipython",
    "version": 3
   },
   "file_extension": ".py",
   "mimetype": "text/x-python",
   "name": "python",
   "nbconvert_exporter": "python",
   "pygments_lexer": "ipython3",
   "version": "3.9.12"
  }
 },
 "nbformat": 4,
 "nbformat_minor": 5
}

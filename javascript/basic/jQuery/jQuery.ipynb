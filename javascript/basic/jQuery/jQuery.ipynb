{
 "cells": [
  {
   "cell_type": "markdown",
   "metadata": {},
   "source": [
    "### javascript를 이용한 html element 다루기\n",
    "- html selecting\n",
    "- 아이디 : # : document.getElementById()\n",
    "- 클래스 : . : document.getElementByClassName()\n",
    "- 셀렉터: css selector : document.querySelector()"
   ]
  },
  {
   "cell_type": "code",
   "execution_count": 17,
   "metadata": {},
   "outputs": [
    {
     "data": {
      "text/html": [
       "<input id='no1' type='text' value='example one'>\n",
       "<input id='no2' type='text' value='example two'>\n",
       "<script>\n",
       "    var element1 = document.querySelector('#no1');\n",
       "    var element2 = document.querySelector('input#no2');\n",
       "    console.log(element1.value);\n",
       "    alert(element2.value);\n",
       "</script>\n",
       " \n"
      ],
      "text/plain": [
       "<IPython.core.display.HTML object>"
      ]
     },
     "metadata": {},
     "output_type": "display_data"
    }
   ],
   "source": [
    "%%html\n",
    "<input id='no1' type='text' value='example one'>\n",
    "<input id='no2' type='text' value='example two'>\n",
    "<script>\n",
    "    var element1 = document.querySelector('#no1');\n",
    "    var element2 = document.querySelector('input#no2');\n",
    "    console.log(element1.value);\n",
    "    alert(element2.value);\n",
    "</script>\n",
    " "
   ]
  },
  {
   "cell_type": "markdown",
   "metadata": {},
   "source": [
    "#### javascript를 이용한 Event 다루기\n",
    "- element.addEventListener()"
   ]
  },
  {
   "cell_type": "code",
   "execution_count": 14,
   "metadata": {},
   "outputs": [
    {
     "data": {
      "text/html": [
       "<input id='no3' type='text' value='Hello'></input>\n",
       "<button id='btn'>Click</button>\n",
       "\n",
       "<script>\n",
       "    var btnElement = document.querySelector('#btn');\n",
       "    btnElement.addEventListener('click', function(){\n",
       "        var msg = document.querySelector('#no3').value;\n",
       "        console.log(msg);\n",
       "    })\n",
       "</script>\n"
      ],
      "text/plain": [
       "<IPython.core.display.HTML object>"
      ]
     },
     "metadata": {},
     "output_type": "display_data"
    }
   ],
   "source": [
    "%%html\n",
    "<input id='no3' type='text' value='Hello'></input>\n",
    "<button id='btn'>Click</button>\n",
    "\n",
    "<script>\n",
    "    var btnElement = document.querySelector('#btn');\n",
    "    btnElement.addEventListener('click', function(){\n",
    "        var msg = document.querySelector('#no3').value;\n",
    "        console.log(msg);\n",
    "    })\n",
    "</script>"
   ]
  },
  {
   "cell_type": "markdown",
   "metadata": {},
   "source": [
    "### jQuery\n",
    "- javascript의 element, event를 쉽게 다룰 수 있도록 도와줌\n",
    "- 장점: event 핸들링, document 변경 용이, Ajax 통신 편리"
   ]
  },
  {
   "cell_type": "code",
   "execution_count": 21,
   "metadata": {},
   "outputs": [
    {
     "data": {
      "text/html": [
       "<p id='p-txt'>This is a text.</p>\n",
       "<input id='no4' type='text' value='Hello'></input>\n",
       "<button id='btn2'>Click</button>\n",
       "<script src=\"https://cdnjs.cloudflare.com/ajax/libs/jquery/3.7.1/jquery.min.js\">\n",
       "</script>\n",
       "<script>\n",
       "           $('#btn2').on('click', function(){\n",
       "                var msg = $('#no4').val();\n",
       "                $('#p-txt').text(msg);\n",
       "                console.log(msg);\n",
       "           });\n",
       "</script>\n"
      ],
      "text/plain": [
       "<IPython.core.display.HTML object>"
      ]
     },
     "metadata": {},
     "output_type": "display_data"
    }
   ],
   "source": [
    "%%html\n",
    "<p id='p-txt'>This is a text.</p>\n",
    "<input id='no4' type='text' value='Hello'></input>\n",
    "<button id='btn2'>Click</button>\n",
    "<script src=\"https://cdnjs.cloudflare.com/ajax/libs/jquery/3.7.1/jquery.min.js\">\n",
    "</script>\n",
    "<script>\n",
    "           $('#btn2').on('click', function(){\n",
    "                var msg = $('#no4').val();\n",
    "                $('#p-txt').text(msg);\n",
    "                console.log(msg);\n",
    "\n",
    "           });\n",
    "</script>"
   ]
  },
  {
   "cell_type": "code",
   "execution_count": 25,
   "metadata": {},
   "outputs": [
    {
     "data": {
      "text/html": [
       "<p id='p-txt1'>This is a text.</p>\n",
       "<input id='no5' type='text' value='Hello'></input>\n",
       "<button id='btn3'>Click</button>\n",
       "<button id='btn4'>Show</button>\n",
       "<button id='btn5'>Hide</button>\n",
       "<script src=\"https://cdnjs.cloudflare.com/ajax/libs/jquery/3.7.1/jquery.min.js\">\n",
       "</script>\n",
       "<script>\n",
       "            $('#btn3').on('click', function(){\n",
       "                var msg = $('#no5').val();\n",
       "                $('#p-txt1').text(msg);\n",
       "                console.log(msg);\n",
       "            });\n",
       "            $('#btn4').on('click', function(){\n",
       "                $('#p-txt1').show(10000);\n",
       "            });\n",
       "            $('#btn5').on('click', function(){\n",
       "               $('#p-txt1').hide(100); \n",
       "            });\n",
       "</script>\n"
      ],
      "text/plain": [
       "<IPython.core.display.HTML object>"
      ]
     },
     "metadata": {},
     "output_type": "display_data"
    }
   ],
   "source": [
    "%%html\n",
    "<p id='p-txt1'>This is a text.</p>\n",
    "<input id='no5' type='text' value='Hello'></input>\n",
    "<button id='btn3'>Click</button>\n",
    "<button id='btn4'>Show</button>\n",
    "<button id='btn5'>Hide</button>\n",
    "<script src=\"https://cdnjs.cloudflare.com/ajax/libs/jquery/3.7.1/jquery.min.js\">\n",
    "</script>\n",
    "<script>\n",
    "            $('#btn3').on('click', function(){\n",
    "                var msg = $('#no5').val();\n",
    "                $('#p-txt1').text(msg);\n",
    "                console.log(msg);\n",
    "            });\n",
    "            $('#btn4').on('click', function(){\n",
    "                $('#p-txt1').show(10000);\n",
    "            });\n",
    "            $('#btn5').on('click', function(){\n",
    "               $('#p-txt1').hide(1000); \n",
    "            });\n",
    "</script>"
   ]
  },
  {
   "cell_type": "code",
   "execution_count": 31,
   "metadata": {},
   "outputs": [
    {
     "data": {
      "text/html": [
       "<input type='text' class='addr' value='개봉동'>\n",
       "<button class='get-data'>GetData</button>\n",
       "<script src=\"https://cdnjs.cloudflare.com/ajax/libs/jquery/3.7.1/jquery.min.js\">\n",
       "</script>\n",
       "<script>\n",
       "           $('.get-data').on('click', function(){\n",
       "              var addr = $('.addr').val();\n",
       "              console.log(addr);\n",
       "              var url = 'https://apis.zigbang.com/v2/search?leaseYn=N&q='+addr+'&serviceType=원룸';\n",
       "              $.getJSON(url, function(response){\n",
       "                  console.log(response.items[0]);\n",
       "              });\n",
       "           });\n",
       "</script>\n"
      ],
      "text/plain": [
       "<IPython.core.display.HTML object>"
      ]
     },
     "metadata": {},
     "output_type": "display_data"
    }
   ],
   "source": [
    "%%html\n",
    "<input type='text' class='addr' value='개봉동'>\n",
    "<button class='get-data'>GetData</button>\n",
    "<script src=\"https://cdnjs.cloudflare.com/ajax/libs/jquery/3.7.1/jquery.min.js\">\n",
    "</script>\n",
    "<script>\n",
    "           $('.get-data').on('click', function(){\n",
    "              var addr = $('.addr').val();\n",
    "              console.log(addr);\n",
    "              var url = 'https://apis.zigbang.com/v2/search?leaseYn=N&q='+addr+'&serviceType=원룸';\n",
    "              $.getJSON(url, function(response){\n",
    "                  console.log(response.items[0]);\n",
    "              });\n",
    "           });\n",
    "</script>\n"
   ]
  },
  {
   "cell_type": "code",
   "execution_count": null,
   "metadata": {},
   "outputs": [],
   "source": []
  }
 ],
 "metadata": {
  "kernelspec": {
   "display_name": "Python 3 (ipykernel)",
   "language": "python",
   "name": "python3"
  },
  "language_info": {
   "codemirror_mode": {
    "name": "ipython",
    "version": 3
   },
   "file_extension": ".py",
   "mimetype": "text/x-python",
   "name": "python",
   "nbconvert_exporter": "python",
   "pygments_lexer": "ipython3",
   "version": "3.9.12"
  }
 },
 "nbformat": 4,
 "nbformat_minor": 4
}
